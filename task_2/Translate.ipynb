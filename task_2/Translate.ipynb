{
 "cells": [
  {
   "cell_type": "code",
   "execution_count": 1,
   "metadata": {
    "tags": []
   },
   "outputs": [
    {
     "name": "stdout",
     "output_type": "stream",
     "text": [
      "Collecting deep-translator\n",
      "  Downloading deep_translator-1.11.4-py3-none-any.whl (42 kB)\n",
      "\u001b[2K     \u001b[90m━━━━━━━━━━━━━━━━━━━━━━━━━━━━━━━━━━━━━━━━\u001b[0m \u001b[32m42.3/42.3 kB\u001b[0m \u001b[31m8.6 MB/s\u001b[0m eta \u001b[36m0:00:00\u001b[0m\n",
      "\u001b[?25hRequirement already satisfied: requests<3.0.0,>=2.23.0 in /usr/local/lib/python3.9/dist-packages (from deep-translator) (2.28.2)\n",
      "Requirement already satisfied: beautifulsoup4<5.0.0,>=4.9.1 in /usr/local/lib/python3.9/dist-packages (from deep-translator) (4.11.1)\n",
      "Requirement already satisfied: soupsieve>1.2 in /usr/local/lib/python3.9/dist-packages (from beautifulsoup4<5.0.0,>=4.9.1->deep-translator) (2.3.2.post1)\n",
      "Requirement already satisfied: urllib3<1.27,>=1.21.1 in /usr/local/lib/python3.9/dist-packages (from requests<3.0.0,>=2.23.0->deep-translator) (1.26.14)\n",
      "Requirement already satisfied: certifi>=2017.4.17 in /usr/lib/python3/dist-packages (from requests<3.0.0,>=2.23.0->deep-translator) (2019.11.28)\n",
      "Requirement already satisfied: idna<4,>=2.5 in /usr/lib/python3/dist-packages (from requests<3.0.0,>=2.23.0->deep-translator) (2.8)\n",
      "Requirement already satisfied: charset-normalizer<4,>=2 in /usr/local/lib/python3.9/dist-packages (from requests<3.0.0,>=2.23.0->deep-translator) (2.1.1)\n",
      "Installing collected packages: deep-translator\n",
      "Successfully installed deep-translator-1.11.4\n",
      "\u001b[33mWARNING: Running pip as the 'root' user can result in broken permissions and conflicting behaviour with the system package manager. It is recommended to use a virtual environment instead: https://pip.pypa.io/warnings/venv\u001b[0m\u001b[33m\n",
      "\u001b[0m"
     ]
    }
   ],
   "source": [
    "!pip install deep-translator"
   ]
  },
  {
   "cell_type": "code",
   "execution_count": 2,
   "metadata": {
    "tags": []
   },
   "outputs": [],
   "source": [
    "import numpy as np\n",
    "import pandas as pd\n",
    "from sklearn.preprocessing import LabelEncoder\n",
    "from tqdm.auto import tqdm"
   ]
  },
  {
   "cell_type": "code",
   "execution_count": 3,
   "metadata": {
    "tags": []
   },
   "outputs": [],
   "source": [
    "from deep_translator import GoogleTranslator\n",
    "tr = GoogleTranslator(source='auto', target='en')"
   ]
  },
  {
   "cell_type": "code",
   "execution_count": 4,
   "metadata": {
    "tags": []
   },
   "outputs": [],
   "source": [
    "le = LabelEncoder()\n",
    "label_vc = {'Развлечения и юмор':0,\n",
    "            'Кулинария':1,\n",
    "            'Торговля и объявления':2,\n",
    "            'СМИ':3,\n",
    "            'Философия и религия':4,\n",
    "            'Животные':5,\n",
    "            'Творчество и дизайн':6,\n",
    "            'Путешествия':7}\n",
    "\n",
    "def process_labels(label):\n",
    "    if label not in label_vc.keys():\n",
    "        return -1\n",
    "    else:\n",
    "        return label_vc[label]\n",
    "def process_text(text:str):\n",
    "    return text.strip().lower()\n",
    "\n",
    "def make_df(path):\n",
    "    df = pd.DataFrame()\n",
    "    data = pd.read_csv(path,sep=';')\n",
    "    if 'label' in data.columns:\n",
    "        data['label'] = data['label'].map(process_labels)\n",
    "        data = data[data['label'] != -1].reset_index()\n",
    "        df['text'] = data[data['label'] != -1]['description'].fillna('Нет описания')\n",
    "        df['label'] = le.fit_transform(data['label'])\n",
    "        df['image'] = data['id'].map(lambda x:'./vseros-final-data/Data/Train/'+str(x))\n",
    "    else:\n",
    "        df['label'] = 0\n",
    "        df['text'] = data['description'].fillna('')\n",
    "        df['image'] = data['id'].map(lambda x:'./vseros-final-data/Data/Test/'+str(x))\n",
    "    return df"
   ]
  },
  {
   "cell_type": "code",
   "execution_count": 5,
   "metadata": {
    "tags": []
   },
   "outputs": [],
   "source": [
    "data = make_df('/notebooks/train-test-csvs/train-7.csv')"
   ]
  },
  {
   "cell_type": "code",
   "execution_count": 6,
   "metadata": {
    "tags": []
   },
   "outputs": [
    {
     "data": {
      "text/html": [
       "<div>\n",
       "<style scoped>\n",
       "    .dataframe tbody tr th:only-of-type {\n",
       "        vertical-align: middle;\n",
       "    }\n",
       "\n",
       "    .dataframe tbody tr th {\n",
       "        vertical-align: top;\n",
       "    }\n",
       "\n",
       "    .dataframe thead th {\n",
       "        text-align: right;\n",
       "    }\n",
       "</style>\n",
       "<table border=\"1\" class=\"dataframe\">\n",
       "  <thead>\n",
       "    <tr style=\"text-align: right;\">\n",
       "      <th></th>\n",
       "      <th>text</th>\n",
       "      <th>label</th>\n",
       "      <th>image</th>\n",
       "    </tr>\n",
       "  </thead>\n",
       "  <tbody>\n",
       "    <tr>\n",
       "      <th>0</th>\n",
       "      <td>\"Когда устал и жить не хочешь,Полезно помнить ...</td>\n",
       "      <td>4</td>\n",
       "      <td>./vseros-final-data/Data/Train/814469951099</td>\n",
       "    </tr>\n",
       "    <tr>\n",
       "      <th>1</th>\n",
       "      <td>Нет описания</td>\n",
       "      <td>2</td>\n",
       "      <td>./vseros-final-data/Data/Train/849433210092</td>\n",
       "    </tr>\n",
       "    <tr>\n",
       "      <th>2</th>\n",
       "      <td>\"МИР ВАШЕМУ ДОМУ! ДОРОГИЕ ДРУЗЬЯ, ХРАНИ ВАС ГО...</td>\n",
       "      <td>4</td>\n",
       "      <td>./vseros-final-data/Data/Train/852458632411</td>\n",
       "    </tr>\n",
       "    <tr>\n",
       "      <th>3</th>\n",
       "      <td>\"Альбом \\\"Праздничные мопсы\\\" https://ok.ru/mo...</td>\n",
       "      <td>5</td>\n",
       "      <td>./vseros-final-data/Data/Train/860243294215</td>\n",
       "    </tr>\n",
       "    <tr>\n",
       "      <th>4</th>\n",
       "      <td>Умнее некоторых людей</td>\n",
       "      <td>5</td>\n",
       "      <td>./vseros-final-data/Data/Train/861555576675</td>\n",
       "    </tr>\n",
       "    <tr>\n",
       "      <th>...</th>\n",
       "      <td>...</td>\n",
       "      <td>...</td>\n",
       "      <td>...</td>\n",
       "    </tr>\n",
       "    <tr>\n",
       "      <th>4942</th>\n",
       "      <td>Депутат Госдумы Михаил Романов обратился к губ...</td>\n",
       "      <td>3</td>\n",
       "      <td>./vseros-final-data/Data/Train/909322079091</td>\n",
       "    </tr>\n",
       "    <tr>\n",
       "      <th>4943</th>\n",
       "      <td>\"Сколько людей, столько и идей. Наша подписчиц...</td>\n",
       "      <td>6</td>\n",
       "      <td>./vseros-final-data/Data/Train/909332887609</td>\n",
       "    </tr>\n",
       "    <tr>\n",
       "      <th>4944</th>\n",
       "      <td>В Петербурге готовят к работе 70 пунктов вакци...</td>\n",
       "      <td>3</td>\n",
       "      <td>./vseros-final-data/Data/Train/909333845107</td>\n",
       "    </tr>\n",
       "    <tr>\n",
       "      <th>4945</th>\n",
       "      <td>Фарерские острова</td>\n",
       "      <td>7</td>\n",
       "      <td>./vseros-final-data/Data/Train/909334888398</td>\n",
       "    </tr>\n",
       "    <tr>\n",
       "      <th>4946</th>\n",
       "      <td>Нет описания</td>\n",
       "      <td>0</td>\n",
       "      <td>./vseros-final-data/Data/Train/909337395123</td>\n",
       "    </tr>\n",
       "  </tbody>\n",
       "</table>\n",
       "<p>4947 rows × 3 columns</p>\n",
       "</div>"
      ],
      "text/plain": [
       "                                                   text  label  \\\n",
       "0     \"Когда устал и жить не хочешь,Полезно помнить ...      4   \n",
       "1                                          Нет описания      2   \n",
       "2     \"МИР ВАШЕМУ ДОМУ! ДОРОГИЕ ДРУЗЬЯ, ХРАНИ ВАС ГО...      4   \n",
       "3     \"Альбом \\\"Праздничные мопсы\\\" https://ok.ru/mo...      5   \n",
       "4                               Умнее некоторых людей        5   \n",
       "...                                                 ...    ...   \n",
       "4942  Депутат Госдумы Михаил Романов обратился к губ...      3   \n",
       "4943  \"Сколько людей, столько и идей. Наша подписчиц...      6   \n",
       "4944  В Петербурге готовят к работе 70 пунктов вакци...      3   \n",
       "4945                                 Фарерские острова       7   \n",
       "4946                                       Нет описания      0   \n",
       "\n",
       "                                            image  \n",
       "0     ./vseros-final-data/Data/Train/814469951099  \n",
       "1     ./vseros-final-data/Data/Train/849433210092  \n",
       "2     ./vseros-final-data/Data/Train/852458632411  \n",
       "3     ./vseros-final-data/Data/Train/860243294215  \n",
       "4     ./vseros-final-data/Data/Train/861555576675  \n",
       "...                                           ...  \n",
       "4942  ./vseros-final-data/Data/Train/909322079091  \n",
       "4943  ./vseros-final-data/Data/Train/909332887609  \n",
       "4944  ./vseros-final-data/Data/Train/909333845107  \n",
       "4945  ./vseros-final-data/Data/Train/909334888398  \n",
       "4946  ./vseros-final-data/Data/Train/909337395123  \n",
       "\n",
       "[4947 rows x 3 columns]"
      ]
     },
     "execution_count": 6,
     "metadata": {},
     "output_type": "execute_result"
    }
   ],
   "source": [
    "data"
   ]
  },
  {
   "cell_type": "code",
   "execution_count": 7,
   "metadata": {
    "tags": []
   },
   "outputs": [
    {
     "data": {
      "application/vnd.jupyter.widget-view+json": {
       "model_id": "3f7c1e131bf743b0bc8595db0d60914d",
       "version_major": 2,
       "version_minor": 0
      },
      "text/plain": [
       "  0%|          | 0/4947 [00:00<?, ?it/s]"
      ]
     },
     "metadata": {},
     "output_type": "display_data"
    }
   ],
   "source": [
    "tr_text = []\n",
    "for txt in tqdm(data['text']):\n",
    "    tr_text += [tr.translate(text=txt)]"
   ]
  },
  {
   "cell_type": "code",
   "execution_count": null,
   "metadata": {},
   "outputs": [],
   "source": [
    "data['text'] = tr_text"
   ]
  },
  {
   "cell_type": "code",
   "execution_count": 8,
   "metadata": {
    "tags": []
   },
   "outputs": [],
   "source": [
    "data.to_csv('translated_train.csv',index=False,sep=';')"
   ]
  },
  {
   "cell_type": "code",
   "execution_count": 9,
   "metadata": {},
   "outputs": [],
   "source": [
    "data['text'] = tr_text"
   ]
  },
  {
   "cell_type": "code",
   "execution_count": 10,
   "metadata": {},
   "outputs": [],
   "source": [
    "data.to_csv('translated_trainv2.csv',index=False,sep=';')"
   ]
  },
  {
   "cell_type": "code",
   "execution_count": null,
   "metadata": {},
   "outputs": [],
   "source": []
  }
 ],
 "metadata": {
  "kernelspec": {
   "display_name": "Python 3 (ipykernel)",
   "language": "python",
   "name": "python3"
  },
  "language_info": {
   "codemirror_mode": {
    "name": "ipython",
    "version": 3
   },
   "file_extension": ".py",
   "mimetype": "text/x-python",
   "name": "python",
   "nbconvert_exporter": "python",
   "pygments_lexer": "ipython3",
   "version": "3.9.16"
  }
 },
 "nbformat": 4,
 "nbformat_minor": 4
}
