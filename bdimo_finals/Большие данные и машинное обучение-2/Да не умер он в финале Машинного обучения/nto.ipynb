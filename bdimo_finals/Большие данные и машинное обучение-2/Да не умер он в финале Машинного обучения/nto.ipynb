{
  "nbformat": 4,
  "nbformat_minor": 0,
  "metadata": {
    "colab": {
      "provenance": []
    },
    "kernelspec": {
      "name": "python3",
      "display_name": "Python 3"
    },
    "language_info": {
      "name": "python"
    }
  },
  "cells": [
    {
      "cell_type": "code",
      "execution_count": null,
      "metadata": {
        "id": "HzoKRsjsROIW"
      },
      "outputs": [],
      "source": [
        "# !pip install catboost"
      ]
    },
    {
      "cell_type": "code",
      "source": [
        "import pandas as pd\n",
        "from sklearn.model_selection import train_test_split\n",
        "from sklearn.linear_model import LogisticRegression\n",
        "from sklearn.metrics import roc_auc_score\n",
        "import numpy as np\n",
        "import lightgbm as lgb\n",
        "from catboost import CatBoostClassifier\n",
        "from sklearn.decomposition import PCA"
      ],
      "metadata": {
        "id": "LmP4u6OERwgD"
      },
      "execution_count": null,
      "outputs": []
    },
    {
      "cell_type": "code",
      "source": [
        "train = pd.read_csv(\"/content/drive/MyDrive/nto/train.csv\")\n",
        "test = pd.read_csv(\"/content/drive/MyDrive/nto/test.csv\")\n",
        "topics = pd.read_csv(\"/content/drive/MyDrive/nto/topics.csv\")\n",
        "users = pd.read_csv(\"/content/drive/MyDrive/nto/users.csv\")"
      ],
      "metadata": {
        "id": "0AYOcTf6SAyw"
      },
      "execution_count": null,
      "outputs": []
    },
    {
      "cell_type": "code",
      "source": [
        "train_size = len(train)\n",
        "users_size = len(users)\n",
        "topics_size = len(topics)"
      ],
      "metadata": {
        "id": "9aHm2Rt8SZvJ"
      },
      "execution_count": null,
      "outputs": []
    },
    {
      "cell_type": "code",
      "source": [
        "users_id, topics_id = [0 for i in range(users_size)], [0 for i in range(topics_size)]\n",
        "for i in range(len(users)):\n",
        "  cur_id = users.userId[i]\n",
        "  users_id[cur_id] = i\n",
        "for i in range(len(topics)):\n",
        "  cur_id = topics.topicId[i]\n",
        "  topics_id[cur_id] = i"
      ],
      "metadata": {
        "id": "54Azg8y0XAwH"
      },
      "execution_count": null,
      "outputs": []
    },
    {
      "cell_type": "code",
      "source": [
        "pca5 = PCA(n_components = 5)\n",
        "pca4 = PCA(n_components = 4)\n",
        "\n",
        "txt_topics = topics\n",
        "img_topics = topics\n",
        "\n",
        "for i in topics.columns[1:101]:\n",
        "  txt_topics = txt_topics.drop(i, axis=1)\n",
        "for i in topics.columns[101:]:\n",
        "  img_topics = img_topics.drop(i, axis=1)"
      ],
      "metadata": {
        "id": "F_UakFfHSdnw"
      },
      "execution_count": null,
      "outputs": []
    },
    {
      "cell_type": "code",
      "source": [
        "txt_topics, img_topics = img_topics, txt_topics"
      ],
      "metadata": {
        "id": "mGVHe10bA5oF"
      },
      "execution_count": null,
      "outputs": []
    },
    {
      "cell_type": "code",
      "source": [
        "txt_topics = txt_topics.drop('topicId', axis=1)\n",
        "img_topics = img_topics.drop('topicId', axis=1)"
      ],
      "metadata": {
        "id": "BPlsEQ0UBD1x"
      },
      "execution_count": null,
      "outputs": []
    },
    {
      "cell_type": "code",
      "source": [
        "topics_txt_reduced = pd.DataFrame(pca4.fit_transform(txt_topics))\n",
        "topics_img_reduced = pd.DataFrame(pca5.fit_transform(img_topics))"
      ],
      "metadata": {
        "id": "IslVzLQZBaqs"
      },
      "execution_count": null,
      "outputs": []
    },
    {
      "cell_type": "code",
      "source": [
        "users_reduced = users.drop('userId', axis=1)"
      ],
      "metadata": {
        "id": "ufuDReyzSwrj"
      },
      "execution_count": null,
      "outputs": []
    },
    {
      "cell_type": "code",
      "source": [
        "topics_txt_reduced.columns = ['A', 'B', 'C', 'D']"
      ],
      "metadata": {
        "id": "ZgW_mpwQBu9K"
      },
      "execution_count": null,
      "outputs": []
    },
    {
      "cell_type": "code",
      "source": [
        "mas = list(users_reduced.columns) + list(topics_txt_reduced.columns) + list(topics_img_reduced.columns)"
      ],
      "metadata": {
        "id": "j7A32LDwdm4U"
      },
      "execution_count": null,
      "outputs": []
    },
    {
      "cell_type": "code",
      "source": [
        "like_cnt = [0 for i in range(len(users) + 1)]\n",
        "watched_cnt = [0 for i in range(len(users) + 1)]\n",
        "like_rate = []\n",
        "like_cnt2 = [0 for i in range(len(topics) + 1)]\n",
        "watched_cnt2 = [0 for i in range(len(topics) + 1)]\n",
        "\n",
        "train_np = train.to_numpy()\n",
        "likes = []\n",
        "Watches = []\n",
        "for i in range(len(train)):\n",
        "  watched_cnt[train_np[i][1]]+= 1\n",
        "  watched_cnt2[train_np[i][0]]+= 1\n",
        "  if(train_np[i][2] == 'L'):\n",
        "    like_cnt[train_np[i][1]] += 1\n",
        "    like_cnt2[train_np[i][0]]+=1\n",
        "\n",
        "for i in range(len(train)):\n",
        "  likes.append(like_cnt[train_np[i][1]])\n",
        "  Watches.append(watched_cnt[train_np[i][1]])\n",
        "train['likeCnt'] = likes\n",
        "train['watchCnt'] = Watches\n",
        "\n",
        "likes = []\n",
        "Watches = []\n",
        "\n",
        "for i in range(len(train)):\n",
        "  likes.append(like_cnt[train_np[i][0]])\n",
        "  Watches.append(watched_cnt[train_np[i][0]])\n",
        "\n",
        "train['totalLiked'] = likes\n",
        "train['totalWatched'] = Watches"
      ],
      "metadata": {
        "id": "gtbyq95DG1g7"
      },
      "execution_count": null,
      "outputs": []
    },
    {
      "cell_type": "code",
      "source": [
        "gnd = []\n",
        "users_np = (users.to_numpy()).astype(int)\n",
        "users_np.astype(int)\n",
        "for i in range(len(users) + 1):\n",
        "  gnd.append(0)\n",
        "for i in range(len(users)):\n",
        "  gnd[users_np[i][0]] = users_np[i][2] - 1\n",
        "genders = []\n",
        "for i in range(len(train)):\n",
        "  genders.append(gnd[train_np[i][1]])\n",
        "train['gender'] = genders"
      ],
      "metadata": {
        "id": "8OB1DpRjLWYQ"
      },
      "execution_count": null,
      "outputs": []
    },
    {
      "cell_type": "code",
      "source": [
        "likes = []\n",
        "test_np = test.to_numpy()\n",
        "for i in range(len(test)):\n",
        "  likes.append(like_cnt[test_np[i][1]])\n",
        "test['likeCnt'] = likes\n",
        "watches = []\n",
        "for i in range(len(test)):\n",
        "  watches.append(watched_cnt[test_np[i][1]])\n",
        "test['watchCnt'] = watches\n",
        "likes = []\n",
        "watches = []\n",
        "for i in range(len(test)):\n",
        "  likes.append(like_cnt2[test_np[i][0]])\n",
        "  watches.append(watched_cnt2[test_np[i][0]])\n",
        "test['totalLiked'] = likes\n",
        "test['totalWatched'] = watches\n",
        "genders = []\n",
        "for i in range(len(test)):\n",
        "  genders.append(gnd[test_np[i][1]])\n",
        "test['gender'] = genders"
      ],
      "metadata": {
        "id": "LP1lX9kIKwDc"
      },
      "execution_count": null,
      "outputs": []
    },
    {
      "cell_type": "code",
      "source": [
        "likes, watches, gnd, genders, like_cnt, watched_cnt, like_cnt2, watched_cnt2, train_np, users_np = [], [], [], [], [], [], [], [], [], []"
      ],
      "metadata": {
        "id": "TUZorqrFjOwo"
      },
      "execution_count": null,
      "outputs": []
    },
    {
      "cell_type": "code",
      "source": [
        "N = len(test)\n",
        "data_train = pd.DataFrame()\n",
        "data_test = pd.DataFrame()"
      ],
      "metadata": {
        "id": "Zb6J6pHXdTfl"
      },
      "execution_count": null,
      "outputs": []
    },
    {
      "cell_type": "code",
      "source": [
        "# train = train.sample(frac = 1)\n",
        "# data_train.index = range(len(train))"
      ],
      "metadata": {
        "id": "l-Lp1dtYGqfS"
      },
      "execution_count": null,
      "outputs": []
    },
    {
      "cell_type": "markdown",
      "source": [
        "# Users fill"
      ],
      "metadata": {
        "id": "4AGpgYmzN6_r"
      }
    },
    {
      "cell_type": "code",
      "source": [
        "for j in users_reduced.columns:\n",
        "\n",
        "  add_train, add_test = [], []\n",
        "\n",
        "  for i in range(N):\n",
        "    add_test.append(users_reduced[j][users_id[test.userId[i]]])\n",
        "  for i in range(N):\n",
        "    add_train.append(users_reduced[j][users_id[train.userId[i]]])\n",
        "\n",
        "  data_train[j] = add_train\n",
        "  data_test[j] = add_test\n",
        "\n",
        "  print(j)\n",
        "\n",
        "# for i in range(N):\n",
        "\n",
        "#   cur_user_id_train = users_id[train['userId'][i]]\n",
        "#   cur_topic_id_train = topics_id[train['topicId'][i]]\n",
        "#   cur_user_id_test = users_id[test['userId'][i]]\n",
        "#   cur_topic_id_test = topics_id[test['topicId'][i]]\n",
        "\n",
        "  \n"
      ],
      "metadata": {
        "id": "gBYRwCaqZbyS"
      },
      "execution_count": null,
      "outputs": []
    },
    {
      "cell_type": "markdown",
      "source": [
        "# Topics fill"
      ],
      "metadata": {
        "id": "jm8ZvPODOfLR"
      }
    },
    {
      "cell_type": "code",
      "source": [
        "for j in topics_txt_reduced.columns:\n",
        "\n",
        "  add_train, add_test = [], []\n",
        "\n",
        "  for i in range(N):\n",
        "    add_test.append(topics_txt_reduced[j][topics_id[test.topicId[i]]])\n",
        "  for i in range(N):\n",
        "    add_train.append(topics_txt_reduced[j][topics_id[train.topicId[i]]])\n",
        "\n",
        "  data_train[j] = add_train\n",
        "  data_test[j] = add_test\n",
        "\n",
        "  print(j)\n",
        "\n",
        "for j in topics_img_reduced.columns:\n",
        "\n",
        "  add_train, add_test = [], []\n",
        "\n",
        "  for i in range(N):\n",
        "    add_test.append(topics_img_reduced[j][topics_id[test.topicId[i]]])\n",
        "  for i in range(N):\n",
        "    add_train.append(topics_img_reduced[j][topics_id[train.topicId[i]]])\n",
        "\n",
        "  data_train[j] = add_train\n",
        "  data_test[j] = add_test\n",
        "\n",
        "  print(j)"
      ],
      "metadata": {
        "id": "eXjpBhgVD2Ve"
      },
      "execution_count": null,
      "outputs": []
    },
    {
      "cell_type": "code",
      "source": [
        "y = train['feedback'].head(N)"
      ],
      "metadata": {
        "id": "SC_dfsJvWRje"
      },
      "execution_count": null,
      "outputs": []
    },
    {
      "cell_type": "markdown",
      "source": [
        "# Downloading емае"
      ],
      "metadata": {
        "id": "a4xbmDkrrVoW"
      }
    },
    {
      "cell_type": "code",
      "source": [
        "# data_train.to_csv(\"/content/drive/MyDrive/nto/saved_dataframes/data_train_5.csv\", index=False)\n",
        "# data_test.to_csv(\"/content/drive/MyDrive/nto/saved_dataframes/data_test_5.csv\", index=False)"
      ],
      "metadata": {
        "id": "SFGPm3_ePC4H"
      },
      "execution_count": null,
      "outputs": []
    },
    {
      "cell_type": "code",
      "source": [
        "# data_train = pd.read_csv(\"/content/drive/MyDrive/nto/saved_dataframes/data_train_5.csv\")"
      ],
      "metadata": {
        "id": "LkE1oI-xef_Y"
      },
      "execution_count": null,
      "outputs": []
    },
    {
      "cell_type": "code",
      "source": [
        "# data_test = pd.read_csv(\"/content/drive/MyDrive/nto/saved_dataframes/data_test_5.csv\")"
      ],
      "metadata": {
        "id": "IN-j--vje3sr"
      },
      "execution_count": null,
      "outputs": []
    },
    {
      "cell_type": "code",
      "source": [
        "data_train = pd.concat([data_train, train[['gender', 'feedback']]], axis=1)\n",
        "data_test = pd.concat([data_test, test['gender']], axis=1)"
      ],
      "metadata": {
        "id": "Yxf4ZcXXJfKm"
      },
      "execution_count": null,
      "outputs": []
    },
    {
      "cell_type": "code",
      "source": [
        "data_train = data_train.sample(frac = 1)\n",
        "# data_train.index = range(len(train))"
      ],
      "metadata": {
        "id": "-VwCM5pNiK2L"
      },
      "execution_count": null,
      "outputs": []
    },
    {
      "cell_type": "code",
      "source": [
        "y = data_train.feedback"
      ],
      "metadata": {
        "id": "-ih7g4MYZkaQ"
      },
      "execution_count": null,
      "outputs": []
    },
    {
      "cell_type": "code",
      "source": [
        "data_train = data_train.drop('feedback', axis=1)"
      ],
      "metadata": {
        "id": "PljMb_S5fn_z"
      },
      "execution_count": null,
      "outputs": []
    },
    {
      "cell_type": "code",
      "source": [
        "data_train['birthDate'] = data_train['birthDate'].fillna(data_train['birthDate'].mean())"
      ],
      "metadata": {
        "id": "j0ODZXpfogGU"
      },
      "execution_count": null,
      "outputs": []
    },
    {
      "cell_type": "code",
      "source": [
        "data_train['birthDate'] = data_train['birthDate'].astype(float)"
      ],
      "metadata": {
        "id": "FbAOp9nXuEyF"
      },
      "execution_count": null,
      "outputs": []
    },
    {
      "cell_type": "markdown",
      "source": [
        "# Catboost"
      ],
      "metadata": {
        "id": "T6-dWUjQV7Qm"
      }
    },
    {
      "cell_type": "code",
      "source": [
        "X_train, X_test, y_train, y_test = train_test_split(data_train.head(N), y.head(N), test_size=0.2, random_state=228)"
      ],
      "metadata": {
        "id": "Md3nC4msGAx-"
      },
      "execution_count": null,
      "outputs": []
    },
    {
      "cell_type": "code",
      "source": [
        "model = CatBoostClassifier( iterations=500,\n",
        "                            learning_rate=0.2, \n",
        "                            depth=15, \n",
        "                            eval_metric = 'F1',\n",
        "                            loss_function='Logloss',\n",
        "                            random_state=7)\n",
        "model.fit(X_train, y_train, eval_set=(X_test, y_test), use_best_model=True)"
      ],
      "metadata": {
        "id": "dUTafZ6RlzTd"
      },
      "execution_count": null,
      "outputs": []
    },
    {
      "cell_type": "code",
      "source": [
        "ans = model.predict(data_test)"
      ],
      "metadata": {
        "id": "B5Wht41WK93R"
      },
      "execution_count": null,
      "outputs": []
    },
    {
      "cell_type": "markdown",
      "source": [
        "# Ans save"
      ],
      "metadata": {
        "id": "6zuTVtt2lD6G"
      }
    },
    {
      "cell_type": "code",
      "source": [
        "f = open(\"ans.txt\", \"w\")"
      ],
      "metadata": {
        "id": "VYiiP7DaLkpE"
      },
      "execution_count": null,
      "outputs": []
    },
    {
      "cell_type": "code",
      "source": [
        "f_ans = list(ans)\n",
        "for i in f_ans:\n",
        "  f.write(i)\n",
        "  f.write('\\n')\n"
      ],
      "metadata": {
        "id": "hvLi-tgKL8zi"
      },
      "execution_count": null,
      "outputs": []
    },
    {
      "cell_type": "code",
      "source": [
        "f.close()"
      ],
      "metadata": {
        "id": "Zh8nR3uzMO4R"
      },
      "execution_count": null,
      "outputs": []
    }
  ]
}