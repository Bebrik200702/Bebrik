{
  "nbformat": 4,
  "nbformat_minor": 0,
  "metadata": {
    "colab": {
      "provenance": []
    },
    "kernelspec": {
      "name": "python3",
      "display_name": "Python 3"
    },
    "language_info": {
      "name": "python"
    }
  },
  "cells": [
    {
      "cell_type": "code",
      "execution_count": null,
      "metadata": {
        "id": "sXg5Zi6p8pQV"
      },
      "outputs": [],
      "source": [
        "import sys\n",
        "import os\n",
        "import math\n",
        "import decimal\n",
        "import numpy as np\n",
        "import datetime\n",
        "import pandas as pd\n",
        "import sklearn\n",
        "import xgboost\n",
        "from sklearn.metrics import f1_score\n",
        "from sklearn. model_selection import train_test_split\n",
        "from sklearn. linear_model import LogisticRegression\n",
        "from sklearn.neighbors import KNeighborsClassifier\n",
        "from sklearn.svm import SVC\n",
        "from sklearn.preprocessing import StandardScaler\n",
        "\n",
        "from sklearn import metrics\n",
        "import matplotlib.pyplot as plt\n",
        "from sklearn.datasets import make_classification\n",
        "from sklearn.metrics import roc_curve, auc\n",
        "from sklearn.decomposition import PCA\n",
        "from sklearn.preprocessing import StandardScaler"
      ]
    },
    {
      "cell_type": "code",
      "source": [
        "users = pd.read_csv('/content/drive/MyDrive/nto/users.csv')\n",
        "topics  = pd.read_csv('/content/drive/MyDrive/nto/topics.csv')\n",
        "test = pd.read_csv('/content/drive/MyDrive/nto/test.csv')\n",
        "train = pd.read_csv('/content/drive/MyDrive/nto/train.csv')"
      ],
      "metadata": {
        "id": "pbHRAvHq83If"
      },
      "execution_count": null,
      "outputs": []
    },
    {
      "cell_type": "code",
      "source": [
        "f = open('test.txt', 'w')\n",
        "f.write(str(len(test.columns)))\n",
        "f.write(' ')\n",
        "f.write(str(len(test)))\n",
        "f.write('\\n')\n",
        "for i in range(len(test)):\n",
        "  for j in (test.columns):\n",
        "    f.write(str(test[j][i]))\n",
        "    f.write(' ')\n",
        "  f.write('\\n')\n",
        "f.close()"
      ],
      "metadata": {
        "id": "3u4nB6_da85y"
      },
      "execution_count": null,
      "outputs": []
    },
    {
      "cell_type": "code",
      "source": [
        "f = open('train.txt', 'w')\n",
        "f.write(str(len(train.columns)))\n",
        "f.write(' ')\n",
        "f.write(str(len(train)))\n",
        "f.write('\\n')\n",
        "for i in range(len(train)):\n",
        "  for j in (train.columns):\n",
        "    f.write(str(train[j][i]))\n",
        "    f.write(' ')\n",
        "  f.write('\\n')\n",
        "f.close()"
      ],
      "metadata": {
        "id": "uz36zB2SdiB-"
      },
      "execution_count": null,
      "outputs": []
    }
  ]
}