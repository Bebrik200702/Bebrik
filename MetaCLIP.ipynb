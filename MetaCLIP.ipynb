{
 "cells": [
  {
   "cell_type": "markdown",
   "metadata": {},
   "source": [
    "## Обучение MetaCLIP\n",
    "В данной тетрадке расположен код обучения и инференса MetaCLIP_vit_b_16_qg модели. Перед использованием кода нужно удостовериться, что все нужные библиотеки установлены и указан ваш wandb_api_key в СFG.wandb_key. Для инференса рекомендуется использовать модель с наименьшим RMSE.\n",
    "\n",
    "Вывод: Данный эксперимент показывает нам, что FastVit модели, не смотря на очень быстрый инференс показывают SOTA результаты среди трансформеров."
   ]
  },
  {
   "cell_type": "code",
   "execution_count": 1,
   "metadata": {
    "execution": {
     "iopub.execute_input": "2023-10-13T14:46:42.510525Z",
     "iopub.status.busy": "2023-10-13T14:46:42.510036Z",
     "iopub.status.idle": "2023-10-13T14:47:01.685873Z",
     "shell.execute_reply": "2023-10-13T14:47:01.685016Z",
     "shell.execute_reply.started": "2023-10-13T14:46:42.510504Z"
    },
    "tags": []
   },
   "outputs": [],
   "source": [
    "from IPython.display import clear_output\n",
    "\n",
    "#!pip install lightning timm opendatasets albumentations catboost gdown wandb ftfy\n",
    "#clear_output()"
   ]
  },
  {
   "cell_type": "code",
   "execution_count": 2,
   "metadata": {
    "execution": {
     "iopub.execute_input": "2023-10-13T14:47:01.688242Z",
     "iopub.status.busy": "2023-10-13T14:47:01.687952Z",
     "iopub.status.idle": "2023-10-13T14:47:01.691677Z",
     "shell.execute_reply": "2023-10-13T14:47:01.691023Z",
     "shell.execute_reply.started": "2023-10-13T14:47:01.688211Z"
    },
    "tags": []
   },
   "outputs": [],
   "source": [
    "!git clone https://github.com/facebookresearch/MetaCLIP.git\n",
    "%cd ./MetaCLIP/src"
   ]
  },
  {
   "cell_type": "code",
   "execution_count": 5,
   "metadata": {
    "execution": {
     "iopub.execute_input": "2023-10-13T14:47:12.203029Z",
     "iopub.status.busy": "2023-10-13T14:47:12.202390Z",
     "iopub.status.idle": "2023-10-13T14:47:19.201561Z",
     "shell.execute_reply": "2023-10-13T14:47:19.200936Z",
     "shell.execute_reply.started": "2023-10-13T14:47:12.203004Z"
    },
    "tags": []
   },
   "outputs": [
    {
     "name": "stderr",
     "output_type": "stream",
     "text": [
      "Seed set to 56\n"
     ]
    },
    {
     "data": {
      "text/plain": [
       "56"
      ]
     },
     "execution_count": 5,
     "metadata": {},
     "output_type": "execute_result"
    }
   ],
   "source": [
    "import os\n",
    "import pandas as pd\n",
    "import numpy as np\n",
    "from PIL import Image\n",
    "import matplotlib.pyplot as plt\n",
    "import pytorch_lightning as pl\n",
    "from sklearn.model_selection import train_test_split\n",
    "import torch\n",
    "import torch.nn as nn\n",
    "from torch.utils.data import Dataset, DataLoader\n",
    "from tqdm.auto import tqdm\n",
    "from math import sin,cos,pi,floor\n",
    "from sklearn.metrics import accuracy_score,f1_score,balanced_accuracy_score\n",
    "from sklearn.metrics import mean_squared_error, mean_absolute_error, mean_absolute_percentage_error, r2_score\n",
    "import albumentations as A\n",
    "import open_clip\n",
    "from albumentations.pytorch.transforms import ToTensorV2\n",
    "from catboost import CatBoostClassifier,Pool,cv\n",
    "from transformers import get_cosine_schedule_with_warmup\n",
    "from copy import deepcopy\n",
    "import wandb\n",
    "import timm\n",
    "pl.seed_everything(56)"
   ]
  },
  {
   "cell_type": "markdown",
   "metadata": {
    "tags": []
   },
   "source": [
    "# Конфиги:\n",
    "- использована модель `ViT-B-16-quickgelu` с весами `metaclip/b32_400m.pt`\n",
    "- разный learning rate для MLP и embedding extractor'а\n",
    "- функция активации [PReLU в MLP](../experiments/CLIP_train/experiments.ipynb)\n",
    "- [Cosine Scheduler with warmup](../experiments/CLIP_train/experiments.ipynb)\n",
    "- было выбрано оптимальное разделение на обучающую и валидационную выборку: 20%"
   ]
  },
  {
   "cell_type": "code",
   "execution_count": null,
   "metadata": {
    "execution": {
     "iopub.execute_input": "2023-10-13T14:55:23.909183Z",
     "iopub.status.busy": "2023-10-13T14:55:23.908401Z",
     "iopub.status.idle": "2023-10-13T14:55:23.913105Z",
     "shell.execute_reply": "2023-10-13T14:55:23.912541Z",
     "shell.execute_reply.started": "2023-10-13T14:55:23.909159Z"
    },
    "tags": []
   },
   "outputs": [],
   "source": [
    "class CFG:\n",
    "    class data:\n",
    "        train_data= 'aiijc23-4/train_scores.csv'\n",
    "        test_data = './simple_sub.csv'\n",
    "        train_path='aiijc23-4/train/train/'\n",
    "        test_path = 'aiijc23-4/test/test/'\n",
    "        num_workers = 4\n",
    "        val_split_size = 0.2\n",
    "        batch_size = 32\n",
    "        seed = 56\n",
    "    class model:\n",
    "        model ='ViT-B-16-quickgelu'\n",
    "        pretrained = 'metaclip/b32_400m.pt'\n",
    "        scheduler= True\n",
    "        max_epoches= 4\n",
    "        mlp_lr = 1.6e-4\n",
    "        encoder_lr = 4e-6\n",
    "        mlp_weights_decay = 0.02\n",
    "        encoder_weights_decay = 0.02\n",
    "        warmup_step = 0.1\n",
    "        warmup_epoch = 4\n",
    "        eps=1e-6\n",
    "        betas=(0.9, 0.999)\n",
    "        num_cycles=0.55\n",
    "    wandb_key=\"your_key\"\n",
    "    seed=56"
   ]
  },
  {
   "cell_type": "markdown",
   "metadata": {},
   "source": [
    "# Предобработка датасета"
   ]
  },
  {
   "cell_type": "code",
   "execution_count": 20,
   "metadata": {
    "execution": {
     "iopub.execute_input": "2023-10-13T14:55:24.213079Z",
     "iopub.status.busy": "2023-10-13T14:55:24.212503Z",
     "iopub.status.idle": "2023-10-13T14:55:24.216647Z",
     "shell.execute_reply": "2023-10-13T14:55:24.216064Z",
     "shell.execute_reply.started": "2023-10-13T14:55:24.213079Z"
    },
    "tags": []
   },
   "outputs": [],
   "source": [
    "def make_df(path,root_path=CFG.data.train_path):\n",
    "    data = pd.read_csv(path)\n",
    "    df = pd.DataFrame()\n",
    "    df['image'] = data['IMAGE'].apply(lambda x:root_path + x)\n",
    "    df['label'] = data['SCORE']\n",
    "    return df"
   ]
  },
  {
   "cell_type": "code",
   "execution_count": 21,
   "metadata": {
    "execution": {
     "iopub.execute_input": "2023-10-13T14:55:24.571107Z",
     "iopub.status.busy": "2023-10-13T14:55:24.570576Z",
     "iopub.status.idle": "2023-10-13T14:55:24.575044Z",
     "shell.execute_reply": "2023-10-13T14:55:24.574557Z",
     "shell.execute_reply.started": "2023-10-13T14:55:24.571085Z"
    },
    "tags": []
   },
   "outputs": [],
   "source": [
    "class PLDataset(Dataset):\n",
    "    def __init__(self, df,preprocess):\n",
    "        super().__init__()\n",
    "        self.cfg = CFG.data\n",
    "        self.data = df[['image','label']].values\n",
    "        self.preprocess = preprocess\n",
    "    def __getitem__(self, index):\n",
    "        image = Image.open(self.data[index][0])\n",
    "        image = self.preprocess(image)\n",
    "        label = self.data[index][1]\n",
    "        return image,label\n",
    "    def __len__(self):\n",
    "        return len(self.data)"
   ]
  },
  {
   "cell_type": "code",
   "execution_count": 22,
   "metadata": {
    "execution": {
     "iopub.execute_input": "2023-10-13T14:55:24.977158Z",
     "iopub.status.busy": "2023-10-13T14:55:24.976052Z",
     "iopub.status.idle": "2023-10-13T14:55:24.983281Z",
     "shell.execute_reply": "2023-10-13T14:55:24.982595Z",
     "shell.execute_reply.started": "2023-10-13T14:55:24.977132Z"
    },
    "tags": []
   },
   "outputs": [],
   "source": [
    "class PLDataModule(pl.LightningDataModule):\n",
    "    def __init__(self,preprocess):\n",
    "        super().__init__()\n",
    "        self.cfg = CFG.data\n",
    "        self.train_dataset_path = self.cfg.train_data\n",
    "        self.test_dataset_path = self.cfg.test_path\n",
    "        self.val_split_size = self.cfg.val_split_size\n",
    "        self.batch_size = self.cfg.batch_size\n",
    "        self.num_workers = self.cfg.num_workers\n",
    "        self.is_setup = False\n",
    "        self.preprocess = preprocess\n",
    "        \n",
    "    def prepare_data(self):\n",
    "        self.train_df = make_df(self.train_dataset_path)\n",
    "        self.test_df = make_df(CFG.data.test_data,\n",
    "                               root_path=CFG.data.test_path)\n",
    "        \n",
    "    def setup(self, stage: str):\n",
    "        if self.is_setup:\n",
    "            return None\n",
    "        self.train_df, self.val_df = train_test_split(self.train_df, test_size=self.val_split_size,random_state=self.cfg.seed)\n",
    "        self.train_dataset = PLDataset(self.train_df,self.preprocess)\n",
    "        self.val_dataset = PLDataset(self.val_df,self.preprocess)\n",
    "        self.test_dataset = PLDataset(self.test_df,self.preprocess)\n",
    "        self.is_setup = True\n",
    "    \n",
    "    def train_dataloader(self):\n",
    "        return DataLoader(self.train_dataset,\n",
    "                         batch_size=self.batch_size,\n",
    "                         num_workers=self.num_workers,\n",
    "                         shuffle=True)\n",
    "    \n",
    "    def val_dataloader(self):\n",
    "        return DataLoader(self.val_dataset,\n",
    "                          batch_size=self.batch_size,\n",
    "                          num_workers=self.num_workers)\n",
    "    \n",
    "    def predict_dataloader(self):\n",
    "        return DataLoader(self.test_dataset,\n",
    "                          batch_size=self.batch_size,\n",
    "                          num_workers=self.num_workers)"
   ]
  },
  {
   "cell_type": "markdown",
   "metadata": {},
   "source": [
    "# Метрики и лосс\n",
    "- были использованы различные метрики для создания новых гипотез\n",
    "- была выбрана метрика RMSE, потому что она показывала себя лучше всего на регрессионных метриках\n",
    "$$ RMSE = \\sqrt{\\frac{\\sum_{i=1}^n(pred_i-act_i)^2}{n}}$$"
   ]
  },
  {
   "cell_type": "code",
   "execution_count": 24,
   "metadata": {
    "execution": {
     "iopub.execute_input": "2023-10-13T14:55:27.061639Z",
     "iopub.status.busy": "2023-10-13T14:55:27.061152Z",
     "iopub.status.idle": "2023-10-13T14:55:27.066518Z",
     "shell.execute_reply": "2023-10-13T14:55:27.066053Z",
     "shell.execute_reply.started": "2023-10-13T14:55:27.061618Z"
    },
    "tags": []
   },
   "outputs": [],
   "source": [
    "class AverageMeter():\n",
    "    \n",
    "    def __init__(self):\n",
    "        self.labels = []\n",
    "        self.preds = []\n",
    "        \n",
    "    def reset(self):\n",
    "        self.labels = []\n",
    "        self.preds = []\n",
    "        \n",
    "    def update(self,labels,preds):\n",
    "        self.labels += labels\n",
    "        self.preds += preds\n",
    "    \n",
    "    def calc_metrics(self):\n",
    "        labels = pd.Series(self.labels)\n",
    "        preds = pd.Series(self.preds)\n",
    "        preds_bin = preds.map(round)\n",
    "        metrics = dict()\n",
    "        \n",
    "        metrics['val_rmse'] = (mean_squared_error(labels,preds)) ** 0.5\n",
    "        metrics['val_mae'] = mean_absolute_error(labels,preds)\n",
    "        metrics['mape']= mean_absolute_percentage_error(labels,preds)\n",
    "        metrics['val_r2'] = r2_score(labels,preds)\n",
    "        \n",
    "        metrics['val_f1'] = f1_score(labels,preds_bin,average='macro')\n",
    "        metrics['val_acc'] = accuracy_score(labels,preds_bin)\n",
    "        metrics['val_w_acc'] = balanced_accuracy_score(labels,preds_bin)\n",
    "        return metrics"
   ]
  },
  {
   "cell_type": "code",
   "execution_count": null,
   "metadata": {},
   "outputs": [],
   "source": [
    "class RMSELoss(nn.Module):\n",
    "    def __init__(self, eps=1e-6):\n",
    "        super().__init__()\n",
    "        self.mse = nn.MSELoss()\n",
    "        self.eps = eps\n",
    "        \n",
    "    def forward(self,yhat,y):\n",
    "        loss = torch.sqrt(self.mse(yhat,y) + self.eps)\n",
    "        return loss"
   ]
  },
  {
   "cell_type": "markdown",
   "metadata": {},
   "source": [
    "# Инициализация модели и алгоритм обучения"
   ]
  },
  {
   "cell_type": "code",
   "execution_count": 32,
   "metadata": {
    "execution": {
     "iopub.execute_input": "2023-10-13T14:56:59.544662Z",
     "iopub.status.busy": "2023-10-13T14:56:59.543895Z",
     "iopub.status.idle": "2023-10-13T14:56:59.555392Z",
     "shell.execute_reply": "2023-10-13T14:56:59.554903Z",
     "shell.execute_reply.started": "2023-10-13T14:56:59.544614Z"
    },
    "tags": []
   },
   "outputs": [],
   "source": [
    "class PLModule(pl.LightningModule):\n",
    "    def __init__(self,clip):\n",
    "        super().__init__()\n",
    "        self.cfg = CFG.model\n",
    "        self.clip = clip\n",
    "        self.mlp = nn.Sequential(nn.Linear(512,512 * 2),\n",
    "                                 nn.PReLU(),\n",
    "                                 nn.LayerNorm(512 * 2),\n",
    "                                 nn.Linear(512 * 2 ,1))\n",
    "        self.criterion = RMSELoss()\n",
    "        self.avg_meter = AverageMeter()\n",
    "        self.last_loss = 0\n",
    "        self.losses = []\n",
    "        \n",
    "    def forward(self,x):\n",
    "        features = self.clip.encode_image(x)\n",
    "        features = self.mlp(features)\n",
    "        return torch.squeeze(features)\n",
    "\n",
    "    def training_step(self, batch, i):\n",
    "        x,targets = batch\n",
    "        x,targets = x.float(),targets.float()\n",
    "        logits = self(x)\n",
    "        loss = self.criterion(targets, logits)\n",
    "        self.log_dict({'train_loss':loss.item()})\n",
    "        self.last_loss = loss.item()\n",
    "        return loss\n",
    "    \n",
    "    def predict_step(self, batch, i):\n",
    "        x,targets = batch\n",
    "        x,targets = x.float(),targets.float()\n",
    "        logits = self(x)\n",
    "        return logits.tolist()\n",
    "        \n",
    "    def validation_step(self, batch, _):\n",
    "        x,targets = batch\n",
    "        x,targets = x.float(),targets.float()\n",
    "        logits = self(x)\n",
    "        loss = self.criterion(targets,logits)\n",
    "        self.log_dict({'val_loss':loss.item()})\n",
    "        self.avg_meter.update(targets.cpu().detach().tolist(),\n",
    "                              logits.cpu().detach().tolist())\n",
    "    \n",
    "                \n",
    "    def on_validation_epoch_end(self):\n",
    "        self.log_dict(self.avg_meter.calc_metrics())\n",
    "        self.avg_meter.reset()\n",
    "            \n",
    "    def configure_optimizers(self):\n",
    "        grouped_parameters = [\n",
    "                            {'params':self.clip.parameters(),\n",
    "                               'lr':self.cfg.encoder_lr,\n",
    "                               'weight_decay':self.cfg.encoder_weights_decay},\n",
    "                             {'params':self.mlp.parameters(),\n",
    "                               'lr':self.cfg.mlp_lr,\n",
    "                               'weight_decay':self.cfg.mlp_weights_decay},\n",
    "                             ]\n",
    "        optim = torch.optim.AdamW(grouped_parameters,\n",
    "                                  betas=self.cfg.betas,\n",
    "                                  eps=self.cfg.eps)\n",
    "        \n",
    "        scheduler = get_cosine_schedule_with_warmup(optim,\n",
    "                                                    num_warmup_steps = TRAIN_STEPS * self.cfg.warmup_epoch * self.cfg.warmup_step, \n",
    "                                                    num_training_steps = TRAIN_STEPS * self.cfg.warmup_epoch,\n",
    "                                                    num_cycles = self.cfg.num_cycles)\n",
    "        scheduler = {'scheduler':scheduler,\n",
    "                     'interval':'step',\n",
    "                     'frequency':1}\n",
    "        \n",
    "        return [optim],[scheduler]"
   ]
  },
  {
   "cell_type": "code",
   "execution_count": 11,
   "metadata": {
    "execution": {
     "iopub.execute_input": "2023-10-13T14:52:10.204984Z",
     "iopub.status.busy": "2023-10-13T14:52:10.204250Z",
     "iopub.status.idle": "2023-10-13T14:53:33.930444Z",
     "shell.execute_reply": "2023-10-13T14:53:33.929619Z",
     "shell.execute_reply.started": "2023-10-13T14:52:10.204952Z"
    }
   },
   "outputs": [
    {
     "name": "stdout",
     "output_type": "stream",
     "text": [
      "--2023-10-13 14:52:10--  https://dl.fbaipublicfiles.com/MMPT/metaclip/b16_400m.pt\n",
      "Resolving dl.fbaipublicfiles.com (dl.fbaipublicfiles.com)... 18.238.4.71, 18.238.4.66, 18.238.4.36, ...\n",
      "Connecting to dl.fbaipublicfiles.com (dl.fbaipublicfiles.com)|18.238.4.71|:443... connected.\n",
      "HTTP request sent, awaiting response... 200 OK\n",
      "Length: 1795791003 (1.7G) [binary/octet-stream]\n",
      "Saving to: ‘b16_400m.pt.1’\n",
      "\n",
      "b16_400m.pt.1       100%[===================>]   1.67G  19.6MB/s    in 82s     \n",
      "\n",
      "2023-10-13 14:53:33 (20.8 MB/s) - ‘b16_400m.pt.1’ saved [1795791003/1795791003]\n",
      "\n"
     ]
    }
   ],
   "source": [
    "!wget https://dl.fbaipublicfiles.com/MMPT/metaclip/b16_400m.pt"
   ]
  },
  {
   "cell_type": "code",
   "execution_count": 14,
   "metadata": {
    "execution": {
     "iopub.execute_input": "2023-10-13T14:54:38.881508Z",
     "iopub.status.busy": "2023-10-13T14:54:38.880811Z",
     "iopub.status.idle": "2023-10-13T14:54:42.317743Z",
     "shell.execute_reply": "2023-10-13T14:54:42.317156Z",
     "shell.execute_reply.started": "2023-10-13T14:54:38.881477Z"
    },
    "tags": []
   },
   "outputs": [],
   "source": [
    "model, _, preprocess = open_clip.create_model_and_transforms('ViT-B-16-quickgelu', pretrained='./b16_400m.pt')"
   ]
  },
  {
   "cell_type": "code",
   "execution_count": 17,
   "metadata": {
    "execution": {
     "iopub.execute_input": "2023-10-13T14:55:18.302411Z",
     "iopub.status.busy": "2023-10-13T14:55:18.301929Z",
     "iopub.status.idle": "2023-10-13T14:55:18.306700Z",
     "shell.execute_reply": "2023-10-13T14:55:18.306076Z",
     "shell.execute_reply.started": "2023-10-13T14:55:18.302385Z"
    }
   },
   "outputs": [
    {
     "name": "stdout",
     "output_type": "stream",
     "text": [
      "/notebooks\n"
     ]
    }
   ],
   "source": [
    "%cd /notebooks"
   ]
  },
  {
   "cell_type": "code",
   "execution_count": 26,
   "metadata": {
    "execution": {
     "iopub.execute_input": "2023-10-13T14:55:34.310641Z",
     "iopub.status.busy": "2023-10-13T14:55:34.310138Z",
     "iopub.status.idle": "2023-10-13T14:55:34.454868Z",
     "shell.execute_reply": "2023-10-13T14:55:34.454227Z",
     "shell.execute_reply.started": "2023-10-13T14:55:34.310618Z"
    },
    "tags": []
   },
   "outputs": [],
   "source": [
    "dm = PLDataModule(preprocess)\n",
    "dm.prepare_data()\n",
    "dm.setup(0)\n",
    "TRAIN_STEPS = len(dm.train_dataloader())"
   ]
  },
  {
   "cell_type": "code",
   "execution_count": 33,
   "metadata": {
    "execution": {
     "iopub.execute_input": "2023-10-13T14:57:03.722679Z",
     "iopub.status.busy": "2023-10-13T14:57:03.722147Z",
     "iopub.status.idle": "2023-10-13T14:57:03.729777Z",
     "shell.execute_reply": "2023-10-13T14:57:03.729361Z",
     "shell.execute_reply.started": "2023-10-13T14:57:03.722655Z"
    },
    "tags": []
   },
   "outputs": [],
   "source": [
    "pl_model = PLModule(model)"
   ]
  },
  {
   "cell_type": "code",
   "execution_count": 29,
   "metadata": {
    "execution": {
     "iopub.execute_input": "2023-10-13T14:55:46.520797Z",
     "iopub.status.busy": "2023-10-13T14:55:46.520252Z",
     "iopub.status.idle": "2023-10-13T14:55:49.041463Z",
     "shell.execute_reply": "2023-10-13T14:55:49.040986Z",
     "shell.execute_reply.started": "2023-10-13T14:55:46.520775Z"
    },
    "tags": []
   },
   "outputs": [
    {
     "name": "stderr",
     "output_type": "stream",
     "text": [
      "\u001b[34m\u001b[1mwandb\u001b[0m: W&B API key is configured. Use \u001b[1m`wandb login --relogin`\u001b[0m to force relogin\n",
      "\u001b[34m\u001b[1mwandb\u001b[0m: \u001b[33mWARNING\u001b[0m If you're specifying your api key in code, ensure this code is not shared publicly.\n",
      "\u001b[34m\u001b[1mwandb\u001b[0m: \u001b[33mWARNING\u001b[0m Consider setting the WANDB_API_KEY environment variable, or running `wandb login` from the command line.\n",
      "\u001b[34m\u001b[1mwandb\u001b[0m: Appending key for api.wandb.ai to your netrc file: /root/.netrc\n"
     ]
    },
    {
     "data": {
      "text/html": [
       "Changes to your `wandb` environment variables will be ignored because your `wandb` session has already started. For more information on how to modify your settings with `wandb.init()` arguments, please refer to <a href=\"https://wandb.me/wandb-init\" target=\"_blank\">the W&B docs</a>."
      ],
      "text/plain": [
       "<IPython.core.display.HTML object>"
      ]
     },
     "metadata": {},
     "output_type": "display_data"
    },
    {
     "name": "stderr",
     "output_type": "stream",
     "text": [
      "\u001b[34m\u001b[1mwandb\u001b[0m: Currently logged in as: \u001b[33mandrey20007\u001b[0m (\u001b[33mandrey2007\u001b[0m). Use \u001b[1m`wandb login --relogin`\u001b[0m to force relogin\n"
     ]
    },
    {
     "data": {
      "text/html": [
       "wandb version 0.15.12 is available!  To upgrade, please run:\n",
       " $ pip install wandb --upgrade"
      ],
      "text/plain": [
       "<IPython.core.display.HTML object>"
      ]
     },
     "metadata": {},
     "output_type": "display_data"
    },
    {
     "data": {
      "text/html": [
       "Tracking run with wandb version 0.13.4"
      ],
      "text/plain": [
       "<IPython.core.display.HTML object>"
      ]
     },
     "metadata": {},
     "output_type": "display_data"
    },
    {
     "data": {
      "text/html": [
       "Run data is saved locally in <code>/notebooks/wandb/run-20231013_145548-178s0js2</code>"
      ],
      "text/plain": [
       "<IPython.core.display.HTML object>"
      ]
     },
     "metadata": {},
     "output_type": "display_data"
    },
    {
     "data": {
      "text/html": [
       "Syncing run <strong><a href=\"https://wandb.ai/andrey2007/AIIJC/runs/178s0js2\" target=\"_blank\">meta_clip_new_edit</a></strong> to <a href=\"https://wandb.ai/andrey2007/AIIJC\" target=\"_blank\">Weights & Biases</a> (<a href=\"https://wandb.me/run\" target=\"_blank\">docs</a>)<br/>"
      ],
      "text/plain": [
       "<IPython.core.display.HTML object>"
      ]
     },
     "metadata": {},
     "output_type": "display_data"
    },
    {
     "data": {
      "text/html": [
       "<button onClick=\"this.nextSibling.style.display='block';this.style.display='none';\">Display W&B run</button><iframe src=\"https://wandb.ai/andrey2007/AIIJC/runs/178s0js2?jupyter=true\" style=\"border:none;width:100%;height:420px;display:none;\"></iframe>"
      ],
      "text/plain": [
       "<wandb.sdk.wandb_run.Run at 0x7f29c8078c70>"
      ]
     },
     "execution_count": 29,
     "metadata": {},
     "output_type": "execute_result"
    }
   ],
   "source": [
    "wandb.login(key=CFG.wandb_key)\n",
    "os.environ['WANDB_API_KEY'] = CFG.wandb_key\n",
    "wandb.init(project='AIIJC',name='meta_clip_vit_b_32_400m')"
   ]
  },
  {
   "cell_type": "code",
   "execution_count": 34,
   "metadata": {
    "execution": {
     "iopub.execute_input": "2023-10-13T14:57:05.708207Z",
     "iopub.status.busy": "2023-10-13T14:57:05.707365Z",
     "iopub.status.idle": "2023-10-13T14:57:05.725128Z",
     "shell.execute_reply": "2023-10-13T14:57:05.724729Z",
     "shell.execute_reply.started": "2023-10-13T14:57:05.708174Z"
    },
    "tags": []
   },
   "outputs": [
    {
     "name": "stderr",
     "output_type": "stream",
     "text": [
      "GPU available: True (cuda), used: True\n",
      "TPU available: False, using: 0 TPU cores\n",
      "IPU available: False, using: 0 IPUs\n",
      "HPU available: False, using: 0 HPUs\n"
     ]
    }
   ],
   "source": [
    "lr_monitor = pl.callbacks.LearningRateMonitor(logging_interval='epoch')\n",
    "checkpoint_cb = pl.callbacks.ModelCheckpoint(\n",
    "    dirpath='./outputs_meta_clip_vit_b_400m/',\n",
    "    filename='model_{epoch:02d}-{val_loss:.4f}',\n",
    "    monitor='val_loss',\n",
    "    mode='min',\n",
    "    save_last=True\n",
    ")\n",
    "\n",
    "trainer = pl.Trainer(\n",
    "    accelerator=\"gpu\",\n",
    "    precision=32,\n",
    "    callbacks = [lr_monitor,checkpoint_cb],\n",
    "    logger = pl.loggers.WandbLogger(),\n",
    "    min_epochs=1,\n",
    "    devices=[0],\n",
    "    check_val_every_n_epoch=1,\n",
    "    max_epochs=CFG.model.max_epoches\n",
    ")"
   ]
  },
  {
   "cell_type": "code",
   "execution_count": 35,
   "metadata": {
    "execution": {
     "iopub.execute_input": "2023-10-13T14:57:05.933296Z",
     "iopub.status.busy": "2023-10-13T14:57:05.932028Z",
     "iopub.status.idle": "2023-10-13T16:03:17.844587Z",
     "shell.execute_reply": "2023-10-13T16:03:17.843884Z",
     "shell.execute_reply.started": "2023-10-13T14:57:05.933266Z"
    },
    "tags": []
   },
   "outputs": [
    {
     "name": "stderr",
     "output_type": "stream",
     "text": [
      "/usr/local/lib/python3.9/dist-packages/pytorch_lightning/loggers/wandb.py:389: There is a wandb run already in progress and newly created instances of `WandbLogger` will reuse this run. If this is not desired, call `wandb.finish()` before instantiating `WandbLogger`.\n",
      "/usr/local/lib/python3.9/dist-packages/pytorch_lightning/callbacks/model_checkpoint.py:630: Checkpoint directory /notebooks/outputs_vit_l_400m exists and is not empty.\n",
      "LOCAL_RANK: 0 - CUDA_VISIBLE_DEVICES: [0]\n",
      "\n",
      "  | Name      | Type       | Params\n",
      "-----------------------------------------\n",
      "0 | clip      | CLIP       | 149 M \n",
      "1 | mlp       | Sequential | 528 K \n",
      "2 | criterion | RMSELoss   | 0     \n",
      "-----------------------------------------\n",
      "150 M     Trainable params\n",
      "0         Non-trainable params\n",
      "150 M     Total params\n",
      "600.596   Total estimated model params size (MB)\n"
     ]
    },
    {
     "data": {
      "application/vnd.jupyter.widget-view+json": {
       "model_id": "75a7366ac531466fbd0a89cb7ad5fdbd",
       "version_major": 2,
       "version_minor": 0
      },
      "text/plain": [
       "Sanity Checking: |          | 0/? [00:00<?, ?it/s]"
      ]
     },
     "metadata": {},
     "output_type": "display_data"
    },
    {
     "name": "stderr",
     "output_type": "stream",
     "text": [
      "/usr/local/lib/python3.9/dist-packages/sklearn/metrics/_classification.py:2006: UserWarning: y_pred contains classes not in y_true\n",
      "  warnings.warn(\"y_pred contains classes not in y_true\")\n"
     ]
    },
    {
     "data": {
      "application/vnd.jupyter.widget-view+json": {
       "model_id": "4844223742b94a99a2f7fb6bd6c6274e",
       "version_major": 2,
       "version_minor": 0
      },
      "text/plain": [
       "Training: |          | 0/? [00:00<?, ?it/s]"
      ]
     },
     "metadata": {},
     "output_type": "display_data"
    },
    {
     "data": {
      "application/vnd.jupyter.widget-view+json": {
       "model_id": "1f4129aa913849d48b0630da2742ab95",
       "version_major": 2,
       "version_minor": 0
      },
      "text/plain": [
       "Validation: |          | 0/? [00:00<?, ?it/s]"
      ]
     },
     "metadata": {},
     "output_type": "display_data"
    },
    {
     "name": "stderr",
     "output_type": "stream",
     "text": [
      "/usr/local/lib/python3.9/dist-packages/sklearn/metrics/_classification.py:2006: UserWarning: y_pred contains classes not in y_true\n",
      "  warnings.warn(\"y_pred contains classes not in y_true\")\n"
     ]
    },
    {
     "data": {
      "application/vnd.jupyter.widget-view+json": {
       "model_id": "2e2aeda5837145ca9abd2b7daa597505",
       "version_major": 2,
       "version_minor": 0
      },
      "text/plain": [
       "Validation: |          | 0/? [00:00<?, ?it/s]"
      ]
     },
     "metadata": {},
     "output_type": "display_data"
    },
    {
     "data": {
      "application/vnd.jupyter.widget-view+json": {
       "model_id": "67e0429e3e704e979b7de1125faa3c79",
       "version_major": 2,
       "version_minor": 0
      },
      "text/plain": [
       "Validation: |          | 0/? [00:00<?, ?it/s]"
      ]
     },
     "metadata": {},
     "output_type": "display_data"
    },
    {
     "data": {
      "application/vnd.jupyter.widget-view+json": {
       "model_id": "69e379d398ef49feaee307e9403dfde3",
       "version_major": 2,
       "version_minor": 0
      },
      "text/plain": [
       "Validation: |          | 0/? [00:00<?, ?it/s]"
      ]
     },
     "metadata": {},
     "output_type": "display_data"
    },
    {
     "data": {
      "application/vnd.jupyter.widget-view+json": {
       "model_id": "b5309f91b21d492cb4e9334bf44f5632",
       "version_major": 2,
       "version_minor": 0
      },
      "text/plain": [
       "Validation: |          | 0/? [00:00<?, ?it/s]"
      ]
     },
     "metadata": {},
     "output_type": "display_data"
    },
    {
     "name": "stderr",
     "output_type": "stream",
     "text": [
      "/usr/local/lib/python3.9/dist-packages/pytorch_lightning/trainer/call.py:54: Detected KeyboardInterrupt, attempting graceful shutdown...\n"
     ]
    }
   ],
   "source": [
    "trainer.fit(pl_model,datamodule=dm)"
   ]
  },
  {
   "cell_type": "code",
   "execution_count": 36,
   "metadata": {
    "execution": {
     "iopub.execute_input": "2023-10-13T16:03:39.701655Z",
     "iopub.status.busy": "2023-10-13T16:03:39.701038Z",
     "iopub.status.idle": "2023-10-13T16:04:36.806556Z",
     "shell.execute_reply": "2023-10-13T16:04:36.805865Z",
     "shell.execute_reply.started": "2023-10-13T16:03:39.701625Z"
    },
    "tags": []
   },
   "outputs": [
    {
     "name": "stderr",
     "output_type": "stream",
     "text": [
      "Restoring states from the checkpoint path at /notebooks/outputs_vit_l_400m/model_epoch=03-val_loss=0.5053.ckpt\n",
      "LOCAL_RANK: 0 - CUDA_VISIBLE_DEVICES: [0]\n",
      "Loaded model weights from the checkpoint at /notebooks/outputs_vit_l_400m/model_epoch=03-val_loss=0.5053.ckpt\n"
     ]
    },
    {
     "data": {
      "application/vnd.jupyter.widget-view+json": {
       "model_id": "46ef96f25128495fa8bdeb63dbb001ee",
       "version_major": 2,
       "version_minor": 0
      },
      "text/plain": [
       "Predicting: |          | 0/? [00:00<?, ?it/s]"
      ]
     },
     "metadata": {},
     "output_type": "display_data"
    }
   ],
   "source": [
    "preds = trainer.predict(pl_model,datamodule=dm)"
   ]
  },
  {
   "cell_type": "code",
   "execution_count": 38,
   "metadata": {
    "execution": {
     "iopub.execute_input": "2023-10-13T16:05:21.492355Z",
     "iopub.status.busy": "2023-10-13T16:05:21.491567Z",
     "iopub.status.idle": "2023-10-13T16:05:21.510586Z",
     "shell.execute_reply": "2023-10-13T16:05:21.509988Z",
     "shell.execute_reply.started": "2023-10-13T16:05:21.492321Z"
    }
   },
   "outputs": [],
   "source": [
    "test_df = pd.read_csv('simple_sub.csv')"
   ]
  },
  {
   "cell_type": "code",
   "execution_count": 40,
   "metadata": {
    "execution": {
     "iopub.execute_input": "2023-10-13T16:05:25.947664Z",
     "iopub.status.busy": "2023-10-13T16:05:25.947133Z",
     "iopub.status.idle": "2023-10-13T16:05:25.953227Z",
     "shell.execute_reply": "2023-10-13T16:05:25.952683Z",
     "shell.execute_reply.started": "2023-10-13T16:05:25.947642Z"
    }
   },
   "outputs": [],
   "source": [
    "test_df['SCORE'] = np.concatenate(preds)"
   ]
  },
  {
   "cell_type": "code",
   "execution_count": 41,
   "metadata": {
    "execution": {
     "iopub.execute_input": "2023-10-13T16:05:26.618023Z",
     "iopub.status.busy": "2023-10-13T16:05:26.617485Z",
     "iopub.status.idle": "2023-10-13T16:05:26.626689Z",
     "shell.execute_reply": "2023-10-13T16:05:26.626114Z",
     "shell.execute_reply.started": "2023-10-13T16:05:26.617999Z"
    }
   },
   "outputs": [
    {
     "data": {
      "text/html": [
       "<div>\n",
       "<style scoped>\n",
       "    .dataframe tbody tr th:only-of-type {\n",
       "        vertical-align: middle;\n",
       "    }\n",
       "\n",
       "    .dataframe tbody tr th {\n",
       "        vertical-align: top;\n",
       "    }\n",
       "\n",
       "    .dataframe thead th {\n",
       "        text-align: right;\n",
       "    }\n",
       "</style>\n",
       "<table border=\"1\" class=\"dataframe\">\n",
       "  <thead>\n",
       "    <tr style=\"text-align: right;\">\n",
       "      <th></th>\n",
       "      <th>IMAGE</th>\n",
       "      <th>SCORE</th>\n",
       "    </tr>\n",
       "  </thead>\n",
       "  <tbody>\n",
       "    <tr>\n",
       "      <th>0</th>\n",
       "      <td>86cc6e863c9b6bb2a0e0db114c9775aa.jpg</td>\n",
       "      <td>8.093831</td>\n",
       "    </tr>\n",
       "    <tr>\n",
       "      <th>1</th>\n",
       "      <td>da71671681d9cef5b60727801bf95ef8.jpg</td>\n",
       "      <td>5.993963</td>\n",
       "    </tr>\n",
       "    <tr>\n",
       "      <th>2</th>\n",
       "      <td>821a9ff5df6e581c68c0371dc6b1eb90.jpg</td>\n",
       "      <td>7.852841</td>\n",
       "    </tr>\n",
       "    <tr>\n",
       "      <th>3</th>\n",
       "      <td>ed842bb42c39fe257ac459b544bb7ba8.jpg</td>\n",
       "      <td>8.108117</td>\n",
       "    </tr>\n",
       "    <tr>\n",
       "      <th>4</th>\n",
       "      <td>6eed69b8f6d62f28b809d9cbafcaab0b.jpg</td>\n",
       "      <td>6.248960</td>\n",
       "    </tr>\n",
       "    <tr>\n",
       "      <th>...</th>\n",
       "      <td>...</td>\n",
       "      <td>...</td>\n",
       "    </tr>\n",
       "    <tr>\n",
       "      <th>9983</th>\n",
       "      <td>46aa642bbcfdbed5eed380ba10fdbbbc.jpg</td>\n",
       "      <td>4.812338</td>\n",
       "    </tr>\n",
       "    <tr>\n",
       "      <th>9984</th>\n",
       "      <td>dc737dc9a19844943540816e4488b425.jpg</td>\n",
       "      <td>4.600523</td>\n",
       "    </tr>\n",
       "    <tr>\n",
       "      <th>9985</th>\n",
       "      <td>8038a60dac57ba5d445b99978a36a1d5.jpg</td>\n",
       "      <td>5.473619</td>\n",
       "    </tr>\n",
       "    <tr>\n",
       "      <th>9986</th>\n",
       "      <td>5381dd99c37acb63db903eac293fbe4c.jpg</td>\n",
       "      <td>4.280603</td>\n",
       "    </tr>\n",
       "    <tr>\n",
       "      <th>9987</th>\n",
       "      <td>646b27fbd82b0d5a517e4ebb4b514d6f.jpg</td>\n",
       "      <td>5.541181</td>\n",
       "    </tr>\n",
       "  </tbody>\n",
       "</table>\n",
       "<p>9988 rows × 2 columns</p>\n",
       "</div>"
      ],
      "text/plain": [
       "                                     IMAGE     SCORE\n",
       "0     86cc6e863c9b6bb2a0e0db114c9775aa.jpg  8.093831\n",
       "1     da71671681d9cef5b60727801bf95ef8.jpg  5.993963\n",
       "2     821a9ff5df6e581c68c0371dc6b1eb90.jpg  7.852841\n",
       "3     ed842bb42c39fe257ac459b544bb7ba8.jpg  8.108117\n",
       "4     6eed69b8f6d62f28b809d9cbafcaab0b.jpg  6.248960\n",
       "...                                    ...       ...\n",
       "9983  46aa642bbcfdbed5eed380ba10fdbbbc.jpg  4.812338\n",
       "9984  dc737dc9a19844943540816e4488b425.jpg  4.600523\n",
       "9985  8038a60dac57ba5d445b99978a36a1d5.jpg  5.473619\n",
       "9986  5381dd99c37acb63db903eac293fbe4c.jpg  4.280603\n",
       "9987  646b27fbd82b0d5a517e4ebb4b514d6f.jpg  5.541181\n",
       "\n",
       "[9988 rows x 2 columns]"
      ]
     },
     "execution_count": 41,
     "metadata": {},
     "output_type": "execute_result"
    }
   ],
   "source": [
    "test_df"
   ]
  },
  {
   "cell_type": "code",
   "execution_count": 42,
   "metadata": {
    "execution": {
     "iopub.execute_input": "2023-10-13T16:05:41.684947Z",
     "iopub.status.busy": "2023-10-13T16:05:41.684364Z",
     "iopub.status.idle": "2023-10-13T16:05:41.712272Z",
     "shell.execute_reply": "2023-10-13T16:05:41.711550Z",
     "shell.execute_reply.started": "2023-10-13T16:05:41.684920Z"
    }
   },
   "outputs": [],
   "source": [
    "test_df.to_csv('meta_clip_vit_b_32_400m.csv',index=False)"
   ]
  },
  {
   "cell_type": "code",
   "execution_count": 32,
   "metadata": {
    "execution": {
     "iopub.execute_input": "2023-09-25T16:17:14.136388Z",
     "iopub.status.busy": "2023-09-25T16:17:14.135519Z",
     "iopub.status.idle": "2023-09-25T16:17:14.153476Z",
     "shell.execute_reply": "2023-09-25T16:17:14.151588Z",
     "shell.execute_reply.started": "2023-09-25T16:17:14.136346Z"
    }
   },
   "outputs": [],
   "source": [
    "test_df['SCORE'] = test_df['SCORE'].map(round)"
   ]
  },
  {
   "cell_type": "code",
   "execution_count": null,
   "metadata": {},
   "outputs": [],
   "source": []
  }
 ],
 "metadata": {
  "kernelspec": {
   "display_name": "Python 3 (ipykernel)",
   "language": "python",
   "name": "python3"
  },
  "language_info": {
   "codemirror_mode": {
    "name": "ipython",
    "version": 3
   },
   "file_extension": ".py",
   "mimetype": "text/x-python",
   "name": "python",
   "nbconvert_exporter": "python",
   "pygments_lexer": "ipython3",
   "version": "3.11.5"
  }
 },
 "nbformat": 4,
 "nbformat_minor": 4
}
