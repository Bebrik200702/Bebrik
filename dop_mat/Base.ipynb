{
 "cells": [
  {
   "cell_type": "code",
   "execution_count": 1,
   "metadata": {
    "execution": {
     "iopub.execute_input": "2023-11-09T19:02:57.383834Z",
     "iopub.status.busy": "2023-11-09T19:02:57.382982Z",
     "iopub.status.idle": "2023-11-09T19:03:09.087360Z",
     "shell.execute_reply": "2023-11-09T19:03:09.086769Z",
     "shell.execute_reply.started": "2023-11-09T19:02:57.383810Z"
    },
    "tags": []
   },
   "outputs": [
    {
     "name": "stdout",
     "output_type": "stream",
     "text": [
      "Collecting catboost\n",
      "  Downloading catboost-1.2.2-cp39-cp39-manylinux2014_x86_64.whl (98.7 MB)\n",
      "\u001b[2K     \u001b[90m━━━━━━━━━━━━━━━━━━━━━━━━━━━━━━━━━━━━━━━━\u001b[0m \u001b[32m98.7/98.7 MB\u001b[0m \u001b[31m22.0 MB/s\u001b[0m eta \u001b[36m0:00:00\u001b[0m00:01\u001b[0m00:01\u001b[0m\n",
      "\u001b[?25hRequirement already satisfied: matplotlib in /usr/local/lib/python3.9/dist-packages (from catboost) (3.6.1)\n",
      "Collecting plotly\n",
      "  Downloading plotly-5.18.0-py3-none-any.whl (15.6 MB)\n",
      "\u001b[2K     \u001b[90m━━━━━━━━━━━━━━━━━━━━━━━━━━━━━━━━━━━━━━━\u001b[0m \u001b[32m15.6/15.6 MB\u001b[0m \u001b[31m101.8 MB/s\u001b[0m eta \u001b[36m0:00:00\u001b[0m00:01\u001b[0m00:01\u001b[0m\n",
      "\u001b[?25hCollecting graphviz\n",
      "  Downloading graphviz-0.20.1-py3-none-any.whl (47 kB)\n",
      "\u001b[2K     \u001b[90m━━━━━━━━━━━━━━━━━━━━━━━━━━━━━━━━━━━━━━━━\u001b[0m \u001b[32m47.0/47.0 kB\u001b[0m \u001b[31m18.3 MB/s\u001b[0m eta \u001b[36m0:00:00\u001b[0m\n",
      "\u001b[?25hRequirement already satisfied: numpy>=1.16.0 in /usr/local/lib/python3.9/dist-packages (from catboost) (1.23.4)\n",
      "Requirement already satisfied: scipy in /usr/local/lib/python3.9/dist-packages (from catboost) (1.9.2)\n",
      "Requirement already satisfied: pandas>=0.24 in /usr/local/lib/python3.9/dist-packages (from catboost) (1.5.0)\n",
      "Requirement already satisfied: six in /usr/lib/python3/dist-packages (from catboost) (1.14.0)\n",
      "Requirement already satisfied: python-dateutil>=2.8.1 in /usr/local/lib/python3.9/dist-packages (from pandas>=0.24->catboost) (2.8.2)\n",
      "Requirement already satisfied: pytz>=2020.1 in /usr/local/lib/python3.9/dist-packages (from pandas>=0.24->catboost) (2022.7.1)\n",
      "Requirement already satisfied: pillow>=6.2.0 in /usr/local/lib/python3.9/dist-packages (from matplotlib->catboost) (9.2.0)\n",
      "Requirement already satisfied: contourpy>=1.0.1 in /usr/local/lib/python3.9/dist-packages (from matplotlib->catboost) (1.0.7)\n",
      "Requirement already satisfied: pyparsing>=2.2.1 in /usr/local/lib/python3.9/dist-packages (from matplotlib->catboost) (3.0.9)\n",
      "Requirement already satisfied: packaging>=20.0 in /usr/local/lib/python3.9/dist-packages (from matplotlib->catboost) (23.0)\n",
      "Requirement already satisfied: kiwisolver>=1.0.1 in /usr/local/lib/python3.9/dist-packages (from matplotlib->catboost) (1.4.4)\n",
      "Requirement already satisfied: fonttools>=4.22.0 in /usr/local/lib/python3.9/dist-packages (from matplotlib->catboost) (4.38.0)\n",
      "Requirement already satisfied: cycler>=0.10 in /usr/local/lib/python3.9/dist-packages (from matplotlib->catboost) (0.11.0)\n",
      "Collecting tenacity>=6.2.0\n",
      "  Downloading tenacity-8.2.3-py3-none-any.whl (24 kB)\n",
      "Installing collected packages: tenacity, graphviz, plotly, catboost\n",
      "Successfully installed catboost-1.2.2 graphviz-0.20.1 plotly-5.18.0 tenacity-8.2.3\n",
      "\u001b[33mWARNING: Running pip as the 'root' user can result in broken permissions and conflicting behaviour with the system package manager. It is recommended to use a virtual environment instead: https://pip.pypa.io/warnings/venv\u001b[0m\u001b[33m\n",
      "\u001b[0m"
     ]
    }
   ],
   "source": [
    "!pip install catboost"
   ]
  },
  {
   "cell_type": "code",
   "execution_count": 1,
   "metadata": {
    "execution": {
     "iopub.execute_input": "2023-11-09T20:09:53.142313Z",
     "iopub.status.busy": "2023-11-09T20:09:53.141584Z",
     "iopub.status.idle": "2023-11-09T20:09:53.814368Z",
     "shell.execute_reply": "2023-11-09T20:09:53.813696Z",
     "shell.execute_reply.started": "2023-11-09T20:09:53.142289Z"
    }
   },
   "outputs": [],
   "source": [
    "import numpy as np\n",
    "import pandas as pd\n",
    "from tqdm.auto import tqdm\n",
    "from sklearn.model_selection import train_test_split\n",
    "from catboost import CatBoostClassifier,Pool,cv"
   ]
  },
  {
   "cell_type": "code",
   "execution_count": 2,
   "metadata": {
    "execution": {
     "iopub.execute_input": "2023-11-09T20:09:53.917713Z",
     "iopub.status.busy": "2023-11-09T20:09:53.916921Z",
     "iopub.status.idle": "2023-11-09T20:11:19.636195Z",
     "shell.execute_reply": "2023-11-09T20:11:19.635591Z",
     "shell.execute_reply.started": "2023-11-09T20:09:53.917690Z"
    }
   },
   "outputs": [],
   "source": [
    "df = pd.read_csv(\"train.gz\")"
   ]
  },
  {
   "cell_type": "code",
   "execution_count": 3,
   "metadata": {
    "execution": {
     "iopub.execute_input": "2023-11-09T20:11:19.637709Z",
     "iopub.status.busy": "2023-11-09T20:11:19.637538Z",
     "iopub.status.idle": "2023-11-09T20:11:19.640568Z",
     "shell.execute_reply": "2023-11-09T20:11:19.639982Z",
     "shell.execute_reply.started": "2023-11-09T20:11:19.637709Z"
    }
   },
   "outputs": [],
   "source": [
    "#df = df[:1_000_000]"
   ]
  },
  {
   "cell_type": "code",
   "execution_count": 4,
   "metadata": {
    "execution": {
     "iopub.execute_input": "2023-11-09T20:11:19.641452Z",
     "iopub.status.busy": "2023-11-09T20:11:19.641311Z",
     "iopub.status.idle": "2023-11-09T20:11:19.647516Z",
     "shell.execute_reply": "2023-11-09T20:11:19.646499Z",
     "shell.execute_reply.started": "2023-11-09T20:11:19.641452Z"
    }
   },
   "outputs": [],
   "source": [
    "def get_features(df_train,df_test,cols):\n",
    "    for col in tqdm(cols):\n",
    "        group = df_train[['click',col]].groupby(col)#.agg(['mean','count'])\n",
    "        agg_group = group.agg(['mean','count'])\n",
    "        \n",
    "        agg_group[col] = agg_group.index\n",
    "        agg_group[f'{col}_mean'] = agg_group['click']['mean']\n",
    "        agg_group[f'{col}_count'] = agg_group['click']['count']\n",
    "        agg_group = agg_group.drop(['click'],axis=1)\n",
    "        agg_group = agg_group.set_axis([col, f'{col}_count',f'{col}_mean'], axis=1)\n",
    "        agg_group.index = agg_group.index.rename('index')\n",
    "        \n",
    "        df_train[f'{col}_mean'] = group.transform('mean')\n",
    "        df_train[f'{col}_count'] = group.transform('count')\n",
    "        \n",
    "        df_test = df_test.merge(agg_group,how='inner')\n",
    "    return df_train,df_test"
   ]
  },
  {
   "cell_type": "code",
   "execution_count": 5,
   "metadata": {
    "execution": {
     "iopub.execute_input": "2023-11-09T20:21:19.598601Z",
     "iopub.status.busy": "2023-11-09T20:21:19.597970Z",
     "iopub.status.idle": "2023-11-09T20:21:19.602420Z",
     "shell.execute_reply": "2023-11-09T20:21:19.601940Z",
     "shell.execute_reply.started": "2023-11-09T20:21:19.598579Z"
    }
   },
   "outputs": [],
   "source": [
    "cat_features = ['C1', 'banner_pos', 'site_id', 'site_domain',\n",
    "       'site_category', 'app_id', 'app_domain', 'app_category', 'device_id',\n",
    "       'device_ip', 'device_model', 'device_type', 'device_conn_type',\n",
    "        'C14', 'C15', 'C16', 'C17', 'C18', 'C19', 'C20', 'C21']\n",
    "feature_cols = ['site_id','app_id','device_ip','C14','device_model','device_id','site_domain',\n",
    "                'C14', 'C15', 'C16', 'C17', 'C18', 'C19', 'C20', 'C21']\n",
    "num_features = [ 'app_id_count','device_ip_count', 'C14_count',\n",
    "                 'app_id_mean','device_ip_mean', 'C14_mean']#['month', 'day','week', 'quarter', 'weekofyear', 'dayofweek',\n",
    "               # 'dayofyear', 'all_time','all_week']\n",
    "features = cat_features + num_features\n",
    "label_col = 'click'"
   ]
  },
  {
   "cell_type": "code",
   "execution_count": 6,
   "metadata": {
    "execution": {
     "iopub.execute_input": "2023-11-09T20:21:20.383712Z",
     "iopub.status.busy": "2023-11-09T20:21:20.383228Z",
     "iopub.status.idle": "2023-11-09T20:21:20.388214Z",
     "shell.execute_reply": "2023-11-09T20:21:20.387556Z",
     "shell.execute_reply.started": "2023-11-09T20:21:20.383689Z"
    }
   },
   "outputs": [],
   "source": [
    "class ColsCollect():\n",
    "    def __init__(self,cat_cols,top_k=512):\n",
    "        self.cat_cols = cat_cols\n",
    "        self.top_k = top_k\n",
    "    \n",
    "    def fit_transform(self,df):\n",
    "        self.good_cols = []\n",
    "        for col in tqdm(self.cat_cols):\n",
    "            good_cols = df[col].value_counts().index[:self.top_k]\n",
    "            df[col] = df[col].apply(lambda x: x if x in good_cols else -1)\n",
    "        return df"
   ]
  },
  {
   "cell_type": "code",
   "execution_count": 7,
   "metadata": {
    "execution": {
     "iopub.execute_input": "2023-11-09T20:21:21.167737Z",
     "iopub.status.busy": "2023-11-09T20:21:21.166966Z",
     "iopub.status.idle": "2023-11-09T20:21:21.170280Z",
     "shell.execute_reply": "2023-11-09T20:21:21.169739Z",
     "shell.execute_reply.started": "2023-11-09T20:21:21.167714Z"
    }
   },
   "outputs": [],
   "source": [
    "#cols_collect = ColsCollect(cat_features)\n",
    "#df = cols_collect.fit_transform(df)"
   ]
  },
  {
   "cell_type": "code",
   "execution_count": 8,
   "metadata": {
    "execution": {
     "iopub.execute_input": "2023-11-09T20:21:21.637973Z",
     "iopub.status.busy": "2023-11-09T20:21:21.637137Z",
     "iopub.status.idle": "2023-11-09T20:21:21.640427Z",
     "shell.execute_reply": "2023-11-09T20:21:21.639905Z",
     "shell.execute_reply.started": "2023-11-09T20:21:21.637947Z"
    }
   },
   "outputs": [],
   "source": [
    "#df['dt'] = pd.to_datetime(df['hour'], format = '%y%m%d%H')"
   ]
  },
  {
   "cell_type": "code",
   "execution_count": 9,
   "metadata": {
    "execution": {
     "iopub.execute_input": "2023-11-09T20:21:24.286601Z",
     "iopub.status.busy": "2023-11-09T20:21:24.285561Z",
     "iopub.status.idle": "2023-11-09T20:21:24.299871Z",
     "shell.execute_reply": "2023-11-09T20:21:24.299100Z",
     "shell.execute_reply.started": "2023-11-09T20:21:24.286573Z"
    }
   },
   "outputs": [],
   "source": [
    "def make_base_time_features(df,col_dt='dt'):\n",
    "    df['month'] = df[col_dt].apply(lambda x:x.month)\n",
    "    df['day'] = df[col_dt].apply(lambda x:x.day)\n",
    "    df['week'] = df[col_dt].apply(lambda x:x.week)\n",
    "    df['hour'] = df[col_dt].apply(lambda x:x.hour)\n",
    "    df['quarter'] = df[col_dt].apply(lambda x:x.quarter)\n",
    "    #df['year'] = df[col_dt].apply(lambda x: x.year - 2012)\n",
    "    \n",
    "    df['weekofyear'] = df[col_dt].apply(lambda x:x.weekofyear)\n",
    "    df['dayofweek'] = df[col_dt].apply(lambda x:x.dayofweek)\n",
    "    df['dayofyear'] = df[col_dt].apply(lambda x:x.dayofyear)\n",
    "    df['week'] = df[col_dt].apply(lambda x:x.week)\n",
    "    \n",
    "    df['all_time'] = df['dayofyear'] * 24 + df['hour']\n",
    "    df['all_week'] = df['weekofyear'] + df['dayofweek'] / 7\n",
    "    return df\n",
    "\n",
    "def get_polynoms_from_column(df,col):\n",
    "    min_v = df[col].min()\n",
    "    max_v = df[col].max()\n",
    "    \n",
    "    df[f'sin_{col}'] = df[col].apply(sin)\n",
    "    df[f'cos_{col}'] = df[col].apply(cos)\n",
    "    df[f'sin_{col}^2'] = df[col].apply(sin) * df[col].apply(sin)\n",
    "    df[f'cos_{col}^2'] = df[col].apply(cos) * df[col].apply(cos)\n",
    "    \n",
    "    df[f'{col}_sin'] = df[col].apply(lambda x: sin((x - min_v) / max_v * 2 * pi))\n",
    "    df[f'{col}_cos'] = df[col].apply(lambda x: cos((x - min_v) / max_v * 2 * pi))\n",
    "    df[f'{col}_sin^2'] = df[f'{col}_sin'] * df[f'{col}_sin']\n",
    "    df[f'{col}_cos^2'] = df[f'{col}_cos'] * df[f'{col}_cos']\n",
    "    return df\n",
    "\n",
    "def get_dop_features(df):\n",
    "    day = 24\n",
    "    year = 365.2425*day\n",
    "    df['vday_sin'] = (df.hour * 2 * np.pi / day)\n",
    "    df['vday_sin'] = df['vday_sin'].apply(sin)\n",
    "    df['vday_cos'] = (df.hour * 2 * np.pi / day)\n",
    "    df['vday_cos'] = df['vday_cos'].apply(cos)\n",
    "    df['vyear_sin'] = (df.hour * 2 * np.pi / year)\n",
    "    df['vyear_sin'] = df['vyear_sin'].apply(sin)\n",
    "    df['vyear_cos'] = (df.hour * 2 * np.pi / year)\n",
    "    df['vyear_cos'] = df['vyear_cos'].apply(cos)\n",
    "    \n",
    "    return df"
   ]
  },
  {
   "cell_type": "code",
   "execution_count": 10,
   "metadata": {
    "execution": {
     "iopub.execute_input": "2023-11-09T20:21:24.605605Z",
     "iopub.status.busy": "2023-11-09T20:21:24.604797Z",
     "iopub.status.idle": "2023-11-09T20:21:24.608444Z",
     "shell.execute_reply": "2023-11-09T20:21:24.607842Z",
     "shell.execute_reply.started": "2023-11-09T20:21:24.605580Z"
    }
   },
   "outputs": [],
   "source": [
    "#df = make_base_time_features(df)"
   ]
  },
  {
   "cell_type": "code",
   "execution_count": 11,
   "metadata": {
    "execution": {
     "iopub.execute_input": "2023-11-09T20:21:25.165717Z",
     "iopub.status.busy": "2023-11-09T20:21:25.165030Z",
     "iopub.status.idle": "2023-11-09T20:21:25.171441Z",
     "shell.execute_reply": "2023-11-09T20:21:25.170838Z",
     "shell.execute_reply.started": "2023-11-09T20:21:25.165709Z"
    }
   },
   "outputs": [
    {
     "data": {
      "text/plain": [
       "32343173.6"
      ]
     },
     "execution_count": 11,
     "metadata": {},
     "output_type": "execute_result"
    }
   ],
   "source": [
    "df.shape[0] * 0.8"
   ]
  },
  {
   "cell_type": "code",
   "execution_count": 12,
   "metadata": {
    "execution": {
     "iopub.execute_input": "2023-11-09T20:21:26.189603Z",
     "iopub.status.busy": "2023-11-09T20:21:26.188925Z",
     "iopub.status.idle": "2023-11-09T20:21:26.192925Z",
     "shell.execute_reply": "2023-11-09T20:21:26.192364Z",
     "shell.execute_reply.started": "2023-11-09T20:21:26.189577Z"
    }
   },
   "outputs": [],
   "source": [
    "train_df = df[:32343173]\n",
    "val_df = df[32343173:]\n",
    "#train_df,val_df = train_test_split(df,test_size=0.2,random_state=56)"
   ]
  },
  {
   "cell_type": "code",
   "execution_count": 13,
   "metadata": {
    "execution": {
     "iopub.execute_input": "2023-11-09T20:21:27.224243Z",
     "iopub.status.busy": "2023-11-09T20:21:27.223208Z",
     "iopub.status.idle": "2023-11-09T20:21:27.227224Z",
     "shell.execute_reply": "2023-11-09T20:21:27.226554Z",
     "shell.execute_reply.started": "2023-11-09T20:21:27.224216Z"
    }
   },
   "outputs": [],
   "source": [
    "del df"
   ]
  },
  {
   "cell_type": "code",
   "execution_count": 14,
   "metadata": {
    "execution": {
     "iopub.execute_input": "2023-11-09T20:21:27.835701Z",
     "iopub.status.busy": "2023-11-09T20:21:27.835011Z",
     "iopub.status.idle": "2023-11-09T20:21:27.841043Z",
     "shell.execute_reply": "2023-11-09T20:21:27.840309Z",
     "shell.execute_reply.started": "2023-11-09T20:21:27.835679Z"
    }
   },
   "outputs": [],
   "source": [
    "def get_features(df_train,df_test,cols):\n",
    "    for col in tqdm(cols):\n",
    "        group = df_train[['click',col]].groupby(col)#.agg(['mean','count'])\n",
    "        agg_group = group.agg(['mean','count'])\n",
    "        \n",
    "        agg_group[col] = agg_group.index\n",
    "        agg_group[f'{col}_mean'] = agg_group['click']['mean']\n",
    "        agg_group[f'{col}_count'] = agg_group['click']['count']\n",
    "        agg_group = agg_group.drop(['click'],axis=1)\n",
    "        agg_group = agg_group.set_axis([col, f'{col}_count',f'{col}_mean'], axis=1)\n",
    "        agg_group.index = agg_group.index.rename('index')\n",
    "        \n",
    "        df_train[f'{col}_mean'] = group.transform('mean')\n",
    "        df_train[f'{col}_count'] = group.transform('count')\n",
    "        \n",
    "        df_test = df_test.merge(agg_group,how='inner')\n",
    "    return df_train,df_test"
   ]
  },
  {
   "cell_type": "code",
   "execution_count": 15,
   "metadata": {
    "execution": {
     "iopub.execute_input": "2023-11-09T20:21:28.405732Z",
     "iopub.status.busy": "2023-11-09T20:21:28.405118Z",
     "iopub.status.idle": "2023-11-09T20:22:43.156705Z",
     "shell.execute_reply": "2023-11-09T20:22:43.155954Z",
     "shell.execute_reply.started": "2023-11-09T20:21:28.405706Z"
    }
   },
   "outputs": [
    {
     "data": {
      "application/vnd.jupyter.widget-view+json": {
       "model_id": "a92e678482df4a5a85f36b364db0f6fb",
       "version_major": 2,
       "version_minor": 0
      },
      "text/plain": [
       "  0%|          | 0/4 [00:00<?, ?it/s]"
      ]
     },
     "metadata": {},
     "output_type": "display_data"
    }
   ],
   "source": [
    "train_df,val_df = get_features(train_df,val_df,['app_id','app_id','device_ip','C14'])"
   ]
  },
  {
   "cell_type": "code",
   "execution_count": 16,
   "metadata": {
    "execution": {
     "iopub.execute_input": "2023-11-09T20:26:28.297737Z",
     "iopub.status.busy": "2023-11-09T20:26:28.297214Z",
     "iopub.status.idle": "2023-11-09T20:26:28.302057Z",
     "shell.execute_reply": "2023-11-09T20:26:28.301434Z",
     "shell.execute_reply.started": "2023-11-09T20:26:28.297717Z"
    }
   },
   "outputs": [
    {
     "data": {
      "text/plain": [
       "Index(['id', 'click', 'hour', 'C1', 'banner_pos', 'site_id', 'site_domain',\n",
       "       'site_category', 'app_id', 'app_domain', 'app_category', 'device_id',\n",
       "       'device_ip', 'device_model', 'device_type', 'device_conn_type', 'C14',\n",
       "       'C15', 'C16', 'C17', 'C18', 'C19', 'C20', 'C21', 'app_id_mean',\n",
       "       'app_id_count', 'device_ip_mean', 'device_ip_count', 'C14_mean',\n",
       "       'C14_count'],\n",
       "      dtype='object')"
      ]
     },
     "execution_count": 16,
     "metadata": {},
     "output_type": "execute_result"
    }
   ],
   "source": [
    "train_df.columns"
   ]
  },
  {
   "cell_type": "code",
   "execution_count": 17,
   "metadata": {
    "execution": {
     "iopub.execute_input": "2023-11-09T20:26:29.179621Z",
     "iopub.status.busy": "2023-11-09T20:26:29.178839Z",
     "iopub.status.idle": "2023-11-09T20:26:29.933106Z",
     "shell.execute_reply": "2023-11-09T20:26:29.932456Z",
     "shell.execute_reply.started": "2023-11-09T20:26:29.179599Z"
    }
   },
   "outputs": [
    {
     "data": {
      "text/html": [
       "<div>\n",
       "<style scoped>\n",
       "    .dataframe tbody tr th:only-of-type {\n",
       "        vertical-align: middle;\n",
       "    }\n",
       "\n",
       "    .dataframe tbody tr th {\n",
       "        vertical-align: top;\n",
       "    }\n",
       "\n",
       "    .dataframe thead th {\n",
       "        text-align: right;\n",
       "    }\n",
       "</style>\n",
       "<table border=\"1\" class=\"dataframe\">\n",
       "  <thead>\n",
       "    <tr style=\"text-align: right;\">\n",
       "      <th></th>\n",
       "      <th>id</th>\n",
       "      <th>click</th>\n",
       "      <th>hour</th>\n",
       "      <th>C1</th>\n",
       "      <th>banner_pos</th>\n",
       "      <th>site_id</th>\n",
       "      <th>site_domain</th>\n",
       "      <th>site_category</th>\n",
       "      <th>app_id</th>\n",
       "      <th>app_domain</th>\n",
       "      <th>...</th>\n",
       "      <th>C18</th>\n",
       "      <th>C19</th>\n",
       "      <th>C20</th>\n",
       "      <th>C21</th>\n",
       "      <th>app_id_count</th>\n",
       "      <th>app_id_mean</th>\n",
       "      <th>device_ip_count</th>\n",
       "      <th>device_ip_mean</th>\n",
       "      <th>C14_count</th>\n",
       "      <th>C14_mean</th>\n",
       "    </tr>\n",
       "  </thead>\n",
       "  <tbody>\n",
       "    <tr>\n",
       "      <th>0</th>\n",
       "      <td>4.990036e+18</td>\n",
       "      <td>0</td>\n",
       "      <td>14102823</td>\n",
       "      <td>1005</td>\n",
       "      <td>0</td>\n",
       "      <td>85f751fd</td>\n",
       "      <td>c4e18dd6</td>\n",
       "      <td>50e219e0</td>\n",
       "      <td>e2fcccd2</td>\n",
       "      <td>5c5a694b</td>\n",
       "      <td>...</td>\n",
       "      <td>3</td>\n",
       "      <td>1839</td>\n",
       "      <td>-1</td>\n",
       "      <td>171</td>\n",
       "      <td>0.200071</td>\n",
       "      <td>876207</td>\n",
       "      <td>0.093675</td>\n",
       "      <td>1676</td>\n",
       "      <td>0.13986</td>\n",
       "      <td>3718</td>\n",
       "    </tr>\n",
       "    <tr>\n",
       "      <th>1</th>\n",
       "      <td>6.701787e+18</td>\n",
       "      <td>0</td>\n",
       "      <td>14102900</td>\n",
       "      <td>1005</td>\n",
       "      <td>0</td>\n",
       "      <td>85f751fd</td>\n",
       "      <td>c4e18dd6</td>\n",
       "      <td>50e219e0</td>\n",
       "      <td>e2fcccd2</td>\n",
       "      <td>5c5a694b</td>\n",
       "      <td>...</td>\n",
       "      <td>3</td>\n",
       "      <td>1839</td>\n",
       "      <td>-1</td>\n",
       "      <td>171</td>\n",
       "      <td>0.200071</td>\n",
       "      <td>876207</td>\n",
       "      <td>0.093675</td>\n",
       "      <td>1676</td>\n",
       "      <td>0.13986</td>\n",
       "      <td>3718</td>\n",
       "    </tr>\n",
       "    <tr>\n",
       "      <th>2</th>\n",
       "      <td>1.175641e+19</td>\n",
       "      <td>0</td>\n",
       "      <td>14102905</td>\n",
       "      <td>1005</td>\n",
       "      <td>0</td>\n",
       "      <td>85f751fd</td>\n",
       "      <td>c4e18dd6</td>\n",
       "      <td>50e219e0</td>\n",
       "      <td>e2fcccd2</td>\n",
       "      <td>5c5a694b</td>\n",
       "      <td>...</td>\n",
       "      <td>3</td>\n",
       "      <td>1839</td>\n",
       "      <td>-1</td>\n",
       "      <td>171</td>\n",
       "      <td>0.200071</td>\n",
       "      <td>876207</td>\n",
       "      <td>0.093675</td>\n",
       "      <td>1676</td>\n",
       "      <td>0.13986</td>\n",
       "      <td>3718</td>\n",
       "    </tr>\n",
       "    <tr>\n",
       "      <th>3</th>\n",
       "      <td>9.406604e+18</td>\n",
       "      <td>0</td>\n",
       "      <td>14102906</td>\n",
       "      <td>1005</td>\n",
       "      <td>0</td>\n",
       "      <td>85f751fd</td>\n",
       "      <td>c4e18dd6</td>\n",
       "      <td>50e219e0</td>\n",
       "      <td>e2fcccd2</td>\n",
       "      <td>5c5a694b</td>\n",
       "      <td>...</td>\n",
       "      <td>3</td>\n",
       "      <td>1839</td>\n",
       "      <td>-1</td>\n",
       "      <td>171</td>\n",
       "      <td>0.200071</td>\n",
       "      <td>876207</td>\n",
       "      <td>0.093675</td>\n",
       "      <td>1676</td>\n",
       "      <td>0.13986</td>\n",
       "      <td>3718</td>\n",
       "    </tr>\n",
       "    <tr>\n",
       "      <th>4</th>\n",
       "      <td>1.269040e+19</td>\n",
       "      <td>0</td>\n",
       "      <td>14102914</td>\n",
       "      <td>1005</td>\n",
       "      <td>0</td>\n",
       "      <td>85f751fd</td>\n",
       "      <td>c4e18dd6</td>\n",
       "      <td>50e219e0</td>\n",
       "      <td>e2fcccd2</td>\n",
       "      <td>5c5a694b</td>\n",
       "      <td>...</td>\n",
       "      <td>3</td>\n",
       "      <td>1831</td>\n",
       "      <td>-1</td>\n",
       "      <td>171</td>\n",
       "      <td>0.200071</td>\n",
       "      <td>876207</td>\n",
       "      <td>0.093675</td>\n",
       "      <td>1676</td>\n",
       "      <td>0.13986</td>\n",
       "      <td>3718</td>\n",
       "    </tr>\n",
       "    <tr>\n",
       "      <th>...</th>\n",
       "      <td>...</td>\n",
       "      <td>...</td>\n",
       "      <td>...</td>\n",
       "      <td>...</td>\n",
       "      <td>...</td>\n",
       "      <td>...</td>\n",
       "      <td>...</td>\n",
       "      <td>...</td>\n",
       "      <td>...</td>\n",
       "      <td>...</td>\n",
       "      <td>...</td>\n",
       "      <td>...</td>\n",
       "      <td>...</td>\n",
       "      <td>...</td>\n",
       "      <td>...</td>\n",
       "      <td>...</td>\n",
       "      <td>...</td>\n",
       "      <td>...</td>\n",
       "      <td>...</td>\n",
       "      <td>...</td>\n",
       "      <td>...</td>\n",
       "    </tr>\n",
       "    <tr>\n",
       "      <th>3721574</th>\n",
       "      <td>2.973288e+18</td>\n",
       "      <td>0</td>\n",
       "      <td>14102916</td>\n",
       "      <td>1007</td>\n",
       "      <td>0</td>\n",
       "      <td>85f751fd</td>\n",
       "      <td>c4e18dd6</td>\n",
       "      <td>50e219e0</td>\n",
       "      <td>d627cae2</td>\n",
       "      <td>5406e4db</td>\n",
       "      <td>...</td>\n",
       "      <td>3</td>\n",
       "      <td>175</td>\n",
       "      <td>100114</td>\n",
       "      <td>100</td>\n",
       "      <td>0.666667</td>\n",
       "      <td>3</td>\n",
       "      <td>1.000000</td>\n",
       "      <td>1</td>\n",
       "      <td>0.50000</td>\n",
       "      <td>4</td>\n",
       "    </tr>\n",
       "    <tr>\n",
       "      <th>3721575</th>\n",
       "      <td>3.179110e+18</td>\n",
       "      <td>1</td>\n",
       "      <td>14102916</td>\n",
       "      <td>1007</td>\n",
       "      <td>0</td>\n",
       "      <td>85f751fd</td>\n",
       "      <td>c4e18dd6</td>\n",
       "      <td>50e219e0</td>\n",
       "      <td>d627cae2</td>\n",
       "      <td>5406e4db</td>\n",
       "      <td>...</td>\n",
       "      <td>3</td>\n",
       "      <td>175</td>\n",
       "      <td>100114</td>\n",
       "      <td>100</td>\n",
       "      <td>0.666667</td>\n",
       "      <td>3</td>\n",
       "      <td>1.000000</td>\n",
       "      <td>1</td>\n",
       "      <td>0.50000</td>\n",
       "      <td>4</td>\n",
       "    </tr>\n",
       "    <tr>\n",
       "      <th>3721576</th>\n",
       "      <td>3.247450e+18</td>\n",
       "      <td>0</td>\n",
       "      <td>14102916</td>\n",
       "      <td>1007</td>\n",
       "      <td>0</td>\n",
       "      <td>85f751fd</td>\n",
       "      <td>c4e18dd6</td>\n",
       "      <td>50e219e0</td>\n",
       "      <td>d627cae2</td>\n",
       "      <td>5406e4db</td>\n",
       "      <td>...</td>\n",
       "      <td>3</td>\n",
       "      <td>175</td>\n",
       "      <td>100114</td>\n",
       "      <td>100</td>\n",
       "      <td>0.666667</td>\n",
       "      <td>3</td>\n",
       "      <td>1.000000</td>\n",
       "      <td>1</td>\n",
       "      <td>0.50000</td>\n",
       "      <td>4</td>\n",
       "    </tr>\n",
       "    <tr>\n",
       "      <th>3721577</th>\n",
       "      <td>3.885457e+18</td>\n",
       "      <td>0</td>\n",
       "      <td>14102916</td>\n",
       "      <td>1007</td>\n",
       "      <td>0</td>\n",
       "      <td>85f751fd</td>\n",
       "      <td>c4e18dd6</td>\n",
       "      <td>50e219e0</td>\n",
       "      <td>d627cae2</td>\n",
       "      <td>5406e4db</td>\n",
       "      <td>...</td>\n",
       "      <td>3</td>\n",
       "      <td>175</td>\n",
       "      <td>100114</td>\n",
       "      <td>100</td>\n",
       "      <td>0.666667</td>\n",
       "      <td>3</td>\n",
       "      <td>1.000000</td>\n",
       "      <td>1</td>\n",
       "      <td>0.50000</td>\n",
       "      <td>4</td>\n",
       "    </tr>\n",
       "    <tr>\n",
       "      <th>3721578</th>\n",
       "      <td>7.270323e+18</td>\n",
       "      <td>1</td>\n",
       "      <td>14102916</td>\n",
       "      <td>1007</td>\n",
       "      <td>0</td>\n",
       "      <td>85f751fd</td>\n",
       "      <td>c4e18dd6</td>\n",
       "      <td>50e219e0</td>\n",
       "      <td>d627cae2</td>\n",
       "      <td>5406e4db</td>\n",
       "      <td>...</td>\n",
       "      <td>3</td>\n",
       "      <td>175</td>\n",
       "      <td>100114</td>\n",
       "      <td>100</td>\n",
       "      <td>0.666667</td>\n",
       "      <td>3</td>\n",
       "      <td>1.000000</td>\n",
       "      <td>1</td>\n",
       "      <td>0.50000</td>\n",
       "      <td>4</td>\n",
       "    </tr>\n",
       "  </tbody>\n",
       "</table>\n",
       "<p>3721579 rows × 30 columns</p>\n",
       "</div>"
      ],
      "text/plain": [
       "                   id  click      hour    C1  banner_pos   site_id  \\\n",
       "0        4.990036e+18      0  14102823  1005           0  85f751fd   \n",
       "1        6.701787e+18      0  14102900  1005           0  85f751fd   \n",
       "2        1.175641e+19      0  14102905  1005           0  85f751fd   \n",
       "3        9.406604e+18      0  14102906  1005           0  85f751fd   \n",
       "4        1.269040e+19      0  14102914  1005           0  85f751fd   \n",
       "...               ...    ...       ...   ...         ...       ...   \n",
       "3721574  2.973288e+18      0  14102916  1007           0  85f751fd   \n",
       "3721575  3.179110e+18      1  14102916  1007           0  85f751fd   \n",
       "3721576  3.247450e+18      0  14102916  1007           0  85f751fd   \n",
       "3721577  3.885457e+18      0  14102916  1007           0  85f751fd   \n",
       "3721578  7.270323e+18      1  14102916  1007           0  85f751fd   \n",
       "\n",
       "        site_domain site_category    app_id app_domain  ... C18   C19     C20  \\\n",
       "0          c4e18dd6      50e219e0  e2fcccd2   5c5a694b  ...   3  1839      -1   \n",
       "1          c4e18dd6      50e219e0  e2fcccd2   5c5a694b  ...   3  1839      -1   \n",
       "2          c4e18dd6      50e219e0  e2fcccd2   5c5a694b  ...   3  1839      -1   \n",
       "3          c4e18dd6      50e219e0  e2fcccd2   5c5a694b  ...   3  1839      -1   \n",
       "4          c4e18dd6      50e219e0  e2fcccd2   5c5a694b  ...   3  1831      -1   \n",
       "...             ...           ...       ...        ...  ...  ..   ...     ...   \n",
       "3721574    c4e18dd6      50e219e0  d627cae2   5406e4db  ...   3   175  100114   \n",
       "3721575    c4e18dd6      50e219e0  d627cae2   5406e4db  ...   3   175  100114   \n",
       "3721576    c4e18dd6      50e219e0  d627cae2   5406e4db  ...   3   175  100114   \n",
       "3721577    c4e18dd6      50e219e0  d627cae2   5406e4db  ...   3   175  100114   \n",
       "3721578    c4e18dd6      50e219e0  d627cae2   5406e4db  ...   3   175  100114   \n",
       "\n",
       "         C21  app_id_count  app_id_mean  device_ip_count  device_ip_mean  \\\n",
       "0        171      0.200071       876207         0.093675            1676   \n",
       "1        171      0.200071       876207         0.093675            1676   \n",
       "2        171      0.200071       876207         0.093675            1676   \n",
       "3        171      0.200071       876207         0.093675            1676   \n",
       "4        171      0.200071       876207         0.093675            1676   \n",
       "...      ...           ...          ...              ...             ...   \n",
       "3721574  100      0.666667            3         1.000000               1   \n",
       "3721575  100      0.666667            3         1.000000               1   \n",
       "3721576  100      0.666667            3         1.000000               1   \n",
       "3721577  100      0.666667            3         1.000000               1   \n",
       "3721578  100      0.666667            3         1.000000               1   \n",
       "\n",
       "         C14_count  C14_mean  \n",
       "0          0.13986      3718  \n",
       "1          0.13986      3718  \n",
       "2          0.13986      3718  \n",
       "3          0.13986      3718  \n",
       "4          0.13986      3718  \n",
       "...            ...       ...  \n",
       "3721574    0.50000         4  \n",
       "3721575    0.50000         4  \n",
       "3721576    0.50000         4  \n",
       "3721577    0.50000         4  \n",
       "3721578    0.50000         4  \n",
       "\n",
       "[3721579 rows x 30 columns]"
      ]
     },
     "execution_count": 17,
     "metadata": {},
     "output_type": "execute_result"
    }
   ],
   "source": [
    "val_df"
   ]
  },
  {
   "cell_type": "code",
   "execution_count": 18,
   "metadata": {
    "execution": {
     "iopub.execute_input": "2023-11-09T20:26:29.934282Z",
     "iopub.status.busy": "2023-11-09T20:26:29.934104Z",
     "iopub.status.idle": "2023-11-09T20:28:10.563670Z",
     "shell.execute_reply": "2023-11-09T20:28:10.562943Z",
     "shell.execute_reply.started": "2023-11-09T20:26:29.934266Z"
    }
   },
   "outputs": [],
   "source": [
    "train_pool = Pool(train_df[features],\n",
    "                  label=train_df[label_col],\n",
    "                  cat_features=cat_features)\n",
    "\n",
    "eval_pool = Pool(val_df[features],\n",
    "                  label=val_df[label_col],\n",
    "                  cat_features=cat_features)"
   ]
  },
  {
   "cell_type": "code",
   "execution_count": 19,
   "metadata": {
    "execution": {
     "iopub.execute_input": "2023-11-09T20:31:21.714605Z",
     "iopub.status.busy": "2023-11-09T20:31:21.714194Z",
     "iopub.status.idle": "2023-11-09T20:31:21.718397Z",
     "shell.execute_reply": "2023-11-09T20:31:21.717843Z",
     "shell.execute_reply.started": "2023-11-09T20:31:21.714582Z"
    }
   },
   "outputs": [],
   "source": [
    "params = {'iterations':800,\n",
    "          'learning_rate':0.1,\n",
    "          'loss_function':'CrossEntropy',\n",
    "          'max_depth':7,\n",
    "          'eval_metric':'AUC',\n",
    "          'task_type':'GPU',\n",
    "          'leaf_estimation_method':'Newton',\n",
    "          'gpu_ram_part':0.8,\n",
    "          'one_hot_max_size':32,\n",
    "          'random_seed':56}\n",
    "model = CatBoostClassifier(**params)"
   ]
  },
  {
   "cell_type": "code",
   "execution_count": null,
   "metadata": {
    "execution": {
     "iopub.execute_input": "2023-11-09T20:31:22.009496Z",
     "iopub.status.busy": "2023-11-09T20:31:22.008694Z"
    }
   },
   "outputs": [
    {
     "name": "stderr",
     "output_type": "stream",
     "text": [
      "Default metric period is 5 because AUC is/are not implemented for GPU\n"
     ]
    },
    {
     "name": "stdout",
     "output_type": "stream",
     "text": [
      "0:\ttest: 0.5928556\tbest: 0.5928556 (0)\ttotal: 1.64s\tremaining: 21m 49s\n",
      "1:\ttotal: 3.45s\tremaining: 22m 56s\n",
      "2:\ttotal: 5.26s\tremaining: 23m 17s\n",
      "3:\ttotal: 6.83s\tremaining: 22m 38s\n",
      "4:\ttotal: 8.51s\tremaining: 22m 32s\n",
      "5:\ttest: 0.4833190\tbest: 0.5928556 (0)\ttotal: 10.3s\tremaining: 22m 39s\n",
      "6:\ttotal: 12.1s\tremaining: 22m 48s\n",
      "7:\ttotal: 13.9s\tremaining: 22m 59s\n",
      "8:\ttotal: 15.7s\tremaining: 23m\n",
      "9:\ttotal: 17.5s\tremaining: 23m 3s\n"
     ]
    }
   ],
   "source": [
    "model.fit(train_pool,eval_set=eval_pool,verbose=1)"
   ]
  },
  {
   "cell_type": "code",
   "execution_count": 25,
   "metadata": {
    "execution": {
     "iopub.execute_input": "2023-11-05T20:34:36.051816Z",
     "iopub.status.busy": "2023-11-05T20:34:36.050998Z",
     "iopub.status.idle": "2023-11-05T20:34:45.874506Z",
     "shell.execute_reply": "2023-11-05T20:34:45.873779Z",
     "shell.execute_reply.started": "2023-11-05T20:34:36.051785Z"
    }
   },
   "outputs": [],
   "source": [
    "preds = model.predict_proba(eval_pool)[:,1]"
   ]
  },
  {
   "cell_type": "code",
   "execution_count": 27,
   "metadata": {
    "execution": {
     "iopub.execute_input": "2023-11-05T20:40:25.362422Z",
     "iopub.status.busy": "2023-11-05T20:40:25.361724Z",
     "iopub.status.idle": "2023-11-05T20:40:25.365449Z",
     "shell.execute_reply": "2023-11-05T20:40:25.364809Z",
     "shell.execute_reply.started": "2023-11-05T20:40:25.362395Z"
    }
   },
   "outputs": [],
   "source": [
    "from sklearn.metrics import roc_auc_score"
   ]
  },
  {
   "cell_type": "code",
   "execution_count": 29,
   "metadata": {
    "execution": {
     "iopub.execute_input": "2023-11-05T20:41:05.564526Z",
     "iopub.status.busy": "2023-11-05T20:41:05.563853Z",
     "iopub.status.idle": "2023-11-05T20:41:08.851928Z",
     "shell.execute_reply": "2023-11-05T20:41:08.851308Z",
     "shell.execute_reply.started": "2023-11-05T20:41:05.564500Z"
    }
   },
   "outputs": [
    {
     "data": {
      "text/plain": [
       "0.810079574859153"
      ]
     },
     "execution_count": 29,
     "metadata": {},
     "output_type": "execute_result"
    }
   ],
   "source": [
    "roc_auc_score(val_df[label_col],preds)"
   ]
  },
  {
   "cell_type": "code",
   "execution_count": null,
   "metadata": {},
   "outputs": [],
   "source": []
  },
  {
   "cell_type": "code",
   "execution_count": 41,
   "metadata": {
    "execution": {
     "iopub.execute_input": "2023-11-06T18:30:19.814136Z",
     "iopub.status.busy": "2023-11-06T18:30:19.813387Z",
     "iopub.status.idle": "2023-11-06T18:30:19.825707Z",
     "shell.execute_reply": "2023-11-06T18:30:19.825209Z",
     "shell.execute_reply.started": "2023-11-06T18:30:19.814112Z"
    }
   },
   "outputs": [
    {
     "data": {
      "text/html": [
       "<div>\n",
       "<style scoped>\n",
       "    .dataframe tbody tr th:only-of-type {\n",
       "        vertical-align: middle;\n",
       "    }\n",
       "\n",
       "    .dataframe tbody tr th {\n",
       "        vertical-align: top;\n",
       "    }\n",
       "\n",
       "    .dataframe thead th {\n",
       "        text-align: right;\n",
       "    }\n",
       "</style>\n",
       "<table border=\"1\" class=\"dataframe\">\n",
       "  <thead>\n",
       "    <tr style=\"text-align: right;\">\n",
       "      <th></th>\n",
       "      <th>Feature Id</th>\n",
       "      <th>Importances</th>\n",
       "    </tr>\n",
       "  </thead>\n",
       "  <tbody>\n",
       "    <tr>\n",
       "      <th>0</th>\n",
       "      <td>app_id</td>\n",
       "      <td>18.001241</td>\n",
       "    </tr>\n",
       "    <tr>\n",
       "      <th>1</th>\n",
       "      <td>site_id</td>\n",
       "      <td>15.552773</td>\n",
       "    </tr>\n",
       "    <tr>\n",
       "      <th>2</th>\n",
       "      <td>device_ip</td>\n",
       "      <td>14.183223</td>\n",
       "    </tr>\n",
       "    <tr>\n",
       "      <th>3</th>\n",
       "      <td>site_domain</td>\n",
       "      <td>8.822575</td>\n",
       "    </tr>\n",
       "    <tr>\n",
       "      <th>4</th>\n",
       "      <td>device_model</td>\n",
       "      <td>8.410217</td>\n",
       "    </tr>\n",
       "    <tr>\n",
       "      <th>5</th>\n",
       "      <td>C14</td>\n",
       "      <td>7.657343</td>\n",
       "    </tr>\n",
       "    <tr>\n",
       "      <th>6</th>\n",
       "      <td>device_id</td>\n",
       "      <td>5.039237</td>\n",
       "    </tr>\n",
       "    <tr>\n",
       "      <th>7</th>\n",
       "      <td>C17</td>\n",
       "      <td>4.853359</td>\n",
       "    </tr>\n",
       "    <tr>\n",
       "      <th>8</th>\n",
       "      <td>C21</td>\n",
       "      <td>3.243395</td>\n",
       "    </tr>\n",
       "    <tr>\n",
       "      <th>9</th>\n",
       "      <td>site_category</td>\n",
       "      <td>2.463928</td>\n",
       "    </tr>\n",
       "    <tr>\n",
       "      <th>10</th>\n",
       "      <td>C19</td>\n",
       "      <td>2.062549</td>\n",
       "    </tr>\n",
       "    <tr>\n",
       "      <th>11</th>\n",
       "      <td>app_category</td>\n",
       "      <td>1.771802</td>\n",
       "    </tr>\n",
       "    <tr>\n",
       "      <th>12</th>\n",
       "      <td>app_domain</td>\n",
       "      <td>1.632239</td>\n",
       "    </tr>\n",
       "    <tr>\n",
       "      <th>13</th>\n",
       "      <td>C18</td>\n",
       "      <td>1.397553</td>\n",
       "    </tr>\n",
       "    <tr>\n",
       "      <th>14</th>\n",
       "      <td>all_time</td>\n",
       "      <td>1.210585</td>\n",
       "    </tr>\n",
       "    <tr>\n",
       "      <th>15</th>\n",
       "      <td>C20</td>\n",
       "      <td>0.855750</td>\n",
       "    </tr>\n",
       "    <tr>\n",
       "      <th>16</th>\n",
       "      <td>banner_pos</td>\n",
       "      <td>0.764271</td>\n",
       "    </tr>\n",
       "    <tr>\n",
       "      <th>17</th>\n",
       "      <td>hour</td>\n",
       "      <td>0.420539</td>\n",
       "    </tr>\n",
       "    <tr>\n",
       "      <th>18</th>\n",
       "      <td>device_conn_type</td>\n",
       "      <td>0.339493</td>\n",
       "    </tr>\n",
       "    <tr>\n",
       "      <th>19</th>\n",
       "      <td>C16</td>\n",
       "      <td>0.299935</td>\n",
       "    </tr>\n",
       "    <tr>\n",
       "      <th>20</th>\n",
       "      <td>all_week</td>\n",
       "      <td>0.236234</td>\n",
       "    </tr>\n",
       "    <tr>\n",
       "      <th>21</th>\n",
       "      <td>dayofweek</td>\n",
       "      <td>0.234973</td>\n",
       "    </tr>\n",
       "    <tr>\n",
       "      <th>22</th>\n",
       "      <td>device_type</td>\n",
       "      <td>0.131013</td>\n",
       "    </tr>\n",
       "    <tr>\n",
       "      <th>23</th>\n",
       "      <td>C15</td>\n",
       "      <td>0.129812</td>\n",
       "    </tr>\n",
       "    <tr>\n",
       "      <th>24</th>\n",
       "      <td>C1</td>\n",
       "      <td>0.117585</td>\n",
       "    </tr>\n",
       "    <tr>\n",
       "      <th>25</th>\n",
       "      <td>day</td>\n",
       "      <td>0.108689</td>\n",
       "    </tr>\n",
       "    <tr>\n",
       "      <th>26</th>\n",
       "      <td>dayofyear</td>\n",
       "      <td>0.059688</td>\n",
       "    </tr>\n",
       "    <tr>\n",
       "      <th>27</th>\n",
       "      <td>month</td>\n",
       "      <td>0.000000</td>\n",
       "    </tr>\n",
       "    <tr>\n",
       "      <th>28</th>\n",
       "      <td>week</td>\n",
       "      <td>0.000000</td>\n",
       "    </tr>\n",
       "    <tr>\n",
       "      <th>29</th>\n",
       "      <td>quarter</td>\n",
       "      <td>0.000000</td>\n",
       "    </tr>\n",
       "    <tr>\n",
       "      <th>30</th>\n",
       "      <td>weekofyear</td>\n",
       "      <td>0.000000</td>\n",
       "    </tr>\n",
       "  </tbody>\n",
       "</table>\n",
       "</div>"
      ],
      "text/plain": [
       "          Feature Id  Importances\n",
       "0             app_id    18.001241\n",
       "1            site_id    15.552773\n",
       "2          device_ip    14.183223\n",
       "3        site_domain     8.822575\n",
       "4       device_model     8.410217\n",
       "5                C14     7.657343\n",
       "6          device_id     5.039237\n",
       "7                C17     4.853359\n",
       "8                C21     3.243395\n",
       "9      site_category     2.463928\n",
       "10               C19     2.062549\n",
       "11      app_category     1.771802\n",
       "12        app_domain     1.632239\n",
       "13               C18     1.397553\n",
       "14          all_time     1.210585\n",
       "15               C20     0.855750\n",
       "16        banner_pos     0.764271\n",
       "17              hour     0.420539\n",
       "18  device_conn_type     0.339493\n",
       "19               C16     0.299935\n",
       "20          all_week     0.236234\n",
       "21         dayofweek     0.234973\n",
       "22       device_type     0.131013\n",
       "23               C15     0.129812\n",
       "24                C1     0.117585\n",
       "25               day     0.108689\n",
       "26         dayofyear     0.059688\n",
       "27             month     0.000000\n",
       "28              week     0.000000\n",
       "29           quarter     0.000000\n",
       "30        weekofyear     0.000000"
      ]
     },
     "execution_count": 41,
     "metadata": {},
     "output_type": "execute_result"
    }
   ],
   "source": [
    "model.get_feature_importance(prettified=True)"
   ]
  },
  {
   "cell_type": "code",
   "execution_count": 21,
   "metadata": {
    "execution": {
     "iopub.execute_input": "2023-11-09T19:43:19.663224Z",
     "iopub.status.busy": "2023-11-09T19:43:19.662428Z",
     "iopub.status.idle": "2023-11-09T19:43:19.680675Z",
     "shell.execute_reply": "2023-11-09T19:43:19.680250Z",
     "shell.execute_reply.started": "2023-11-09T19:43:19.663199Z"
    }
   },
   "outputs": [
    {
     "data": {
      "text/html": [
       "<div>\n",
       "<style scoped>\n",
       "    .dataframe tbody tr th:only-of-type {\n",
       "        vertical-align: middle;\n",
       "    }\n",
       "\n",
       "    .dataframe tbody tr th {\n",
       "        vertical-align: top;\n",
       "    }\n",
       "\n",
       "    .dataframe thead th {\n",
       "        text-align: right;\n",
       "    }\n",
       "</style>\n",
       "<table border=\"1\" class=\"dataframe\">\n",
       "  <thead>\n",
       "    <tr style=\"text-align: right;\">\n",
       "      <th></th>\n",
       "      <th>Feature Id</th>\n",
       "      <th>Importances</th>\n",
       "    </tr>\n",
       "  </thead>\n",
       "  <tbody>\n",
       "    <tr>\n",
       "      <th>0</th>\n",
       "      <td>site_id</td>\n",
       "      <td>16.763649</td>\n",
       "    </tr>\n",
       "    <tr>\n",
       "      <th>1</th>\n",
       "      <td>app_id</td>\n",
       "      <td>14.090229</td>\n",
       "    </tr>\n",
       "    <tr>\n",
       "      <th>2</th>\n",
       "      <td>device_ip</td>\n",
       "      <td>13.515227</td>\n",
       "    </tr>\n",
       "    <tr>\n",
       "      <th>3</th>\n",
       "      <td>device_model</td>\n",
       "      <td>8.493402</td>\n",
       "    </tr>\n",
       "    <tr>\n",
       "      <th>4</th>\n",
       "      <td>device_id</td>\n",
       "      <td>7.925742</td>\n",
       "    </tr>\n",
       "    <tr>\n",
       "      <th>5</th>\n",
       "      <td>C14</td>\n",
       "      <td>5.948860</td>\n",
       "    </tr>\n",
       "    <tr>\n",
       "      <th>6</th>\n",
       "      <td>device_ip_count</td>\n",
       "      <td>5.792664</td>\n",
       "    </tr>\n",
       "    <tr>\n",
       "      <th>7</th>\n",
       "      <td>C21</td>\n",
       "      <td>5.673746</td>\n",
       "    </tr>\n",
       "    <tr>\n",
       "      <th>8</th>\n",
       "      <td>site_domain</td>\n",
       "      <td>4.858984</td>\n",
       "    </tr>\n",
       "    <tr>\n",
       "      <th>9</th>\n",
       "      <td>C17</td>\n",
       "      <td>3.220845</td>\n",
       "    </tr>\n",
       "    <tr>\n",
       "      <th>10</th>\n",
       "      <td>app_id_count</td>\n",
       "      <td>3.060461</td>\n",
       "    </tr>\n",
       "    <tr>\n",
       "      <th>11</th>\n",
       "      <td>site_category</td>\n",
       "      <td>2.166996</td>\n",
       "    </tr>\n",
       "    <tr>\n",
       "      <th>12</th>\n",
       "      <td>app_category</td>\n",
       "      <td>1.828953</td>\n",
       "    </tr>\n",
       "    <tr>\n",
       "      <th>13</th>\n",
       "      <td>banner_pos</td>\n",
       "      <td>1.436358</td>\n",
       "    </tr>\n",
       "    <tr>\n",
       "      <th>14</th>\n",
       "      <td>app_domain</td>\n",
       "      <td>1.053885</td>\n",
       "    </tr>\n",
       "    <tr>\n",
       "      <th>15</th>\n",
       "      <td>C19</td>\n",
       "      <td>0.913683</td>\n",
       "    </tr>\n",
       "    <tr>\n",
       "      <th>16</th>\n",
       "      <td>C20</td>\n",
       "      <td>0.793790</td>\n",
       "    </tr>\n",
       "    <tr>\n",
       "      <th>17</th>\n",
       "      <td>C16</td>\n",
       "      <td>0.547663</td>\n",
       "    </tr>\n",
       "    <tr>\n",
       "      <th>18</th>\n",
       "      <td>device_conn_type</td>\n",
       "      <td>0.511634</td>\n",
       "    </tr>\n",
       "    <tr>\n",
       "      <th>19</th>\n",
       "      <td>C14_count</td>\n",
       "      <td>0.464301</td>\n",
       "    </tr>\n",
       "    <tr>\n",
       "      <th>20</th>\n",
       "      <td>device_type</td>\n",
       "      <td>0.422134</td>\n",
       "    </tr>\n",
       "    <tr>\n",
       "      <th>21</th>\n",
       "      <td>C18</td>\n",
       "      <td>0.263196</td>\n",
       "    </tr>\n",
       "    <tr>\n",
       "      <th>22</th>\n",
       "      <td>C1</td>\n",
       "      <td>0.132959</td>\n",
       "    </tr>\n",
       "    <tr>\n",
       "      <th>23</th>\n",
       "      <td>C15</td>\n",
       "      <td>0.120640</td>\n",
       "    </tr>\n",
       "  </tbody>\n",
       "</table>\n",
       "</div>"
      ],
      "text/plain": [
       "          Feature Id  Importances\n",
       "0            site_id    16.763649\n",
       "1             app_id    14.090229\n",
       "2          device_ip    13.515227\n",
       "3       device_model     8.493402\n",
       "4          device_id     7.925742\n",
       "5                C14     5.948860\n",
       "6    device_ip_count     5.792664\n",
       "7                C21     5.673746\n",
       "8        site_domain     4.858984\n",
       "9                C17     3.220845\n",
       "10      app_id_count     3.060461\n",
       "11     site_category     2.166996\n",
       "12      app_category     1.828953\n",
       "13        banner_pos     1.436358\n",
       "14        app_domain     1.053885\n",
       "15               C19     0.913683\n",
       "16               C20     0.793790\n",
       "17               C16     0.547663\n",
       "18  device_conn_type     0.511634\n",
       "19         C14_count     0.464301\n",
       "20       device_type     0.422134\n",
       "21               C18     0.263196\n",
       "22                C1     0.132959\n",
       "23               C15     0.120640"
      ]
     },
     "execution_count": 21,
     "metadata": {},
     "output_type": "execute_result"
    }
   ],
   "source": [
    "model.get_feature_importance(prettified=True)"
   ]
  },
  {
   "cell_type": "code",
   "execution_count": null,
   "metadata": {},
   "outputs": [],
   "source": []
  }
 ],
 "metadata": {
  "kernelspec": {
   "display_name": "Python 3 (ipykernel)",
   "language": "python",
   "name": "python3"
  },
  "language_info": {
   "codemirror_mode": {
    "name": "ipython",
    "version": 3
   },
   "file_extension": ".py",
   "mimetype": "text/x-python",
   "name": "python",
   "nbconvert_exporter": "python",
   "pygments_lexer": "ipython3",
   "version": "3.9.16"
  }
 },
 "nbformat": 4,
 "nbformat_minor": 4
}
