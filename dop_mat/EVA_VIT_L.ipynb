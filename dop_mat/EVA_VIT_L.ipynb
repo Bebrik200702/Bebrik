{
 "cells": [
  {
   "cell_type": "code",
   "execution_count": 1,
   "metadata": {
    "tags": []
   },
   "outputs": [],
   "source": [
    "from IPython.display import clear_output\n",
    "\n",
    "!pip install lightning timm opendatasets albumentations catboost gdown open_clip_torch wandb\n",
    "clear_output()"
   ]
  },
  {
   "cell_type": "code",
   "execution_count": 1,
   "metadata": {
    "tags": []
   },
   "outputs": [
    {
     "name": "stdout",
     "output_type": "stream",
     "text": [
      "Thu Aug 24 19:34:51 2023       \n",
      "+-----------------------------------------------------------------------------+\n",
      "| NVIDIA-SMI 525.116.04   Driver Version: 525.116.04   CUDA Version: 12.0     |\n",
      "|-------------------------------+----------------------+----------------------+\n",
      "| GPU  Name        Persistence-M| Bus-Id        Disp.A | Volatile Uncorr. ECC |\n",
      "| Fan  Temp  Perf  Pwr:Usage/Cap|         Memory-Usage | GPU-Util  Compute M. |\n",
      "|                               |                      |               MIG M. |\n",
      "|===============================+======================+======================|\n",
      "|   0  NVIDIA A100 80G...  Off  | 00000000:00:05.0 Off |                    0 |\n",
      "| N/A   42C    P0    46W / 300W |      0MiB / 81920MiB |      0%      Default |\n",
      "|                               |                      |             Disabled |\n",
      "+-------------------------------+----------------------+----------------------+\n",
      "                                                                               \n",
      "+-----------------------------------------------------------------------------+\n",
      "| Processes:                                                                  |\n",
      "|  GPU   GI   CI        PID   Type   Process name                  GPU Memory |\n",
      "|        ID   ID                                                   Usage      |\n",
      "|=============================================================================|\n",
      "|  No running processes found                                                 |\n",
      "+-----------------------------------------------------------------------------+\n"
     ]
    }
   ],
   "source": [
    "!nvidia-smi"
   ]
  },
  {
   "cell_type": "code",
   "execution_count": 5,
   "metadata": {},
   "outputs": [
    {
     "name": "stdout",
     "output_type": "stream",
     "text": [
      "Please provide your Kaggle credentials to download this dataset. Learn more: http://bit.ly/kaggle-creds\n",
      "Your Kaggle username:"
     ]
    },
    {
     "name": "stdout",
     "output_type": "stream",
     "text": [
      "  bulbazavril\n"
     ]
    },
    {
     "name": "stdout",
     "output_type": "stream",
     "text": [
      "Your Kaggle Key:"
     ]
    },
    {
     "name": "stdout",
     "output_type": "stream",
     "text": [
      "  ········\n"
     ]
    },
    {
     "name": "stdout",
     "output_type": "stream",
     "text": [
      "Downloading aiijc23-4.zip to ./aiijc23-4\n"
     ]
    },
    {
     "name": "stderr",
     "output_type": "stream",
     "text": [
      "100%|██████████| 4.81G/4.81G [00:56<00:00, 91.3MB/s]\n"
     ]
    },
    {
     "name": "stdout",
     "output_type": "stream",
     "text": [
      "\n"
     ]
    }
   ],
   "source": [
    "import opendatasets as od\n",
    "od.download('https://www.kaggle.com/datasets/andronhl/aiijc23-4')"
   ]
  },
  {
   "cell_type": "code",
   "execution_count": 2,
   "metadata": {
    "tags": []
   },
   "outputs": [
    {
     "name": "stderr",
     "output_type": "stream",
     "text": [
      "Global seed set to 56\n"
     ]
    },
    {
     "data": {
      "text/plain": [
       "56"
      ]
     },
     "execution_count": 2,
     "metadata": {},
     "output_type": "execute_result"
    }
   ],
   "source": [
    "import os\n",
    "import pandas as pd\n",
    "import numpy as np\n",
    "from PIL import Image\n",
    "import matplotlib.pyplot as plt\n",
    "import pytorch_lightning as pl\n",
    "from sklearn.model_selection import train_test_split\n",
    "import torch\n",
    "import torch.nn as nn\n",
    "from torch.utils.data import Dataset, DataLoader\n",
    "from tqdm.auto import tqdm\n",
    "from math import sin,cos,pi\n",
    "from sklearn.metrics import accuracy_score,f1_score,balanced_accuracy_score\n",
    "from sklearn.metrics import mean_squared_error, mean_absolute_error, mean_absolute_percentage_error, r2_score\n",
    "import albumentations as A\n",
    "import open_clip\n",
    "from albumentations.pytorch.transforms import ToTensorV2\n",
    "from catboost import CatBoostClassifier,Pool,cv\n",
    "from copy import deepcopy\n",
    "import wandb\n",
    "import timm\n",
    "pl.seed_everything(56)"
   ]
  },
  {
   "cell_type": "code",
   "execution_count": 1,
   "metadata": {
    "execution": {
     "iopub.execute_input": "2023-08-28T19:31:28.351067Z",
     "iopub.status.busy": "2023-08-28T19:31:28.350811Z",
     "iopub.status.idle": "2023-08-28T19:31:28.360251Z",
     "shell.execute_reply": "2023-08-28T19:31:28.359389Z",
     "shell.execute_reply.started": "2023-08-28T19:31:28.351048Z"
    },
    "tags": []
   },
   "outputs": [],
   "source": [
    "class CFG:\n",
    "    class data:\n",
    "        train_data= './aiijc23-4/train_scores.csv'\n",
    "        test_data = './convnext_fc_large.csv'\n",
    "        train_path='./aiijc23-4/train/train/'\n",
    "        test_path = './aiijc23-4/test/test/'\n",
    "        num_workers = 4\n",
    "        val_split_size = 0.2\n",
    "        batch_size = 32\n",
    "        seed = 56\n",
    "    class model:\n",
    "        model ='EVA02-L-14'\n",
    "        pretrained = 'merged2b_s4b_b131k'\n",
    "        num_labels = 1\n",
    "        scheduler= True\n",
    "        warnap = False\n",
    "        max_epoches= 4\n",
    "        mlp_lr = 2e-4\n",
    "        encoder_lr = 5e-6\n",
    "        mlp_weights_decay = 2e-5\n",
    "        encoder_weights_decay = 0\n",
    "        eps=1e-6\n",
    "        betas=(0.9, 0.999)\n",
    "    seed=56"
   ]
  },
  {
   "cell_type": "code",
   "execution_count": 4,
   "metadata": {
    "tags": []
   },
   "outputs": [],
   "source": [
    "def make_df(path,root_path=CFG.data.train_path):\n",
    "    data = pd.read_csv(path)\n",
    "    df = pd.DataFrame()\n",
    "    df['image'] = data['IMAGE'].apply(lambda x:root_path + x)\n",
    "    df['label'] = data['SCORE']\n",
    "    return df"
   ]
  },
  {
   "cell_type": "code",
   "execution_count": 5,
   "metadata": {
    "tags": []
   },
   "outputs": [],
   "source": [
    "class PLDataset(Dataset):\n",
    "    def __init__(self, df,preprocess):\n",
    "        super().__init__()\n",
    "        self.cfg = CFG.data\n",
    "        self.data = df[['image','label']].values\n",
    "        self.preprocess = preprocess\n",
    "    def __getitem__(self, index):\n",
    "        image = Image.open(self.data[index][0])\n",
    "        image = preprocess(image).unsqueeze(0)\n",
    "        label = self.data[index][1]\n",
    "        return image[0],label\n",
    "    def __len__(self):\n",
    "        return len(self.data)"
   ]
  },
  {
   "cell_type": "code",
   "execution_count": 6,
   "metadata": {
    "tags": []
   },
   "outputs": [],
   "source": [
    "class PLDataModule(pl.LightningDataModule):\n",
    "    def __init__(self,preprocess):\n",
    "        super().__init__()\n",
    "        self.cfg = CFG.data\n",
    "        self.train_dataset_path = self.cfg.train_data\n",
    "        self.test_dataset_path = self.cfg.test_path\n",
    "        self.val_split_size = self.cfg.val_split_size\n",
    "        self.batch_size = self.cfg.batch_size\n",
    "        self.num_workers = self.cfg.num_workers\n",
    "        self.is_setup = False\n",
    "        self.preprocess = preprocess\n",
    "    def prepare_data(self):\n",
    "        self.train_df = make_df(self.train_dataset_path)\n",
    "        self.test_df = make_df(CFG.data.test_data,\n",
    "                               root_path=CFG.data.test_path)\n",
    "        \n",
    "    def setup(self, stage: str):\n",
    "        if self.is_setup:\n",
    "            return None\n",
    "        self.train_df, self.val_df = train_test_split(self.train_df, test_size=self.val_split_size,random_state=self.cfg.seed)\n",
    "        self.train_dataset = PLDataset(self.train_df,self.preprocess)\n",
    "        self.val_dataset = PLDataset(self.val_df,self.preprocess)\n",
    "        self.test_dataset = PLDataset(self.test_df,self.preprocess)\n",
    "        self.is_setup = True\n",
    "    \n",
    "    def train_dataloader(self):\n",
    "        return DataLoader(self.train_dataset,\n",
    "                         batch_size=self.batch_size,\n",
    "                         num_workers=self.num_workers,\n",
    "                         shuffle=True)\n",
    "    \n",
    "    def val_dataloader(self):\n",
    "        return DataLoader(self.val_dataset,\n",
    "                          batch_size=self.batch_size,\n",
    "                          num_workers=self.num_workers)\n",
    "    \n",
    "    def predict_dataloader(self):\n",
    "        return DataLoader(self.test_dataset,\n",
    "                          batch_size=self.batch_size,\n",
    "                          num_workers=self.num_workers)"
   ]
  },
  {
   "cell_type": "code",
   "execution_count": 7,
   "metadata": {
    "tags": []
   },
   "outputs": [],
   "source": [
    "class LitProgressBar(pl.callbacks.TQDMProgressBar):\n",
    "    \n",
    "    def on_predict_batch_end(self,trainer, pl_module, outputs, batch, batch_idx):\n",
    "        \n",
    "        bar = super().init_validation_tqdm()\n",
    "        bar.set_description(f\"loss: {pl_module.last_loss:.4f}\")\n",
    "        return bar"
   ]
  },
  {
   "cell_type": "code",
   "execution_count": 8,
   "metadata": {},
   "outputs": [],
   "source": [
    "class AverageMeter():\n",
    "    \n",
    "    def __init__(self):\n",
    "        self.labels = []\n",
    "        self.preds = []\n",
    "        \n",
    "    def reset(self):\n",
    "        self.labels = []\n",
    "        self.preds = []\n",
    "        \n",
    "    def update(self,labels,preds):\n",
    "        self.labels += labels\n",
    "        self.preds += preds\n",
    "    \n",
    "    def calc_metrics(self):\n",
    "        labels = pd.Series(self.labels)\n",
    "        preds = pd.Series(self.preds)\n",
    "        preds_bin = preds.map(round)\n",
    "        metrics = dict()\n",
    "        \n",
    "        metrics['val_rmse'] = (mean_squared_error(labels,preds)) ** 0.5\n",
    "        metrics['val_mae'] = mean_absolute_error(labels,preds)\n",
    "        #metrics['val_msle'] = mean_squared_log_error(labels,preds)\n",
    "        metrics['mape']= mean_absolute_percentage_error(labels,preds)\n",
    "        metrics['val_r2'] = r2_score(labels,preds)\n",
    "        \n",
    "        metrics['val_f1'] = f1_score(labels,preds_bin,average='macro')\n",
    "        metrics['val_acc'] = accuracy_score(labels,preds_bin)\n",
    "        metrics['val_w_acc'] = balanced_accuracy_score(labels,preds_bin)\n",
    "        return metrics"
   ]
  },
  {
   "cell_type": "code",
   "execution_count": 9,
   "metadata": {
    "tags": []
   },
   "outputs": [],
   "source": [
    "class RMSELoss(nn.Module):\n",
    "    def __init__(self, eps=1e-6):\n",
    "        super().__init__()\n",
    "        self.mse = nn.MSELoss()\n",
    "        self.eps = eps\n",
    "        \n",
    "    def forward(self,yhat,y):\n",
    "        loss = torch.sqrt(self.mse(yhat,y) + self.eps)\n",
    "        return loss\n",
    "    \n",
    "class PLModule(pl.LightningModule):\n",
    "    def __init__(self,clip):\n",
    "        super().__init__()\n",
    "        self.cfg = CFG.model\n",
    "        self.clip = clip\n",
    "        self.mlp = nn.Sequential(nn.Linear(768,768 * 2),\n",
    "                                 nn.ReLU(),\n",
    "                                 nn.LayerNorm(768 * 2),\n",
    "                                 nn.Linear(768 * 2 ,1))\n",
    "        self.criterion = RMSELoss()\n",
    "        self.avg_meter = AverageMeter()\n",
    "        self.last_loss = 0\n",
    "        self.losses = []\n",
    "        \n",
    "    def forward(self,x):\n",
    "        features = self.clip.encode_image(x)\n",
    "        features = self.mlp(features)\n",
    "        return torch.squeeze(features)\n",
    "\n",
    "    def training_step(self, batch, i):\n",
    "        x,targets = batch\n",
    "        x,targets = x.float(),targets.float()\n",
    "        logits = self(x)\n",
    "        loss = self.criterion(targets, logits)\n",
    "        self.log_dict({'train_loss':loss.item()})\n",
    "        self.last_loss = loss.item()\n",
    "        return loss\n",
    "    \n",
    "    def predict_step(self, batch, i):\n",
    "        x,targets = batch\n",
    "        x,targets = x.float(),targets.float()\n",
    "        logits = self(x)\n",
    "        return logits.tolist()\n",
    "        \n",
    "    def validation_step(self, batch, _):\n",
    "        x,targets = batch\n",
    "        x,targets = x.float(),targets.float()\n",
    "        logits = self(x)\n",
    "        loss = self.criterion(targets,logits)\n",
    "        self.log_dict({'val_loss':loss.item()})\n",
    "        self.avg_meter.update(targets.cpu().detach().tolist(),\n",
    "                              logits.cpu().detach().tolist())\n",
    "    \n",
    "                \n",
    "    def on_validation_epoch_end(self):\n",
    "        self.log_dict(self.avg_meter.calc_metrics())\n",
    "        self.avg_meter.reset()\n",
    "            \n",
    "    def configure_optimizers(self):\n",
    "        grouped_parameters = [\n",
    "                            {'params':self.clip.parameters(),\n",
    "                               'lr':self.cfg.encoder_lr,\n",
    "                               'weights_decay':self.cfg.encoder_weights_decay},\n",
    "                             {'params':self.mlp.parameters(),\n",
    "                               'lr':self.cfg.mlp_lr,\n",
    "                               'weights_decay':self.cfg.mlp_weights_decay},\n",
    "                             ]\n",
    "        optim = torch.optim.AdamW(grouped_parameters,\n",
    "                                  betas=self.cfg.betas,\n",
    "                                  eps=self.cfg.eps)\n",
    "        return optim"
   ]
  },
  {
   "cell_type": "code",
   "execution_count": 10,
   "metadata": {
    "tags": []
   },
   "outputs": [
    {
     "name": "stderr",
     "output_type": "stream",
     "text": [
      "/usr/local/lib/python3.9/dist-packages/torch/functional.py:478: UserWarning: torch.meshgrid: in an upcoming release, it will be required to pass the indexing argument. (Triggered internally at  ../aten/src/ATen/native/TensorShape.cpp:2894.)\n",
      "  return _VF.meshgrid(tensors, **kwargs)  # type: ignore[attr-defined]\n"
     ]
    }
   ],
   "source": [
    "model, _, preprocess = open_clip.create_model_and_transforms(CFG.model.model,\n",
    "                                                             pretrained=CFG.model.pretrained)"
   ]
  },
  {
   "cell_type": "code",
   "execution_count": 11,
   "metadata": {
    "tags": []
   },
   "outputs": [],
   "source": [
    "dm = PLDataModule(preprocess)\n",
    "dm.prepare_data()\n",
    "dm.setup(0)"
   ]
  },
  {
   "cell_type": "code",
   "execution_count": 12,
   "metadata": {
    "tags": []
   },
   "outputs": [],
   "source": [
    "pl_model = PLModule(model)"
   ]
  },
  {
   "cell_type": "code",
   "execution_count": 13,
   "metadata": {
    "tags": []
   },
   "outputs": [
    {
     "name": "stderr",
     "output_type": "stream",
     "text": [
      "\u001b[34m\u001b[1mwandb\u001b[0m: Currently logged in as: \u001b[33mandrey20007\u001b[0m (\u001b[33mandrey2007\u001b[0m). Use \u001b[1m`wandb login --relogin`\u001b[0m to force relogin\n",
      "\u001b[34m\u001b[1mwandb\u001b[0m: \u001b[33mWARNING\u001b[0m If you're specifying your api key in code, ensure this code is not shared publicly.\n",
      "\u001b[34m\u001b[1mwandb\u001b[0m: \u001b[33mWARNING\u001b[0m Consider setting the WANDB_API_KEY environment variable, or running `wandb login` from the command line.\n",
      "\u001b[34m\u001b[1mwandb\u001b[0m: Appending key for api.wandb.ai to your netrc file: /root/.netrc\n"
     ]
    },
    {
     "data": {
      "text/html": [
       "Changes to your `wandb` environment variables will be ignored because your `wandb` session has already started. For more information on how to modify your settings with `wandb.init()` arguments, please refer to <a href=\"https://wandb.me/wandb-init\" target=\"_blank\">the W&B docs</a>."
      ],
      "text/plain": [
       "<IPython.core.display.HTML object>"
      ]
     },
     "metadata": {},
     "output_type": "display_data"
    },
    {
     "data": {
      "text/html": [
       "wandb version 0.15.8 is available!  To upgrade, please run:\n",
       " $ pip install wandb --upgrade"
      ],
      "text/plain": [
       "<IPython.core.display.HTML object>"
      ]
     },
     "metadata": {},
     "output_type": "display_data"
    },
    {
     "data": {
      "text/html": [
       "Tracking run with wandb version 0.13.4"
      ],
      "text/plain": [
       "<IPython.core.display.HTML object>"
      ]
     },
     "metadata": {},
     "output_type": "display_data"
    },
    {
     "data": {
      "text/html": [
       "Run data is saved locally in <code>/notebooks/wandb/run-20230824_193508-1u9tkol9</code>"
      ],
      "text/plain": [
       "<IPython.core.display.HTML object>"
      ]
     },
     "metadata": {},
     "output_type": "display_data"
    },
    {
     "data": {
      "text/html": [
       "Syncing run <strong><a href=\"https://wandb.ai/andrey2007/AIIJC/runs/1u9tkol9\" target=\"_blank\">eva-vitb_highest_lr</a></strong> to <a href=\"https://wandb.ai/andrey2007/AIIJC\" target=\"_blank\">Weights & Biases</a> (<a href=\"https://wandb.me/run\" target=\"_blank\">docs</a>)<br/>"
      ],
      "text/plain": [
       "<IPython.core.display.HTML object>"
      ]
     },
     "metadata": {},
     "output_type": "display_data"
    },
    {
     "data": {
      "text/html": [
       "<button onClick=\"this.nextSibling.style.display='block';this.style.display='none';\">Display W&B run</button><iframe src=\"https://wandb.ai/andrey2007/AIIJC/runs/1u9tkol9?jupyter=true\" style=\"border:none;width:100%;height:420px;display:none;\"></iframe>"
      ],
      "text/plain": [
       "<wandb.sdk.wandb_run.Run at 0x7f49fbf45460>"
      ]
     },
     "execution_count": 13,
     "metadata": {},
     "output_type": "execute_result"
    }
   ],
   "source": [
    "wandb.login(key=\"673ae6e9b51cc896110db5327738b993795fffad\")\n",
    "os.environ['WANDB_API_KEY'] = \"673ae6e9b51cc896110db5327738b993795fffad\"\n",
    "wandb.init(project='AIIJC',name='eva_vit_l')"
   ]
  },
  {
   "cell_type": "code",
   "execution_count": 14,
   "metadata": {
    "tags": []
   },
   "outputs": [
    {
     "name": "stderr",
     "output_type": "stream",
     "text": [
      "/usr/local/lib/python3.9/dist-packages/pytorch_lightning/loggers/wandb.py:397: UserWarning: There is a wandb run already in progress and newly created instances of `WandbLogger` will reuse this run. If this is not desired, call `wandb.finish()` before instantiating `WandbLogger`.\n",
      "  rank_zero_warn(\n",
      "GPU available: True (cuda), used: True\n",
      "TPU available: False, using: 0 TPU cores\n",
      "IPU available: False, using: 0 IPUs\n",
      "HPU available: False, using: 0 HPUs\n"
     ]
    }
   ],
   "source": [
    "lr_monitor = pl.callbacks.LearningRateMonitor(logging_interval='epoch')\n",
    "checkpoint_cb = pl.callbacks.ModelCheckpoint(\n",
    "    dirpath='./outputs_convnext/',\n",
    "    filename='model_{epoch:02d}-{val_loss:.4f}',\n",
    "    monitor='val_loss',\n",
    "    mode='min',\n",
    "    save_last=True\n",
    ")\n",
    "bar = LitProgressBar()\n",
    "\n",
    "trainer = pl.Trainer(\n",
    "    accelerator=\"gpu\",\n",
    "    precision=32,\n",
    "    #callbacks = [lr_monitor,checkpoint_cb],\n",
    "    logger = pl.loggers.WandbLogger(),\n",
    "    min_epochs=1,\n",
    "    devices=[0],\n",
    "    check_val_every_n_epoch=1,\n",
    "    max_epochs=CFG.model.max_epoches\n",
    ")"
   ]
  },
  {
   "cell_type": "code",
   "execution_count": 15,
   "metadata": {
    "tags": []
   },
   "outputs": [
    {
     "name": "stderr",
     "output_type": "stream",
     "text": [
      "You are using a CUDA device ('NVIDIA A100 80GB PCIe') that has Tensor Cores. To properly utilize them, you should set `torch.set_float32_matmul_precision('medium' | 'high')` which will trade-off precision for performance. For more details, read https://pytorch.org/docs/stable/generated/torch.set_float32_matmul_precision.html#torch.set_float32_matmul_precision\n",
      "LOCAL_RANK: 0 - CUDA_VISIBLE_DEVICES: [0]\n",
      "\n",
      "  | Name      | Type           | Params\n",
      "---------------------------------------------\n",
      "0 | clip      | CustomTextCLIP | 149 M \n",
      "1 | mlp       | Sequential     | 528 K \n",
      "2 | criterion | RMSELoss       | 0     \n",
      "---------------------------------------------\n",
      "150 M     Trainable params\n",
      "0         Non-trainable params\n",
      "150 M     Total params\n",
      "600.878   Total estimated model params size (MB)\n"
     ]
    },
    {
     "data": {
      "application/vnd.jupyter.widget-view+json": {
       "model_id": "",
       "version_major": 2,
       "version_minor": 0
      },
      "text/plain": [
       "Sanity Checking: 0it [00:00, ?it/s]"
      ]
     },
     "metadata": {},
     "output_type": "display_data"
    },
    {
     "name": "stderr",
     "output_type": "stream",
     "text": [
      "/usr/local/lib/python3.9/dist-packages/sklearn/metrics/_classification.py:2006: UserWarning: y_pred contains classes not in y_true\n",
      "  warnings.warn(\"y_pred contains classes not in y_true\")\n"
     ]
    },
    {
     "data": {
      "application/vnd.jupyter.widget-view+json": {
       "model_id": "c0d3af4070014c4cbd98729f7d1b0251",
       "version_major": 2,
       "version_minor": 0
      },
      "text/plain": [
       "Training: 0it [00:00, ?it/s]"
      ]
     },
     "metadata": {},
     "output_type": "display_data"
    },
    {
     "data": {
      "application/vnd.jupyter.widget-view+json": {
       "model_id": "",
       "version_major": 2,
       "version_minor": 0
      },
      "text/plain": [
       "Validation: 0it [00:00, ?it/s]"
      ]
     },
     "metadata": {},
     "output_type": "display_data"
    },
    {
     "data": {
      "application/vnd.jupyter.widget-view+json": {
       "model_id": "",
       "version_major": 2,
       "version_minor": 0
      },
      "text/plain": [
       "Validation: 0it [00:00, ?it/s]"
      ]
     },
     "metadata": {},
     "output_type": "display_data"
    },
    {
     "data": {
      "application/vnd.jupyter.widget-view+json": {
       "model_id": "",
       "version_major": 2,
       "version_minor": 0
      },
      "text/plain": [
       "Validation: 0it [00:00, ?it/s]"
      ]
     },
     "metadata": {},
     "output_type": "display_data"
    },
    {
     "data": {
      "application/vnd.jupyter.widget-view+json": {
       "model_id": "",
       "version_major": 2,
       "version_minor": 0
      },
      "text/plain": [
       "Validation: 0it [00:00, ?it/s]"
      ]
     },
     "metadata": {},
     "output_type": "display_data"
    },
    {
     "name": "stderr",
     "output_type": "stream",
     "text": [
      "`Trainer.fit` stopped: `max_epochs=4` reached.\n",
      "wandb: Network error (ReadTimeout), entering retry loop.\n"
     ]
    }
   ],
   "source": [
    "trainer.fit(pl_model,datamodule=dm)"
   ]
  },
  {
   "cell_type": "code",
   "execution_count": 15,
   "metadata": {
    "execution": {
     "iopub.execute_input": "2023-08-24T08:03:41.301123Z",
     "iopub.status.busy": "2023-08-24T08:03:41.300767Z",
     "iopub.status.idle": "2023-08-24T08:08:05.686620Z",
     "shell.execute_reply": "2023-08-24T08:08:05.685744Z",
     "shell.execute_reply.started": "2023-08-24T08:03:41.301087Z"
    },
    "tags": []
   },
   "outputs": [
    {
     "name": "stderr",
     "output_type": "stream",
     "text": [
      "LOCAL_RANK: 0 - CUDA_VISIBLE_DEVICES: [0]\n"
     ]
    },
    {
     "data": {
      "application/vnd.jupyter.widget-view+json": {
       "model_id": "2f818dac1b9645a3b5700ccc5568323e",
       "version_major": 2,
       "version_minor": 0
      },
      "text/plain": [
       "Predicting: 0it [00:00, ?it/s]"
      ]
     },
     "metadata": {},
     "output_type": "display_data"
    }
   ],
   "source": [
    "preds = trainer.predict(pl_model,datamodule=dm)"
   ]
  },
  {
   "cell_type": "code",
   "execution_count": 16,
   "metadata": {
    "execution": {
     "iopub.execute_input": "2023-08-24T08:09:04.868791Z",
     "iopub.status.busy": "2023-08-24T08:09:04.868471Z",
     "iopub.status.idle": "2023-08-24T08:09:04.895362Z",
     "shell.execute_reply": "2023-08-24T08:09:04.894617Z",
     "shell.execute_reply.started": "2023-08-24T08:09:04.868749Z"
    }
   },
   "outputs": [],
   "source": [
    "test_df = pd.read_csv('/notebooks/simple_solution_nocliptrained.csv')"
   ]
  },
  {
   "cell_type": "code",
   "execution_count": 17,
   "metadata": {
    "execution": {
     "iopub.execute_input": "2023-08-24T08:09:06.178371Z",
     "iopub.status.busy": "2023-08-24T08:09:06.178006Z",
     "iopub.status.idle": "2023-08-24T08:09:06.187279Z",
     "shell.execute_reply": "2023-08-24T08:09:06.186494Z",
     "shell.execute_reply.started": "2023-08-24T08:09:06.178369Z"
    }
   },
   "outputs": [],
   "source": [
    "test_df['SCORE'] = np.concatenate(preds)"
   ]
  },
  {
   "cell_type": "code",
   "execution_count": 21,
   "metadata": {
    "execution": {
     "iopub.execute_input": "2023-08-24T08:09:26.564468Z",
     "iopub.status.busy": "2023-08-24T08:09:26.564007Z",
     "iopub.status.idle": "2023-08-24T08:09:26.585812Z",
     "shell.execute_reply": "2023-08-24T08:09:26.585132Z",
     "shell.execute_reply.started": "2023-08-24T08:09:26.564438Z"
    }
   },
   "outputs": [],
   "source": [
    "test_df.to_csv('convnextv8.csv',index=False)"
   ]
  },
  {
   "cell_type": "code",
   "execution_count": 19,
   "metadata": {
    "execution": {
     "iopub.execute_input": "2023-08-24T08:09:20.401999Z",
     "iopub.status.busy": "2023-08-24T08:09:20.401110Z",
     "iopub.status.idle": "2023-08-24T08:09:20.408933Z",
     "shell.execute_reply": "2023-08-24T08:09:20.408398Z",
     "shell.execute_reply.started": "2023-08-24T08:09:20.401972Z"
    }
   },
   "outputs": [],
   "source": [
    "test_df['SCORE'] = test_df['SCORE'].map(round)"
   ]
  },
  {
   "cell_type": "code",
   "execution_count": 20,
   "metadata": {
    "execution": {
     "iopub.execute_input": "2023-08-24T08:09:20.872850Z",
     "iopub.status.busy": "2023-08-24T08:09:20.872544Z",
     "iopub.status.idle": "2023-08-24T08:09:20.881666Z",
     "shell.execute_reply": "2023-08-24T08:09:20.881006Z",
     "shell.execute_reply.started": "2023-08-24T08:09:20.872825Z"
    }
   },
   "outputs": [
    {
     "data": {
      "text/html": [
       "<div>\n",
       "<style scoped>\n",
       "    .dataframe tbody tr th:only-of-type {\n",
       "        vertical-align: middle;\n",
       "    }\n",
       "\n",
       "    .dataframe tbody tr th {\n",
       "        vertical-align: top;\n",
       "    }\n",
       "\n",
       "    .dataframe thead th {\n",
       "        text-align: right;\n",
       "    }\n",
       "</style>\n",
       "<table border=\"1\" class=\"dataframe\">\n",
       "  <thead>\n",
       "    <tr style=\"text-align: right;\">\n",
       "      <th></th>\n",
       "      <th>IMAGE</th>\n",
       "      <th>SCORE</th>\n",
       "    </tr>\n",
       "  </thead>\n",
       "  <tbody>\n",
       "    <tr>\n",
       "      <th>0</th>\n",
       "      <td>86cc6e863c9b6bb2a0e0db114c9775aa.jpg</td>\n",
       "      <td>8</td>\n",
       "    </tr>\n",
       "    <tr>\n",
       "      <th>1</th>\n",
       "      <td>da71671681d9cef5b60727801bf95ef8.jpg</td>\n",
       "      <td>6</td>\n",
       "    </tr>\n",
       "    <tr>\n",
       "      <th>2</th>\n",
       "      <td>821a9ff5df6e581c68c0371dc6b1eb90.jpg</td>\n",
       "      <td>8</td>\n",
       "    </tr>\n",
       "    <tr>\n",
       "      <th>3</th>\n",
       "      <td>ed842bb42c39fe257ac459b544bb7ba8.jpg</td>\n",
       "      <td>8</td>\n",
       "    </tr>\n",
       "    <tr>\n",
       "      <th>4</th>\n",
       "      <td>6eed69b8f6d62f28b809d9cbafcaab0b.jpg</td>\n",
       "      <td>6</td>\n",
       "    </tr>\n",
       "    <tr>\n",
       "      <th>...</th>\n",
       "      <td>...</td>\n",
       "      <td>...</td>\n",
       "    </tr>\n",
       "    <tr>\n",
       "      <th>9983</th>\n",
       "      <td>46aa642bbcfdbed5eed380ba10fdbbbc.jpg</td>\n",
       "      <td>5</td>\n",
       "    </tr>\n",
       "    <tr>\n",
       "      <th>9984</th>\n",
       "      <td>dc737dc9a19844943540816e4488b425.jpg</td>\n",
       "      <td>4</td>\n",
       "    </tr>\n",
       "    <tr>\n",
       "      <th>9985</th>\n",
       "      <td>8038a60dac57ba5d445b99978a36a1d5.jpg</td>\n",
       "      <td>6</td>\n",
       "    </tr>\n",
       "    <tr>\n",
       "      <th>9986</th>\n",
       "      <td>5381dd99c37acb63db903eac293fbe4c.jpg</td>\n",
       "      <td>4</td>\n",
       "    </tr>\n",
       "    <tr>\n",
       "      <th>9987</th>\n",
       "      <td>646b27fbd82b0d5a517e4ebb4b514d6f.jpg</td>\n",
       "      <td>5</td>\n",
       "    </tr>\n",
       "  </tbody>\n",
       "</table>\n",
       "<p>9988 rows × 2 columns</p>\n",
       "</div>"
      ],
      "text/plain": [
       "                                     IMAGE  SCORE\n",
       "0     86cc6e863c9b6bb2a0e0db114c9775aa.jpg      8\n",
       "1     da71671681d9cef5b60727801bf95ef8.jpg      6\n",
       "2     821a9ff5df6e581c68c0371dc6b1eb90.jpg      8\n",
       "3     ed842bb42c39fe257ac459b544bb7ba8.jpg      8\n",
       "4     6eed69b8f6d62f28b809d9cbafcaab0b.jpg      6\n",
       "...                                    ...    ...\n",
       "9983  46aa642bbcfdbed5eed380ba10fdbbbc.jpg      5\n",
       "9984  dc737dc9a19844943540816e4488b425.jpg      4\n",
       "9985  8038a60dac57ba5d445b99978a36a1d5.jpg      6\n",
       "9986  5381dd99c37acb63db903eac293fbe4c.jpg      4\n",
       "9987  646b27fbd82b0d5a517e4ebb4b514d6f.jpg      5\n",
       "\n",
       "[9988 rows x 2 columns]"
      ]
     },
     "execution_count": 20,
     "metadata": {},
     "output_type": "execute_result"
    }
   ],
   "source": [
    "test_df"
   ]
  },
  {
   "cell_type": "code",
   "execution_count": null,
   "metadata": {},
   "outputs": [],
   "source": []
  }
 ],
 "metadata": {
  "kernelspec": {
   "display_name": "Python 3 (ipykernel)",
   "language": "python",
   "name": "python3"
  },
  "language_info": {
   "codemirror_mode": {
    "name": "ipython",
    "version": 3
   },
   "file_extension": ".py",
   "mimetype": "text/x-python",
   "name": "python",
   "nbconvert_exporter": "python",
   "pygments_lexer": "ipython3",
   "version": "3.9.16"
  }
 },
 "nbformat": 4,
 "nbformat_minor": 4
}
