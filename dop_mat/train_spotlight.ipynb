{
 "cells": [
  {
   "cell_type": "code",
   "execution_count": null,
   "metadata": {},
   "outputs": [
    {
     "name": "stdout",
     "output_type": "stream",
     "text": [
      "Collecting git+https://github.com/maciejkula/spotlight\n",
      "  Cloning https://github.com/maciejkula/spotlight to /tmp/pip-req-build-631k51ks\n",
      "  Running command git clone --filter=blob:none --quiet https://github.com/maciejkula/spotlight /tmp/pip-req-build-631k51ks\n",
      "  Resolved https://github.com/maciejkula/spotlight to commit 75f4c8c55090771b52b88ef1a00f75bb39f9f2a9\n",
      "  Preparing metadata (setup.py) ... \u001b[?25ldone\n",
      "\u001b[?25hRequirement already satisfied: torch>=0.4.0 in /usr/local/lib/python3.9/dist-packages (from spotlight==0.1.6) (1.12.1+cu116)\n",
      "Requirement already satisfied: typing-extensions in /usr/local/lib/python3.9/dist-packages (from torch>=0.4.0->spotlight==0.1.6) (4.4.0)\n",
      "Building wheels for collected packages: spotlight\n",
      "  Building wheel for spotlight (setup.py) ... \u001b[?25ldone\n",
      "\u001b[?25h  Created wheel for spotlight: filename=spotlight-0.1.6-py3-none-any.whl size=33898 sha256=b11c5bbe0c064f32fee6758935065148b8d47fd545b1a57ecd0913df9701013b\n",
      "  Stored in directory: /tmp/pip-ephem-wheel-cache-y4aa62ju/wheels/80/b2/99/3a84fb1d343d3168ffb55710aa8c9fcde83c50720205fc3e95\n",
      "Successfully built spotlight\n",
      "Installing collected packages: spotlight\n",
      "  Attempting uninstall: spotlight\n",
      "    Found existing installation: spotlight 3.3.0\n",
      "    Uninstalling spotlight-3.3.0:\n",
      "      Successfully uninstalled spotlight-3.3.0\n",
      "Successfully installed spotlight-0.1.6\n",
      "\u001b[33mWARNING: Running pip as the 'root' user can result in broken permissions and conflicting behaviour with the system package manager. It is recommended to use a virtual environment instead: https://pip.pypa.io/warnings/venv\u001b[0m\u001b[33m\n",
      "\u001b[0m"
     ]
    }
   ],
   "source": [
    "!pip install git+https://github.com/maciejkula/spotlight"
   ]
  },
  {
   "cell_type": "code",
   "execution_count": 1,
   "metadata": {},
   "outputs": [],
   "source": [
    "import pandas as pd\n",
    "import numpy as np\n",
    "from tqdm.auto import tqdm\n",
    "import gc\n",
    "import torch\n",
    "from spotlight.factorization.explicit import ExplicitFactorizationModel\n",
    "from spotlight.evaluation import precision_recall_score\n",
    "from spotlight.interactions import Interactions\n",
    "from spotlight.factorization.implicit import ImplicitFactorizationModel\n",
    "from spotlight.losses import *"
   ]
  },
  {
   "cell_type": "code",
   "execution_count": 2,
   "metadata": {},
   "outputs": [
    {
     "data": {
      "text/html": [
       "<div>\n",
       "<style scoped>\n",
       "    .dataframe tbody tr th:only-of-type {\n",
       "        vertical-align: middle;\n",
       "    }\n",
       "\n",
       "    .dataframe tbody tr th {\n",
       "        vertical-align: top;\n",
       "    }\n",
       "\n",
       "    .dataframe thead th {\n",
       "        text-align: right;\n",
       "    }\n",
       "</style>\n",
       "<table border=\"1\" class=\"dataframe\">\n",
       "  <thead>\n",
       "    <tr style=\"text-align: right;\">\n",
       "      <th></th>\n",
       "      <th>Unnamed: 0</th>\n",
       "      <th>community_id</th>\n",
       "      <th>description</th>\n",
       "      <th>customers_count</th>\n",
       "      <th>messages_count</th>\n",
       "      <th>type</th>\n",
       "      <th>region_id</th>\n",
       "      <th>themeid</th>\n",
       "      <th>business_category</th>\n",
       "      <th>business_parent</th>\n",
       "      <th>customer_id</th>\n",
       "      <th>status</th>\n",
       "      <th>join_request_date</th>\n",
       "    </tr>\n",
       "  </thead>\n",
       "  <tbody>\n",
       "    <tr>\n",
       "      <th>0</th>\n",
       "      <td>0</td>\n",
       "      <td>00dbc35ec26c5b6452a3259194b2d2f74eae7141d2bc75...</td>\n",
       "      <td>Ванга сказала: \"Выживет пчела - выживет челове...</td>\n",
       "      <td>2966</td>\n",
       "      <td>1</td>\n",
       "      <td>7</td>\n",
       "      <td>NaN</td>\n",
       "      <td>NaN</td>\n",
       "      <td>NaN</td>\n",
       "      <td>NaN</td>\n",
       "      <td>947224211267aefcc2e3e9c524fdf46ce329bc638e8bf1...</td>\n",
       "      <td>A</td>\n",
       "      <td>NaN</td>\n",
       "    </tr>\n",
       "    <tr>\n",
       "      <th>1</th>\n",
       "      <td>1</td>\n",
       "      <td>06107f1eae304c45d3e6324cc86f7d39662793a53b159b...</td>\n",
       "      <td>NaN</td>\n",
       "      <td>8982</td>\n",
       "      <td>2</td>\n",
       "      <td>7</td>\n",
       "      <td>1.042403e+10</td>\n",
       "      <td>246.0</td>\n",
       "      <td>NaN</td>\n",
       "      <td>NaN</td>\n",
       "      <td>b935c3390d82df612de19591d2dd16e1eff8e660746bb3...</td>\n",
       "      <td>A</td>\n",
       "      <td>NaN</td>\n",
       "    </tr>\n",
       "    <tr>\n",
       "      <th>2</th>\n",
       "      <td>2</td>\n",
       "      <td>06107f1eae304c45d3e6324cc86f7d39662793a53b159b...</td>\n",
       "      <td>NaN</td>\n",
       "      <td>8982</td>\n",
       "      <td>2</td>\n",
       "      <td>7</td>\n",
       "      <td>1.042403e+10</td>\n",
       "      <td>246.0</td>\n",
       "      <td>NaN</td>\n",
       "      <td>NaN</td>\n",
       "      <td>ff873dee9234ee290d92eb6c15d7179aabf0653dbed3b3...</td>\n",
       "      <td>A</td>\n",
       "      <td>NaN</td>\n",
       "    </tr>\n",
       "    <tr>\n",
       "      <th>3</th>\n",
       "      <td>3</td>\n",
       "      <td>06107f1eae304c45d3e6324cc86f7d39662793a53b159b...</td>\n",
       "      <td>NaN</td>\n",
       "      <td>8982</td>\n",
       "      <td>2</td>\n",
       "      <td>7</td>\n",
       "      <td>1.042403e+10</td>\n",
       "      <td>246.0</td>\n",
       "      <td>NaN</td>\n",
       "      <td>NaN</td>\n",
       "      <td>737ef0e849feda6cdfd350d19fcedaf17aebb757c0a1fc...</td>\n",
       "      <td>A</td>\n",
       "      <td>NaN</td>\n",
       "    </tr>\n",
       "    <tr>\n",
       "      <th>4</th>\n",
       "      <td>4</td>\n",
       "      <td>097e4dae68029ecc3c6183ed4386aff71dcac227cbaff7...</td>\n",
       "      <td>Читать внимательно!!! Причины попадания в чёрн...</td>\n",
       "      <td>1035</td>\n",
       "      <td>1</td>\n",
       "      <td>7</td>\n",
       "      <td>1.041779e+10</td>\n",
       "      <td>NaN</td>\n",
       "      <td>FAN_CLUB</td>\n",
       "      <td>BLOG</td>\n",
       "      <td>780fb8c178af972826ac0f84e42ac4c6c1dcdeeec0c4dd...</td>\n",
       "      <td>A</td>\n",
       "      <td>NaN</td>\n",
       "    </tr>\n",
       "  </tbody>\n",
       "</table>\n",
       "</div>"
      ],
      "text/plain": [
       "   Unnamed: 0                                       community_id  \\\n",
       "0           0  00dbc35ec26c5b6452a3259194b2d2f74eae7141d2bc75...   \n",
       "1           1  06107f1eae304c45d3e6324cc86f7d39662793a53b159b...   \n",
       "2           2  06107f1eae304c45d3e6324cc86f7d39662793a53b159b...   \n",
       "3           3  06107f1eae304c45d3e6324cc86f7d39662793a53b159b...   \n",
       "4           4  097e4dae68029ecc3c6183ed4386aff71dcac227cbaff7...   \n",
       "\n",
       "                                         description  customers_count  \\\n",
       "0  Ванга сказала: \"Выживет пчела - выживет челове...             2966   \n",
       "1                                                NaN             8982   \n",
       "2                                                NaN             8982   \n",
       "3                                                NaN             8982   \n",
       "4  Читать внимательно!!! Причины попадания в чёрн...             1035   \n",
       "\n",
       "   messages_count  type     region_id  themeid business_category  \\\n",
       "0               1     7           NaN      NaN               NaN   \n",
       "1               2     7  1.042403e+10    246.0               NaN   \n",
       "2               2     7  1.042403e+10    246.0               NaN   \n",
       "3               2     7  1.042403e+10    246.0               NaN   \n",
       "4               1     7  1.041779e+10      NaN          FAN_CLUB   \n",
       "\n",
       "  business_parent                                        customer_id status  \\\n",
       "0             NaN  947224211267aefcc2e3e9c524fdf46ce329bc638e8bf1...      A   \n",
       "1             NaN  b935c3390d82df612de19591d2dd16e1eff8e660746bb3...      A   \n",
       "2             NaN  ff873dee9234ee290d92eb6c15d7179aabf0653dbed3b3...      A   \n",
       "3             NaN  737ef0e849feda6cdfd350d19fcedaf17aebb757c0a1fc...      A   \n",
       "4            BLOG  780fb8c178af972826ac0f84e42ac4c6c1dcdeeec0c4dd...      A   \n",
       "\n",
       "   join_request_date  \n",
       "0                NaN  \n",
       "1                NaN  \n",
       "2                NaN  \n",
       "3                NaN  \n",
       "4                NaN  "
      ]
     },
     "execution_count": 2,
     "metadata": {},
     "output_type": "execute_result"
    }
   ],
   "source": [
    "df = pd.read_csv('./vseros-rank-otb/train_df.tsv',sep='\\t')\n",
    "df.head(5)"
   ]
  },
  {
   "cell_type": "code",
   "execution_count": 3,
   "metadata": {},
   "outputs": [
    {
     "data": {
      "text/plain": [
       "(1568446, 149114)"
      ]
     },
     "execution_count": 3,
     "metadata": {},
     "output_type": "execute_result"
    }
   ],
   "source": [
    "users_inv_mapping = dict(enumerate(df['customer_id'].unique()))\n",
    "users_mapping = {v: k for k, v in users_inv_mapping.items()}\n",
    "\n",
    "items_inv_mapping = dict(enumerate(df['community_id'].unique()))\n",
    "items_mapping = {v: k for k, v in items_inv_mapping.items()}\n",
    "len(users_mapping),len(items_mapping)"
   ]
  },
  {
   "cell_type": "code",
   "execution_count": 4,
   "metadata": {},
   "outputs": [],
   "source": [
    "test_idx = np.load('./test_index.npy')\n",
    "train_idx = list(set(df.index) - set(test_idx))"
   ]
  },
  {
   "cell_type": "code",
   "execution_count": 5,
   "metadata": {},
   "outputs": [],
   "source": [
    "test_df = df.loc[test_idx]\n",
    "train_df = df.loc[train_idx]"
   ]
  },
  {
   "cell_type": "code",
   "execution_count": 6,
   "metadata": {},
   "outputs": [
    {
     "data": {
      "text/plain": [
       "11"
      ]
     },
     "execution_count": 6,
     "metadata": {},
     "output_type": "execute_result"
    }
   ],
   "source": [
    "del df\n",
    "gc.collect()"
   ]
  },
  {
   "cell_type": "code",
   "execution_count": 7,
   "metadata": {},
   "outputs": [],
   "source": [
    "def get_dataset(df,user_col,item_col,weight_col,users_mapping,items_mapping):\n",
    "    return Interactions(user_ids=df[user_col].map(users_mapping.get).values,\n",
    "                        item_ids=df[item_col].map(items_mapping.get).values,\n",
    "                        weights=df[weight_col].values,\n",
    "                        ratings = np.ones(len(df))\n",
    "                       )"
   ]
  },
  {
   "cell_type": "code",
   "execution_count": 8,
   "metadata": {},
   "outputs": [],
   "source": [
    "train_ds = get_dataset(df=train_df,\n",
    "                       user_col='customer_id',\n",
    "                       item_col='community_id',\n",
    "                       weight_col='customers_count',\n",
    "                       users_mapping=users_mapping,\n",
    "                       items_mapping=items_mapping)"
   ]
  },
  {
   "cell_type": "code",
   "execution_count": 9,
   "metadata": {},
   "outputs": [],
   "source": [
    "test_ds = get_dataset(df=test_df,\n",
    "                       user_col='customer_id',\n",
    "                       item_col='community_id',\n",
    "                       weight_col='customers_count',\n",
    "                       users_mapping=users_mapping,\n",
    "                       items_mapping=items_mapping)"
   ]
  },
  {
   "cell_type": "code",
   "execution_count": 42,
   "metadata": {},
   "outputs": [],
   "source": [
    "params = {'n_iter':2,\n",
    "          'embedding_dim':512,\n",
    "          'loss':'logistic',\n",
    "          'batch_size':2048*2,\n",
    "          'l2':0.1,\n",
    "          #'learning_rate':1e-3,\n",
    "          'optimizer_func':torch.optim.AdamW,\n",
    "          'use_cuda':True,\n",
    "          'sparse':False,\n",
    "          'random_state':np.random.RandomState(56)}\n",
    "\n",
    "model = ExplicitFactorizationModel(**params)"
   ]
  },
  {
   "cell_type": "code",
   "execution_count": 43,
   "metadata": {
    "tags": []
   },
   "outputs": [
    {
     "name": "stdout",
     "output_type": "stream",
     "text": [
      "Epoch 0: loss 0.13424235857221006\n",
      "Epoch 1: loss 0.004302098162825401\n"
     ]
    }
   ],
   "source": [
    "model.fit(train_ds,verbose=True)"
   ]
  },
  {
   "cell_type": "code",
   "execution_count": 13,
   "metadata": {},
   "outputs": [],
   "source": [
    "test_users = test_df['customer_id'].map(users_mapping.get).unique()\n",
    "test_items = train_df['community_id'].map(items_mapping.get).unique()"
   ]
  },
  {
   "cell_type": "code",
   "execution_count": 22,
   "metadata": {},
   "outputs": [
    {
     "data": {
      "text/plain": [
       "(148963,)"
      ]
     },
     "execution_count": 22,
     "metadata": {},
     "output_type": "execute_result"
    }
   ],
   "source": [
    "ranks.shape"
   ]
  },
  {
   "cell_type": "code",
   "execution_count": 25,
   "metadata": {},
   "outputs": [],
   "source": [
    "def get_preds_single(model,test_users,users_mapping,items_inv_mapping,k=10):\n",
    "    preds = []\n",
    "    for user in tqdm(test_users):\n",
    "        user_id = users_mapping[user]\n",
    "        ranks = model.predict(user_id)\n",
    "        best_idx = np.argpartition(ranks, -1*k)[-1*k:]\n",
    "        best_users = [items_inv_mapping.get(x) for x in best_idx]\n",
    "        preds += [best_users]\n",
    "    return preds"
   ]
  },
  {
   "cell_type": "code",
   "execution_count": null,
   "metadata": {},
   "outputs": [
    {
     "data": {
      "application/vnd.jupyter.widget-view+json": {
       "model_id": "4f5d49c084c2480091b766bc85a26d88",
       "version_major": 2,
       "version_minor": 0
      },
      "text/plain": [
       "  0%|          | 0/420000 [00:00<?, ?it/s]"
      ]
     },
     "metadata": {},
     "output_type": "display_data"
    }
   ],
   "source": [
    "preds = get_preds_single(model,\n",
    "                  test_df['customer_id'],\n",
    "                  users_mapping,\n",
    "                  items_inv_mapping,\n",
    "                  k=10)"
   ]
  },
  {
   "cell_type": "code",
   "execution_count": 29,
   "metadata": {},
   "outputs": [],
   "source": [
    "def apk(actual, predicted, k=10):\n",
    "    if len(predicted)>k:\n",
    "        predicted = predicted[:k]\n",
    "\n",
    "    score = 0.0\n",
    "    num_hits = 0.0\n",
    "\n",
    "    for i,p in enumerate(predicted):\n",
    "        if p in actual and p not in predicted[:i]:\n",
    "            num_hits += 1.0\n",
    "            score += num_hits / (i+1.0)\n",
    "    if not actual:\n",
    "        return 0.0\n",
    "    return score / min(len(actual), k)\n",
    "\n",
    "def mapk(actual, predicted, k=10):\n",
    "    return np.mean([apk(a,p,k) for a,p in zip(actual, predicted)])"
   ]
  },
  {
   "cell_type": "code",
   "execution_count": 30,
   "metadata": {},
   "outputs": [],
   "source": [
    "test_group = test_df[['community_id','customer_id']].groupby('customer_id').agg(lambda x:x)\n",
    "test_group['community_id'] = test_group['community_id'].apply(lambda x:x.tolist())"
   ]
  },
  {
   "cell_type": "code",
   "execution_count": 31,
   "metadata": {},
   "outputs": [
    {
     "data": {
      "text/plain": [
       "0.00031878117913832204"
      ]
     },
     "execution_count": 31,
     "metadata": {},
     "output_type": "execute_result"
    }
   ],
   "source": [
    "act = test_group['community_id'].tolist()\n",
    "mapk(act,preds,k=7)"
   ]
  },
  {
   "cell_type": "code",
   "execution_count": null,
   "metadata": {},
   "outputs": [],
   "source": []
  },
  {
   "cell_type": "code",
   "execution_count": null,
   "metadata": {},
   "outputs": [],
   "source": []
  }
 ],
 "metadata": {
  "kernelspec": {
   "display_name": "Python 3 (ipykernel)",
   "language": "python",
   "name": "python3"
  },
  "language_info": {
   "codemirror_mode": {
    "name": "ipython",
    "version": 3
   },
   "file_extension": ".py",
   "mimetype": "text/x-python",
   "name": "python",
   "nbconvert_exporter": "python",
   "pygments_lexer": "ipython3",
   "version": "3.9.16"
  }
 },
 "nbformat": 4,
 "nbformat_minor": 4
}
