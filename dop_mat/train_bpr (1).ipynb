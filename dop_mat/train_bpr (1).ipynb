{
 "cells": [
  {
   "cell_type": "code",
   "execution_count": 1,
   "metadata": {
    "collapsed": true,
    "jupyter": {
     "outputs_hidden": true
    },
    "tags": []
   },
   "outputs": [
    {
     "name": "stdout",
     "output_type": "stream",
     "text": [
      "Collecting recommenders\n",
      "  Downloading recommenders-1.1.1-py3-none-any.whl (339 kB)\n",
      "\u001b[2K     \u001b[90m━━━━━━━━━━━━━━━━━━━━━━━━━━━━━━━━━━━━━━\u001b[0m \u001b[32m339.0/339.0 kB\u001b[0m \u001b[31m40.5 MB/s\u001b[0m eta \u001b[36m0:00:00\u001b[0m\n",
      "\u001b[?25hCollecting numba<1,>=0.38.1\n",
      "  Downloading numba-0.58.1-cp39-cp39-manylinux2014_x86_64.manylinux_2_17_x86_64.whl (3.6 MB)\n",
      "\u001b[2K     \u001b[90m━━━━━━━━━━━━━━━━━━━━━━━━━━━━━━━━━━━━━━━━\u001b[0m \u001b[32m3.6/3.6 MB\u001b[0m \u001b[31m100.2 MB/s\u001b[0m eta \u001b[36m0:00:00\u001b[0m00:01\u001b[0m\n",
      "\u001b[?25hCollecting cornac<2,>=1.1.2\n",
      "  Downloading cornac-1.17.0-cp39-cp39-manylinux1_x86_64.whl (21.9 MB)\n",
      "\u001b[2K     \u001b[90m━━━━━━━━━━━━━━━━━━━━━━━━━━━━━━━━━━━━━━━━\u001b[0m \u001b[32m21.9/21.9 MB\u001b[0m \u001b[31m69.5 MB/s\u001b[0m eta \u001b[36m0:00:00\u001b[0m00:01\u001b[0m00:01\u001b[0m\n",
      "\u001b[?25hCollecting scikit-learn<1.0.3,>=0.22.1\n",
      "  Downloading scikit_learn-1.0.2-cp39-cp39-manylinux_2_17_x86_64.manylinux2014_x86_64.whl (26.4 MB)\n",
      "\u001b[2K     \u001b[90m━━━━━━━━━━━━━━━━━━━━━━━━━━━━━━━━━━━━━━━━\u001b[0m \u001b[32m26.4/26.4 MB\u001b[0m \u001b[31m57.4 MB/s\u001b[0m eta \u001b[36m0:00:00\u001b[0m00:01\u001b[0m00:01\u001b[0m\n",
      "\u001b[?25hCollecting memory-profiler<1,>=0.54.0\n",
      "  Downloading memory_profiler-0.61.0-py3-none-any.whl (31 kB)\n",
      "Requirement already satisfied: tqdm<5,>=4.31.1 in /usr/local/lib/python3.9/dist-packages (from recommenders) (4.64.1)\n",
      "Requirement already satisfied: matplotlib<4,>=2.2.2 in /usr/local/lib/python3.9/dist-packages (from recommenders) (3.6.1)\n",
      "Collecting lightfm<2,>=1.15\n",
      "  Downloading lightfm-1.17.tar.gz (316 kB)\n",
      "\u001b[2K     \u001b[90m━━━━━━━━━━━━━━━━━━━━━━━━━━━━━━━━━━━━━━\u001b[0m \u001b[32m316.4/316.4 kB\u001b[0m \u001b[31m76.5 MB/s\u001b[0m eta \u001b[36m0:00:00\u001b[0m\n",
      "\u001b[?25h  Preparing metadata (setup.py) ... \u001b[?25ldone\n",
      "\u001b[?25hCollecting bottleneck<2,>=1.2.1\n",
      "  Downloading Bottleneck-1.3.7-cp39-cp39-manylinux_2_5_x86_64.manylinux1_x86_64.manylinux_2_17_x86_64.manylinux2014_x86_64.whl (353 kB)\n",
      "\u001b[2K     \u001b[90m━━━━━━━━━━━━━━━━━━━━━━━━━━━━━━━━━━━━━━\u001b[0m \u001b[32m353.1/353.1 kB\u001b[0m \u001b[31m72.2 MB/s\u001b[0m eta \u001b[36m0:00:00\u001b[0m\n",
      "\u001b[?25hCollecting scikit-surprise>=1.0.6\n",
      "  Downloading scikit-surprise-1.1.3.tar.gz (771 kB)\n",
      "\u001b[2K     \u001b[90m━━━━━━━━━━━━━━━━━━━━━━━━━━━━━━━━━━━━━━\u001b[0m \u001b[32m772.0/772.0 kB\u001b[0m \u001b[31m94.3 MB/s\u001b[0m eta \u001b[36m0:00:00\u001b[0m\n",
      "\u001b[?25h  Preparing metadata (setup.py) ... \u001b[?25ldone\n",
      "\u001b[?25hCollecting jinja2<3.1,>=2\n",
      "  Downloading Jinja2-3.0.3-py3-none-any.whl (133 kB)\n",
      "\u001b[2K     \u001b[90m━━━━━━━━━━━━━━━━━━━━━━━━━━━━━━━━━━━━━━\u001b[0m \u001b[32m133.6/133.6 kB\u001b[0m \u001b[31m42.2 MB/s\u001b[0m eta \u001b[36m0:00:00\u001b[0m\n",
      "\u001b[?25hRequirement already satisfied: numpy>=1.19 in /usr/local/lib/python3.9/dist-packages (from recommenders) (1.23.4)\n",
      "Collecting pandera[strategies]>=0.6.5\n",
      "  Downloading pandera-0.17.2-py3-none-any.whl (203 kB)\n",
      "\u001b[2K     \u001b[90m━━━━━━━━━━━━━━━━━━━━━━━━━━━━━━━━━━━━━━\u001b[0m \u001b[32m203.4/203.4 kB\u001b[0m \u001b[31m58.0 MB/s\u001b[0m eta \u001b[36m0:00:00\u001b[0m\n",
      "\u001b[?25hRequirement already satisfied: transformers<5,>=2.5.0 in /usr/local/lib/python3.9/dist-packages (from recommenders) (4.21.3)\n",
      "Requirement already satisfied: requests<3,>=2.0.0 in /usr/local/lib/python3.9/dist-packages (from recommenders) (2.28.2)\n",
      "Requirement already satisfied: lightgbm>=2.2.1 in /usr/local/lib/python3.9/dist-packages (from recommenders) (4.1.0)\n",
      "Requirement already satisfied: seaborn<1,>=0.8.1 in /usr/local/lib/python3.9/dist-packages (from recommenders) (0.12.0)\n",
      "Requirement already satisfied: nltk<4,>=3.4 in /usr/local/lib/python3.9/dist-packages (from recommenders) (3.7)\n",
      "Requirement already satisfied: pyyaml<6,>=5.4.1 in /usr/local/lib/python3.9/dist-packages (from recommenders) (5.4.1)\n",
      "Collecting retrying>=1.3.3\n",
      "  Downloading retrying-1.3.4-py3-none-any.whl (11 kB)\n",
      "Requirement already satisfied: scipy<2,>=1.0.0 in /usr/local/lib/python3.9/dist-packages (from recommenders) (1.9.2)\n",
      "Collecting category-encoders<2,>=1.3.0\n",
      "  Downloading category_encoders-1.3.0-py2.py3-none-any.whl (61 kB)\n",
      "\u001b[2K     \u001b[90m━━━━━━━━━━━━━━━━━━━━━━━━━━━━━━━━━━━━━━━━\u001b[0m \u001b[32m61.4/61.4 kB\u001b[0m \u001b[31m21.8 MB/s\u001b[0m eta \u001b[36m0:00:00\u001b[0m\n",
      "\u001b[?25hRequirement already satisfied: pandas<2,>1.0.3 in /usr/local/lib/python3.9/dist-packages (from recommenders) (1.5.0)\n",
      "Collecting statsmodels>=0.6.1\n",
      "  Downloading statsmodels-0.14.0-cp39-cp39-manylinux_2_17_x86_64.manylinux2014_x86_64.whl (10.1 MB)\n",
      "\u001b[2K     \u001b[90m━━━━━━━━━━━━━━━━━━━━━━━━━━━━━━━━━━━━━━━━\u001b[0m \u001b[32m10.1/10.1 MB\u001b[0m \u001b[31m80.5 MB/s\u001b[0m eta \u001b[36m0:00:00\u001b[0m00:01\u001b[0m00:01\u001b[0m\n",
      "\u001b[?25hCollecting patsy>=0.4.1\n",
      "  Downloading patsy-0.5.3-py2.py3-none-any.whl (233 kB)\n",
      "\u001b[2K     \u001b[90m━━━━━━━━━━━━━━━━━━━━━━━━━━━━━━━━━━━━━━\u001b[0m \u001b[32m233.8/233.8 kB\u001b[0m \u001b[31m59.6 MB/s\u001b[0m eta \u001b[36m0:00:00\u001b[0m\n",
      "\u001b[?25hCollecting powerlaw\n",
      "  Downloading powerlaw-1.5-py3-none-any.whl (24 kB)\n",
      "Requirement already satisfied: MarkupSafe>=2.0 in /usr/local/lib/python3.9/dist-packages (from jinja2<3.1,>=2->recommenders) (2.1.2)\n",
      "Requirement already satisfied: python-dateutil>=2.7 in /usr/local/lib/python3.9/dist-packages (from matplotlib<4,>=2.2.2->recommenders) (2.8.2)\n",
      "Requirement already satisfied: kiwisolver>=1.0.1 in /usr/local/lib/python3.9/dist-packages (from matplotlib<4,>=2.2.2->recommenders) (1.4.4)\n",
      "Requirement already satisfied: pyparsing>=2.2.1 in /usr/local/lib/python3.9/dist-packages (from matplotlib<4,>=2.2.2->recommenders) (3.0.9)\n",
      "Requirement already satisfied: cycler>=0.10 in /usr/local/lib/python3.9/dist-packages (from matplotlib<4,>=2.2.2->recommenders) (0.11.0)\n",
      "Requirement already satisfied: contourpy>=1.0.1 in /usr/local/lib/python3.9/dist-packages (from matplotlib<4,>=2.2.2->recommenders) (1.0.7)\n",
      "Requirement already satisfied: pillow>=6.2.0 in /usr/local/lib/python3.9/dist-packages (from matplotlib<4,>=2.2.2->recommenders) (9.2.0)\n",
      "Requirement already satisfied: fonttools>=4.22.0 in /usr/local/lib/python3.9/dist-packages (from matplotlib<4,>=2.2.2->recommenders) (4.38.0)\n",
      "Requirement already satisfied: packaging>=20.0 in /usr/local/lib/python3.9/dist-packages (from matplotlib<4,>=2.2.2->recommenders) (23.0)\n",
      "Requirement already satisfied: psutil in /usr/local/lib/python3.9/dist-packages (from memory-profiler<1,>=0.54.0->recommenders) (5.9.4)\n",
      "Requirement already satisfied: joblib in /usr/local/lib/python3.9/dist-packages (from nltk<4,>=3.4->recommenders) (1.2.0)\n",
      "Requirement already satisfied: click in /usr/local/lib/python3.9/dist-packages (from nltk<4,>=3.4->recommenders) (8.1.3)\n",
      "Requirement already satisfied: regex>=2021.8.3 in /usr/local/lib/python3.9/dist-packages (from nltk<4,>=3.4->recommenders) (2022.10.31)\n",
      "Collecting llvmlite<0.42,>=0.41.0dev0\n",
      "  Downloading llvmlite-0.41.1-cp39-cp39-manylinux_2_17_x86_64.manylinux2014_x86_64.whl (43.6 MB)\n",
      "\u001b[2K     \u001b[90m━━━━━━━━━━━━━━━━━━━━━━━━━━━━━━━━━━━━━━━━\u001b[0m \u001b[32m43.6/43.6 MB\u001b[0m \u001b[31m20.3 MB/s\u001b[0m eta \u001b[36m0:00:00\u001b[0m00:01\u001b[0m00:01\u001b[0m\n",
      "\u001b[?25hRequirement already satisfied: pytz>=2020.1 in /usr/local/lib/python3.9/dist-packages (from pandas<2,>1.0.3->recommenders) (2022.7.1)\n",
      "Collecting multimethod\n",
      "  Downloading multimethod-1.10-py3-none-any.whl (9.9 kB)\n",
      "Collecting typing-inspect>=0.6.0\n",
      "  Downloading typing_inspect-0.9.0-py3-none-any.whl (8.8 kB)\n",
      "Requirement already satisfied: pydantic in /usr/local/lib/python3.9/dist-packages (from pandera[strategies]>=0.6.5->recommenders) (1.9.2)\n",
      "Requirement already satisfied: wrapt in /usr/local/lib/python3.9/dist-packages (from pandera[strategies]>=0.6.5->recommenders) (1.14.1)\n",
      "Collecting typeguard>=3.0.2\n",
      "  Downloading typeguard-4.1.5-py3-none-any.whl (34 kB)\n",
      "Collecting hypothesis>=5.41.1\n",
      "  Downloading hypothesis-6.88.1-py3-none-any.whl (421 kB)\n",
      "\u001b[2K     \u001b[90m━━━━━━━━━━━━━━━━━━━━━━━━━━━━━━━━━━━━━━\u001b[0m \u001b[32m421.2/421.2 kB\u001b[0m \u001b[31m73.2 MB/s\u001b[0m eta \u001b[36m0:00:00\u001b[0m\n",
      "\u001b[?25hRequirement already satisfied: idna<4,>=2.5 in /usr/lib/python3/dist-packages (from requests<3,>=2.0.0->recommenders) (2.8)\n",
      "Requirement already satisfied: charset-normalizer<4,>=2 in /usr/local/lib/python3.9/dist-packages (from requests<3,>=2.0.0->recommenders) (2.1.1)\n",
      "Requirement already satisfied: urllib3<1.27,>=1.21.1 in /usr/local/lib/python3.9/dist-packages (from requests<3,>=2.0.0->recommenders) (1.26.14)\n",
      "Requirement already satisfied: certifi>=2017.4.17 in /usr/lib/python3/dist-packages (from requests<3,>=2.0.0->recommenders) (2019.11.28)\n",
      "Requirement already satisfied: six>=1.7.0 in /usr/lib/python3/dist-packages (from retrying>=1.3.3->recommenders) (1.14.0)\n",
      "Requirement already satisfied: threadpoolctl>=2.0.0 in /usr/local/lib/python3.9/dist-packages (from scikit-learn<1.0.3,>=0.22.1->recommenders) (3.1.0)\n",
      "Requirement already satisfied: filelock in /usr/local/lib/python3.9/dist-packages (from transformers<5,>=2.5.0->recommenders) (3.9.0)\n",
      "Requirement already satisfied: tokenizers!=0.11.3,<0.13,>=0.11.1 in /usr/local/lib/python3.9/dist-packages (from transformers<5,>=2.5.0->recommenders) (0.12.1)\n",
      "Requirement already satisfied: huggingface-hub<1.0,>=0.1.0 in /usr/local/lib/python3.9/dist-packages (from transformers<5,>=2.5.0->recommenders) (0.12.0)\n",
      "Requirement already satisfied: typing-extensions>=3.7.4.3 in /usr/local/lib/python3.9/dist-packages (from huggingface-hub<1.0,>=0.1.0->transformers<5,>=2.5.0->recommenders) (4.4.0)\n",
      "Collecting attrs>=19.2.0\n",
      "  Downloading attrs-23.1.0-py3-none-any.whl (61 kB)\n",
      "\u001b[2K     \u001b[90m━━━━━━━━━━━━━━━━━━━━━━━━━━━━━━━━━━━━━━━━\u001b[0m \u001b[32m61.2/61.2 kB\u001b[0m \u001b[31m24.2 MB/s\u001b[0m eta \u001b[36m0:00:00\u001b[0m\n",
      "\u001b[?25hCollecting sortedcontainers<3.0.0,>=2.1.0\n",
      "  Downloading sortedcontainers-2.4.0-py2.py3-none-any.whl (29 kB)\n",
      "Requirement already satisfied: exceptiongroup>=1.0.0 in /usr/local/lib/python3.9/dist-packages (from hypothesis>=5.41.1->pandera[strategies]>=0.6.5->recommenders) (1.1.0)\n",
      "Collecting scipy<2,>=1.0.0\n",
      "  Downloading scipy-1.11.3-cp39-cp39-manylinux_2_17_x86_64.manylinux2014_x86_64.whl (36.6 MB)\n",
      "\u001b[2K     \u001b[90m━━━━━━━━━━━━━━━━━━━━━━━━━━━━━━━━━━━━━━━━\u001b[0m \u001b[32m36.6/36.6 MB\u001b[0m \u001b[31m22.8 MB/s\u001b[0m eta \u001b[36m0:00:00\u001b[0m00:01\u001b[0m00:01\u001b[0m\n",
      "\u001b[?25hCollecting typing-extensions>=3.7.4.3\n",
      "  Downloading typing_extensions-4.8.0-py3-none-any.whl (31 kB)\n",
      "Requirement already satisfied: importlib-metadata>=3.6 in /usr/local/lib/python3.9/dist-packages (from typeguard>=3.0.2->pandera[strategies]>=0.6.5->recommenders) (6.0.0)\n",
      "Collecting mypy-extensions>=0.3.0\n",
      "  Downloading mypy_extensions-1.0.0-py3-none-any.whl (4.7 kB)\n",
      "Collecting mpmath\n",
      "  Downloading mpmath-1.3.0-py3-none-any.whl (536 kB)\n",
      "\u001b[2K     \u001b[90m━━━━━━━━━━━━━━━━━━━━━━━━━━━━━━━━━━━━━━\u001b[0m \u001b[32m536.2/536.2 kB\u001b[0m \u001b[31m86.4 MB/s\u001b[0m eta \u001b[36m0:00:00\u001b[0m\n",
      "\u001b[?25hRequirement already satisfied: zipp>=0.5 in /usr/local/lib/python3.9/dist-packages (from importlib-metadata>=3.6->typeguard>=3.0.2->pandera[strategies]>=0.6.5->recommenders) (3.11.0)\n",
      "Building wheels for collected packages: lightfm, scikit-surprise\n",
      "  Building wheel for lightfm (setup.py) ... \u001b[?25ldone\n",
      "\u001b[?25h  Created wheel for lightfm: filename=lightfm-1.17-cp39-cp39-linux_x86_64.whl size=887520 sha256=eaf43e6deb69419ce69eecf2a098e9f53b28173f30113bbc84f94b9b44be8e60\n",
      "  Stored in directory: /root/.cache/pip/wheels/b4/4b/3a/a9de8b016aa5faedfac9fc5ffa882e202a32dd4912eabfa0c1\n",
      "  Building wheel for scikit-surprise (setup.py) ... \u001b[?25ldone\n",
      "\u001b[?25h  Created wheel for scikit-surprise: filename=scikit_surprise-1.1.3-cp39-cp39-linux_x86_64.whl size=3193348 sha256=69284b841d32982e9d87c13014a6f32232f3cab3484159f4f7a6ea3d8a45b474\n",
      "  Stored in directory: /root/.cache/pip/wheels/10/bc/66/1e588b3f2aedb617b1bedc0f24981c917c95246a020c7c1975\n",
      "Successfully built lightfm scikit-surprise\n",
      "Installing collected packages: sortedcontainers, mpmath, typing-extensions, scipy, retrying, patsy, mypy-extensions, multimethod, memory-profiler, llvmlite, jinja2, bottleneck, attrs, typing-inspect, typeguard, scikit-surprise, scikit-learn, numba, hypothesis, statsmodels, powerlaw, pandera, lightfm, cornac, category-encoders, recommenders\n",
      "  Attempting uninstall: typing-extensions\n",
      "    Found existing installation: typing_extensions 4.4.0\n",
      "    Uninstalling typing_extensions-4.4.0:\n",
      "      Successfully uninstalled typing_extensions-4.4.0\n",
      "  Attempting uninstall: scipy\n",
      "    Found existing installation: scipy 1.9.2\n",
      "    Uninstalling scipy-1.9.2:\n",
      "      Successfully uninstalled scipy-1.9.2\n",
      "  Attempting uninstall: jinja2\n",
      "    Found existing installation: Jinja2 3.1.2\n",
      "    Uninstalling Jinja2-3.1.2:\n",
      "      Successfully uninstalled Jinja2-3.1.2\n",
      "  Attempting uninstall: attrs\n",
      "    Found existing installation: attrs 18.2.0\n",
      "    Uninstalling attrs-18.2.0:\n",
      "      Successfully uninstalled attrs-18.2.0\n",
      "  Attempting uninstall: scikit-learn\n",
      "    Found existing installation: scikit-learn 1.1.2\n",
      "    Uninstalling scikit-learn-1.1.2:\n",
      "      Successfully uninstalled scikit-learn-1.1.2\n",
      "\u001b[31mERROR: pip's dependency resolver does not currently take into account all the packages that are installed. This behaviour is the source of the following dependency conflicts.\n",
      "gradient 2.0.6 requires attrs<=19, but you have attrs 23.1.0 which is incompatible.\u001b[0m\u001b[31m\n",
      "\u001b[0mSuccessfully installed attrs-23.1.0 bottleneck-1.3.7 category-encoders-1.3.0 cornac-1.17.0 hypothesis-6.88.1 jinja2-3.0.3 lightfm-1.17 llvmlite-0.41.1 memory-profiler-0.61.0 mpmath-1.3.0 multimethod-1.10 mypy-extensions-1.0.0 numba-0.58.1 pandera-0.17.2 patsy-0.5.3 powerlaw-1.5 recommenders-1.1.1 retrying-1.3.4 scikit-learn-1.0.2 scikit-surprise-1.1.3 scipy-1.11.3 sortedcontainers-2.4.0 statsmodels-0.14.0 typeguard-4.1.5 typing-extensions-4.8.0 typing-inspect-0.9.0\n",
      "\u001b[33mWARNING: Running pip as the 'root' user can result in broken permissions and conflicting behaviour with the system package manager. It is recommended to use a virtual environment instead: https://pip.pypa.io/warnings/venv\u001b[0m\u001b[33m\n",
      "\u001b[0m"
     ]
    }
   ],
   "source": [
    "!pip install recommenders"
   ]
  },
  {
   "cell_type": "code",
   "execution_count": 1,
   "metadata": {},
   "outputs": [],
   "source": [
    "import pandas as pd\n",
    "import numpy as np\n",
    "from tqdm.auto import tqdm\n",
    "from tqdm.contrib import tzip\n",
    "import gc\n",
    "\n",
    "import lightfm\n",
    "from lightfm import LightFM\n",
    "from lightfm.data import Dataset\n",
    "from lightfm import cross_validation"
   ]
  },
  {
   "cell_type": "code",
   "execution_count": 2,
   "metadata": {},
   "outputs": [
    {
     "name": "stdout",
     "output_type": "stream",
     "text": [
      "Thu Oct 26 18:08:00 2023       \n",
      "+-----------------------------------------------------------------------------+\n",
      "| NVIDIA-SMI 525.116.04   Driver Version: 525.116.04   CUDA Version: 12.0     |\n",
      "|-------------------------------+----------------------+----------------------+\n",
      "| GPU  Name        Persistence-M| Bus-Id        Disp.A | Volatile Uncorr. ECC |\n",
      "| Fan  Temp  Perf  Pwr:Usage/Cap|         Memory-Usage | GPU-Util  Compute M. |\n",
      "|                               |                      |               MIG M. |\n",
      "|===============================+======================+======================|\n",
      "|   0  NVIDIA A100 80G...  Off  | 00000000:00:05.0 Off |                    0 |\n",
      "| N/A   49C    P0    73W / 300W |  11755MiB / 81920MiB |      0%      Default |\n",
      "|                               |                      |             Disabled |\n",
      "+-------------------------------+----------------------+----------------------+\n",
      "                                                                               \n",
      "+-----------------------------------------------------------------------------+\n",
      "| Processes:                                                                  |\n",
      "|  GPU   GI   CI        PID   Type   Process name                  GPU Memory |\n",
      "|        ID   ID                                                   Usage      |\n",
      "|=============================================================================|\n",
      "+-----------------------------------------------------------------------------+\n"
     ]
    }
   ],
   "source": [
    "!nvidia-smi"
   ]
  },
  {
   "cell_type": "code",
   "execution_count": 2,
   "metadata": {
    "tags": []
   },
   "outputs": [],
   "source": [
    "df = pd.read_csv('./vseros-rank-otb/train_df.tsv',sep='\\t')\n",
    "df['pair'] = df['community_id'] + '[SEP]' + df['customer_id']\n",
    "counts = df.groupby('pair').transform('count')\n",
    "df['recs'] = counts['Unnamed: 0']"
   ]
  },
  {
   "cell_type": "code",
   "execution_count": 3,
   "metadata": {},
   "outputs": [],
   "source": [
    "df_rank = df[['community_id','customer_id','recs']]\n",
    "df_rank = df_rank.drop_duplicates()"
   ]
  },
  {
   "cell_type": "code",
   "execution_count": 4,
   "metadata": {},
   "outputs": [
    {
     "data": {
      "text/plain": [
       "(1568446, 149114)"
      ]
     },
     "execution_count": 4,
     "metadata": {},
     "output_type": "execute_result"
    }
   ],
   "source": [
    "users_inv_mapping = dict(enumerate(df['customer_id'].unique()))\n",
    "users_mapping = {v: k for k, v in users_inv_mapping.items()}\n",
    "\n",
    "items_inv_mapping = dict(enumerate(df['community_id'].unique()))\n",
    "items_mapping = {v: k for k, v in items_inv_mapping.items()}\n",
    "len(users_mapping),len(items_mapping)"
   ]
  },
  {
   "cell_type": "code",
   "execution_count": 5,
   "metadata": {},
   "outputs": [],
   "source": [
    "all_set = set(df_rank.index)\n",
    "test_idx = list( set(np.load('./test_index.npy')) & all_set)\n",
    "train_gbm_idx = list( all_set & set(np.load('./train_gbm_index.npy')) )\n",
    "train_idx = list(all_set - (set(test_idx) | set(train_gbm_idx)) )"
   ]
  },
  {
   "cell_type": "code",
   "execution_count": 6,
   "metadata": {},
   "outputs": [],
   "source": [
    "test_df = df_rank.loc[test_idx]\n",
    "train_df_gbm = df_rank.loc[train_gbm_idx]\n",
    "train_df = df_rank.loc[train_idx]"
   ]
  },
  {
   "cell_type": "code",
   "execution_count": 8,
   "metadata": {},
   "outputs": [
    {
     "data": {
      "text/html": [
       "<div>\n",
       "<style scoped>\n",
       "    .dataframe tbody tr th:only-of-type {\n",
       "        vertical-align: middle;\n",
       "    }\n",
       "\n",
       "    .dataframe tbody tr th {\n",
       "        vertical-align: top;\n",
       "    }\n",
       "\n",
       "    .dataframe thead th {\n",
       "        text-align: right;\n",
       "    }\n",
       "</style>\n",
       "<table border=\"1\" class=\"dataframe\">\n",
       "  <thead>\n",
       "    <tr style=\"text-align: right;\">\n",
       "      <th></th>\n",
       "      <th>community_id</th>\n",
       "      <th>customer_id</th>\n",
       "      <th>recs</th>\n",
       "    </tr>\n",
       "  </thead>\n",
       "  <tbody>\n",
       "    <tr>\n",
       "      <th>12058625</th>\n",
       "      <td>1af19bf7fb2783b065781a6348dca98bd496706f8d634e...</td>\n",
       "      <td>fe9116d83575ac37c543e49241ad6a894c8ea3dc626833...</td>\n",
       "      <td>1</td>\n",
       "    </tr>\n",
       "    <tr>\n",
       "      <th>6291458</th>\n",
       "      <td>ee1f320c066d6614c79585d6c17a5c4e43471404bdb635...</td>\n",
       "      <td>6dfe1246304aee642c5054404321b69865f338df2b9298...</td>\n",
       "      <td>2</td>\n",
       "    </tr>\n",
       "    <tr>\n",
       "      <th>9437190</th>\n",
       "      <td>fbb19e0798df299ef6958b161d3e2ab9d0f79579b1cf1e...</td>\n",
       "      <td>7b617381354a0445e1e0022aac3f9d81c5fec45152101b...</td>\n",
       "      <td>1</td>\n",
       "    </tr>\n",
       "    <tr>\n",
       "      <th>9961478</th>\n",
       "      <td>4a2ff719779fc792d29f2272a6c25ef51c50260955e318...</td>\n",
       "      <td>f1d24161f7a0f56efbd85b40eb15e661e97721cf1313c2...</td>\n",
       "      <td>1</td>\n",
       "    </tr>\n",
       "    <tr>\n",
       "      <th>1572872</th>\n",
       "      <td>d858329a98955cf0c9940c1d51f7a09eeada28a5374f05...</td>\n",
       "      <td>4b25a2bf93ee6d395465911003627c51a92d5aebee20bc...</td>\n",
       "      <td>1</td>\n",
       "    </tr>\n",
       "    <tr>\n",
       "      <th>...</th>\n",
       "      <td>...</td>\n",
       "      <td>...</td>\n",
       "      <td>...</td>\n",
       "    </tr>\n",
       "    <tr>\n",
       "      <th>10485746</th>\n",
       "      <td>69f7ce8667c7cb7eb985a518c2977bb72686bab103d391...</td>\n",
       "      <td>4046bc278abb0773fb2bada3bfd83c7b99765c61de93a7...</td>\n",
       "      <td>1</td>\n",
       "    </tr>\n",
       "    <tr>\n",
       "      <th>7864307</th>\n",
       "      <td>6be63805549fc080e95fad89c70dab7a6c3a153b083bfa...</td>\n",
       "      <td>544bad357bc6668002db6dd42c277312b2ef700493ea49...</td>\n",
       "      <td>1</td>\n",
       "    </tr>\n",
       "    <tr>\n",
       "      <th>11010039</th>\n",
       "      <td>ef33891f96e39d5a4ac98c529fde5a7f69baad9fcf92fb...</td>\n",
       "      <td>91709254ce9fde6096b9b6312d3e27adaa50758f9afab4...</td>\n",
       "      <td>1</td>\n",
       "    </tr>\n",
       "    <tr>\n",
       "      <th>9437176</th>\n",
       "      <td>fbb19e0798df299ef6958b161d3e2ab9d0f79579b1cf1e...</td>\n",
       "      <td>8fa31cc9428b3209707d44ae53f49336fc19c3800132c6...</td>\n",
       "      <td>1</td>\n",
       "    </tr>\n",
       "    <tr>\n",
       "      <th>12058620</th>\n",
       "      <td>1af19bf7fb2783b065781a6348dca98bd496706f8d634e...</td>\n",
       "      <td>49e47d53888c4d0eab52559701b2664939b44f09c21d5d...</td>\n",
       "      <td>1</td>\n",
       "    </tr>\n",
       "  </tbody>\n",
       "</table>\n",
       "<p>206818 rows × 3 columns</p>\n",
       "</div>"
      ],
      "text/plain": [
       "                                               community_id  \\\n",
       "12058625  1af19bf7fb2783b065781a6348dca98bd496706f8d634e...   \n",
       "6291458   ee1f320c066d6614c79585d6c17a5c4e43471404bdb635...   \n",
       "9437190   fbb19e0798df299ef6958b161d3e2ab9d0f79579b1cf1e...   \n",
       "9961478   4a2ff719779fc792d29f2272a6c25ef51c50260955e318...   \n",
       "1572872   d858329a98955cf0c9940c1d51f7a09eeada28a5374f05...   \n",
       "...                                                     ...   \n",
       "10485746  69f7ce8667c7cb7eb985a518c2977bb72686bab103d391...   \n",
       "7864307   6be63805549fc080e95fad89c70dab7a6c3a153b083bfa...   \n",
       "11010039  ef33891f96e39d5a4ac98c529fde5a7f69baad9fcf92fb...   \n",
       "9437176   fbb19e0798df299ef6958b161d3e2ab9d0f79579b1cf1e...   \n",
       "12058620  1af19bf7fb2783b065781a6348dca98bd496706f8d634e...   \n",
       "\n",
       "                                                customer_id  recs  \n",
       "12058625  fe9116d83575ac37c543e49241ad6a894c8ea3dc626833...     1  \n",
       "6291458   6dfe1246304aee642c5054404321b69865f338df2b9298...     2  \n",
       "9437190   7b617381354a0445e1e0022aac3f9d81c5fec45152101b...     1  \n",
       "9961478   f1d24161f7a0f56efbd85b40eb15e661e97721cf1313c2...     1  \n",
       "1572872   4b25a2bf93ee6d395465911003627c51a92d5aebee20bc...     1  \n",
       "...                                                     ...   ...  \n",
       "10485746  4046bc278abb0773fb2bada3bfd83c7b99765c61de93a7...     1  \n",
       "7864307   544bad357bc6668002db6dd42c277312b2ef700493ea49...     1  \n",
       "11010039  91709254ce9fde6096b9b6312d3e27adaa50758f9afab4...     1  \n",
       "9437176   8fa31cc9428b3209707d44ae53f49336fc19c3800132c6...     1  \n",
       "12058620  49e47d53888c4d0eab52559701b2664939b44f09c21d5d...     1  \n",
       "\n",
       "[206818 rows x 3 columns]"
      ]
     },
     "execution_count": 8,
     "metadata": {},
     "output_type": "execute_result"
    }
   ],
   "source": [
    "test_df"
   ]
  },
  {
   "cell_type": "code",
   "execution_count": 9,
   "metadata": {},
   "outputs": [
    {
     "data": {
      "text/plain": [
       "0"
      ]
     },
     "execution_count": 9,
     "metadata": {},
     "output_type": "execute_result"
    }
   ],
   "source": [
    "del df\n",
    "gc.collect()"
   ]
  },
  {
   "cell_type": "code",
   "execution_count": 41,
   "metadata": {},
   "outputs": [],
   "source": [
    "model = SAR(\n",
    "    col_user=\"customer_id\",\n",
    "    col_item=\"community_id\",\n",
    "    col_rating=\"recs\",\n",
    "    #col_timestamp=\"timestamp\",\n",
    "    similarity_type=\"jaccard\", \n",
    "    #time_decay_coefficient=30, \n",
    "    #timedecay_formula=True,\n",
    "    normalize=True\n",
    ")"
   ]
  },
  {
   "cell_type": "code",
   "execution_count": null,
   "metadata": {},
   "outputs": [],
   "source": [
    "model.fit(train_df)"
   ]
  },
  {
   "cell_type": "code",
   "execution_count": 10,
   "metadata": {},
   "outputs": [],
   "source": [
    "dataset = Dataset()"
   ]
  },
  {
   "cell_type": "code",
   "execution_count": 14,
   "metadata": {},
   "outputs": [],
   "source": [
    "dataset.fit(users=train_df['customer_id'], \n",
    "            items=train_df['community_id'])"
   ]
  },
  {
   "cell_type": "code",
   "execution_count": 26,
   "metadata": {},
   "outputs": [
    {
     "data": {
      "text/plain": [
       "(3, 10496708)"
      ]
     },
     "execution_count": 26,
     "metadata": {},
     "output_type": "execute_result"
    }
   ],
   "source": [
    "np.stack([train_df['customer_id'].values,\n",
    "                                                               train_df['community_id'].values,\n",
    "                                                               train_df['recs'].values]).shape"
   ]
  },
  {
   "cell_type": "code",
   "execution_count": 24,
   "metadata": {},
   "outputs": [
    {
     "ename": "ValueError",
     "evalue": "Expecting tuples of (user_id, item_id, weight) or (user_id, item_id). Got ['947224211267aefcc2e3e9c524fdf46ce329bc638e8bf1b7ce5a43f58d9dba320c133d58b3ca781fac348fa4beaec4e39b9717168b3df67a1d187a706523cbf2'\n 'b935c3390d82df612de19591d2dd16e1eff8e660746bb3a9e954b173e9d7e9421b86466c1e5995a97e6fc289d0b8c8d0b17ba9ba04913b1703e590a090761cc5'\n 'ff873dee9234ee290d92eb6c15d7179aabf0653dbed3b3f290e52639266b1510c07013df80b3379df53e74c9c41b81e966294c9dba52c5398e3802610b9c9ff0'\n ...\n 'a8b43d4a5e9583edac068333ce010c559e03e6a33dbbfbd856ded696d3f7a3d34d35a3f8cc9b0c60eb8bbf554ee70b320fe30a6ab7a1ceaef10105fe70fa3445'\n 'e70cced119a8f54a9f1bdcc4979735ebff7d817797c236991402a9befb5ff78f70998ad261c4ef33598afcd33118be5b52b00959229c301bfd12dfd6609ad596'\n '83caecb16267482f439fedcf9106706bccd15095fe564ace299b3eb0186edee6cea830a94e6a454d5e660a4fff04ec53535277c68824c4202f6cf590071a180e']",
     "output_type": "error",
     "traceback": [
      "\u001b[0;31m---------------------------------------------------------------------------\u001b[0m",
      "\u001b[0;31mValueError\u001b[0m                                Traceback (most recent call last)",
      "Cell \u001b[0;32mIn [24], line 1\u001b[0m\n\u001b[0;32m----> 1\u001b[0m (interactions, weights) \u001b[38;5;241m=\u001b[39m \u001b[43mdataset\u001b[49m\u001b[38;5;241;43m.\u001b[39;49m\u001b[43mbuild_interactions\u001b[49m\u001b[43m(\u001b[49m\u001b[43mnp\u001b[49m\u001b[38;5;241;43m.\u001b[39;49m\u001b[43mstack\u001b[49m\u001b[43m(\u001b[49m\u001b[43m[\u001b[49m\u001b[43mtrain_df\u001b[49m\u001b[43m[\u001b[49m\u001b[38;5;124;43m'\u001b[39;49m\u001b[38;5;124;43mcustomer_id\u001b[39;49m\u001b[38;5;124;43m'\u001b[39;49m\u001b[43m]\u001b[49m\u001b[38;5;241;43m.\u001b[39;49m\u001b[43mvalues\u001b[49m\u001b[43m,\u001b[49m\n\u001b[1;32m      2\u001b[0m \u001b[43m                                                                     \u001b[49m\u001b[43mtrain_df\u001b[49m\u001b[43m[\u001b[49m\u001b[38;5;124;43m'\u001b[39;49m\u001b[38;5;124;43mcommunity_id\u001b[39;49m\u001b[38;5;124;43m'\u001b[39;49m\u001b[43m]\u001b[49m\u001b[38;5;241;43m.\u001b[39;49m\u001b[43mvalues\u001b[49m\u001b[43m,\u001b[49m\n\u001b[1;32m      3\u001b[0m \u001b[43m                                                                     \u001b[49m\u001b[43mtrain_df\u001b[49m\u001b[43m[\u001b[49m\u001b[38;5;124;43m'\u001b[39;49m\u001b[38;5;124;43mrecs\u001b[39;49m\u001b[38;5;124;43m'\u001b[39;49m\u001b[43m]\u001b[49m\u001b[38;5;241;43m.\u001b[39;49m\u001b[43mvalues\u001b[49m\u001b[43m]\u001b[49m\u001b[43m)\u001b[49m\u001b[43m)\u001b[49m\n",
      "File \u001b[0;32m/usr/local/lib/python3.9/dist-packages/lightfm/data.py:325\u001b[0m, in \u001b[0;36mDataset.build_interactions\u001b[0;34m(self, data)\u001b[0m\n\u001b[1;32m    322\u001b[0m weights \u001b[38;5;241m=\u001b[39m _IncrementalCOOMatrix(\u001b[38;5;28mself\u001b[39m\u001b[38;5;241m.\u001b[39minteractions_shape(), np\u001b[38;5;241m.\u001b[39mfloat32)\n\u001b[1;32m    324\u001b[0m \u001b[38;5;28;01mfor\u001b[39;00m datum \u001b[38;5;129;01min\u001b[39;00m data:\n\u001b[0;32m--> 325\u001b[0m     user_idx, item_idx, weight \u001b[38;5;241m=\u001b[39m \u001b[38;5;28;43mself\u001b[39;49m\u001b[38;5;241;43m.\u001b[39;49m\u001b[43m_unpack_datum\u001b[49m\u001b[43m(\u001b[49m\u001b[43mdatum\u001b[49m\u001b[43m)\u001b[49m\n\u001b[1;32m    327\u001b[0m     interactions\u001b[38;5;241m.\u001b[39mappend(user_idx, item_idx, \u001b[38;5;241m1\u001b[39m)\n\u001b[1;32m    328\u001b[0m     weights\u001b[38;5;241m.\u001b[39mappend(user_idx, item_idx, weight)\n",
      "File \u001b[0;32m/usr/local/lib/python3.9/dist-packages/lightfm/data.py:267\u001b[0m, in \u001b[0;36mDataset._unpack_datum\u001b[0;34m(self, datum)\u001b[0m\n\u001b[1;32m    265\u001b[0m     weight \u001b[38;5;241m=\u001b[39m \u001b[38;5;241m1.0\u001b[39m\n\u001b[1;32m    266\u001b[0m \u001b[38;5;28;01melse\u001b[39;00m:\n\u001b[0;32m--> 267\u001b[0m     \u001b[38;5;28;01mraise\u001b[39;00m \u001b[38;5;167;01mValueError\u001b[39;00m(\n\u001b[1;32m    268\u001b[0m         \u001b[38;5;124m\"\u001b[39m\u001b[38;5;124mExpecting tuples of (user_id, item_id, weight) \u001b[39m\u001b[38;5;124m\"\u001b[39m\n\u001b[1;32m    269\u001b[0m         \u001b[38;5;124m\"\u001b[39m\u001b[38;5;124mor (user_id, item_id). Got \u001b[39m\u001b[38;5;132;01m{}\u001b[39;00m\u001b[38;5;124m\"\u001b[39m\u001b[38;5;241m.\u001b[39mformat(datum)\n\u001b[1;32m    270\u001b[0m     )\n\u001b[1;32m    272\u001b[0m user_idx \u001b[38;5;241m=\u001b[39m \u001b[38;5;28mself\u001b[39m\u001b[38;5;241m.\u001b[39m_user_id_mapping\u001b[38;5;241m.\u001b[39mget(user_id)\n\u001b[1;32m    273\u001b[0m item_idx \u001b[38;5;241m=\u001b[39m \u001b[38;5;28mself\u001b[39m\u001b[38;5;241m.\u001b[39m_item_id_mapping\u001b[38;5;241m.\u001b[39mget(item_id)\n",
      "\u001b[0;31mValueError\u001b[0m: Expecting tuples of (user_id, item_id, weight) or (user_id, item_id). Got ['947224211267aefcc2e3e9c524fdf46ce329bc638e8bf1b7ce5a43f58d9dba320c133d58b3ca781fac348fa4beaec4e39b9717168b3df67a1d187a706523cbf2'\n 'b935c3390d82df612de19591d2dd16e1eff8e660746bb3a9e954b173e9d7e9421b86466c1e5995a97e6fc289d0b8c8d0b17ba9ba04913b1703e590a090761cc5'\n 'ff873dee9234ee290d92eb6c15d7179aabf0653dbed3b3f290e52639266b1510c07013df80b3379df53e74c9c41b81e966294c9dba52c5398e3802610b9c9ff0'\n ...\n 'a8b43d4a5e9583edac068333ce010c559e03e6a33dbbfbd856ded696d3f7a3d34d35a3f8cc9b0c60eb8bbf554ee70b320fe30a6ab7a1ceaef10105fe70fa3445'\n 'e70cced119a8f54a9f1bdcc4979735ebff7d817797c236991402a9befb5ff78f70998ad261c4ef33598afcd33118be5b52b00959229c301bfd12dfd6609ad596'\n '83caecb16267482f439fedcf9106706bccd15095fe564ace299b3eb0186edee6cea830a94e6a454d5e660a4fff04ec53535277c68824c4202f6cf590071a180e']"
     ]
    }
   ],
   "source": [
    "(interactions, weights) = dataset.build_interactions(np.stack([train_df['customer_id'].values,\n",
    "                                                               train_df['community_id'].values,\n",
    "                                                               train_df['recs'].values]))"
   ]
  },
  {
   "cell_type": "code",
   "execution_count": 16,
   "metadata": {},
   "outputs": [],
   "source": [
    "def apk(actual, predicted, k=10):\n",
    "    if len(predicted)>k:\n",
    "        predicted = predicted[:k]\n",
    "\n",
    "    score = 0.0\n",
    "    num_hits = 0.0\n",
    "\n",
    "    for i,p in enumerate(predicted):\n",
    "        if p in actual and p not in predicted[:i]:\n",
    "            num_hits += 1.0\n",
    "            score += num_hits / (i+1.0)\n",
    "    if not actual:\n",
    "        return 0.0\n",
    "    return score / min(len(actual), k)\n",
    "\n",
    "def mapk(actual, predicted, k=10):\n",
    "    return np.mean([apk(a,p,k) for a,p in zip(actual, predicted)])"
   ]
  },
  {
   "cell_type": "code",
   "execution_count": 27,
   "metadata": {
    "collapsed": true,
    "jupyter": {
     "outputs_hidden": true
    },
    "tags": []
   },
   "outputs": [
    {
     "ename": "KeyboardInterrupt",
     "evalue": "",
     "output_type": "error",
     "traceback": [
      "\u001b[0;31m---------------------------------------------------------------------------\u001b[0m",
      "\u001b[0;31mKeyboardInterrupt\u001b[0m                         Traceback (most recent call last)",
      "Cell \u001b[0;32mIn [27], line 1\u001b[0m\n\u001b[0;32m----> 1\u001b[0m train_group \u001b[38;5;241m=\u001b[39m \u001b[43mtrain_df\u001b[49m\u001b[43m[\u001b[49m\u001b[43m[\u001b[49m\u001b[38;5;124;43m'\u001b[39;49m\u001b[38;5;124;43mcommunity_id\u001b[39;49m\u001b[38;5;124;43m'\u001b[39;49m\u001b[43m,\u001b[49m\u001b[38;5;124;43m'\u001b[39;49m\u001b[38;5;124;43mcustomer_id\u001b[39;49m\u001b[38;5;124;43m'\u001b[39;49m\u001b[43m]\u001b[49m\u001b[43m]\u001b[49m\u001b[38;5;241;43m.\u001b[39;49m\u001b[43mgroupby\u001b[49m\u001b[43m(\u001b[49m\u001b[38;5;124;43m'\u001b[39;49m\u001b[38;5;124;43mcustomer_id\u001b[39;49m\u001b[38;5;124;43m'\u001b[39;49m\u001b[43m)\u001b[49m\u001b[38;5;241;43m.\u001b[39;49m\u001b[43magg\u001b[49m\u001b[43m(\u001b[49m\u001b[38;5;28;43;01mlambda\u001b[39;49;00m\u001b[43m \u001b[49m\u001b[43mx\u001b[49m\u001b[43m:\u001b[49m\u001b[43mx\u001b[49m\u001b[38;5;241;43m.\u001b[39;49m\u001b[43mtolist\u001b[49m\u001b[43m(\u001b[49m\u001b[43m)\u001b[49m\u001b[43m)\u001b[49m\n",
      "File \u001b[0;32m/usr/local/lib/python3.9/dist-packages/pandas/core/groupby/generic.py:921\u001b[0m, in \u001b[0;36mDataFrameGroupBy.aggregate\u001b[0;34m(self, func, engine, engine_kwargs, *args, **kwargs)\u001b[0m\n\u001b[1;32m    919\u001b[0m gba \u001b[38;5;241m=\u001b[39m GroupByApply(\u001b[38;5;28mself\u001b[39m, [func], args\u001b[38;5;241m=\u001b[39m(), kwargs\u001b[38;5;241m=\u001b[39m{})\n\u001b[1;32m    920\u001b[0m \u001b[38;5;28;01mtry\u001b[39;00m:\n\u001b[0;32m--> 921\u001b[0m     result \u001b[38;5;241m=\u001b[39m \u001b[43mgba\u001b[49m\u001b[38;5;241;43m.\u001b[39;49m\u001b[43magg\u001b[49m\u001b[43m(\u001b[49m\u001b[43m)\u001b[49m\n\u001b[1;32m    923\u001b[0m \u001b[38;5;28;01mexcept\u001b[39;00m \u001b[38;5;167;01mValueError\u001b[39;00m \u001b[38;5;28;01mas\u001b[39;00m err:\n\u001b[1;32m    924\u001b[0m     \u001b[38;5;28;01mif\u001b[39;00m \u001b[38;5;124m\"\u001b[39m\u001b[38;5;124mno results\u001b[39m\u001b[38;5;124m\"\u001b[39m \u001b[38;5;129;01mnot\u001b[39;00m \u001b[38;5;129;01min\u001b[39;00m \u001b[38;5;28mstr\u001b[39m(err):\n\u001b[1;32m    925\u001b[0m         \u001b[38;5;66;03m# raised directly by _aggregate_multiple_funcs\u001b[39;00m\n",
      "File \u001b[0;32m/usr/local/lib/python3.9/dist-packages/pandas/core/apply.py:172\u001b[0m, in \u001b[0;36mApply.agg\u001b[0;34m(self)\u001b[0m\n\u001b[1;32m    169\u001b[0m     \u001b[38;5;28;01mreturn\u001b[39;00m \u001b[38;5;28mself\u001b[39m\u001b[38;5;241m.\u001b[39magg_dict_like()\n\u001b[1;32m    170\u001b[0m \u001b[38;5;28;01melif\u001b[39;00m is_list_like(arg):\n\u001b[1;32m    171\u001b[0m     \u001b[38;5;66;03m# we require a list, but not a 'str'\u001b[39;00m\n\u001b[0;32m--> 172\u001b[0m     \u001b[38;5;28;01mreturn\u001b[39;00m \u001b[38;5;28;43mself\u001b[39;49m\u001b[38;5;241;43m.\u001b[39;49m\u001b[43magg_list_like\u001b[49m\u001b[43m(\u001b[49m\u001b[43m)\u001b[49m\n\u001b[1;32m    174\u001b[0m \u001b[38;5;28;01mif\u001b[39;00m callable(arg):\n\u001b[1;32m    175\u001b[0m     f \u001b[38;5;241m=\u001b[39m com\u001b[38;5;241m.\u001b[39mget_cython_func(arg)\n",
      "File \u001b[0;32m/usr/local/lib/python3.9/dist-packages/pandas/core/apply.py:383\u001b[0m, in \u001b[0;36mApply.agg_list_like\u001b[0;34m(self)\u001b[0m\n\u001b[1;32m    376\u001b[0m \u001b[38;5;28;01mtry\u001b[39;00m:\n\u001b[1;32m    377\u001b[0m     \u001b[38;5;66;03m# Capture and suppress any warnings emitted by us in the call\u001b[39;00m\n\u001b[1;32m    378\u001b[0m     \u001b[38;5;66;03m# to agg below, but pass through any warnings that were\u001b[39;00m\n\u001b[1;32m    379\u001b[0m     \u001b[38;5;66;03m# generated otherwise.\u001b[39;00m\n\u001b[1;32m    380\u001b[0m     \u001b[38;5;66;03m# This is necessary because of https://bugs.python.org/issue29672\u001b[39;00m\n\u001b[1;32m    381\u001b[0m     \u001b[38;5;66;03m# See GH #43741 for more details\u001b[39;00m\n\u001b[1;32m    382\u001b[0m     \u001b[38;5;28;01mwith\u001b[39;00m warnings\u001b[38;5;241m.\u001b[39mcatch_warnings(record\u001b[38;5;241m=\u001b[39m\u001b[38;5;28;01mTrue\u001b[39;00m) \u001b[38;5;28;01mas\u001b[39;00m record:\n\u001b[0;32m--> 383\u001b[0m         new_res \u001b[38;5;241m=\u001b[39m \u001b[43mcolg\u001b[49m\u001b[38;5;241;43m.\u001b[39;49m\u001b[43maggregate\u001b[49m\u001b[43m(\u001b[49m\u001b[43marg\u001b[49m\u001b[43m)\u001b[49m\n\u001b[1;32m    384\u001b[0m     \u001b[38;5;28;01mif\u001b[39;00m \u001b[38;5;28mlen\u001b[39m(record) \u001b[38;5;241m>\u001b[39m \u001b[38;5;241m0\u001b[39m:\n\u001b[1;32m    385\u001b[0m         match \u001b[38;5;241m=\u001b[39m re\u001b[38;5;241m.\u001b[39mcompile(depr_nuisance_columns_msg\u001b[38;5;241m.\u001b[39mformat(\u001b[38;5;124m\"\u001b[39m\u001b[38;5;124m.*\u001b[39m\u001b[38;5;124m\"\u001b[39m))\n",
      "File \u001b[0;32m/usr/local/lib/python3.9/dist-packages/pandas/core/groupby/generic.py:282\u001b[0m, in \u001b[0;36mSeriesGroupBy.aggregate\u001b[0;34m(self, func, engine, engine_kwargs, *args, **kwargs)\u001b[0m\n\u001b[1;32m    278\u001b[0m \u001b[38;5;28;01melif\u001b[39;00m \u001b[38;5;28misinstance\u001b[39m(func, abc\u001b[38;5;241m.\u001b[39mIterable):\n\u001b[1;32m    279\u001b[0m     \u001b[38;5;66;03m# Catch instances of lists / tuples\u001b[39;00m\n\u001b[1;32m    280\u001b[0m     \u001b[38;5;66;03m# but not the class list / tuple itself.\u001b[39;00m\n\u001b[1;32m    281\u001b[0m     func \u001b[38;5;241m=\u001b[39m maybe_mangle_lambdas(func)\n\u001b[0;32m--> 282\u001b[0m     ret \u001b[38;5;241m=\u001b[39m \u001b[38;5;28;43mself\u001b[39;49m\u001b[38;5;241;43m.\u001b[39;49m\u001b[43m_aggregate_multiple_funcs\u001b[49m\u001b[43m(\u001b[49m\u001b[43mfunc\u001b[49m\u001b[43m)\u001b[49m\n\u001b[1;32m    283\u001b[0m     \u001b[38;5;28;01mif\u001b[39;00m relabeling:\n\u001b[1;32m    284\u001b[0m         \u001b[38;5;66;03m# columns is not narrowed by mypy from relabeling flag\u001b[39;00m\n\u001b[1;32m    285\u001b[0m         \u001b[38;5;28;01massert\u001b[39;00m columns \u001b[38;5;129;01mis\u001b[39;00m \u001b[38;5;129;01mnot\u001b[39;00m \u001b[38;5;28;01mNone\u001b[39;00m  \u001b[38;5;66;03m# for mypy\u001b[39;00m\n",
      "File \u001b[0;32m/usr/local/lib/python3.9/dist-packages/pandas/core/groupby/generic.py:337\u001b[0m, in \u001b[0;36mSeriesGroupBy._aggregate_multiple_funcs\u001b[0;34m(self, arg)\u001b[0m\n\u001b[1;32m    334\u001b[0m \u001b[38;5;28;01mfor\u001b[39;00m idx, (name, func) \u001b[38;5;129;01min\u001b[39;00m \u001b[38;5;28menumerate\u001b[39m(arg):\n\u001b[1;32m    336\u001b[0m     key \u001b[38;5;241m=\u001b[39m base\u001b[38;5;241m.\u001b[39mOutputKey(label\u001b[38;5;241m=\u001b[39mname, position\u001b[38;5;241m=\u001b[39midx)\n\u001b[0;32m--> 337\u001b[0m     results[key] \u001b[38;5;241m=\u001b[39m \u001b[38;5;28;43mself\u001b[39;49m\u001b[38;5;241;43m.\u001b[39;49m\u001b[43maggregate\u001b[49m\u001b[43m(\u001b[49m\u001b[43mfunc\u001b[49m\u001b[43m)\u001b[49m\n\u001b[1;32m    339\u001b[0m \u001b[38;5;28;01mif\u001b[39;00m \u001b[38;5;28many\u001b[39m(\u001b[38;5;28misinstance\u001b[39m(x, DataFrame) \u001b[38;5;28;01mfor\u001b[39;00m x \u001b[38;5;129;01min\u001b[39;00m results\u001b[38;5;241m.\u001b[39mvalues()):\n\u001b[1;32m    340\u001b[0m     \u001b[38;5;28;01mfrom\u001b[39;00m \u001b[38;5;21;01mpandas\u001b[39;00m \u001b[38;5;28;01mimport\u001b[39;00m concat\n",
      "File \u001b[0;32m/usr/local/lib/python3.9/dist-packages/pandas/core/groupby/generic.py:298\u001b[0m, in \u001b[0;36mSeriesGroupBy.aggregate\u001b[0;34m(self, func, engine, engine_kwargs, *args, **kwargs)\u001b[0m\n\u001b[1;32m    295\u001b[0m     \u001b[38;5;28;01mreturn\u001b[39;00m \u001b[38;5;28mself\u001b[39m\u001b[38;5;241m.\u001b[39m_python_agg_general(func, \u001b[38;5;241m*\u001b[39margs, \u001b[38;5;241m*\u001b[39m\u001b[38;5;241m*\u001b[39mkwargs)\n\u001b[1;32m    297\u001b[0m \u001b[38;5;28;01mtry\u001b[39;00m:\n\u001b[0;32m--> 298\u001b[0m     \u001b[38;5;28;01mreturn\u001b[39;00m \u001b[38;5;28;43mself\u001b[39;49m\u001b[38;5;241;43m.\u001b[39;49m\u001b[43m_python_agg_general\u001b[49m\u001b[43m(\u001b[49m\u001b[43mfunc\u001b[49m\u001b[43m,\u001b[49m\u001b[43m \u001b[49m\u001b[38;5;241;43m*\u001b[39;49m\u001b[43margs\u001b[49m\u001b[43m,\u001b[49m\u001b[43m \u001b[49m\u001b[38;5;241;43m*\u001b[39;49m\u001b[38;5;241;43m*\u001b[39;49m\u001b[43mkwargs\u001b[49m\u001b[43m)\u001b[49m\n\u001b[1;32m    299\u001b[0m \u001b[38;5;28;01mexcept\u001b[39;00m \u001b[38;5;167;01mKeyError\u001b[39;00m:\n\u001b[1;32m    300\u001b[0m     \u001b[38;5;66;03m# TODO: KeyError is raised in _python_agg_general,\u001b[39;00m\n\u001b[1;32m    301\u001b[0m     \u001b[38;5;66;03m#  see test_groupby.test_basic\u001b[39;00m\n\u001b[1;32m    302\u001b[0m     result \u001b[38;5;241m=\u001b[39m \u001b[38;5;28mself\u001b[39m\u001b[38;5;241m.\u001b[39m_aggregate_named(func, \u001b[38;5;241m*\u001b[39margs, \u001b[38;5;241m*\u001b[39m\u001b[38;5;241m*\u001b[39mkwargs)\n",
      "File \u001b[0;32m/usr/local/lib/python3.9/dist-packages/pandas/core/groupby/groupby.py:1665\u001b[0m, in \u001b[0;36mGroupBy._python_agg_general\u001b[0;34m(self, func, raise_on_typeerror, *args, **kwargs)\u001b[0m\n\u001b[1;32m   1661\u001b[0m name \u001b[38;5;241m=\u001b[39m obj\u001b[38;5;241m.\u001b[39mname\n\u001b[1;32m   1663\u001b[0m \u001b[38;5;28;01mtry\u001b[39;00m:\n\u001b[1;32m   1664\u001b[0m     \u001b[38;5;66;03m# if this function is invalid for this dtype, we will ignore it.\u001b[39;00m\n\u001b[0;32m-> 1665\u001b[0m     result \u001b[38;5;241m=\u001b[39m \u001b[38;5;28;43mself\u001b[39;49m\u001b[38;5;241;43m.\u001b[39;49m\u001b[43mgrouper\u001b[49m\u001b[38;5;241;43m.\u001b[39;49m\u001b[43magg_series\u001b[49m\u001b[43m(\u001b[49m\u001b[43mobj\u001b[49m\u001b[43m,\u001b[49m\u001b[43m \u001b[49m\u001b[43mf\u001b[49m\u001b[43m)\u001b[49m\n\u001b[1;32m   1666\u001b[0m \u001b[38;5;28;01mexcept\u001b[39;00m \u001b[38;5;167;01mTypeError\u001b[39;00m:\n\u001b[1;32m   1667\u001b[0m     \u001b[38;5;28;01mif\u001b[39;00m raise_on_typeerror:\n",
      "File \u001b[0;32m/usr/local/lib/python3.9/dist-packages/pandas/core/groupby/ops.py:1082\u001b[0m, in \u001b[0;36mBaseGrouper.agg_series\u001b[0;34m(self, obj, func, preserve_dtype)\u001b[0m\n\u001b[1;32m   1079\u001b[0m     preserve_dtype \u001b[38;5;241m=\u001b[39m \u001b[38;5;28;01mTrue\u001b[39;00m\n\u001b[1;32m   1081\u001b[0m \u001b[38;5;28;01melse\u001b[39;00m:\n\u001b[0;32m-> 1082\u001b[0m     result \u001b[38;5;241m=\u001b[39m \u001b[38;5;28;43mself\u001b[39;49m\u001b[38;5;241;43m.\u001b[39;49m\u001b[43m_aggregate_series_pure_python\u001b[49m\u001b[43m(\u001b[49m\u001b[43mobj\u001b[49m\u001b[43m,\u001b[49m\u001b[43m \u001b[49m\u001b[43mfunc\u001b[49m\u001b[43m)\u001b[49m\n\u001b[1;32m   1084\u001b[0m npvalues \u001b[38;5;241m=\u001b[39m lib\u001b[38;5;241m.\u001b[39mmaybe_convert_objects(result, try_float\u001b[38;5;241m=\u001b[39m\u001b[38;5;28;01mFalse\u001b[39;00m)\n\u001b[1;32m   1085\u001b[0m \u001b[38;5;28;01mif\u001b[39;00m preserve_dtype:\n",
      "File \u001b[0;32m/usr/local/lib/python3.9/dist-packages/pandas/core/groupby/ops.py:1104\u001b[0m, in \u001b[0;36mBaseGrouper._aggregate_series_pure_python\u001b[0;34m(self, obj, func)\u001b[0m\n\u001b[1;32m   1101\u001b[0m \u001b[38;5;66;03m# equiv: splitter = self._get_splitter(obj, axis=0)\u001b[39;00m\n\u001b[1;32m   1102\u001b[0m splitter \u001b[38;5;241m=\u001b[39m get_splitter(obj, ids, ngroups, axis\u001b[38;5;241m=\u001b[39m\u001b[38;5;241m0\u001b[39m)\n\u001b[0;32m-> 1104\u001b[0m \u001b[38;5;28;01mfor\u001b[39;00m i, group \u001b[38;5;129;01min\u001b[39;00m \u001b[38;5;28menumerate\u001b[39m(splitter):\n\u001b[1;32m   1105\u001b[0m     res \u001b[38;5;241m=\u001b[39m func(group)\n\u001b[1;32m   1106\u001b[0m     res \u001b[38;5;241m=\u001b[39m libreduction\u001b[38;5;241m.\u001b[39mextract_result(res)\n",
      "File \u001b[0;32m/usr/local/lib/python3.9/dist-packages/pandas/core/groupby/ops.py:1333\u001b[0m, in \u001b[0;36mDataSplitter.__iter__\u001b[0;34m(self)\u001b[0m\n\u001b[1;32m   1330\u001b[0m starts, ends \u001b[38;5;241m=\u001b[39m lib\u001b[38;5;241m.\u001b[39mgenerate_slices(\u001b[38;5;28mself\u001b[39m\u001b[38;5;241m.\u001b[39mslabels, \u001b[38;5;28mself\u001b[39m\u001b[38;5;241m.\u001b[39mngroups)\n\u001b[1;32m   1332\u001b[0m \u001b[38;5;28;01mfor\u001b[39;00m start, end \u001b[38;5;129;01min\u001b[39;00m \u001b[38;5;28mzip\u001b[39m(starts, ends):\n\u001b[0;32m-> 1333\u001b[0m     \u001b[38;5;28;01myield\u001b[39;00m \u001b[38;5;28;43mself\u001b[39;49m\u001b[38;5;241;43m.\u001b[39;49m\u001b[43m_chop\u001b[49m\u001b[43m(\u001b[49m\u001b[43msdata\u001b[49m\u001b[43m,\u001b[49m\u001b[43m \u001b[49m\u001b[38;5;28;43mslice\u001b[39;49m\u001b[43m(\u001b[49m\u001b[43mstart\u001b[49m\u001b[43m,\u001b[49m\u001b[43m \u001b[49m\u001b[43mend\u001b[49m\u001b[43m)\u001b[49m\u001b[43m)\u001b[49m\n",
      "File \u001b[0;32m/usr/local/lib/python3.9/dist-packages/pandas/core/groupby/ops.py:1346\u001b[0m, in \u001b[0;36mSeriesSplitter._chop\u001b[0;34m(self, sdata, slice_obj)\u001b[0m\n\u001b[1;32m   1344\u001b[0m \u001b[38;5;28;01mdef\u001b[39;00m \u001b[38;5;21m_chop\u001b[39m(\u001b[38;5;28mself\u001b[39m, sdata: Series, slice_obj: \u001b[38;5;28mslice\u001b[39m) \u001b[38;5;241m-\u001b[39m\u001b[38;5;241m>\u001b[39m Series:\n\u001b[1;32m   1345\u001b[0m     \u001b[38;5;66;03m# fastpath equivalent to `sdata.iloc[slice_obj]`\u001b[39;00m\n\u001b[0;32m-> 1346\u001b[0m     mgr \u001b[38;5;241m=\u001b[39m \u001b[43msdata\u001b[49m\u001b[38;5;241;43m.\u001b[39;49m\u001b[43m_mgr\u001b[49m\u001b[38;5;241;43m.\u001b[39;49m\u001b[43mget_slice\u001b[49m\u001b[43m(\u001b[49m\u001b[43mslice_obj\u001b[49m\u001b[43m)\u001b[49m\n\u001b[1;32m   1347\u001b[0m     ser \u001b[38;5;241m=\u001b[39m sdata\u001b[38;5;241m.\u001b[39m_constructor(mgr, name\u001b[38;5;241m=\u001b[39msdata\u001b[38;5;241m.\u001b[39mname, fastpath\u001b[38;5;241m=\u001b[39m\u001b[38;5;28;01mTrue\u001b[39;00m)\n\u001b[1;32m   1348\u001b[0m     \u001b[38;5;28;01mreturn\u001b[39;00m ser\u001b[38;5;241m.\u001b[39m__finalize__(sdata, method\u001b[38;5;241m=\u001b[39m\u001b[38;5;124m\"\u001b[39m\u001b[38;5;124mgroupby\u001b[39m\u001b[38;5;124m\"\u001b[39m)\n",
      "File \u001b[0;32m/usr/local/lib/python3.9/dist-packages/pandas/core/internals/managers.py:2018\u001b[0m, in \u001b[0;36mSingleBlockManager.get_slice\u001b[0;34m(self, slobj, axis)\u001b[0m\n\u001b[1;32m   2016\u001b[0m blk \u001b[38;5;241m=\u001b[39m \u001b[38;5;28mself\u001b[39m\u001b[38;5;241m.\u001b[39m_block\n\u001b[1;32m   2017\u001b[0m array \u001b[38;5;241m=\u001b[39m blk\u001b[38;5;241m.\u001b[39m_slice(slobj)\n\u001b[0;32m-> 2018\u001b[0m bp \u001b[38;5;241m=\u001b[39m BlockPlacement(\u001b[38;5;28mslice\u001b[39m(\u001b[38;5;241m0\u001b[39m, \u001b[38;5;28;43mlen\u001b[39;49m(array)))\n\u001b[1;32m   2019\u001b[0m block \u001b[38;5;241m=\u001b[39m \u001b[38;5;28mtype\u001b[39m(blk)(array, placement\u001b[38;5;241m=\u001b[39mbp, ndim\u001b[38;5;241m=\u001b[39m\u001b[38;5;241m1\u001b[39m)\n\u001b[1;32m   2020\u001b[0m new_index \u001b[38;5;241m=\u001b[39m \u001b[38;5;28mself\u001b[39m\u001b[38;5;241m.\u001b[39mindex\u001b[38;5;241m.\u001b[39m_getitem_slice(slobj)\n",
      "\u001b[0;31mKeyboardInterrupt\u001b[0m: "
     ]
    }
   ],
   "source": [
    "train_group = train_df[['community_id','customer_id']].groupby('customer_id').agg(lambda x:x.tolist())"
   ]
  },
  {
   "cell_type": "code",
   "execution_count": null,
   "metadata": {},
   "outputs": [],
   "source": [
    "sorted_tr_data = train_df.sort_values(by='customers_count')[::-1]\n",
    "best_subs = sorted_tr_data.community_id.unique()[:200]\n",
    "simple_preds = best_subs[:7].tolist()\n",
    "mapk(act,[simple_preds] * len(act))"
   ]
  },
  {
   "cell_type": "code",
   "execution_count": 74,
   "metadata": {},
   "outputs": [
    {
     "data": {
      "text/plain": [
       "0.00011528911564625848"
      ]
     },
     "execution_count": 74,
     "metadata": {},
     "output_type": "execute_result"
    }
   ],
   "source": [
    "act = test_group['community_id'].tolist()\n",
    "mapk(act,rmk_preds.tolist(),k=7)"
   ]
  },
  {
   "cell_type": "code",
   "execution_count": 77,
   "metadata": {
    "collapsed": true,
    "jupyter": {
     "outputs_hidden": true
    },
    "tags": []
   },
   "outputs": [
    {
     "data": {
      "text/plain": [
       "array(['8d7d59076ae7149f7887be1700f5cdbcb8b41d8395a22ab107007047a5463b51fe2463440f11e8f69cbdd4acdff97a78968cabcfc044745b25d6131551824bdb',\n",
       "       'acde8a186a309ea3b457ed9a0c98cacb71b62fbad47bfd8fa41aea535a82bc2cb7889ebdc4a0d33cf27e85fcdcf18c1284ceab54386a78f20b62b4ab8c02ca4a',\n",
       "       'c17e17f6eca305de49ced3c6b5472924ab71c94a0d7519ca9981005eb0651cc8927023cd5098b203d2fd6e9e8087b83201697b50b43598816a5bf76e624dd181',\n",
       "       'ec9d0673bb132410c8441176d4a4ea18d5024a7f02a38de14758ccf8d36882995f8d1fc814f398d3e2238eb00c72fb7fb1d6085747243935a4beabb7dfab462f',\n",
       "       '0a546c7b54fb9a0ed2a1a60d3e02e9417ee80984e1c6d38293aeab5671dcf2b1ac2c6006264d87acc654eadfe174e75140b3b93b129b98a139e0ced890add8a1',\n",
       "       '11c447c7cbf20b664224f9db0b7661c88efc255f9e52112424a0e5021d23081095148159644d792e2bbdbeccfd16cb65df608239e5078a7a9b1255f8262eebac',\n",
       "       'db149b8bcf227aa8b587185c74abb70894a2380a6e8143987c197b9d55f272f5e47b6f582ba1b8de07b5cd6312c8a0a7ecdf02b0f01552edba818c9aa0c74421'],\n",
       "      dtype='<U128')"
      ]
     },
     "execution_count": 77,
     "metadata": {},
     "output_type": "execute_result"
    }
   ],
   "source": [
    "rmk_preds[1]"
   ]
  },
  {
   "cell_type": "code",
   "execution_count": 79,
   "metadata": {
    "collapsed": true,
    "jupyter": {
     "outputs_hidden": true
    },
    "tags": []
   },
   "outputs": [
    {
     "data": {
      "text/plain": [
       "['1193c191061a52e851adbaa550cd1de8e40a5d11ee0a714b3b316331d86572262bddf6ab2c31ec79554ed745c482cf0cd52ee1fc53426ee6d45423396104a585',\n",
       " 'f873b83cd2d9eaf3e5e1d181e41bcbe2108df665f644f103443948896ec458ff03a61e22a5f90ec840c5006fe1f200d076f51c155b983257bc0a6513a87a6b0a',\n",
       " '3a495d488a80c25dfe789992a0f51b257bcd935694ad19ef8e0d50066c1883942d6dd43bb0fc037ace9527b1f7402bd15cfd218e5c5a523b3d3dc78a7de23d70',\n",
       " '55d99312f32b4817ecdcb160db1cd19b090e0acf28deb4ed368ba0a4a8469d4d7280e0642d67f755c25a5eadc7c4508eb83a37082ea125365822484f1cc8a78b',\n",
       " 'e707ddeb5c57a9789a727f15236355440a17aa28a47b9b0fc0f067bda2f69ee543e14329a7975e6b42aeb7eb77f61b2d7fd773df72f1c19c0e8cea1b92aa32f7',\n",
       " '03cb8f26c3eb07bb6eb174673f353940403b39ffa4ccb6f7fe0d6d1a2d2019406682f97cebefd44dd9070341252b698025a7b58225a4c7f6e90c4f37af2137fa',\n",
       " 'fca646973562ee10a7a9a947e059504994d24d5f9ea6a279f4be27d9778a5d4fdbd3163efbebdd3c7cda43d06b06ad8b788b3282f87e6d53af5ec4d3fb7d8a5d',\n",
       " '1d93267e648bf5d7eb87bc93da4463aaff7f45451a6edd601b3a81ca40f4610c8609dffaafdfc18694df2fcd4af3e9f6b7f4f01c5a04dcd0f552378c5f43ecb4',\n",
       " '34321a0e4a62f6ef2f54542f4bc10b07e795ec545ca5d9fd3d64127fca6cc8c28040386463b1cde74c57dba15c5a09989a56404ea8f8f5f7e495a222c7fe99b0',\n",
       " 'c11b5457221528b4c3ab56b9b7813cc73ef04bcebec3d03d87d9d17badc3b07c35759e2235e5b3ee2564ee3f61cbdf655a9f17395ec01105737a91014e39c4cc',\n",
       " 'c865922f5d88ca22c41d201420663c132032559d8018cdc7218e31ff6b9f3dcf955ccf287a43bd5c465dfdbe5cf27f00c7e40a0252a5fd494b3d2a2f6e3c91e9',\n",
       " '7caf56e1ae4683d44ff611fb6f69ad39e036905e12c39de1356f303fdd4e3bf3277f18ffd2c8ce05c0e4d8ce9371dfd08efa00cfe0b4f7d0392d88d532cd1c4f',\n",
       " '1d8629e681c687122fbde3d281c8a2d3ef18758125e0476eae19ceac1b3bfd23fa4ef8160b4a86d5356bebedda3c05afbe2c52d8ba47edae46325a6d8da54402',\n",
       " '77969b4c18df8e648e8610e8375d3998fa5ec21b790c2e5b8756f2e7bb0daf45997da08a73713ab5c4a34dc8d85aa3d2ccda51d97c81a73bd613bf6b506852bb',\n",
       " 'd24e2e3a628cfc258685f88fc5de0c9274a35e6ada71bf876dce89957bdbe9c7a34d833a9e463e57be7bbc995d5f0f40fbeb6be2d5207b0840c339543931b0ad',\n",
       " '087551a8daa728d9f664a44b70ff78d7b7c53d2bff2b3a13bf8449b1e2fc81e171aef01933ab6cd18f232ca356d0ef59e735c52947b0efa20a250ac14c685d10',\n",
       " '36889222ad50800a3468485f6ee7b7474773fa78a20ee99ec728ea8b2daad16a45f0dc080c4c0aa05d075d1b1307a8810d0aa87551593f8f7139590346cfbd85',\n",
       " '6e4cdf282a92174e3225fd0b61f770bee5272078e76dcd7326d400129c890f41a43f7fd7ba8222928501f271dbb0acb78fae946c42f67aa60905428c8faf3776',\n",
       " '6c1c07644b044d1d0ca89c2b767ca073c6d60da12d228078e408f7288a6f03b0f46beb178f9dbbf3a9af3ed94c3c4cf84f8778b137b50013ba21bb70108e9183',\n",
       " '9018af5648de6baa5fd7063aaada286e8195080654492522cac7e2077ec722aa60d6c7d9893191e3874c7c1ee517a421e827c0c52c213628ade0b290b157c6d5',\n",
       " 'ac4e1c4db486a4fbb19bf1bcce9ba6c1b413b4030b3acd78a053dc19f5749a268e3b9d89d329fbc5cc44579a4e5f241fee53db2e6724ed4c71f10bb7ea4fd759',\n",
       " '316102d05c366e75169770be3c08edacf38602373964cd304553b1cde5417c0fa11da3d7dc4efb76be0ec4826bcd8040aa5506df87494eb3fe7744c371750732',\n",
       " '80507f6ae3d0cc92442edbed958c00efb7299bc2bfd299db1b272d4169c96a7e4d0b57f69ac1631173d3c45efc2d46a6d4a0baeca64f94f24713c60dd4d051d5',\n",
       " '4c98c1b8c11050b4319b0e971992ada477efc11bcaa46f3db1e8ed8871ee25d981d8c17cfdcff76c4a9abb61ff2845d8ef55508f4baaa1b221fab91faae46328',\n",
       " 'ad06e160a7b52fd2672bb1153a389cf459c4d5eca12c4a62684bce63e3333ea7dab6522408e2ad73a1e45c138e88c72ead47c7fdd08b7fa6312204b8291650c2',\n",
       " '12fe98c4497884293f54e35780e774b0c884c01d83999bd7da558fc4b40dd6c398660d90b64ca5565785dc427a89a9a4f3bdd87fff7e8891685f702e0c93cacd',\n",
       " '40d08823efc89da7ab266f8e12662f8a8ed35bedc25d63ba66acce5a85579b169eef113c6374b7a81f49e01f98b71f92c18ee939623373d0f9280ce016dacab8',\n",
       " 'df6eb501fa68971de73f0ffb8da6b1b07aa90e88863f264cda51113cd7a8e64dec3807c114c529cea2338b4201cb65334e4ca2424b02fe7e603aef2ede84ee8f',\n",
       " '00b16c43dbc4847409b90e5192eb2e3415094d0924dacadcbdff226719cc3b9a234ed0a2105c6c16e10f952eff3da070b830ef9b2a69248fd1045548c7de1f2f',\n",
       " '1ef02f78dadcc31b3406b2f28b515a47292a5fac480b0e27f7dd62a50c174ba9e8db06e503fecc0c37209d2642a6260dc74c4334babb6b5598c63b1846042f0a',\n",
       " '91f2fa80121d1affa1e940934cfc9f012420d4ae21dc49cb8736531e2bd9507589c778c48601cc22b149b5347878f7b6b9e379b93eeb4b887aef4b633b798865',\n",
       " '4b811728e8fa5616a3dacd86a297b9e0df25a22afbd11b502430bc501b2f1ca814a7e7f0cfd0f57f0518092d9ec033ef953f57aad74140cd1a469eeb3062c34f',\n",
       " '0fe433eed1bd4f98fe8fb37de4e3a4607958fe09ac0ffc96eb77d49bb39a330ecd071e4d0a1a645c7834b08b7784c253f343e97ef5b37be44db259f9dbcc2a4e',\n",
       " '0f0566429dcdf5610e2f2151052c05178986a3fda9a72f6994e66bbfe67d552333ee6e96bd8d23cd1030a73b317147aba0947800b3785413d2bfe5c7d9775baf',\n",
       " 'bcf3769fc3c032c547ed9f33685ef558fd780c05409c2122c005e86d191b137724f1cf4ed606db5f188081df088f23c869274245d849790fdff47d96b24337eb',\n",
       " '15503806af0a8f71dd716642f140c79269df80406c4c5421783fdf0562392e1c08d03dd47510893a4e3b79c15c1592b0eedafc77ad2ff781c1874b7c2afe89e4',\n",
       " '5d5557572dd177be769f0dd84088b3c473abf3136742cce98f1b2082c4f722de8023388210aff06684b431c6fa705a6697e8b98531bad3758de4dc3e9c2659c3',\n",
       " 'd736f26d1bc94ee2aacd4494e8a9719aa6e7de054b8ced213d71068615946a0492a8476e6d83c7038debb97bba2bbe75aff51174ffc4c12b852861173da06acd',\n",
       " '021639387c01d933a6d1808fb92027d95dc2607b85f22bed31dda809fe1f2bb31f084b7a8aca3fefaba7dc65680a4ba671284cebe28445e5340552488c3f4ce2',\n",
       " '1b72a0ac6c0b65b9b0c2038fc330dc2855cea480d42d684af1248bcea466fe3a681ed6216c89a46b0fb9f99290121507a92518e8f1fcea39e7e4edf39f6a1bd5',\n",
       " '79e8ac8f905531bf2f860354dd1a61f29c1d59286d2c23bef6933bc8d1a98e33fa79be9c80f4604a3f25945fd4a9ddcd92adb423eb6e0e37f924d5274a9e0a7f',\n",
       " '7c55c7a44411c6a86e558c25fc1db47acba74f45865e37ac5fd967e3919ac2a58bf757cbc47ad553209e21cc193807000221711eb079b8f18640df99b80a34bb',\n",
       " '9d63c7f56020849f061712f1bb6b0deaf81c4744cf56286cde28498f6ec8d54713d788ffab3dcbee49a8c4b60b73f6583da2f289ac285670a2f5c26ec28256f4',\n",
       " 'd975a04516e81a0e2956cd2d37a4fcb25ae5b13cf16709540c858dcb48d2ac9efc4c5788f8a0f65ec4f22e829972993b1615b794c924078797673ce367c6f30f',\n",
       " '7ccab41bd2b307c8ee4955ed5dc6c2530fe65b95e41e7a23869d2d209d6e3d7b0b828d7537a20cee2eb7be173e307090d3f25dd79297a64d676ffa666062f396',\n",
       " '554b3db4d7caf8d2c88ce5b2d4942c656d826cd67f6c95edcee9dfb2e3f3d9cf305639780d44bfd886a5ddaa0b5f85d2fe2055af58c7cb8e217814f763b810e5',\n",
       " 'c10d263997f938efa014bec015da96cd19186060424e063f2d78f246296c0a4382a68628f5aa41f925495b1bfa9cf6cd9586d824efa0267491a4c5116f43dde6',\n",
       " '2508388f9ba116cb1c00e5ef011770e3e6c6cbe6c8c2abae2d5474dd2aad587eec41fc499ff5e2ac5662b42778abc1a0eb9e6937eebf24ee603255e655a4d994',\n",
       " 'd30182f8432460aae59535d4a5ca1a168c688c93a55b1a60b17bb424d45869b9d613b07767c98e12c809bb0a6eee3b30041dcb446d1dcf11eba1241d3aaaa496',\n",
       " 'ae5bbfd2c2715c38cfa8d37b1491f98006d98cfb035c28382d589a69a8a08c6176ef65eb1620e6144509b5e5c6fea4a65fab96b406fa17008af8619a953bbd5e']"
      ]
     },
     "execution_count": 79,
     "metadata": {},
     "output_type": "execute_result"
    }
   ],
   "source": [
    "test_preds[1]"
   ]
  },
  {
   "cell_type": "code",
   "execution_count": 49,
   "metadata": {
    "collapsed": true,
    "jupyter": {
     "outputs_hidden": true
    },
    "tags": []
   },
   "outputs": [
    {
     "data": {
      "text/plain": [
       "['fa0b3fca5d767521d3aceae5f71c601467cd1874f2f213153ea35f6e8bc98acfbb936a8b618a8506ee0abb121f46d58eb3415d5b8f9c87e9769d94a4f0708422',\n",
       " '788d6f1380f41cf88eef1ccfdb73902c6a4618007797f75422e7c7273cc236a94ce92d731e62190f894c0af684bbc5fdbe4346dead4624b61045f9455a5d7c00',\n",
       " '6bfd7f576af5b5dd14ef85d43ae1839908002bbc4ad5c775b2798806e361599087660bec82d4238f26685c9fbb2d7f4508843774c257f0cd536606f6e82ab5fd',\n",
       " 'b0273c85ae7731959b30db3cf59828855b63af0d6da46e1aed2004eb0e2f2d07d971ed951f73842083dd8542062c99b26f3649549f1d09fb3ff0228e3b02dcf6',\n",
       " '961bf396baa08be47f080972bab6b5ac0c2b36706152e41fdf5053c9851fef7260bb5945c0401dec2aa02ca565fd93a2e92fe964adcd28567ee3945da68075aa',\n",
       " '9d0361a322e3964c6a23f533c52f6cfb74c665d7019cc161672bd11331f6218d4e208729ba8ee58f6a871f35475ba1f1bbc6ce993c9042293c61a275cd931969',\n",
       " 'dd873be43c0e3315eec04e9cb32eef6c5eb15b6d52811d044e20b0e4f89e26188486485f296a0b24f5e185bc9d8fdb06bd106dd754f0dbe15959599f11dd0c07',\n",
       " '036d5c4792bfa5405f0c81e522630a333419087ed8238fc76b1ff834ae00526610489df889c713d2a8459d288186877d3888bb61307f678bc69d71e30ca8aaf3',\n",
       " '94210ed11b734a41ecb62e67b17341315448ed70206faf44aeb5d541ff1e9269c7904cdc31fcc93ed78baba1d96a691bf6c534d8391de9261cfcd1e9dc1f8591',\n",
       " '7d30069f5dc6329e61de8f9e0210f68409a30bdcba7774cbd0c31ded1652205de0161fd63c6a5b7454d7c8ee1577126bc36a6273e2f8c23779645d6103877fef',\n",
       " 'db0bbd1d6ff95b24a08e1a89c3be4bad4dc61f4d2011b81f818783f190d80427b4dfaff740141c9e1abf93876b23ed844639cbcf2a8b01a97c2ee3223096ce05',\n",
       " '2d4bdc8c43083690d1c086efbf790be76a2ab75fa9fdbc74df29d3dab62754639880f4ff815c6e7d95a572968919194827555041ad49f4d8bcdccaa4487ebec8',\n",
       " '876b02582d23888902f2a7c903a8f54057fc92f59687b2915caccdd42f0e1344f87d106f3c9fd749d06fdaa7580cb1f41634d31ceb7dbdb511c902a46ca483c6',\n",
       " 'd7928c7782fb2d3cd1f195fb49a8f3152f672951e83eb90dee4a77446a8055753b7e627a288701a1f3fa3bf3617a9cafe55078f6e99524a7748ffbf435afdaa1',\n",
       " '22bc029920f92ea9032070e4c58c328dbffc9a398ed7b893b576276692ba9bbc3487b931bf4049b2bd0a60061326830883f3740094d20c9e5a5b1c438598437e',\n",
       " 'c3c546dfa18bbdb5ca35adfe2c549a896fc9468d23372834be66d8ec89ad6aac1d7c6ab192997089a941d05020cbcf00834e128e2ea3fd86b6197d44ecf44b21',\n",
       " 'b1983f241ec9baf27c9207d56ac25fe06e2752c1c22b00ccc6757c21395538fd1e7d2f25a76727897c4d81bbb5be25c9e0662b5fcfc02ad0f08e46b86265c147',\n",
       " 'c1ed81dbe1479e668bc2b4d0f370741cf212714f39be243951845cdeeda84db396371de64db2f75afe395e5dff8bed3a2276ba5eeddf9ab628eb4636da4fa2f1',\n",
       " '7440dc1bbd88e3b3395647fbe0acd089e51821cf41fde3cdf271e7ba4b410fae138f1c0aa6cf0df199ea2b1470bd4b1a7e7a699003ef6d81060a8d1aa4d93fa0',\n",
       " '29915de50e251b5abecbfcb02dff1b6d8d74286e09a179efe3f636799ead65f91a76ee06f8891d76ac87c41e8b6e2b93314094dc20e63bc7ede3240d0e544afe',\n",
       " 'c804962e1cd17bacc8df644f10bd4fb7f0d3e72aebf5b4faf2f0eb65e4b73b1eacb20e626e0d952620c8c22e0f774a69b3c2bf2ae51dbf145b63aa422961f063',\n",
       " '85ce9e646d65a9793be8958802dfdcd38910461ea9792e56f4943297b304114f1de2c012372ec170d87b6569b81c66e9539d3192b99ba1d7dd43ce07fa0a894b',\n",
       " 'd4928f9478fdf7dc271a431f79aa94a143a6bbad9c67f2e3831f82454989d08c22622b771ee846a999583030baf01a106b8e4a635ca5ef5b7d2ca07cfd153ffe',\n",
       " '2365f5afb46a44b457da3255fe28e5ce31a4bfdfb48c5be3835cf17ee6561f9379466ed4a6edd56dcc00ae700ca83dd5edbcacc4d19cfb4657287b1f6bccc9d0',\n",
       " '5cfd0a23a1ddebee4eafeb2de1cb1f31569ee1a85cb0a43dc707be28430a2a8a337d9fa2a0ad6d85f68ef70343ba93e0368582609d960847651e499666d98af6',\n",
       " '37b14edab46bb10a032731a888654d71874c1dd37d6642ff404e25250e0d1f0d2089822b26f243031489cb1c28dcc0f4832a5592e81c8979fbea96b8250f4b0f',\n",
       " '8810bb120ff486f5624fb7a1bf3f1a7c983cc8e3047993c548031f49ca568ea14aa4372a8a1c761667005e499c945eb9e3c12df3822de42fc200555675867bad',\n",
       " '46810b8b79415388797e0022f83032e332e25fc174e01c16f3010400ea5697eacb25aa47dd8eb2a4794bdf2f05fc97d0db84bbb1474df2450ce9b8217ab2584d',\n",
       " '35add43052b55f3a71c69ef7ef519616c0c9021c97388d8c62df81fde80240dc4c11b8be1c249a866d3d513d639471ed099143dc6743f9dcd4dda783b3e98d4d',\n",
       " 'd07a37be7c6f56b13832077aa9cc266be18291bf2b057bcf12e81b7ad1e115af304036ed162eca8ac7ccf845f6367e54399ee82cd692699e2a332fd6bd292edd',\n",
       " '7032453d6382a2915c80660a15ea79864aa32bf212f6139010af2ea1350822af970a2f4ae56ef62c9ccdffbe8ff2a83d36cb70031bdd5608b4599f2c504df388',\n",
       " 'ba0a1538aeddfb15b64ccf6b2d50b299a29f4264ffb218744310c12b453096193fda63c0cd7ab323b51a54c3407f0d10e36b5954406ba0c272f87dfdc039ff34',\n",
       " '16e0b314bedb3bc70d38bd65a45adbdce13a222fa8869f1338028f0c767c0ec428bd35b2bb3f9058482275bf1b4f467238708d3e81cb45caa2d41bdd85ee9748',\n",
       " 'dbdfd740d998c646f3cd5dadf256848a94f2d5a1b07414c478bf9546e3a61ffd975e3c51a6ddcf0fccb8959285b09b335132ecab0a6f65614867443a76bd6850',\n",
       " 'e97f2edc65688ff56ce883eccb8433e4f5c2e9da3b1699eb40fc2e1a11458c802de5799b9975f434b651d6690a2ffe55102e3a5894d7fecbaec9364ebaad5638',\n",
       " 'a54b625bf2aaf51879703ee97f52eb303eac5f46e7b7ed88e8152a9f57099381d9d5ede37437ab662b9b14d9c33d7ba3c53a6260cdfd1d2d4f44101f8b99839e',\n",
       " '6bab99c237bf2c038027b979a61a384ac11dc0ec2d54a34b459d3f7aac660b7542902ce8f5020bbb71fc75f6bfcd20dd98ae733545a5b8e7ab08ebede647d7fc',\n",
       " 'be835cbdb983d6f7ed3fa414fc56ec5bc91b67bffb097b39eecd07a5a908c043af1dddba1b876536554014bee28c9398fd9c84280b04857cddfc8dabd7530593',\n",
       " '30a9a9a913d883ea55f4c8050eb539fb947152de7c43e1c53e5b545df6510faaf09323cdbf570619cdbc0e596c60cfdb7c19b465f544ae599be2a52f8e6b1c6b',\n",
       " '642bae34be38531ee56cc411d3b1a2fdc47eb1ac97194aeeaeb81fd17c4ce1838cd95aaa8853097e0b516d125940b5430cf2856fb508a1a734a84feb3be501a6',\n",
       " '9ec969dda99949566be249cc80a1ffb458dd1cf836a01f510d0c73825d881dc7119df97aa6bfd233e04372f7d147abeb86ea8d13ed8522cd7f7093726ede8d18',\n",
       " '1d237a4e0e1d7776742ed61e3d495e17b760f359fc3e085b149b6201ce4727f07a058585f89713f2dd7566fffb722414a355c6d7c99fe488fc9b0f96540d40a4',\n",
       " '43e7637b34a46b8d4b297835be1f8123fdccd56046cda2414d56853f9ea514fd0ac945b94790072cd9b9728514f42c73f3ceba0604e1bbb3de8193c7142eeeca',\n",
       " '727f2e5e5ba82760cf6af93b563f58a41542679c825e5da7f9f8e3a935b621657d61faba0b0fba1e0986758746d273360dba73b71d99355b5bbbcf6808c946c8',\n",
       " 'bb43d98cda7d4db9b983fb81c509592f3048353fce66c186aeea6b2b00c5a354f5907f85c262a384c0385b588fd4af8bb5d9108173a670da0648b2f213b55ede',\n",
       " '85fd3894b337e1557acc48061cbeae716259e19cce7b8ac8a0ad4b663b2f25757e39883fad2fe08fa134cee28c41b1902c65d4bae5e81eed5ad30447ee909125',\n",
       " '1e2a83b72a18ac36ce7076a10c497f4e5aa5718c983a41f6d6a26137ee8b3a9380b2776a925f6b323ac218a9d9954a35249653b457707200d9d4e18a279ef581',\n",
       " '3aecf4d472e568cc7eccde8c930d1db1be9855082c9eff6dfdb65cc6f707812537b4c50aad81bfdee77d8105e9773fa3d2b087ee51ba4f955f58f6a834fc20d0',\n",
       " '4e0d0baed060f03b0efd5e789ba34a566d0cfd498edab53a8bd3f48b521b230fa5f263ee6b771f9ba1c409142f23bcc5044af03aa0dc0e81444763862a404d21',\n",
       " 'ab74bcd3d7fade92416e7c30284516740d43aa13ab51ce9c203e47bc621df0b4e1211e6f67492f8421b289428746e6c7548514e2506c73253cd709804b74349c']"
      ]
     },
     "execution_count": 49,
     "metadata": {},
     "output_type": "execute_result"
    }
   ],
   "source": [
    "test_preds[0]"
   ]
  },
  {
   "cell_type": "code",
   "execution_count": 32,
   "metadata": {},
   "outputs": [],
   "source": [
    "train_gbm_group = train_df_gbm[['community_id','customer_id']].groupby('customer_id').agg(lambda x:x.tolist())"
   ]
  },
  {
   "cell_type": "code",
   "execution_count": 33,
   "metadata": {},
   "outputs": [
    {
     "data": {
      "application/vnd.jupyter.widget-view+json": {
       "model_id": "adab166384214db7b5d796291f2d28ed",
       "version_major": 2,
       "version_minor": 0
      },
      "text/plain": [
       "  0%|          | 0/160000 [00:00<?, ?it/s]"
      ]
     },
     "metadata": {},
     "output_type": "display_data"
    }
   ],
   "source": [
    "gbm_preds,gbm_scores = predict_impl(model,\n",
    "                                    train_gbm_group.index,\n",
    "                                    train_mat,\n",
    "                                    users_mapping,\n",
    "                                    items_inv_mapping,\n",
    "                                    N=50,\n",
    "                                    falh=True)"
   ]
  },
  {
   "cell_type": "code",
   "execution_count": null,
   "metadata": {},
   "outputs": [],
   "source": []
  },
  {
   "cell_type": "code",
   "execution_count": 35,
   "metadata": {},
   "outputs": [
    {
     "data": {
      "text/plain": [
       "0.035478129251700685"
      ]
     },
     "execution_count": 35,
     "metadata": {},
     "output_type": "execute_result"
    }
   ],
   "source": [
    "act = train_gbm_group['community_id'].tolist()\n",
    "mapk(gbm_preds,act,k=7)"
   ]
  },
  {
   "cell_type": "code",
   "execution_count": 34,
   "metadata": {},
   "outputs": [],
   "source": [
    "rank_df = get_df(train_gbm_group.index,gbm_preds,gbm_scores)"
   ]
  },
  {
   "cell_type": "code",
   "execution_count": 36,
   "metadata": {},
   "outputs": [
    {
     "data": {
      "application/vnd.jupyter.widget-view+json": {
       "model_id": "237255958c214e879c8396f9b9cd2dbc",
       "version_major": 2,
       "version_minor": 0
      },
      "text/plain": [
       "  0%|          | 0/8000000 [00:00<?, ?it/s]"
      ]
     },
     "metadata": {},
     "output_type": "display_data"
    }
   ],
   "source": [
    "rank_df = set_label(rank_df,train_gbm_group)"
   ]
  },
  {
   "cell_type": "code",
   "execution_count": 37,
   "metadata": {},
   "outputs": [
    {
     "data": {
      "text/html": [
       "<div>\n",
       "<style scoped>\n",
       "    .dataframe tbody tr th:only-of-type {\n",
       "        vertical-align: middle;\n",
       "    }\n",
       "\n",
       "    .dataframe tbody tr th {\n",
       "        vertical-align: top;\n",
       "    }\n",
       "\n",
       "    .dataframe thead th {\n",
       "        text-align: right;\n",
       "    }\n",
       "</style>\n",
       "<table border=\"1\" class=\"dataframe\">\n",
       "  <thead>\n",
       "    <tr style=\"text-align: right;\">\n",
       "      <th></th>\n",
       "      <th>query</th>\n",
       "      <th>user_id</th>\n",
       "      <th>scor</th>\n",
       "      <th>comunity</th>\n",
       "      <th>label</th>\n",
       "    </tr>\n",
       "  </thead>\n",
       "  <tbody>\n",
       "    <tr>\n",
       "      <th>0</th>\n",
       "      <td>0</td>\n",
       "      <td>00002894054dc36c3aea6f27fe41c9b0e458fd270abe0b...</td>\n",
       "      <td>2.172693</td>\n",
       "      <td>6d8c10905790df73c0c19a42a42e001e2755d6534c4822...</td>\n",
       "      <td>0</td>\n",
       "    </tr>\n",
       "    <tr>\n",
       "      <th>1</th>\n",
       "      <td>0</td>\n",
       "      <td>00002894054dc36c3aea6f27fe41c9b0e458fd270abe0b...</td>\n",
       "      <td>2.016075</td>\n",
       "      <td>fa0b3fca5d767521d3aceae5f71c601467cd1874f2f213...</td>\n",
       "      <td>0</td>\n",
       "    </tr>\n",
       "    <tr>\n",
       "      <th>2</th>\n",
       "      <td>0</td>\n",
       "      <td>00002894054dc36c3aea6f27fe41c9b0e458fd270abe0b...</td>\n",
       "      <td>1.995933</td>\n",
       "      <td>7b487366ee754c82461c55763c5e89973dd2f3c72a007e...</td>\n",
       "      <td>0</td>\n",
       "    </tr>\n",
       "    <tr>\n",
       "      <th>3</th>\n",
       "      <td>0</td>\n",
       "      <td>00002894054dc36c3aea6f27fe41c9b0e458fd270abe0b...</td>\n",
       "      <td>1.815209</td>\n",
       "      <td>fa6bf8e9f0367db7159d7224490944b8f7bbda45eb4b37...</td>\n",
       "      <td>0</td>\n",
       "    </tr>\n",
       "    <tr>\n",
       "      <th>4</th>\n",
       "      <td>0</td>\n",
       "      <td>00002894054dc36c3aea6f27fe41c9b0e458fd270abe0b...</td>\n",
       "      <td>1.759100</td>\n",
       "      <td>c8830341f1341984d1be04aacb86e36244ddf962f40a98...</td>\n",
       "      <td>0</td>\n",
       "    </tr>\n",
       "    <tr>\n",
       "      <th>...</th>\n",
       "      <td>...</td>\n",
       "      <td>...</td>\n",
       "      <td>...</td>\n",
       "      <td>...</td>\n",
       "      <td>...</td>\n",
       "    </tr>\n",
       "    <tr>\n",
       "      <th>7999995</th>\n",
       "      <td>159999</td>\n",
       "      <td>ffffea67894044381d713871f6cb6d482a45c031b1272f...</td>\n",
       "      <td>0.392810</td>\n",
       "      <td>d8af7321a0f9d04a60a69b6e755d52f64499155da78b74...</td>\n",
       "      <td>0</td>\n",
       "    </tr>\n",
       "    <tr>\n",
       "      <th>7999996</th>\n",
       "      <td>159999</td>\n",
       "      <td>ffffea67894044381d713871f6cb6d482a45c031b1272f...</td>\n",
       "      <td>0.385779</td>\n",
       "      <td>67c9e87c4837c795d86e78de4d7d486867c3ab2848263b...</td>\n",
       "      <td>0</td>\n",
       "    </tr>\n",
       "    <tr>\n",
       "      <th>7999997</th>\n",
       "      <td>159999</td>\n",
       "      <td>ffffea67894044381d713871f6cb6d482a45c031b1272f...</td>\n",
       "      <td>0.385735</td>\n",
       "      <td>3638604316576f10bb866b0c1e2831f18006b8faabd640...</td>\n",
       "      <td>0</td>\n",
       "    </tr>\n",
       "    <tr>\n",
       "      <th>7999998</th>\n",
       "      <td>159999</td>\n",
       "      <td>ffffea67894044381d713871f6cb6d482a45c031b1272f...</td>\n",
       "      <td>0.383474</td>\n",
       "      <td>f1d44c0b58ac76fba036ae50117cadeabf0e19eaf38992...</td>\n",
       "      <td>0</td>\n",
       "    </tr>\n",
       "    <tr>\n",
       "      <th>7999999</th>\n",
       "      <td>159999</td>\n",
       "      <td>ffffea67894044381d713871f6cb6d482a45c031b1272f...</td>\n",
       "      <td>0.380440</td>\n",
       "      <td>1eabd1be083050f323e588ec0d12dd01da14b94256debc...</td>\n",
       "      <td>0</td>\n",
       "    </tr>\n",
       "  </tbody>\n",
       "</table>\n",
       "<p>8000000 rows × 5 columns</p>\n",
       "</div>"
      ],
      "text/plain": [
       "          query                                            user_id      scor  \\\n",
       "0             0  00002894054dc36c3aea6f27fe41c9b0e458fd270abe0b...  2.172693   \n",
       "1             0  00002894054dc36c3aea6f27fe41c9b0e458fd270abe0b...  2.016075   \n",
       "2             0  00002894054dc36c3aea6f27fe41c9b0e458fd270abe0b...  1.995933   \n",
       "3             0  00002894054dc36c3aea6f27fe41c9b0e458fd270abe0b...  1.815209   \n",
       "4             0  00002894054dc36c3aea6f27fe41c9b0e458fd270abe0b...  1.759100   \n",
       "...         ...                                                ...       ...   \n",
       "7999995  159999  ffffea67894044381d713871f6cb6d482a45c031b1272f...  0.392810   \n",
       "7999996  159999  ffffea67894044381d713871f6cb6d482a45c031b1272f...  0.385779   \n",
       "7999997  159999  ffffea67894044381d713871f6cb6d482a45c031b1272f...  0.385735   \n",
       "7999998  159999  ffffea67894044381d713871f6cb6d482a45c031b1272f...  0.383474   \n",
       "7999999  159999  ffffea67894044381d713871f6cb6d482a45c031b1272f...  0.380440   \n",
       "\n",
       "                                                  comunity  label  \n",
       "0        6d8c10905790df73c0c19a42a42e001e2755d6534c4822...      0  \n",
       "1        fa0b3fca5d767521d3aceae5f71c601467cd1874f2f213...      0  \n",
       "2        7b487366ee754c82461c55763c5e89973dd2f3c72a007e...      0  \n",
       "3        fa6bf8e9f0367db7159d7224490944b8f7bbda45eb4b37...      0  \n",
       "4        c8830341f1341984d1be04aacb86e36244ddf962f40a98...      0  \n",
       "...                                                    ...    ...  \n",
       "7999995  d8af7321a0f9d04a60a69b6e755d52f64499155da78b74...      0  \n",
       "7999996  67c9e87c4837c795d86e78de4d7d486867c3ab2848263b...      0  \n",
       "7999997  3638604316576f10bb866b0c1e2831f18006b8faabd640...      0  \n",
       "7999998  f1d44c0b58ac76fba036ae50117cadeabf0e19eaf38992...      0  \n",
       "7999999  1eabd1be083050f323e588ec0d12dd01da14b94256debc...      0  \n",
       "\n",
       "[8000000 rows x 5 columns]"
      ]
     },
     "execution_count": 37,
     "metadata": {},
     "output_type": "execute_result"
    }
   ],
   "source": [
    "rank_df"
   ]
  },
  {
   "cell_type": "code",
   "execution_count": 38,
   "metadata": {},
   "outputs": [],
   "source": [
    "rank_df.to_parquet('train_gbm.parquet')"
   ]
  },
  {
   "cell_type": "code",
   "execution_count": 39,
   "metadata": {},
   "outputs": [],
   "source": [
    "test_pr_df = get_df(test_group.index,test_preds,test_scores)\n",
    "test_pr_df.to_parquet('test_gbm.parquet')"
   ]
  },
  {
   "cell_type": "code",
   "execution_count": null,
   "metadata": {},
   "outputs": [],
   "source": []
  }
 ],
 "metadata": {
  "kernelspec": {
   "display_name": "Python 3 (ipykernel)",
   "language": "python",
   "name": "python3"
  },
  "language_info": {
   "codemirror_mode": {
    "name": "ipython",
    "version": 3
   },
   "file_extension": ".py",
   "mimetype": "text/x-python",
   "name": "python",
   "nbconvert_exporter": "python",
   "pygments_lexer": "ipython3",
   "version": "3.9.16"
  }
 },
 "nbformat": 4,
 "nbformat_minor": 4
}
