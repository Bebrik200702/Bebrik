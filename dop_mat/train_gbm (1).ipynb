{
 "cells": [
  {
   "cell_type": "code",
   "execution_count": 1,
   "metadata": {
    "tags": []
   },
   "outputs": [
    {
     "name": "stdout",
     "output_type": "stream",
     "text": [
      "Requirement already satisfied: catboost in /usr/local/lib/python3.9/dist-packages (1.2.2)\n",
      "Requirement already satisfied: numpy>=1.16.0 in /usr/local/lib/python3.9/dist-packages (from catboost) (1.23.4)\n",
      "Requirement already satisfied: scipy in /usr/local/lib/python3.9/dist-packages (from catboost) (1.9.2)\n",
      "Requirement already satisfied: matplotlib in /usr/local/lib/python3.9/dist-packages (from catboost) (3.6.1)\n",
      "Requirement already satisfied: pandas>=0.24 in /usr/local/lib/python3.9/dist-packages (from catboost) (1.5.0)\n",
      "Requirement already satisfied: graphviz in /usr/local/lib/python3.9/dist-packages (from catboost) (0.20.1)\n",
      "Requirement already satisfied: plotly in /usr/local/lib/python3.9/dist-packages (from catboost) (5.18.0)\n",
      "Requirement already satisfied: six in /usr/lib/python3/dist-packages (from catboost) (1.14.0)\n",
      "Requirement already satisfied: python-dateutil>=2.8.1 in /usr/local/lib/python3.9/dist-packages (from pandas>=0.24->catboost) (2.8.2)\n",
      "Requirement already satisfied: pytz>=2020.1 in /usr/local/lib/python3.9/dist-packages (from pandas>=0.24->catboost) (2022.7.1)\n",
      "Requirement already satisfied: cycler>=0.10 in /usr/local/lib/python3.9/dist-packages (from matplotlib->catboost) (0.11.0)\n",
      "Requirement already satisfied: packaging>=20.0 in /usr/local/lib/python3.9/dist-packages (from matplotlib->catboost) (23.0)\n",
      "Requirement already satisfied: fonttools>=4.22.0 in /usr/local/lib/python3.9/dist-packages (from matplotlib->catboost) (4.38.0)\n",
      "Requirement already satisfied: pillow>=6.2.0 in /usr/local/lib/python3.9/dist-packages (from matplotlib->catboost) (9.2.0)\n",
      "Requirement already satisfied: kiwisolver>=1.0.1 in /usr/local/lib/python3.9/dist-packages (from matplotlib->catboost) (1.4.4)\n",
      "Requirement already satisfied: pyparsing>=2.2.1 in /usr/local/lib/python3.9/dist-packages (from matplotlib->catboost) (3.0.9)\n",
      "Requirement already satisfied: contourpy>=1.0.1 in /usr/local/lib/python3.9/dist-packages (from matplotlib->catboost) (1.0.7)\n",
      "Requirement already satisfied: tenacity>=6.2.0 in /usr/local/lib/python3.9/dist-packages (from plotly->catboost) (8.2.3)\n",
      "\u001b[33mWARNING: Running pip as the 'root' user can result in broken permissions and conflicting behaviour with the system package manager. It is recommended to use a virtual environment instead: https://pip.pypa.io/warnings/venv\u001b[0m\u001b[33m\n",
      "\u001b[0m"
     ]
    }
   ],
   "source": [
    "!pip install catboost"
   ]
  },
  {
   "cell_type": "code",
   "execution_count": 1,
   "metadata": {
    "tags": []
   },
   "outputs": [
    {
     "data": {
      "text/plain": [
       "12"
      ]
     },
     "execution_count": 1,
     "metadata": {},
     "output_type": "execute_result"
    }
   ],
   "source": [
    "import multiprocessing\n",
    "multiprocessing.cpu_count()"
   ]
  },
  {
   "cell_type": "code",
   "execution_count": 2,
   "metadata": {
    "tags": []
   },
   "outputs": [],
   "source": [
    "import pandas as pd\n",
    "import numpy as np\n",
    "from tqdm.auto import tqdm\n",
    "from catboost import CatBoostRanker,CatBoostRegressor,CatBoostClassifier,Pool,cv"
   ]
  },
  {
   "cell_type": "code",
   "execution_count": null,
   "metadata": {
    "tags": []
   },
   "outputs": [],
   "source": [
    "data = pd.read_parquet('all_train_gbm.parquet')"
   ]
  },
  {
   "cell_type": "code",
   "execution_count": null,
   "metadata": {
    "tags": []
   },
   "outputs": [],
   "source": [
    "data = data.drop(['user_id','comunity'],axis=1)"
   ]
  },
  {
   "cell_type": "code",
   "execution_count": null,
   "metadata": {
    "tags": []
   },
   "outputs": [],
   "source": [
    "data['query'].max()"
   ]
  },
  {
   "cell_type": "code",
   "execution_count": null,
   "metadata": {
    "tags": []
   },
   "outputs": [],
   "source": [
    "data"
   ]
  },
  {
   "cell_type": "code",
   "execution_count": 8,
   "metadata": {
    "tags": []
   },
   "outputs": [],
   "source": [
    "train_df = data[data['query'] <= 59999]\n",
    "test_df = data[data['query'] > 59999]"
   ]
  },
  {
   "cell_type": "code",
   "execution_count": 9,
   "metadata": {
    "tags": []
   },
   "outputs": [],
   "source": [
    "train_df = train_df.fillna('NuN')#[['query','scor','label']]\n",
    "test_df = test_df.fillna('NuN')#[['query','scor','label']]"
   ]
  },
  {
   "cell_type": "code",
   "execution_count": 10,
   "metadata": {
    "tags": []
   },
   "outputs": [
    {
     "data": {
      "text/plain": [
       "0"
      ]
     },
     "execution_count": 10,
     "metadata": {},
     "output_type": "execute_result"
    }
   ],
   "source": [
    "import gc\n",
    "gc.collect()"
   ]
  },
  {
   "cell_type": "code",
   "execution_count": 11,
   "metadata": {
    "tags": []
   },
   "outputs": [],
   "source": [
    "for col in ['bp_th_top1','bp_th_top2','bp_th_top3','themeid']:\n",
    "    train_df[col] = train_df[col].astype(str)\n",
    "    test_df[col] = test_df[col].astype(str)"
   ]
  },
  {
   "cell_type": "code",
   "execution_count": 12,
   "metadata": {
    "tags": []
   },
   "outputs": [],
   "source": [
    "query = 'query'\n",
    "label = 'label'\n",
    "cat_cols = ['type','business_category','business_parent','type_ft','themeid',\n",
    "           'bs_ct_top1','bs_ct_top2','bs_ct_top3','bp_ct_top1',\n",
    "           'bp_ct_top2','bp_ct_top3','bp_th_top1',\n",
    "           'bp_th_top2','bp_th_top3']"
   ]
  },
  {
   "cell_type": "code",
   "execution_count": 13,
   "metadata": {
    "tags": []
   },
   "outputs": [
    {
     "data": {
      "text/plain": [
       "0    2916262\n",
       "1      83738\n",
       "Name: label, dtype: int64"
      ]
     },
     "execution_count": 13,
     "metadata": {},
     "output_type": "execute_result"
    }
   ],
   "source": [
    "train_df['label'].value_counts()"
   ]
  },
  {
   "cell_type": "markdown",
   "metadata": {
    "jp-MarkdownHeadingCollapsed": true,
    "tags": []
   },
   "source": [
    "## Regression"
   ]
  },
  {
   "cell_type": "code",
   "execution_count": 16,
   "metadata": {
    "execution": {
     "iopub.execute_input": "2023-10-30T10:40:34.420311Z",
     "iopub.status.busy": "2023-10-30T10:40:34.419655Z",
     "iopub.status.idle": "2023-10-30T10:40:35.337186Z",
     "shell.execute_reply": "2023-10-30T10:40:35.336596Z",
     "shell.execute_reply.started": "2023-10-30T10:40:34.420284Z"
    }
   },
   "outputs": [],
   "source": [
    "train_pool = Pool(data=train_df.drop([query,label],axis=1),\n",
    "                  label=train_df[label],\n",
    "                  #cat_features=cat_cols,\n",
    "                  group_id=train_df[query])"
   ]
  },
  {
   "cell_type": "code",
   "execution_count": 17,
   "metadata": {
    "execution": {
     "iopub.execute_input": "2023-10-30T10:40:35.338421Z",
     "iopub.status.busy": "2023-10-30T10:40:35.338232Z",
     "iopub.status.idle": "2023-10-30T10:40:35.469534Z",
     "shell.execute_reply": "2023-10-30T10:40:35.468896Z",
     "shell.execute_reply.started": "2023-10-30T10:40:35.338405Z"
    }
   },
   "outputs": [],
   "source": [
    "eval_pool = Pool(data=test_df.drop([query,label],axis=1),\n",
    "                  label=test_df[label],\n",
    "                  #cat_features=cat_cols,\n",
    "                  group_id=test_df[query])"
   ]
  },
  {
   "cell_type": "code",
   "execution_count": 14,
   "metadata": {},
   "outputs": [],
   "source": [
    "params = {'iterations':700,\n",
    "          'learning_rate':0.01,\n",
    "          'loss_function':'RMSE',\n",
    "          'eval_metric':'MAE',\n",
    "          'max_depth':5,\n",
    "          'random_seed':56,\n",
    "          'task_type':'GPU'}\n",
    "\n",
    "model = CatBoostRegressor(**params)"
   ]
  },
  {
   "cell_type": "code",
   "execution_count": 16,
   "metadata": {
    "tags": []
   },
   "outputs": [
    {
     "ename": "CatBoostError",
     "evalue": "/src/catboost/catboost/cuda/cuda_lib/cuda_manager.cpp:201: Condition violated: `State == nullptr'",
     "output_type": "error",
     "traceback": [
      "\u001b[0;31m---------------------------------------------------------------------------\u001b[0m",
      "\u001b[0;31mCatBoostError\u001b[0m                             Traceback (most recent call last)",
      "Cell \u001b[0;32mIn [16], line 1\u001b[0m\n\u001b[0;32m----> 1\u001b[0m \u001b[43mmodel\u001b[49m\u001b[38;5;241;43m.\u001b[39;49m\u001b[43mfit\u001b[49m\u001b[43m(\u001b[49m\u001b[43mtrain_pool\u001b[49m\u001b[43m,\u001b[49m\u001b[43meval_set\u001b[49m\u001b[38;5;241;43m=\u001b[39;49m\u001b[43meval_pool\u001b[49m\u001b[43m,\u001b[49m\u001b[43mverbose\u001b[49m\u001b[38;5;241;43m=\u001b[39;49m\u001b[38;5;241;43m5\u001b[39;49m\u001b[43m)\u001b[49m\n",
      "File \u001b[0;32m/usr/local/lib/python3.9/dist-packages/catboost/core.py:5703\u001b[0m, in \u001b[0;36mCatBoostRegressor.fit\u001b[0;34m(self, X, y, cat_features, text_features, embedding_features, sample_weight, baseline, use_best_model, eval_set, verbose, logging_level, plot, plot_file, column_description, verbose_eval, metric_period, silent, early_stopping_rounds, save_snapshot, snapshot_file, snapshot_interval, init_model, callbacks, log_cout, log_cerr)\u001b[0m\n\u001b[1;32m   5700\u001b[0m \u001b[38;5;28;01mif\u001b[39;00m \u001b[38;5;124m'\u001b[39m\u001b[38;5;124mloss_function\u001b[39m\u001b[38;5;124m'\u001b[39m \u001b[38;5;129;01min\u001b[39;00m params:\n\u001b[1;32m   5701\u001b[0m     CatBoostRegressor\u001b[38;5;241m.\u001b[39m_check_is_compatible_loss(params[\u001b[38;5;124m'\u001b[39m\u001b[38;5;124mloss_function\u001b[39m\u001b[38;5;124m'\u001b[39m])\n\u001b[0;32m-> 5703\u001b[0m \u001b[38;5;28;01mreturn\u001b[39;00m \u001b[38;5;28;43mself\u001b[39;49m\u001b[38;5;241;43m.\u001b[39;49m\u001b[43m_fit\u001b[49m\u001b[43m(\u001b[49m\u001b[43mX\u001b[49m\u001b[43m,\u001b[49m\u001b[43m \u001b[49m\u001b[43my\u001b[49m\u001b[43m,\u001b[49m\u001b[43m \u001b[49m\u001b[43mcat_features\u001b[49m\u001b[43m,\u001b[49m\u001b[43m \u001b[49m\u001b[43mtext_features\u001b[49m\u001b[43m,\u001b[49m\u001b[43m \u001b[49m\u001b[43membedding_features\u001b[49m\u001b[43m,\u001b[49m\u001b[43m \u001b[49m\u001b[38;5;28;43;01mNone\u001b[39;49;00m\u001b[43m,\u001b[49m\u001b[43m \u001b[49m\u001b[43msample_weight\u001b[49m\u001b[43m,\u001b[49m\u001b[43m \u001b[49m\u001b[38;5;28;43;01mNone\u001b[39;49;00m\u001b[43m,\u001b[49m\u001b[43m \u001b[49m\u001b[38;5;28;43;01mNone\u001b[39;49;00m\u001b[43m,\u001b[49m\u001b[43m \u001b[49m\u001b[38;5;28;43;01mNone\u001b[39;49;00m\u001b[43m,\u001b[49m\u001b[43m \u001b[49m\u001b[38;5;28;43;01mNone\u001b[39;49;00m\u001b[43m,\u001b[49m\u001b[43m \u001b[49m\u001b[43mbaseline\u001b[49m\u001b[43m,\u001b[49m\n\u001b[1;32m   5704\u001b[0m \u001b[43m                 \u001b[49m\u001b[43muse_best_model\u001b[49m\u001b[43m,\u001b[49m\u001b[43m \u001b[49m\u001b[43meval_set\u001b[49m\u001b[43m,\u001b[49m\u001b[43m \u001b[49m\u001b[43mverbose\u001b[49m\u001b[43m,\u001b[49m\u001b[43m \u001b[49m\u001b[43mlogging_level\u001b[49m\u001b[43m,\u001b[49m\u001b[43m \u001b[49m\u001b[43mplot\u001b[49m\u001b[43m,\u001b[49m\u001b[43m \u001b[49m\u001b[43mplot_file\u001b[49m\u001b[43m,\u001b[49m\u001b[43m \u001b[49m\u001b[43mcolumn_description\u001b[49m\u001b[43m,\u001b[49m\n\u001b[1;32m   5705\u001b[0m \u001b[43m                 \u001b[49m\u001b[43mverbose_eval\u001b[49m\u001b[43m,\u001b[49m\u001b[43m \u001b[49m\u001b[43mmetric_period\u001b[49m\u001b[43m,\u001b[49m\u001b[43m \u001b[49m\u001b[43msilent\u001b[49m\u001b[43m,\u001b[49m\u001b[43m \u001b[49m\u001b[43mearly_stopping_rounds\u001b[49m\u001b[43m,\u001b[49m\n\u001b[1;32m   5706\u001b[0m \u001b[43m                 \u001b[49m\u001b[43msave_snapshot\u001b[49m\u001b[43m,\u001b[49m\u001b[43m \u001b[49m\u001b[43msnapshot_file\u001b[49m\u001b[43m,\u001b[49m\u001b[43m \u001b[49m\u001b[43msnapshot_interval\u001b[49m\u001b[43m,\u001b[49m\u001b[43m \u001b[49m\u001b[43minit_model\u001b[49m\u001b[43m,\u001b[49m\u001b[43m \u001b[49m\u001b[43mcallbacks\u001b[49m\u001b[43m,\u001b[49m\u001b[43m \u001b[49m\u001b[43mlog_cout\u001b[49m\u001b[43m,\u001b[49m\u001b[43m \u001b[49m\u001b[43mlog_cerr\u001b[49m\u001b[43m)\u001b[49m\n",
      "File \u001b[0;32m/usr/local/lib/python3.9/dist-packages/catboost/core.py:2319\u001b[0m, in \u001b[0;36mCatBoost._fit\u001b[0;34m(self, X, y, cat_features, text_features, embedding_features, pairs, sample_weight, group_id, group_weight, subgroup_id, pairs_weight, baseline, use_best_model, eval_set, verbose, logging_level, plot, plot_file, column_description, verbose_eval, metric_period, silent, early_stopping_rounds, save_snapshot, snapshot_file, snapshot_interval, init_model, callbacks, log_cout, log_cerr)\u001b[0m\n\u001b[1;32m   2315\u001b[0m allow_clear_pool \u001b[38;5;241m=\u001b[39m train_params[\u001b[38;5;124m\"\u001b[39m\u001b[38;5;124mallow_clear_pool\u001b[39m\u001b[38;5;124m\"\u001b[39m]\n\u001b[1;32m   2317\u001b[0m \u001b[38;5;28;01mwith\u001b[39;00m log_fixup(log_cout, log_cerr), \\\n\u001b[1;32m   2318\u001b[0m     plot_wrapper(plot, plot_file, \u001b[38;5;124m'\u001b[39m\u001b[38;5;124mTraining plots\u001b[39m\u001b[38;5;124m'\u001b[39m, [_get_train_dir(\u001b[38;5;28mself\u001b[39m\u001b[38;5;241m.\u001b[39mget_params())]):\n\u001b[0;32m-> 2319\u001b[0m     \u001b[38;5;28;43mself\u001b[39;49m\u001b[38;5;241;43m.\u001b[39;49m\u001b[43m_train\u001b[49m\u001b[43m(\u001b[49m\n\u001b[1;32m   2320\u001b[0m \u001b[43m        \u001b[49m\u001b[43mtrain_pool\u001b[49m\u001b[43m,\u001b[49m\n\u001b[1;32m   2321\u001b[0m \u001b[43m        \u001b[49m\u001b[43mtrain_params\u001b[49m\u001b[43m[\u001b[49m\u001b[38;5;124;43m\"\u001b[39;49m\u001b[38;5;124;43meval_sets\u001b[39;49m\u001b[38;5;124;43m\"\u001b[39;49m\u001b[43m]\u001b[49m\u001b[43m,\u001b[49m\n\u001b[1;32m   2322\u001b[0m \u001b[43m        \u001b[49m\u001b[43mparams\u001b[49m\u001b[43m,\u001b[49m\n\u001b[1;32m   2323\u001b[0m \u001b[43m        \u001b[49m\u001b[43mallow_clear_pool\u001b[49m\u001b[43m,\u001b[49m\n\u001b[1;32m   2324\u001b[0m \u001b[43m        \u001b[49m\u001b[43mtrain_params\u001b[49m\u001b[43m[\u001b[49m\u001b[38;5;124;43m\"\u001b[39;49m\u001b[38;5;124;43minit_model\u001b[39;49m\u001b[38;5;124;43m\"\u001b[39;49m\u001b[43m]\u001b[49m\n\u001b[1;32m   2325\u001b[0m \u001b[43m    \u001b[49m\u001b[43m)\u001b[49m\n\u001b[1;32m   2327\u001b[0m \u001b[38;5;66;03m# Have property feature_importance possibly set\u001b[39;00m\n\u001b[1;32m   2328\u001b[0m loss \u001b[38;5;241m=\u001b[39m \u001b[38;5;28mself\u001b[39m\u001b[38;5;241m.\u001b[39m_object\u001b[38;5;241m.\u001b[39m_get_loss_function_name()\n",
      "File \u001b[0;32m/usr/local/lib/python3.9/dist-packages/catboost/core.py:1723\u001b[0m, in \u001b[0;36m_CatBoostBase._train\u001b[0;34m(self, train_pool, test_pool, params, allow_clear_pool, init_model)\u001b[0m\n\u001b[1;32m   1722\u001b[0m \u001b[38;5;28;01mdef\u001b[39;00m \u001b[38;5;21m_train\u001b[39m(\u001b[38;5;28mself\u001b[39m, train_pool, test_pool, params, allow_clear_pool, init_model):\n\u001b[0;32m-> 1723\u001b[0m     \u001b[38;5;28;43mself\u001b[39;49m\u001b[38;5;241;43m.\u001b[39;49m\u001b[43m_object\u001b[49m\u001b[38;5;241;43m.\u001b[39;49m\u001b[43m_train\u001b[49m\u001b[43m(\u001b[49m\u001b[43mtrain_pool\u001b[49m\u001b[43m,\u001b[49m\u001b[43m \u001b[49m\u001b[43mtest_pool\u001b[49m\u001b[43m,\u001b[49m\u001b[43m \u001b[49m\u001b[43mparams\u001b[49m\u001b[43m,\u001b[49m\u001b[43m \u001b[49m\u001b[43mallow_clear_pool\u001b[49m\u001b[43m,\u001b[49m\u001b[43m \u001b[49m\u001b[43minit_model\u001b[49m\u001b[38;5;241;43m.\u001b[39;49m\u001b[43m_object\u001b[49m\u001b[43m \u001b[49m\u001b[38;5;28;43;01mif\u001b[39;49;00m\u001b[43m \u001b[49m\u001b[43minit_model\u001b[49m\u001b[43m \u001b[49m\u001b[38;5;28;43;01melse\u001b[39;49;00m\u001b[43m \u001b[49m\u001b[38;5;28;43;01mNone\u001b[39;49;00m\u001b[43m)\u001b[49m\n\u001b[1;32m   1724\u001b[0m     \u001b[38;5;28mself\u001b[39m\u001b[38;5;241m.\u001b[39m_set_trained_model_attributes()\n",
      "File \u001b[0;32m_catboost.pyx:4645\u001b[0m, in \u001b[0;36m_catboost._CatBoost._train\u001b[0;34m()\u001b[0m\n",
      "File \u001b[0;32m_catboost.pyx:4694\u001b[0m, in \u001b[0;36m_catboost._CatBoost._train\u001b[0;34m()\u001b[0m\n",
      "\u001b[0;31mCatBoostError\u001b[0m: /src/catboost/catboost/cuda/cuda_lib/cuda_manager.cpp:201: Condition violated: `State == nullptr'"
     ]
    }
   ],
   "source": [
    "model.fit(train_pool,eval_set=eval_pool,verbose=5)"
   ]
  },
  {
   "cell_type": "code",
   "execution_count": null,
   "metadata": {},
   "outputs": [],
   "source": [
    "model.get_feature_importance(prettified=True)"
   ]
  },
  {
   "cell_type": "markdown",
   "metadata": {},
   "source": [
    "## Ranker"
   ]
  },
  {
   "cell_type": "code",
   "execution_count": 16,
   "metadata": {
    "tags": []
   },
   "outputs": [],
   "source": [
    "train_pool = Pool(data=train_df.drop([label,query],axis=1),\n",
    "                  label=train_df[label],\n",
    "                  cat_features=cat_cols,\n",
    "                  group_id=train_df[query])"
   ]
  },
  {
   "cell_type": "code",
   "execution_count": 17,
   "metadata": {
    "tags": []
   },
   "outputs": [],
   "source": [
    "eval_pool = Pool(data=test_df.drop([label,query],axis=1),\n",
    "                  label=test_df[label],\n",
    "                  cat_features=cat_cols,\n",
    "                  group_id=test_df[query])"
   ]
  },
  {
   "cell_type": "code",
   "execution_count": 18,
   "metadata": {
    "tags": []
   },
   "outputs": [],
   "source": [
    "params = {'iterations':1600,\n",
    "          'learning_rate':0.1,\n",
    "          'loss_function':'PairLogitPairwise',\n",
    "          'max_depth':6,\n",
    "          'eval_metric':'PrecisionAt:top=7',\n",
    "          'random_seed':56,\n",
    "          'task_type':'GPU'}\n",
    "\n",
    "model = CatBoostRanker(**params)"
   ]
  },
  {
   "cell_type": "code",
   "execution_count": 19,
   "metadata": {
    "tags": []
   },
   "outputs": [
    {
     "name": "stdout",
     "output_type": "stream",
     "text": [
      "Groupwise loss function. OneHotMaxSize set to 10\n"
     ]
    },
    {
     "name": "stderr",
     "output_type": "stream",
     "text": [
      "Default metric period is 5 because PrecisionAt is/are not implemented for GPU\n",
      "Metric PrecisionAt:top=7 is not implemented on GPU. Will use CPU for metric computation, this could significantly affect learning time\n"
     ]
    },
    {
     "name": "stdout",
     "output_type": "stream",
     "text": [
      "0:\tlearn: 0.0845238\ttest: 0.0851143\tbest: 0.0851143 (0)\ttotal: 209ms\tremaining: 5m 33s\n",
      "25:\tlearn: 0.0981452\ttest: 0.0981143\tbest: 0.0981143 (25)\ttotal: 1.46s\tremaining: 1m 28s\n",
      "50:\tlearn: 0.0998548\ttest: 0.0994714\tbest: 0.0994714 (50)\ttotal: 2.71s\tremaining: 1m 22s\n",
      "75:\tlearn: 0.1020214\ttest: 0.1016429\tbest: 0.1016429 (75)\ttotal: 3.99s\tremaining: 1m 19s\n",
      "100:\tlearn: 0.1041786\ttest: 0.1038143\tbest: 0.1038143 (100)\ttotal: 5.24s\tremaining: 1m 17s\n",
      "125:\tlearn: 0.1059976\ttest: 0.1059000\tbest: 0.1059000 (125)\ttotal: 6.48s\tremaining: 1m 15s\n",
      "150:\tlearn: 0.1076143\ttest: 0.1071571\tbest: 0.1071571 (150)\ttotal: 7.72s\tremaining: 1m 14s\n",
      "175:\tlearn: 0.1087881\ttest: 0.1083714\tbest: 0.1083714 (175)\ttotal: 9s\tremaining: 1m 12s\n",
      "200:\tlearn: 0.1099238\ttest: 0.1094143\tbest: 0.1094143 (200)\ttotal: 10.2s\tremaining: 1m 11s\n",
      "225:\tlearn: 0.1112286\ttest: 0.1104429\tbest: 0.1104429 (225)\ttotal: 11.5s\tremaining: 1m 10s\n",
      "250:\tlearn: 0.1118738\ttest: 0.1110857\tbest: 0.1111000 (245)\ttotal: 12.8s\tremaining: 1m 8s\n",
      "275:\tlearn: 0.1124571\ttest: 0.1117143\tbest: 0.1118143 (265)\ttotal: 14.1s\tremaining: 1m 7s\n",
      "300:\tlearn: 0.1130667\ttest: 0.1125714\tbest: 0.1125714 (300)\ttotal: 15.3s\tremaining: 1m 6s\n",
      "325:\tlearn: 0.1137667\ttest: 0.1131857\tbest: 0.1131857 (325)\ttotal: 16.6s\tremaining: 1m 4s\n",
      "350:\tlearn: 0.1144548\ttest: 0.1135000\tbest: 0.1135000 (350)\ttotal: 17.8s\tremaining: 1m 3s\n",
      "375:\tlearn: 0.1149976\ttest: 0.1141429\tbest: 0.1141429 (375)\ttotal: 19.1s\tremaining: 1m 2s\n",
      "400:\tlearn: 0.1157833\ttest: 0.1146571\tbest: 0.1146571 (400)\ttotal: 20.3s\tremaining: 1m\n",
      "425:\tlearn: 0.1162857\ttest: 0.1148571\tbest: 0.1149429 (420)\ttotal: 21.5s\tremaining: 59.4s\n",
      "450:\tlearn: 0.1166881\ttest: 0.1152714\tbest: 0.1152714 (450)\ttotal: 22.8s\tremaining: 58.1s\n",
      "475:\tlearn: 0.1172071\ttest: 0.1157286\tbest: 0.1157286 (475)\ttotal: 24s\tremaining: 56.8s\n",
      "500:\tlearn: 0.1176190\ttest: 0.1162143\tbest: 0.1162571 (495)\ttotal: 25.3s\tremaining: 55.5s\n",
      "525:\tlearn: 0.1178143\ttest: 0.1165571\tbest: 0.1165571 (525)\ttotal: 26.5s\tremaining: 54.2s\n",
      "550:\tlearn: 0.1180810\ttest: 0.1169714\tbest: 0.1169714 (545)\ttotal: 27.8s\tremaining: 52.9s\n",
      "575:\tlearn: 0.1183738\ttest: 0.1170143\tbest: 0.1170429 (560)\ttotal: 29s\tremaining: 51.6s\n",
      "600:\tlearn: 0.1186595\ttest: 0.1173286\tbest: 0.1173571 (595)\ttotal: 30.3s\tremaining: 50.4s\n",
      "625:\tlearn: 0.1189119\ttest: 0.1175714\tbest: 0.1177143 (620)\ttotal: 31.5s\tremaining: 49.1s\n",
      "650:\tlearn: 0.1191476\ttest: 0.1178571\tbest: 0.1178571 (650)\ttotal: 32.8s\tremaining: 47.8s\n",
      "675:\tlearn: 0.1195048\ttest: 0.1178571\tbest: 0.1179286 (660)\ttotal: 34s\tremaining: 46.5s\n",
      "700:\tlearn: 0.1198071\ttest: 0.1179143\tbest: 0.1179571 (690)\ttotal: 35.3s\tremaining: 45.2s\n",
      "725:\tlearn: 0.1201643\ttest: 0.1182000\tbest: 0.1182000 (725)\ttotal: 36.5s\tremaining: 44s\n",
      "750:\tlearn: 0.1203190\ttest: 0.1182571\tbest: 0.1183714 (740)\ttotal: 37.8s\tremaining: 42.7s\n",
      "775:\tlearn: 0.1205619\ttest: 0.1184571\tbest: 0.1184571 (755)\ttotal: 39s\tremaining: 41.4s\n",
      "800:\tlearn: 0.1208738\ttest: 0.1186571\tbest: 0.1186571 (800)\ttotal: 40.2s\tremaining: 40.1s\n",
      "825:\tlearn: 0.1212357\ttest: 0.1189000\tbest: 0.1189286 (815)\ttotal: 41.5s\tremaining: 38.9s\n",
      "850:\tlearn: 0.1214524\ttest: 0.1192714\tbest: 0.1192714 (845)\ttotal: 42.7s\tremaining: 37.6s\n",
      "875:\tlearn: 0.1216238\ttest: 0.1194857\tbest: 0.1194857 (875)\ttotal: 44s\tremaining: 36.4s\n",
      "900:\tlearn: 0.1218833\ttest: 0.1196714\tbest: 0.1196714 (900)\ttotal: 45.2s\tremaining: 35.1s\n",
      "925:\tlearn: 0.1220810\ttest: 0.1195714\tbest: 0.1197000 (905)\ttotal: 46.5s\tremaining: 33.9s\n",
      "950:\tlearn: 0.1222357\ttest: 0.1197286\tbest: 0.1197714 (940)\ttotal: 47.8s\tremaining: 32.6s\n",
      "975:\tlearn: 0.1224071\ttest: 0.1197571\tbest: 0.1198143 (955)\ttotal: 49.1s\tremaining: 31.4s\n",
      "1000:\tlearn: 0.1225833\ttest: 0.1197857\tbest: 0.1198286 (995)\ttotal: 50.3s\tremaining: 30.1s\n",
      "1025:\tlearn: 0.1227000\ttest: 0.1198714\tbest: 0.1198714 (1025)\ttotal: 51.5s\tremaining: 28.8s\n",
      "1050:\tlearn: 0.1228976\ttest: 0.1199429\tbest: 0.1199857 (1040)\ttotal: 52.8s\tremaining: 27.6s\n",
      "1075:\tlearn: 0.1232381\ttest: 0.1200000\tbest: 0.1200000 (1075)\ttotal: 54s\tremaining: 26.3s\n",
      "1100:\tlearn: 0.1233690\ttest: 0.1202143\tbest: 0.1202143 (1100)\ttotal: 55.2s\tremaining: 25s\n",
      "1125:\tlearn: 0.1236167\ttest: 0.1201714\tbest: 0.1204000 (1120)\ttotal: 56.5s\tremaining: 23.8s\n",
      "1150:\tlearn: 0.1239000\ttest: 0.1203000\tbest: 0.1204000 (1120)\ttotal: 57.7s\tremaining: 22.5s\n",
      "1175:\tlearn: 0.1240690\ttest: 0.1203571\tbest: 0.1204000 (1120)\ttotal: 59s\tremaining: 21.3s\n",
      "1200:\tlearn: 0.1241524\ttest: 0.1202143\tbest: 0.1204000 (1120)\ttotal: 1m\tremaining: 20s\n",
      "1225:\tlearn: 0.1244143\ttest: 0.1203857\tbest: 0.1204000 (1120)\ttotal: 1m 1s\tremaining: 18.8s\n",
      "1250:\tlearn: 0.1246381\ttest: 0.1203429\tbest: 0.1204429 (1240)\ttotal: 1m 2s\tremaining: 17.5s\n",
      "1275:\tlearn: 0.1247524\ttest: 0.1202571\tbest: 0.1204429 (1240)\ttotal: 1m 3s\tremaining: 16.2s\n",
      "1300:\tlearn: 0.1249190\ttest: 0.1201857\tbest: 0.1204429 (1240)\ttotal: 1m 5s\tremaining: 15s\n",
      "1325:\tlearn: 0.1251452\ttest: 0.1202714\tbest: 0.1204429 (1240)\ttotal: 1m 6s\tremaining: 13.7s\n",
      "1350:\tlearn: 0.1252738\ttest: 0.1204286\tbest: 0.1204429 (1240)\ttotal: 1m 7s\tremaining: 12.5s\n",
      "1375:\tlearn: 0.1254333\ttest: 0.1206000\tbest: 0.1206000 (1365)\ttotal: 1m 8s\tremaining: 11.2s\n",
      "1400:\tlearn: 0.1255214\ttest: 0.1206857\tbest: 0.1207000 (1385)\ttotal: 1m 10s\tremaining: 9.97s\n",
      "1425:\tlearn: 0.1257619\ttest: 0.1206857\tbest: 0.1207143 (1420)\ttotal: 1m 11s\tremaining: 8.72s\n",
      "1450:\tlearn: 0.1258690\ttest: 0.1208143\tbest: 0.1208286 (1445)\ttotal: 1m 12s\tremaining: 7.47s\n",
      "1475:\tlearn: 0.1260214\ttest: 0.1210143\tbest: 0.1210143 (1475)\ttotal: 1m 13s\tremaining: 6.21s\n",
      "1500:\tlearn: 0.1260857\ttest: 0.1209143\tbest: 0.1210143 (1475)\ttotal: 1m 15s\tremaining: 4.96s\n",
      "1525:\tlearn: 0.1263000\ttest: 0.1211571\tbest: 0.1211571 (1525)\ttotal: 1m 16s\tremaining: 3.71s\n",
      "1550:\tlearn: 0.1264381\ttest: 0.1209571\tbest: 0.1211571 (1525)\ttotal: 1m 17s\tremaining: 2.46s\n",
      "1575:\tlearn: 0.1265643\ttest: 0.1211143\tbest: 0.1211571 (1525)\ttotal: 1m 18s\tremaining: 1.2s\n",
      "1599:\tlearn: 0.1266881\ttest: 0.1212000\tbest: 0.1212000 (1599)\ttotal: 1m 20s\tremaining: 0us\n",
      "bestTest = 0.1212\n",
      "bestIteration = 1599\n"
     ]
    },
    {
     "data": {
      "text/plain": [
       "<catboost.core.CatBoostRanker at 0x7f323c6e4f40>"
      ]
     },
     "execution_count": 19,
     "metadata": {},
     "output_type": "execute_result"
    }
   ],
   "source": [
    "model.fit(train_pool,eval_set=eval_pool,verbose=25,plot=False)"
   ]
  },
  {
   "cell_type": "code",
   "execution_count": 20,
   "metadata": {
    "tags": []
   },
   "outputs": [],
   "source": [
    "def apk(actual, predicted, k=10):\n",
    "    if len(predicted)>k:\n",
    "        predicted = predicted[:k]\n",
    "\n",
    "    score = 0.0\n",
    "    num_hits = 0.0\n",
    "\n",
    "    for i,p in enumerate(predicted):\n",
    "        if p in actual and p not in predicted[:i]:\n",
    "            num_hits += 1.0\n",
    "            score += num_hits / (i+1.0)\n",
    "    if not actual:\n",
    "        return 0.0\n",
    "    return score / min(len(actual), k)\n",
    "\n",
    "def mapk(actual, predicted, k=10):\n",
    "    return np.mean([apk(a,p,k) for a,p in zip(actual, predicted)])"
   ]
  },
  {
   "cell_type": "code",
   "execution_count": 21,
   "metadata": {
    "tags": []
   },
   "outputs": [],
   "source": [
    "predict_df = pd.read_parquet(\"all_pred_gbm.parquet\")"
   ]
  },
  {
   "cell_type": "code",
   "execution_count": 22,
   "metadata": {
    "tags": []
   },
   "outputs": [
    {
     "data": {
      "text/html": [
       "<div>\n",
       "<style scoped>\n",
       "    .dataframe tbody tr th:only-of-type {\n",
       "        vertical-align: middle;\n",
       "    }\n",
       "\n",
       "    .dataframe tbody tr th {\n",
       "        vertical-align: top;\n",
       "    }\n",
       "\n",
       "    .dataframe thead th {\n",
       "        text-align: right;\n",
       "    }\n",
       "</style>\n",
       "<table border=\"1\" class=\"dataframe\">\n",
       "  <thead>\n",
       "    <tr style=\"text-align: right;\">\n",
       "      <th></th>\n",
       "      <th>query</th>\n",
       "      <th>user_id</th>\n",
       "      <th>scor</th>\n",
       "      <th>rank</th>\n",
       "      <th>comunity</th>\n",
       "      <th>customers_count</th>\n",
       "      <th>messages_count</th>\n",
       "      <th>type</th>\n",
       "      <th>business_category</th>\n",
       "      <th>business_parent</th>\n",
       "      <th>...</th>\n",
       "      <th>bp_ct_top3</th>\n",
       "      <th>bp_th_top1</th>\n",
       "      <th>bp_th_top2</th>\n",
       "      <th>bp_th_top3</th>\n",
       "      <th>std_customers</th>\n",
       "      <th>min_customers</th>\n",
       "      <th>max_customers</th>\n",
       "      <th>std_mess_count</th>\n",
       "      <th>min_mess_count</th>\n",
       "      <th>max_mess_count</th>\n",
       "    </tr>\n",
       "  </thead>\n",
       "  <tbody>\n",
       "    <tr>\n",
       "      <th>0</th>\n",
       "      <td>0</td>\n",
       "      <td>d811a09d435ac2d1b1ed46e272405af10933b4711f4564...</td>\n",
       "      <td>0.760456</td>\n",
       "      <td>0</td>\n",
       "      <td>768680a00db384987ff7532abc1ebc8062281b4ac60124...</td>\n",
       "      <td>35518</td>\n",
       "      <td>2</td>\n",
       "      <td>7</td>\n",
       "      <td>FILM</td>\n",
       "      <td>PERSON</td>\n",
       "      <td>...</td>\n",
       "      <td>BLOG</td>\n",
       "      <td>NaN</td>\n",
       "      <td>NaN</td>\n",
       "      <td>62.0</td>\n",
       "      <td>18525.650359</td>\n",
       "      <td>182</td>\n",
       "      <td>73843</td>\n",
       "      <td>7.062444</td>\n",
       "      <td>1</td>\n",
       "      <td>30</td>\n",
       "    </tr>\n",
       "    <tr>\n",
       "      <th>1</th>\n",
       "      <td>0</td>\n",
       "      <td>d811a09d435ac2d1b1ed46e272405af10933b4711f4564...</td>\n",
       "      <td>0.534067</td>\n",
       "      <td>1</td>\n",
       "      <td>390a9c1054f80353840567b156cb0b703d3c2a963a5d70...</td>\n",
       "      <td>21676</td>\n",
       "      <td>1</td>\n",
       "      <td>7</td>\n",
       "      <td>INTERNET_MEDIA</td>\n",
       "      <td>MEDIA</td>\n",
       "      <td>...</td>\n",
       "      <td>BLOG</td>\n",
       "      <td>NaN</td>\n",
       "      <td>NaN</td>\n",
       "      <td>62.0</td>\n",
       "      <td>18525.650359</td>\n",
       "      <td>182</td>\n",
       "      <td>73843</td>\n",
       "      <td>7.062444</td>\n",
       "      <td>1</td>\n",
       "      <td>30</td>\n",
       "    </tr>\n",
       "    <tr>\n",
       "      <th>2</th>\n",
       "      <td>0</td>\n",
       "      <td>d811a09d435ac2d1b1ed46e272405af10933b4711f4564...</td>\n",
       "      <td>0.481027</td>\n",
       "      <td>2</td>\n",
       "      <td>6b1a156739da983b1d56d32cc8cb128b5b2a1c829de63c...</td>\n",
       "      <td>13858</td>\n",
       "      <td>14</td>\n",
       "      <td>7</td>\n",
       "      <td>TOURIST_AGENCY</td>\n",
       "      <td>TOURISM</td>\n",
       "      <td>...</td>\n",
       "      <td>BLOG</td>\n",
       "      <td>NaN</td>\n",
       "      <td>NaN</td>\n",
       "      <td>62.0</td>\n",
       "      <td>18525.650359</td>\n",
       "      <td>182</td>\n",
       "      <td>73843</td>\n",
       "      <td>7.062444</td>\n",
       "      <td>1</td>\n",
       "      <td>30</td>\n",
       "    </tr>\n",
       "    <tr>\n",
       "      <th>3</th>\n",
       "      <td>0</td>\n",
       "      <td>d811a09d435ac2d1b1ed46e272405af10933b4711f4564...</td>\n",
       "      <td>0.440715</td>\n",
       "      <td>3</td>\n",
       "      <td>4ec66521f946fe87d1f3d75e5ef39e01fb6b89996fbe8d...</td>\n",
       "      <td>13206</td>\n",
       "      <td>9</td>\n",
       "      <td>7</td>\n",
       "      <td>LAW_OFFICE</td>\n",
       "      <td>PROFESSIONAL_SERVICES</td>\n",
       "      <td>...</td>\n",
       "      <td>BLOG</td>\n",
       "      <td>NaN</td>\n",
       "      <td>NaN</td>\n",
       "      <td>62.0</td>\n",
       "      <td>18525.650359</td>\n",
       "      <td>182</td>\n",
       "      <td>73843</td>\n",
       "      <td>7.062444</td>\n",
       "      <td>1</td>\n",
       "      <td>30</td>\n",
       "    </tr>\n",
       "    <tr>\n",
       "      <th>4</th>\n",
       "      <td>0</td>\n",
       "      <td>d811a09d435ac2d1b1ed46e272405af10933b4711f4564...</td>\n",
       "      <td>0.386041</td>\n",
       "      <td>4</td>\n",
       "      <td>53bbe4405c6abfe03092a641607e70637bfafdf420b088...</td>\n",
       "      <td>11226</td>\n",
       "      <td>7</td>\n",
       "      <td>7</td>\n",
       "      <td>ANIMALS</td>\n",
       "      <td>PETS</td>\n",
       "      <td>...</td>\n",
       "      <td>BLOG</td>\n",
       "      <td>NaN</td>\n",
       "      <td>NaN</td>\n",
       "      <td>62.0</td>\n",
       "      <td>18525.650359</td>\n",
       "      <td>182</td>\n",
       "      <td>73843</td>\n",
       "      <td>7.062444</td>\n",
       "      <td>1</td>\n",
       "      <td>30</td>\n",
       "    </tr>\n",
       "    <tr>\n",
       "      <th>...</th>\n",
       "      <td>...</td>\n",
       "      <td>...</td>\n",
       "      <td>...</td>\n",
       "      <td>...</td>\n",
       "      <td>...</td>\n",
       "      <td>...</td>\n",
       "      <td>...</td>\n",
       "      <td>...</td>\n",
       "      <td>...</td>\n",
       "      <td>...</td>\n",
       "      <td>...</td>\n",
       "      <td>...</td>\n",
       "      <td>...</td>\n",
       "      <td>...</td>\n",
       "      <td>...</td>\n",
       "      <td>...</td>\n",
       "      <td>...</td>\n",
       "      <td>...</td>\n",
       "      <td>...</td>\n",
       "      <td>...</td>\n",
       "      <td>...</td>\n",
       "    </tr>\n",
       "    <tr>\n",
       "      <th>3452295</th>\n",
       "      <td>5302</td>\n",
       "      <td>28e5354f7ffab3c1238dbf1b17bb2397d511b71ced4ea6...</td>\n",
       "      <td>0.076348</td>\n",
       "      <td>10</td>\n",
       "      <td>c03bf9aa00eb488975523a073ed4104a26f22e4d990886...</td>\n",
       "      <td>23280</td>\n",
       "      <td>2</td>\n",
       "      <td>7</td>\n",
       "      <td>BLOGGER</td>\n",
       "      <td>PERSON</td>\n",
       "      <td>...</td>\n",
       "      <td>SOCIAL_ORGANISATIONS</td>\n",
       "      <td>NaN</td>\n",
       "      <td>NaN</td>\n",
       "      <td>NaN</td>\n",
       "      <td>1083.512547</td>\n",
       "      <td>261</td>\n",
       "      <td>3043</td>\n",
       "      <td>1.200000</td>\n",
       "      <td>1</td>\n",
       "      <td>4</td>\n",
       "    </tr>\n",
       "    <tr>\n",
       "      <th>3452296</th>\n",
       "      <td>5302</td>\n",
       "      <td>28e5354f7ffab3c1238dbf1b17bb2397d511b71ced4ea6...</td>\n",
       "      <td>0.073375</td>\n",
       "      <td>23</td>\n",
       "      <td>6651ca2f3d0b27d0fe06bab11caa4fad73ee6a91613c3a...</td>\n",
       "      <td>9699</td>\n",
       "      <td>3</td>\n",
       "      <td>7</td>\n",
       "      <td>PUBLIC_ORGANIZATION</td>\n",
       "      <td>SOCIAL_ORGANISATIONS</td>\n",
       "      <td>...</td>\n",
       "      <td>SOCIAL_ORGANISATIONS</td>\n",
       "      <td>NaN</td>\n",
       "      <td>NaN</td>\n",
       "      <td>NaN</td>\n",
       "      <td>1083.512547</td>\n",
       "      <td>261</td>\n",
       "      <td>3043</td>\n",
       "      <td>1.200000</td>\n",
       "      <td>1</td>\n",
       "      <td>4</td>\n",
       "    </tr>\n",
       "    <tr>\n",
       "      <th>3452297</th>\n",
       "      <td>5302</td>\n",
       "      <td>28e5354f7ffab3c1238dbf1b17bb2397d511b71ced4ea6...</td>\n",
       "      <td>0.074058</td>\n",
       "      <td>21</td>\n",
       "      <td>2de900faf69694fdb245d99881502d8539b590f1126958...</td>\n",
       "      <td>10129</td>\n",
       "      <td>0</td>\n",
       "      <td>7</td>\n",
       "      <td>CARS_MACHINERY</td>\n",
       "      <td>AUTO</td>\n",
       "      <td>...</td>\n",
       "      <td>SOCIAL_ORGANISATIONS</td>\n",
       "      <td>NaN</td>\n",
       "      <td>NaN</td>\n",
       "      <td>NaN</td>\n",
       "      <td>1083.512547</td>\n",
       "      <td>261</td>\n",
       "      <td>3043</td>\n",
       "      <td>1.200000</td>\n",
       "      <td>1</td>\n",
       "      <td>4</td>\n",
       "    </tr>\n",
       "    <tr>\n",
       "      <th>3452298</th>\n",
       "      <td>5302</td>\n",
       "      <td>28e5354f7ffab3c1238dbf1b17bb2397d511b71ced4ea6...</td>\n",
       "      <td>0.071528</td>\n",
       "      <td>38</td>\n",
       "      <td>a93c51bf7a218a97d04167b943502fdaebcca683c9bb7c...</td>\n",
       "      <td>9401</td>\n",
       "      <td>0</td>\n",
       "      <td>7</td>\n",
       "      <td>CAMPING</td>\n",
       "      <td>LEISURE_AND_ENTERTAINMENT</td>\n",
       "      <td>...</td>\n",
       "      <td>SOCIAL_ORGANISATIONS</td>\n",
       "      <td>NaN</td>\n",
       "      <td>NaN</td>\n",
       "      <td>NaN</td>\n",
       "      <td>1083.512547</td>\n",
       "      <td>261</td>\n",
       "      <td>3043</td>\n",
       "      <td>1.200000</td>\n",
       "      <td>1</td>\n",
       "      <td>4</td>\n",
       "    </tr>\n",
       "    <tr>\n",
       "      <th>3452299</th>\n",
       "      <td>5302</td>\n",
       "      <td>28e5354f7ffab3c1238dbf1b17bb2397d511b71ced4ea6...</td>\n",
       "      <td>0.070963</td>\n",
       "      <td>43</td>\n",
       "      <td>267e08b6c048f650fd824a5f88e26db37feb103dc2db23...</td>\n",
       "      <td>8460</td>\n",
       "      <td>1</td>\n",
       "      <td>7</td>\n",
       "      <td>PRODUCTS_STORE</td>\n",
       "      <td>POPULAR</td>\n",
       "      <td>...</td>\n",
       "      <td>SOCIAL_ORGANISATIONS</td>\n",
       "      <td>NaN</td>\n",
       "      <td>NaN</td>\n",
       "      <td>NaN</td>\n",
       "      <td>1083.512547</td>\n",
       "      <td>261</td>\n",
       "      <td>3043</td>\n",
       "      <td>1.200000</td>\n",
       "      <td>1</td>\n",
       "      <td>4</td>\n",
       "    </tr>\n",
       "  </tbody>\n",
       "</table>\n",
       "<p>3452300 rows × 29 columns</p>\n",
       "</div>"
      ],
      "text/plain": [
       "         query                                            user_id      scor  \\\n",
       "0            0  d811a09d435ac2d1b1ed46e272405af10933b4711f4564...  0.760456   \n",
       "1            0  d811a09d435ac2d1b1ed46e272405af10933b4711f4564...  0.534067   \n",
       "2            0  d811a09d435ac2d1b1ed46e272405af10933b4711f4564...  0.481027   \n",
       "3            0  d811a09d435ac2d1b1ed46e272405af10933b4711f4564...  0.440715   \n",
       "4            0  d811a09d435ac2d1b1ed46e272405af10933b4711f4564...  0.386041   \n",
       "...        ...                                                ...       ...   \n",
       "3452295   5302  28e5354f7ffab3c1238dbf1b17bb2397d511b71ced4ea6...  0.076348   \n",
       "3452296   5302  28e5354f7ffab3c1238dbf1b17bb2397d511b71ced4ea6...  0.073375   \n",
       "3452297   5302  28e5354f7ffab3c1238dbf1b17bb2397d511b71ced4ea6...  0.074058   \n",
       "3452298   5302  28e5354f7ffab3c1238dbf1b17bb2397d511b71ced4ea6...  0.071528   \n",
       "3452299   5302  28e5354f7ffab3c1238dbf1b17bb2397d511b71ced4ea6...  0.070963   \n",
       "\n",
       "         rank                                           comunity  \\\n",
       "0           0  768680a00db384987ff7532abc1ebc8062281b4ac60124...   \n",
       "1           1  390a9c1054f80353840567b156cb0b703d3c2a963a5d70...   \n",
       "2           2  6b1a156739da983b1d56d32cc8cb128b5b2a1c829de63c...   \n",
       "3           3  4ec66521f946fe87d1f3d75e5ef39e01fb6b89996fbe8d...   \n",
       "4           4  53bbe4405c6abfe03092a641607e70637bfafdf420b088...   \n",
       "...       ...                                                ...   \n",
       "3452295    10  c03bf9aa00eb488975523a073ed4104a26f22e4d990886...   \n",
       "3452296    23  6651ca2f3d0b27d0fe06bab11caa4fad73ee6a91613c3a...   \n",
       "3452297    21  2de900faf69694fdb245d99881502d8539b590f1126958...   \n",
       "3452298    38  a93c51bf7a218a97d04167b943502fdaebcca683c9bb7c...   \n",
       "3452299    43  267e08b6c048f650fd824a5f88e26db37feb103dc2db23...   \n",
       "\n",
       "         customers_count  messages_count  type    business_category  \\\n",
       "0                  35518               2     7                 FILM   \n",
       "1                  21676               1     7       INTERNET_MEDIA   \n",
       "2                  13858              14     7       TOURIST_AGENCY   \n",
       "3                  13206               9     7           LAW_OFFICE   \n",
       "4                  11226               7     7              ANIMALS   \n",
       "...                  ...             ...   ...                  ...   \n",
       "3452295            23280               2     7              BLOGGER   \n",
       "3452296             9699               3     7  PUBLIC_ORGANIZATION   \n",
       "3452297            10129               0     7       CARS_MACHINERY   \n",
       "3452298             9401               0     7              CAMPING   \n",
       "3452299             8460               1     7       PRODUCTS_STORE   \n",
       "\n",
       "                   business_parent  ...            bp_ct_top3  bp_th_top1  \\\n",
       "0                           PERSON  ...                  BLOG         NaN   \n",
       "1                            MEDIA  ...                  BLOG         NaN   \n",
       "2                          TOURISM  ...                  BLOG         NaN   \n",
       "3            PROFESSIONAL_SERVICES  ...                  BLOG         NaN   \n",
       "4                             PETS  ...                  BLOG         NaN   \n",
       "...                            ...  ...                   ...         ...   \n",
       "3452295                     PERSON  ...  SOCIAL_ORGANISATIONS         NaN   \n",
       "3452296       SOCIAL_ORGANISATIONS  ...  SOCIAL_ORGANISATIONS         NaN   \n",
       "3452297                       AUTO  ...  SOCIAL_ORGANISATIONS         NaN   \n",
       "3452298  LEISURE_AND_ENTERTAINMENT  ...  SOCIAL_ORGANISATIONS         NaN   \n",
       "3452299                    POPULAR  ...  SOCIAL_ORGANISATIONS         NaN   \n",
       "\n",
       "         bp_th_top2  bp_th_top3 std_customers min_customers max_customers  \\\n",
       "0               NaN        62.0  18525.650359           182         73843   \n",
       "1               NaN        62.0  18525.650359           182         73843   \n",
       "2               NaN        62.0  18525.650359           182         73843   \n",
       "3               NaN        62.0  18525.650359           182         73843   \n",
       "4               NaN        62.0  18525.650359           182         73843   \n",
       "...             ...         ...           ...           ...           ...   \n",
       "3452295         NaN         NaN   1083.512547           261          3043   \n",
       "3452296         NaN         NaN   1083.512547           261          3043   \n",
       "3452297         NaN         NaN   1083.512547           261          3043   \n",
       "3452298         NaN         NaN   1083.512547           261          3043   \n",
       "3452299         NaN         NaN   1083.512547           261          3043   \n",
       "\n",
       "        std_mess_count min_mess_count max_mess_count  \n",
       "0             7.062444              1             30  \n",
       "1             7.062444              1             30  \n",
       "2             7.062444              1             30  \n",
       "3             7.062444              1             30  \n",
       "4             7.062444              1             30  \n",
       "...                ...            ...            ...  \n",
       "3452295       1.200000              1              4  \n",
       "3452296       1.200000              1              4  \n",
       "3452297       1.200000              1              4  \n",
       "3452298       1.200000              1              4  \n",
       "3452299       1.200000              1              4  \n",
       "\n",
       "[3452300 rows x 29 columns]"
      ]
     },
     "execution_count": 22,
     "metadata": {},
     "output_type": "execute_result"
    }
   ],
   "source": [
    "predict_df"
   ]
  },
  {
   "cell_type": "code",
   "execution_count": 23,
   "metadata": {
    "tags": []
   },
   "outputs": [],
   "source": [
    "for col in ['bp_th_top1','bp_th_top2','bp_th_top3','themeid']:\n",
    "    #train_df[col] = train_df[col].astype(str)\n",
    "    predict_df[col] = predict_df[col].astype(str)"
   ]
  },
  {
   "cell_type": "code",
   "execution_count": 24,
   "metadata": {
    "tags": []
   },
   "outputs": [],
   "source": [
    "predict_df = predict_df.fillna('NuN')"
   ]
  },
  {
   "cell_type": "code",
   "execution_count": 27,
   "metadata": {
    "tags": []
   },
   "outputs": [],
   "source": [
    "predict_pool = Pool(data=predict_df.drop([query,'user_id','comunity'],axis=1),\n",
    "                  cat_features=cat_cols,\n",
    "                  group_id=predict_df[query])"
   ]
  },
  {
   "cell_type": "code",
   "execution_count": 28,
   "metadata": {
    "tags": []
   },
   "outputs": [],
   "source": [
    "predict_df['ranks'] = model.predict(predict_pool)"
   ]
  },
  {
   "cell_type": "code",
   "execution_count": 29,
   "metadata": {
    "tags": []
   },
   "outputs": [],
   "source": [
    "predict_df = predict_df.sort_values(by='query')"
   ]
  },
  {
   "cell_type": "code",
   "execution_count": 30,
   "metadata": {},
   "outputs": [
    {
     "data": {
      "text/plain": [
       "69046"
      ]
     },
     "execution_count": 30,
     "metadata": {},
     "output_type": "execute_result"
    }
   ],
   "source": [
    "predict_df['query'].max() + 1"
   ]
  },
  {
   "cell_type": "code",
   "execution_count": 31,
   "metadata": {
    "tags": []
   },
   "outputs": [
    {
     "data": {
      "application/vnd.jupyter.widget-view+json": {
       "model_id": "160bcd2a44964bfea8b006a618cae618",
       "version_major": 2,
       "version_minor": 0
      },
      "text/plain": [
       "  0%|          | 0/69046 [00:00<?, ?it/s]"
      ]
     },
     "metadata": {},
     "output_type": "display_data"
    },
    {
     "name": "stderr",
     "output_type": "stream",
     "text": [
      "/tmp/ipykernel_632/3886554370.py:5: FutureWarning: The behavior of `series[i:j]` with an integer-dtype index is deprecated. In a future version, this will be treated as *label-based* indexing, consistent with e.g. `series[i]` lookups. To retain the old behavior, use `series.iloc[i:j]`. To get the future behavior, use `series.loc[i:j]`.\n",
      "  model_ranks += [df_.sort_values(by='ranks')['comunity'][::-1][:7].tolist()]\n",
      "/tmp/ipykernel_632/3886554370.py:4: FutureWarning: The behavior of `series[i:j]` with an integer-dtype index is deprecated. In a future version, this will be treated as *label-based* indexing, consistent with e.g. `series[i]` lookups. To retain the old behavior, use `series.iloc[i:j]`. To get the future behavior, use `series.loc[i:j]`.\n",
      "  als_ranks += [df_.sort_values(by='scor')['comunity'][::-1][:7].tolist()]\n"
     ]
    }
   ],
   "source": [
    "model_ranks,als_ranks = [],[]\n",
    "for qrt in tqdm(range(69046)):\n",
    "    df_ = predict_df[qrt*50:(qrt+1)*50]\n",
    "    als_ranks += [df_.sort_values(by='scor')['comunity'][::-1][:7].tolist()]\n",
    "    model_ranks += [df_.sort_values(by='ranks')['comunity'][::-1][:7].tolist()]"
   ]
  },
  {
   "cell_type": "code",
   "execution_count": 32,
   "metadata": {
    "tags": []
   },
   "outputs": [],
   "source": [
    "def get_submit(predict_users,preds):\n",
    "    df = []\n",
    "    for usr,prds in zip(predict_users,preds):\n",
    "        fc = dict()\n",
    "        fc['customer_id'] = usr\n",
    "        for i in range(7):\n",
    "            fc[f'community_id_{i+1}'] = prds[i]\n",
    "        df += [fc]\n",
    "    return pd.DataFrame(df)"
   ]
  },
  {
   "cell_type": "code",
   "execution_count": 33,
   "metadata": {
    "tags": []
   },
   "outputs": [],
   "source": [
    "submit = get_submit(predict_df['user_id'].unique(),model_ranks)"
   ]
  },
  {
   "cell_type": "code",
   "execution_count": 34,
   "metadata": {
    "tags": []
   },
   "outputs": [],
   "source": [
    "submit.to_csv('submit.csv',index=False)"
   ]
  },
  {
   "cell_type": "code",
   "execution_count": 35,
   "metadata": {},
   "outputs": [
    {
     "data": {
      "text/html": [
       "<div>\n",
       "<style scoped>\n",
       "    .dataframe tbody tr th:only-of-type {\n",
       "        vertical-align: middle;\n",
       "    }\n",
       "\n",
       "    .dataframe tbody tr th {\n",
       "        vertical-align: top;\n",
       "    }\n",
       "\n",
       "    .dataframe thead th {\n",
       "        text-align: right;\n",
       "    }\n",
       "</style>\n",
       "<table border=\"1\" class=\"dataframe\">\n",
       "  <thead>\n",
       "    <tr style=\"text-align: right;\">\n",
       "      <th></th>\n",
       "      <th>customer_id</th>\n",
       "      <th>community_id_1</th>\n",
       "      <th>community_id_2</th>\n",
       "      <th>community_id_3</th>\n",
       "      <th>community_id_4</th>\n",
       "      <th>community_id_5</th>\n",
       "      <th>community_id_6</th>\n",
       "      <th>community_id_7</th>\n",
       "    </tr>\n",
       "  </thead>\n",
       "  <tbody>\n",
       "    <tr>\n",
       "      <th>0</th>\n",
       "      <td>d811a09d435ac2d1b1ed46e272405af10933b4711f4564...</td>\n",
       "      <td>768680a00db384987ff7532abc1ebc8062281b4ac60124...</td>\n",
       "      <td>dbdfeaeebe658d7a866ffa073158295685762b33629512...</td>\n",
       "      <td>005ca7b90a9fdea643eb6be501b289e6d451ca6d2f28dc...</td>\n",
       "      <td>95f663e12ea58f926d92f764b07674a53b29a5af1f5e2e...</td>\n",
       "      <td>4d5a53b97c13d64138565f8908be967a831646a708633c...</td>\n",
       "      <td>4ec66521f946fe87d1f3d75e5ef39e01fb6b89996fbe8d...</td>\n",
       "      <td>db65cd130a71bd957a707224d9414cd850f6022c2c5abd...</td>\n",
       "    </tr>\n",
       "    <tr>\n",
       "      <th>1</th>\n",
       "      <td>73821118fc33500efaa6b1adf8ab0e9d314abb15f62603...</td>\n",
       "      <td>b0dadd3ca6aa79e83ede40fe5144e46b04efe1fd37fb67...</td>\n",
       "      <td>7e72a05405362daec036b6c918ec70645f99b09dd7ee2a...</td>\n",
       "      <td>68c88a68794384b8953398fbd06791a10c83acfb1e27d0...</td>\n",
       "      <td>1d4cceb7fafde4718d26a7a4a071a8b146154d95d5db59...</td>\n",
       "      <td>f146596214865eb9e4abf6a4d494480e4ad79a0191bd25...</td>\n",
       "      <td>e9fb3daa203599383c50c52421b7415230193116687111...</td>\n",
       "      <td>c857fdb0cd63d50e97e28c0e05d2dec31f985522bdd76b...</td>\n",
       "    </tr>\n",
       "    <tr>\n",
       "      <th>2</th>\n",
       "      <td>6381971c002097a94b8d7a03d9dc3e9ff7872a52c4764a...</td>\n",
       "      <td>fb0c97fc02e05328718516409e97b19e72e9d544be1ed7...</td>\n",
       "      <td>092fd2a2cd45c5b51fcf94d610072cdf471e2d9522f5b1...</td>\n",
       "      <td>a8b15b543469eebe27c67c0c5897f6dc18e160cc5997c0...</td>\n",
       "      <td>892f2c17a6b9684c4dfd9834c0c6c8e7694c9faa00a0b3...</td>\n",
       "      <td>16183b4e07446d00c10d26deb9a1d62814d67fb6039b59...</td>\n",
       "      <td>bf66ba83213642a3060dfcde377d95c6b74f2bccc5a4a0...</td>\n",
       "      <td>0fcb8e67c30781ff9cf7f8290eff13144218d4d50ada43...</td>\n",
       "    </tr>\n",
       "    <tr>\n",
       "      <th>3</th>\n",
       "      <td>250d49b476af0c7d2b23dd39cbb6edff39d44c64f8ebc0...</td>\n",
       "      <td>892f2c17a6b9684c4dfd9834c0c6c8e7694c9faa00a0b3...</td>\n",
       "      <td>a8b15b543469eebe27c67c0c5897f6dc18e160cc5997c0...</td>\n",
       "      <td>16183b4e07446d00c10d26deb9a1d62814d67fb6039b59...</td>\n",
       "      <td>abf30b1c3a454eaff00dea8e353bdef6c41ca9ea303ca6...</td>\n",
       "      <td>6729664ac03bd48062612647597252d30d097b79e8308b...</td>\n",
       "      <td>a8d0b95bb7330d3a1171c439c5db88e1a3671edfbca950...</td>\n",
       "      <td>4c9a186c14bbb29d71c24d48b56e7b8d05d5fc5e00c4f0...</td>\n",
       "    </tr>\n",
       "    <tr>\n",
       "      <th>4</th>\n",
       "      <td>2da339a6bfe7791329ca8eb0a11544d4a9fb4c89572716...</td>\n",
       "      <td>b8ed0e918d9f11140c70ef08be19c197917f4f4455f255...</td>\n",
       "      <td>aee65cc087f56024df2aedd0755db2a3d193cf2ca558b7...</td>\n",
       "      <td>b4823c708c5fdba713f8f150327ce2101a5061d4f9d1f7...</td>\n",
       "      <td>ccc28c0a120ead6ec1cc77fb0555bf0195e28e3879b6ef...</td>\n",
       "      <td>17ecd45163fcf3ce895db4edf74a115e91779b26bb44ee...</td>\n",
       "      <td>ddbb0ee9f1eff9b9ff830faac9db11f178687e332eb28b...</td>\n",
       "      <td>14d2fb073c9a2929f1fd9919cbbae50a5c597d2459d7f5...</td>\n",
       "    </tr>\n",
       "    <tr>\n",
       "      <th>...</th>\n",
       "      <td>...</td>\n",
       "      <td>...</td>\n",
       "      <td>...</td>\n",
       "      <td>...</td>\n",
       "      <td>...</td>\n",
       "      <td>...</td>\n",
       "      <td>...</td>\n",
       "      <td>...</td>\n",
       "    </tr>\n",
       "    <tr>\n",
       "      <th>69041</th>\n",
       "      <td>606d6caf18a6209acaa46a1a0233a4bf22bc9885d70397...</td>\n",
       "      <td>e3adbab2d48db35c1a50f513ccc5416618fad8ef1e0567...</td>\n",
       "      <td>5d940e31b7c79eada0da34ff4dad5ab58e7694efca1b94...</td>\n",
       "      <td>13bc935e69c0119a69b6cb8f2a75e0150aa6c579fa826b...</td>\n",
       "      <td>57d99404c90c9344d3aec2c15ffb7b1a0f46c8a4f7157a...</td>\n",
       "      <td>586100a57969a348929446241ebaf5778c17d1546e3beb...</td>\n",
       "      <td>65645d4fb18a28c9a2726e736b3c881d4e3599be2b1f2b...</td>\n",
       "      <td>98d3a3519a33e4f56c6b8bf8eb3139a31eb691371fa45d...</td>\n",
       "    </tr>\n",
       "    <tr>\n",
       "      <th>69042</th>\n",
       "      <td>a71392c55f8bace9bd108a1acbf9c2335d700fb041966b...</td>\n",
       "      <td>dac62fcdc52f97daad2712837a808e304fd011bd5ec665...</td>\n",
       "      <td>58d35c987a0553d27bd68569818a8ad84e93db409c32c9...</td>\n",
       "      <td>b2e550048439263d779622fc9b4d221827573e9c6c5900...</td>\n",
       "      <td>b274af0e3a0afc5445b804d67cb2e789bbfff563c4478e...</td>\n",
       "      <td>7dab772c40d0df013a66aacf7f81f8cc446d7ff50cac2d...</td>\n",
       "      <td>3c8c56c125be2575c74750926654d11289941ff9b3f75e...</td>\n",
       "      <td>f7c22598d4d68bc4478d3b07c5f1dfee87e77bbcbf6169...</td>\n",
       "    </tr>\n",
       "    <tr>\n",
       "      <th>69043</th>\n",
       "      <td>7b6d03389208df699aa116563dc5c45cbf5c725b47b415...</td>\n",
       "      <td>13ac2f3d04f9306b4e3cc82e69b3f8e69f4dc7f12cf42d...</td>\n",
       "      <td>7e95f5c89f6c638a50bc6f6ebd54616a85c22db0e06e6e...</td>\n",
       "      <td>6682dfc418774213023298fe0618332b85e6f4f2095e62...</td>\n",
       "      <td>d5bf1f56574d7af705d4cd8b882ef2456cc857faa7bdfa...</td>\n",
       "      <td>01c1bd2b0bd1e7e1c8868a40add460f16d572859bdd6f5...</td>\n",
       "      <td>278cd81ddcb443f85149c70b320314842f8ba5a027c03f...</td>\n",
       "      <td>cbd6124cd10e3b6bdbe052d657002243bd45bd6d7c644b...</td>\n",
       "    </tr>\n",
       "    <tr>\n",
       "      <th>69044</th>\n",
       "      <td>8d1c564ba9f96dafb0a856fbc65fc4f9fc020863fe3b3f...</td>\n",
       "      <td>0664b5dc3168881dd7b4b1390ac80d618d7b0ce4afd8e5...</td>\n",
       "      <td>51b354f4db4e89508fad99ff9b466db96a307c9d1a1941...</td>\n",
       "      <td>bd7df33800e29e0d3c36814438d86a7e52886d80e43e76...</td>\n",
       "      <td>61199b60558bc8f9a89dcfcc7e5777edd38be1330bcda1...</td>\n",
       "      <td>72f77b9e0238d6951c32bd2917ab067d2c3f6ffb4746cd...</td>\n",
       "      <td>9f572e1f39b73a53ec0034d6ccf2ea7244b67a620457f3...</td>\n",
       "      <td>872892c975286011a5bdbf41ccbba8f1a1331a06097d23...</td>\n",
       "    </tr>\n",
       "    <tr>\n",
       "      <th>69045</th>\n",
       "      <td>f57918286b0047d2884e72631b65b4c7f13f5ffc697743...</td>\n",
       "      <td>c7559b08d45065cde40440aaf273cd291396fa5c4bebfb...</td>\n",
       "      <td>e73ba51438308fc4035d2f5659ab05ab3d9b17178f69e7...</td>\n",
       "      <td>105d1e38788bd0fb14ca6e4a78dba9d07f31dd6fe815dd...</td>\n",
       "      <td>948998e8d1b1feb378789dd714c8351f16c5960cd713e7...</td>\n",
       "      <td>b8fd06b257b967a904e338a4a3fcc779c3a146e158a2cf...</td>\n",
       "      <td>86d75356b0efba56bb3577a1c4d3e838cd7c84b1fdc890...</td>\n",
       "      <td>8a7138a94b6454a1d2cea36834127af7db6b7024cc0dc0...</td>\n",
       "    </tr>\n",
       "  </tbody>\n",
       "</table>\n",
       "<p>69046 rows × 8 columns</p>\n",
       "</div>"
      ],
      "text/plain": [
       "                                             customer_id  \\\n",
       "0      d811a09d435ac2d1b1ed46e272405af10933b4711f4564...   \n",
       "1      73821118fc33500efaa6b1adf8ab0e9d314abb15f62603...   \n",
       "2      6381971c002097a94b8d7a03d9dc3e9ff7872a52c4764a...   \n",
       "3      250d49b476af0c7d2b23dd39cbb6edff39d44c64f8ebc0...   \n",
       "4      2da339a6bfe7791329ca8eb0a11544d4a9fb4c89572716...   \n",
       "...                                                  ...   \n",
       "69041  606d6caf18a6209acaa46a1a0233a4bf22bc9885d70397...   \n",
       "69042  a71392c55f8bace9bd108a1acbf9c2335d700fb041966b...   \n",
       "69043  7b6d03389208df699aa116563dc5c45cbf5c725b47b415...   \n",
       "69044  8d1c564ba9f96dafb0a856fbc65fc4f9fc020863fe3b3f...   \n",
       "69045  f57918286b0047d2884e72631b65b4c7f13f5ffc697743...   \n",
       "\n",
       "                                          community_id_1  \\\n",
       "0      768680a00db384987ff7532abc1ebc8062281b4ac60124...   \n",
       "1      b0dadd3ca6aa79e83ede40fe5144e46b04efe1fd37fb67...   \n",
       "2      fb0c97fc02e05328718516409e97b19e72e9d544be1ed7...   \n",
       "3      892f2c17a6b9684c4dfd9834c0c6c8e7694c9faa00a0b3...   \n",
       "4      b8ed0e918d9f11140c70ef08be19c197917f4f4455f255...   \n",
       "...                                                  ...   \n",
       "69041  e3adbab2d48db35c1a50f513ccc5416618fad8ef1e0567...   \n",
       "69042  dac62fcdc52f97daad2712837a808e304fd011bd5ec665...   \n",
       "69043  13ac2f3d04f9306b4e3cc82e69b3f8e69f4dc7f12cf42d...   \n",
       "69044  0664b5dc3168881dd7b4b1390ac80d618d7b0ce4afd8e5...   \n",
       "69045  c7559b08d45065cde40440aaf273cd291396fa5c4bebfb...   \n",
       "\n",
       "                                          community_id_2  \\\n",
       "0      dbdfeaeebe658d7a866ffa073158295685762b33629512...   \n",
       "1      7e72a05405362daec036b6c918ec70645f99b09dd7ee2a...   \n",
       "2      092fd2a2cd45c5b51fcf94d610072cdf471e2d9522f5b1...   \n",
       "3      a8b15b543469eebe27c67c0c5897f6dc18e160cc5997c0...   \n",
       "4      aee65cc087f56024df2aedd0755db2a3d193cf2ca558b7...   \n",
       "...                                                  ...   \n",
       "69041  5d940e31b7c79eada0da34ff4dad5ab58e7694efca1b94...   \n",
       "69042  58d35c987a0553d27bd68569818a8ad84e93db409c32c9...   \n",
       "69043  7e95f5c89f6c638a50bc6f6ebd54616a85c22db0e06e6e...   \n",
       "69044  51b354f4db4e89508fad99ff9b466db96a307c9d1a1941...   \n",
       "69045  e73ba51438308fc4035d2f5659ab05ab3d9b17178f69e7...   \n",
       "\n",
       "                                          community_id_3  \\\n",
       "0      005ca7b90a9fdea643eb6be501b289e6d451ca6d2f28dc...   \n",
       "1      68c88a68794384b8953398fbd06791a10c83acfb1e27d0...   \n",
       "2      a8b15b543469eebe27c67c0c5897f6dc18e160cc5997c0...   \n",
       "3      16183b4e07446d00c10d26deb9a1d62814d67fb6039b59...   \n",
       "4      b4823c708c5fdba713f8f150327ce2101a5061d4f9d1f7...   \n",
       "...                                                  ...   \n",
       "69041  13bc935e69c0119a69b6cb8f2a75e0150aa6c579fa826b...   \n",
       "69042  b2e550048439263d779622fc9b4d221827573e9c6c5900...   \n",
       "69043  6682dfc418774213023298fe0618332b85e6f4f2095e62...   \n",
       "69044  bd7df33800e29e0d3c36814438d86a7e52886d80e43e76...   \n",
       "69045  105d1e38788bd0fb14ca6e4a78dba9d07f31dd6fe815dd...   \n",
       "\n",
       "                                          community_id_4  \\\n",
       "0      95f663e12ea58f926d92f764b07674a53b29a5af1f5e2e...   \n",
       "1      1d4cceb7fafde4718d26a7a4a071a8b146154d95d5db59...   \n",
       "2      892f2c17a6b9684c4dfd9834c0c6c8e7694c9faa00a0b3...   \n",
       "3      abf30b1c3a454eaff00dea8e353bdef6c41ca9ea303ca6...   \n",
       "4      ccc28c0a120ead6ec1cc77fb0555bf0195e28e3879b6ef...   \n",
       "...                                                  ...   \n",
       "69041  57d99404c90c9344d3aec2c15ffb7b1a0f46c8a4f7157a...   \n",
       "69042  b274af0e3a0afc5445b804d67cb2e789bbfff563c4478e...   \n",
       "69043  d5bf1f56574d7af705d4cd8b882ef2456cc857faa7bdfa...   \n",
       "69044  61199b60558bc8f9a89dcfcc7e5777edd38be1330bcda1...   \n",
       "69045  948998e8d1b1feb378789dd714c8351f16c5960cd713e7...   \n",
       "\n",
       "                                          community_id_5  \\\n",
       "0      4d5a53b97c13d64138565f8908be967a831646a708633c...   \n",
       "1      f146596214865eb9e4abf6a4d494480e4ad79a0191bd25...   \n",
       "2      16183b4e07446d00c10d26deb9a1d62814d67fb6039b59...   \n",
       "3      6729664ac03bd48062612647597252d30d097b79e8308b...   \n",
       "4      17ecd45163fcf3ce895db4edf74a115e91779b26bb44ee...   \n",
       "...                                                  ...   \n",
       "69041  586100a57969a348929446241ebaf5778c17d1546e3beb...   \n",
       "69042  7dab772c40d0df013a66aacf7f81f8cc446d7ff50cac2d...   \n",
       "69043  01c1bd2b0bd1e7e1c8868a40add460f16d572859bdd6f5...   \n",
       "69044  72f77b9e0238d6951c32bd2917ab067d2c3f6ffb4746cd...   \n",
       "69045  b8fd06b257b967a904e338a4a3fcc779c3a146e158a2cf...   \n",
       "\n",
       "                                          community_id_6  \\\n",
       "0      4ec66521f946fe87d1f3d75e5ef39e01fb6b89996fbe8d...   \n",
       "1      e9fb3daa203599383c50c52421b7415230193116687111...   \n",
       "2      bf66ba83213642a3060dfcde377d95c6b74f2bccc5a4a0...   \n",
       "3      a8d0b95bb7330d3a1171c439c5db88e1a3671edfbca950...   \n",
       "4      ddbb0ee9f1eff9b9ff830faac9db11f178687e332eb28b...   \n",
       "...                                                  ...   \n",
       "69041  65645d4fb18a28c9a2726e736b3c881d4e3599be2b1f2b...   \n",
       "69042  3c8c56c125be2575c74750926654d11289941ff9b3f75e...   \n",
       "69043  278cd81ddcb443f85149c70b320314842f8ba5a027c03f...   \n",
       "69044  9f572e1f39b73a53ec0034d6ccf2ea7244b67a620457f3...   \n",
       "69045  86d75356b0efba56bb3577a1c4d3e838cd7c84b1fdc890...   \n",
       "\n",
       "                                          community_id_7  \n",
       "0      db65cd130a71bd957a707224d9414cd850f6022c2c5abd...  \n",
       "1      c857fdb0cd63d50e97e28c0e05d2dec31f985522bdd76b...  \n",
       "2      0fcb8e67c30781ff9cf7f8290eff13144218d4d50ada43...  \n",
       "3      4c9a186c14bbb29d71c24d48b56e7b8d05d5fc5e00c4f0...  \n",
       "4      14d2fb073c9a2929f1fd9919cbbae50a5c597d2459d7f5...  \n",
       "...                                                  ...  \n",
       "69041  98d3a3519a33e4f56c6b8bf8eb3139a31eb691371fa45d...  \n",
       "69042  f7c22598d4d68bc4478d3b07c5f1dfee87e77bbcbf6169...  \n",
       "69043  cbd6124cd10e3b6bdbe052d657002243bd45bd6d7c644b...  \n",
       "69044  872892c975286011a5bdbf41ccbba8f1a1331a06097d23...  \n",
       "69045  8a7138a94b6454a1d2cea36834127af7db6b7024cc0dc0...  \n",
       "\n",
       "[69046 rows x 8 columns]"
      ]
     },
     "execution_count": 35,
     "metadata": {},
     "output_type": "execute_result"
    }
   ],
   "source": [
    "submit"
   ]
  },
  {
   "cell_type": "code",
   "execution_count": 36,
   "metadata": {
    "tags": []
   },
   "outputs": [
    {
     "name": "stdout",
     "output_type": "stream",
     "text": [
      "updating: submit.csv (deflated 50%)\n"
     ]
    }
   ],
   "source": [
    "!zip submit.csv.zip submit.csv"
   ]
  },
  {
   "cell_type": "code",
   "execution_count": 37,
   "metadata": {},
   "outputs": [
    {
     "data": {
      "text/plain": [
       "0          d811a09d435ac2d1b1ed46e272405af10933b4711f4564...\n",
       "27         d811a09d435ac2d1b1ed46e272405af10933b4711f4564...\n",
       "28         d811a09d435ac2d1b1ed46e272405af10933b4711f4564...\n",
       "29         d811a09d435ac2d1b1ed46e272405af10933b4711f4564...\n",
       "30         d811a09d435ac2d1b1ed46e272405af10933b4711f4564...\n",
       "                                 ...                        \n",
       "1731975    f57918286b0047d2884e72631b65b4c7f13f5ffc697743...\n",
       "1731974    f57918286b0047d2884e72631b65b4c7f13f5ffc697743...\n",
       "1731973    f57918286b0047d2884e72631b65b4c7f13f5ffc697743...\n",
       "1731971    f57918286b0047d2884e72631b65b4c7f13f5ffc697743...\n",
       "1731998    f57918286b0047d2884e72631b65b4c7f13f5ffc697743...\n",
       "Name: user_id, Length: 3452300, dtype: object"
      ]
     },
     "execution_count": 37,
     "metadata": {},
     "output_type": "execute_result"
    }
   ],
   "source": [
    "predict_df['user_id']"
   ]
  },
  {
   "cell_type": "code",
   "execution_count": null,
   "metadata": {},
   "outputs": [],
   "source": []
  },
  {
   "cell_type": "code",
   "execution_count": null,
   "metadata": {},
   "outputs": [],
   "source": []
  }
 ],
 "metadata": {
  "kernelspec": {
   "display_name": "Python 3 (ipykernel)",
   "language": "python",
   "name": "python3"
  },
  "language_info": {
   "codemirror_mode": {
    "name": "ipython",
    "version": 3
   },
   "file_extension": ".py",
   "mimetype": "text/x-python",
   "name": "python",
   "nbconvert_exporter": "python",
   "pygments_lexer": "ipython3",
   "version": "3.9.16"
  }
 },
 "nbformat": 4,
 "nbformat_minor": 4
}
