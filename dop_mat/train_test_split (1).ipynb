{
 "cells": [
  {
   "cell_type": "code",
   "execution_count": 1,
   "metadata": {
    "id": "aOqdKjC05MON"
   },
   "outputs": [],
   "source": [
    "import pandas as pd\n",
    "import numpy as np\n",
    "from tqdm.auto import tqdm\n",
    "from sklearn.model_selection import train_test_split"
   ]
  },
  {
   "cell_type": "code",
   "execution_count": 2,
   "metadata": {
    "id": "nn3-h2Pt4ecH"
   },
   "outputs": [
    {
     "data": {
      "text/html": [
       "<div>\n",
       "<style scoped>\n",
       "    .dataframe tbody tr th:only-of-type {\n",
       "        vertical-align: middle;\n",
       "    }\n",
       "\n",
       "    .dataframe tbody tr th {\n",
       "        vertical-align: top;\n",
       "    }\n",
       "\n",
       "    .dataframe thead th {\n",
       "        text-align: right;\n",
       "    }\n",
       "</style>\n",
       "<table border=\"1\" class=\"dataframe\">\n",
       "  <thead>\n",
       "    <tr style=\"text-align: right;\">\n",
       "      <th></th>\n",
       "      <th>Unnamed: 0</th>\n",
       "      <th>community_id</th>\n",
       "      <th>description</th>\n",
       "      <th>customers_count</th>\n",
       "      <th>messages_count</th>\n",
       "      <th>type</th>\n",
       "      <th>region_id</th>\n",
       "      <th>themeid</th>\n",
       "      <th>business_category</th>\n",
       "      <th>business_parent</th>\n",
       "      <th>customer_id</th>\n",
       "      <th>status</th>\n",
       "      <th>join_request_date</th>\n",
       "    </tr>\n",
       "  </thead>\n",
       "  <tbody>\n",
       "    <tr>\n",
       "      <th>0</th>\n",
       "      <td>0</td>\n",
       "      <td>00dbc35ec26c5b6452a3259194b2d2f74eae7141d2bc75...</td>\n",
       "      <td>Ванга сказала: \"Выживет пчела - выживет челове...</td>\n",
       "      <td>2966</td>\n",
       "      <td>1</td>\n",
       "      <td>7</td>\n",
       "      <td>NaN</td>\n",
       "      <td>NaN</td>\n",
       "      <td>NaN</td>\n",
       "      <td>NaN</td>\n",
       "      <td>947224211267aefcc2e3e9c524fdf46ce329bc638e8bf1...</td>\n",
       "      <td>A</td>\n",
       "      <td>NaN</td>\n",
       "    </tr>\n",
       "    <tr>\n",
       "      <th>1</th>\n",
       "      <td>1</td>\n",
       "      <td>06107f1eae304c45d3e6324cc86f7d39662793a53b159b...</td>\n",
       "      <td>NaN</td>\n",
       "      <td>8982</td>\n",
       "      <td>2</td>\n",
       "      <td>7</td>\n",
       "      <td>1.042403e+10</td>\n",
       "      <td>246.0</td>\n",
       "      <td>NaN</td>\n",
       "      <td>NaN</td>\n",
       "      <td>b935c3390d82df612de19591d2dd16e1eff8e660746bb3...</td>\n",
       "      <td>A</td>\n",
       "      <td>NaN</td>\n",
       "    </tr>\n",
       "    <tr>\n",
       "      <th>2</th>\n",
       "      <td>2</td>\n",
       "      <td>06107f1eae304c45d3e6324cc86f7d39662793a53b159b...</td>\n",
       "      <td>NaN</td>\n",
       "      <td>8982</td>\n",
       "      <td>2</td>\n",
       "      <td>7</td>\n",
       "      <td>1.042403e+10</td>\n",
       "      <td>246.0</td>\n",
       "      <td>NaN</td>\n",
       "      <td>NaN</td>\n",
       "      <td>ff873dee9234ee290d92eb6c15d7179aabf0653dbed3b3...</td>\n",
       "      <td>A</td>\n",
       "      <td>NaN</td>\n",
       "    </tr>\n",
       "    <tr>\n",
       "      <th>3</th>\n",
       "      <td>3</td>\n",
       "      <td>06107f1eae304c45d3e6324cc86f7d39662793a53b159b...</td>\n",
       "      <td>NaN</td>\n",
       "      <td>8982</td>\n",
       "      <td>2</td>\n",
       "      <td>7</td>\n",
       "      <td>1.042403e+10</td>\n",
       "      <td>246.0</td>\n",
       "      <td>NaN</td>\n",
       "      <td>NaN</td>\n",
       "      <td>737ef0e849feda6cdfd350d19fcedaf17aebb757c0a1fc...</td>\n",
       "      <td>A</td>\n",
       "      <td>NaN</td>\n",
       "    </tr>\n",
       "    <tr>\n",
       "      <th>4</th>\n",
       "      <td>4</td>\n",
       "      <td>097e4dae68029ecc3c6183ed4386aff71dcac227cbaff7...</td>\n",
       "      <td>Читать внимательно!!! Причины попадания в чёрн...</td>\n",
       "      <td>1035</td>\n",
       "      <td>1</td>\n",
       "      <td>7</td>\n",
       "      <td>1.041779e+10</td>\n",
       "      <td>NaN</td>\n",
       "      <td>FAN_CLUB</td>\n",
       "      <td>BLOG</td>\n",
       "      <td>780fb8c178af972826ac0f84e42ac4c6c1dcdeeec0c4dd...</td>\n",
       "      <td>A</td>\n",
       "      <td>NaN</td>\n",
       "    </tr>\n",
       "  </tbody>\n",
       "</table>\n",
       "</div>"
      ],
      "text/plain": [
       "   Unnamed: 0                                       community_id  \\\n",
       "0           0  00dbc35ec26c5b6452a3259194b2d2f74eae7141d2bc75...   \n",
       "1           1  06107f1eae304c45d3e6324cc86f7d39662793a53b159b...   \n",
       "2           2  06107f1eae304c45d3e6324cc86f7d39662793a53b159b...   \n",
       "3           3  06107f1eae304c45d3e6324cc86f7d39662793a53b159b...   \n",
       "4           4  097e4dae68029ecc3c6183ed4386aff71dcac227cbaff7...   \n",
       "\n",
       "                                         description  customers_count  \\\n",
       "0  Ванга сказала: \"Выживет пчела - выживет челове...             2966   \n",
       "1                                                NaN             8982   \n",
       "2                                                NaN             8982   \n",
       "3                                                NaN             8982   \n",
       "4  Читать внимательно!!! Причины попадания в чёрн...             1035   \n",
       "\n",
       "   messages_count  type     region_id  themeid business_category  \\\n",
       "0               1     7           NaN      NaN               NaN   \n",
       "1               2     7  1.042403e+10    246.0               NaN   \n",
       "2               2     7  1.042403e+10    246.0               NaN   \n",
       "3               2     7  1.042403e+10    246.0               NaN   \n",
       "4               1     7  1.041779e+10      NaN          FAN_CLUB   \n",
       "\n",
       "  business_parent                                        customer_id status  \\\n",
       "0             NaN  947224211267aefcc2e3e9c524fdf46ce329bc638e8bf1...      A   \n",
       "1             NaN  b935c3390d82df612de19591d2dd16e1eff8e660746bb3...      A   \n",
       "2             NaN  ff873dee9234ee290d92eb6c15d7179aabf0653dbed3b3...      A   \n",
       "3             NaN  737ef0e849feda6cdfd350d19fcedaf17aebb757c0a1fc...      A   \n",
       "4            BLOG  780fb8c178af972826ac0f84e42ac4c6c1dcdeeec0c4dd...      A   \n",
       "\n",
       "   join_request_date  \n",
       "0                NaN  \n",
       "1                NaN  \n",
       "2                NaN  \n",
       "3                NaN  \n",
       "4                NaN  "
      ]
     },
     "execution_count": 2,
     "metadata": {},
     "output_type": "execute_result"
    }
   ],
   "source": [
    "df = pd.read_csv('./vseros-rank-otb/train_df.tsv',sep='\\t')\n",
    "df.head(5)"
   ]
  },
  {
   "cell_type": "code",
   "execution_count": 3,
   "metadata": {
    "id": "v9DISmRf5iiQ"
   },
   "outputs": [],
   "source": [
    "df = df.sample(frac=1,random_state=56)"
   ]
  },
  {
   "cell_type": "code",
   "execution_count": 4,
   "metadata": {},
   "outputs": [],
   "source": [
    "df_rec_pair = df[['customer_id','community_id']].copy()"
   ]
  },
  {
   "cell_type": "code",
   "execution_count": 5,
   "metadata": {},
   "outputs": [],
   "source": [
    "df_rec_pair['pair'] = df_rec_pair['customer_id'] + '[SEP]' + df_rec_pair['community_id']\n",
    "counts = df_rec_pair.groupby('pair')['customer_id'].transform('count')\n",
    "df_rec_pair['count_db'] = counts\n",
    "df_rec_pair = df_rec_pair.drop_duplicates()"
   ]
  },
  {
   "cell_type": "code",
   "execution_count": 7,
   "metadata": {},
   "outputs": [
    {
     "data": {
      "text/plain": [
       "customer_id     0\n",
       "community_id    0\n",
       "pair            0\n",
       "count_db        0\n",
       "dtype: int64"
      ]
     },
     "execution_count": 7,
     "metadata": {},
     "output_type": "execute_result"
    }
   ],
   "source": [
    "df_rec_pair.isnull().sum()"
   ]
  },
  {
   "cell_type": "code",
   "execution_count": 9,
   "metadata": {},
   "outputs": [],
   "source": [
    "df = df.loc[df_rec_pair.index]"
   ]
  },
  {
   "cell_type": "code",
   "execution_count": 10,
   "metadata": {},
   "outputs": [],
   "source": [
    "df['count_db'] = df_rec_pair['count_db']"
   ]
  },
  {
   "cell_type": "code",
   "execution_count": 11,
   "metadata": {},
   "outputs": [],
   "source": [
    "df['description'] = df['description'].isnull()"
   ]
  },
  {
   "cell_type": "code",
   "execution_count": 13,
   "metadata": {},
   "outputs": [],
   "source": [
    "df['pair'] = df['customer_id'] + '[SEP]' + df['community_id']"
   ]
  },
  {
   "cell_type": "code",
   "execution_count": 14,
   "metadata": {},
   "outputs": [],
   "source": [
    "df.to_parquet('all_train_df.parquet')"
   ]
  },
  {
   "cell_type": "code",
   "execution_count": 15,
   "metadata": {
    "id": "qPRcd2ec6xqo"
   },
   "outputs": [],
   "source": [
    "cust_group = df[['Unnamed: 0','customer_id']].groupby('customer_id').agg(['count',lambda x:[x]])"
   ]
  },
  {
   "cell_type": "code",
   "execution_count": 16,
   "metadata": {
    "colab": {
     "base_uri": "https://localhost:8080/",
     "height": 439
    },
    "collapsed": true,
    "id": "It0bfQr6ANLM",
    "jupyter": {
     "outputs_hidden": true
    },
    "outputId": "63990e3e-4670-44a7-dc86-abec6f10b1df",
    "tags": []
   },
   "outputs": [
    {
     "data": {
      "text/html": [
       "<div>\n",
       "<style scoped>\n",
       "    .dataframe tbody tr th:only-of-type {\n",
       "        vertical-align: middle;\n",
       "    }\n",
       "\n",
       "    .dataframe tbody tr th {\n",
       "        vertical-align: top;\n",
       "    }\n",
       "\n",
       "    .dataframe thead tr th {\n",
       "        text-align: left;\n",
       "    }\n",
       "\n",
       "    .dataframe thead tr:last-of-type th {\n",
       "        text-align: right;\n",
       "    }\n",
       "</style>\n",
       "<table border=\"1\" class=\"dataframe\">\n",
       "  <thead>\n",
       "    <tr>\n",
       "      <th></th>\n",
       "      <th colspan=\"2\" halign=\"left\">Unnamed: 0</th>\n",
       "    </tr>\n",
       "    <tr>\n",
       "      <th></th>\n",
       "      <th>count</th>\n",
       "      <th>&lt;lambda_0&gt;</th>\n",
       "    </tr>\n",
       "    <tr>\n",
       "      <th>customer_id</th>\n",
       "      <th></th>\n",
       "      <th></th>\n",
       "    </tr>\n",
       "  </thead>\n",
       "  <tbody>\n",
       "    <tr>\n",
       "      <th>000004017025a08c984916e57658b1ab64deb4172db1634f6acf5c583bd900c15a8f9281a2404cd9a658eda02cdd849964d86892dd22a6435758383520f64d8c</th>\n",
       "      <td>11</td>\n",
       "      <td>[[8154644, 9374214, 9756328, 10252035, 8512732...</td>\n",
       "    </tr>\n",
       "    <tr>\n",
       "      <th>0000079a765e2fd7fbb3d8c6968474d7a40cc9ada4c9ec430e3e145cac132150e34b54ed01393d202987a80999901b2a5d2017aae5d087a3241c1e4f3ceed6db</th>\n",
       "      <td>13</td>\n",
       "      <td>[[7741667, 7978340, 8177058, 8582211, 9201207,...</td>\n",
       "    </tr>\n",
       "    <tr>\n",
       "      <th>000015dccbb94f6926bfedc1578d6207ab10c6580fb121c0cd1a70250cd06fc4bae36468143d664865b7a9e63e34b894824a92646e01eb06e028593eeb0ac868</th>\n",
       "      <td>1</td>\n",
       "      <td>[[14976946]]</td>\n",
       "    </tr>\n",
       "    <tr>\n",
       "      <th>00001a206a3508a172a7be2b19c450b72adfc46239e1ed65bf49b8aadb6106b395769d8d4b8b1a1c20eed4cb0de77f6605ca30602223d143082ccca717fc4903</th>\n",
       "      <td>1</td>\n",
       "      <td>[[1802565]]</td>\n",
       "    </tr>\n",
       "    <tr>\n",
       "      <th>0000208fc1af439a84a92acd34352268ab169b1a6536e6b51960cda8af910098c4aded0511e7e44ef649aec480eca447af7d86c7f3f0e3ac23c542c64fbc4e47</th>\n",
       "      <td>1</td>\n",
       "      <td>[[488198]]</td>\n",
       "    </tr>\n",
       "  </tbody>\n",
       "</table>\n",
       "</div>"
      ],
      "text/plain": [
       "                                                   Unnamed: 0  \\\n",
       "                                                        count   \n",
       "customer_id                                                     \n",
       "000004017025a08c984916e57658b1ab64deb4172db1634...         11   \n",
       "0000079a765e2fd7fbb3d8c6968474d7a40cc9ada4c9ec4...         13   \n",
       "000015dccbb94f6926bfedc1578d6207ab10c6580fb121c...          1   \n",
       "00001a206a3508a172a7be2b19c450b72adfc46239e1ed6...          1   \n",
       "0000208fc1af439a84a92acd34352268ab169b1a6536e6b...          1   \n",
       "\n",
       "                                                                                                       \n",
       "                                                                                           <lambda_0>  \n",
       "customer_id                                                                                            \n",
       "000004017025a08c984916e57658b1ab64deb4172db1634...  [[8154644, 9374214, 9756328, 10252035, 8512732...  \n",
       "0000079a765e2fd7fbb3d8c6968474d7a40cc9ada4c9ec4...  [[7741667, 7978340, 8177058, 8582211, 9201207,...  \n",
       "000015dccbb94f6926bfedc1578d6207ab10c6580fb121c...                                       [[14976946]]  \n",
       "00001a206a3508a172a7be2b19c450b72adfc46239e1ed6...                                        [[1802565]]  \n",
       "0000208fc1af439a84a92acd34352268ab169b1a6536e6b...                                         [[488198]]  "
      ]
     },
     "execution_count": 16,
     "metadata": {},
     "output_type": "execute_result"
    }
   ],
   "source": [
    "cust_group.head(5)"
   ]
  },
  {
   "cell_type": "code",
   "execution_count": 17,
   "metadata": {
    "id": "l5xCHnUK7MHX"
   },
   "outputs": [],
   "source": [
    "test_customers = cust_group[cust_group['Unnamed: 0']['count'] >= 8].sample(100_000,random_state=56)"
   ]
  },
  {
   "cell_type": "code",
   "execution_count": 18,
   "metadata": {
    "id": "pKz-PzLPGj2H"
   },
   "outputs": [],
   "source": [
    "test_idxes = test_customers['Unnamed: 0']['<lambda_0>']"
   ]
  },
  {
   "cell_type": "code",
   "execution_count": 19,
   "metadata": {},
   "outputs": [],
   "source": [
    "train_gbm,all_test = train_test_split(test_idxes,test_size=0.3,random_state=56)"
   ]
  },
  {
   "cell_type": "code",
   "execution_count": 20,
   "metadata": {
    "colab": {
     "base_uri": "https://localhost:8080/",
     "height": 49,
     "referenced_widgets": [
      "4e97bedd7fe242caa36959a4beb9c71d",
      "4dd0c0051b51431ab6e8a419fbc3ed8b",
      "37832e3e6a06403c9b1014cf71ab714f",
      "af51a925e4414d5fa9d49ee752b45c05",
      "f27e67b6bedc4628ac93e28b3ad15adf",
      "5e610c4b455a47dcb6d5280b2d6669e3",
      "001c787b503046d3aa12d0078a0f7db8",
      "f13266d041e845a48447b444000147c6",
      "d978b9b6c3354aae99c1b263856f858c",
      "1484089e24e4412580ba81d99d799fc9",
      "5fd6f49e759b4dc2b10031a35c015a13"
     ]
    },
    "id": "EmEah5d9AYUg",
    "outputId": "3f209812-23bd-4d63-9a42-06b8208877a5"
   },
   "outputs": [
    {
     "data": {
      "application/vnd.jupyter.widget-view+json": {
       "model_id": "d71e63166fb04c99aa3125fcccf27589",
       "version_major": 2,
       "version_minor": 0
      },
      "text/plain": [
       "  0%|          | 0/30000 [00:00<?, ?it/s]"
      ]
     },
     "metadata": {},
     "output_type": "display_data"
    },
    {
     "name": "stderr",
     "output_type": "stream",
     "text": [
      "/tmp/ipykernel_63/1962256308.py:3: FutureWarning: The behavior of `series[i:j]` with an integer-dtype index is deprecated. In a future version, this will be treated as *label-based* indexing, consistent with e.g. `series[i]` lookups. To retain the old behavior, use `series.iloc[i:j]`. To get the future behavior, use `series.loc[i:j]`.\n",
      "  real_test_index += i[0][:5].tolist()\n"
     ]
    }
   ],
   "source": [
    "real_test_index = []\n",
    "for i in tqdm(all_test.values):\n",
    "  real_test_index += i[0][:5].tolist()"
   ]
  },
  {
   "cell_type": "code",
   "execution_count": 21,
   "metadata": {
    "id": "1V12XiMi6Mri"
   },
   "outputs": [],
   "source": [
    "np.save('test_index.npy',real_test_index)"
   ]
  },
  {
   "cell_type": "code",
   "execution_count": 23,
   "metadata": {
    "id": "FUrUenTqGtXS"
   },
   "outputs": [
    {
     "data": {
      "application/vnd.jupyter.widget-view+json": {
       "model_id": "ee284961ba824d0e83cd644715e36fa7",
       "version_major": 2,
       "version_minor": 0
      },
      "text/plain": [
       "  0%|          | 0/70000 [00:00<?, ?it/s]"
      ]
     },
     "metadata": {},
     "output_type": "display_data"
    },
    {
     "name": "stderr",
     "output_type": "stream",
     "text": [
      "/tmp/ipykernel_63/3320461818.py:3: FutureWarning: The behavior of `series[i:j]` with an integer-dtype index is deprecated. In a future version, this will be treated as *label-based* indexing, consistent with e.g. `series[i]` lookups. To retain the old behavior, use `series.iloc[i:j]`. To get the future behavior, use `series.loc[i:j]`.\n",
      "  train_gbm_index += i[0][:5].tolist()\n"
     ]
    }
   ],
   "source": [
    "train_gbm_index = []\n",
    "for i in tqdm(train_gbm.values):\n",
    "  train_gbm_index += i[0][:5].tolist()"
   ]
  },
  {
   "cell_type": "code",
   "execution_count": 24,
   "metadata": {
    "id": "fQzvEFGb6Mk2"
   },
   "outputs": [],
   "source": [
    "np.save('train_gbm_index.npy',train_gbm_index)"
   ]
  },
  {
   "cell_type": "code",
   "execution_count": 25,
   "metadata": {},
   "outputs": [
    {
     "data": {
      "text/plain": [
       "12390705"
      ]
     },
     "execution_count": 25,
     "metadata": {},
     "output_type": "execute_result"
    }
   ],
   "source": [
    "train_gbm_index[0]"
   ]
  },
  {
   "cell_type": "code",
   "execution_count": null,
   "metadata": {},
   "outputs": [],
   "source": []
  }
 ],
 "metadata": {
  "colab": {
   "provenance": []
  },
  "kernelspec": {
   "display_name": "Python 3 (ipykernel)",
   "language": "python",
   "name": "python3"
  },
  "language_info": {
   "codemirror_mode": {
    "name": "ipython",
    "version": 3
   },
   "file_extension": ".py",
   "mimetype": "text/x-python",
   "name": "python",
   "nbconvert_exporter": "python",
   "pygments_lexer": "ipython3",
   "version": "3.9.16"
  },
  "widgets": {
   "application/vnd.jupyter.widget-state+json": {
    "001c787b503046d3aa12d0078a0f7db8": {
     "model_module": "@jupyter-widgets/controls",
     "model_module_version": "1.5.0",
     "model_name": "DescriptionStyleModel",
     "state": {
      "_model_module": "@jupyter-widgets/controls",
      "_model_module_version": "1.5.0",
      "_model_name": "DescriptionStyleModel",
      "_view_count": null,
      "_view_module": "@jupyter-widgets/base",
      "_view_module_version": "1.2.0",
      "_view_name": "StyleView",
      "description_width": ""
     }
    },
    "1484089e24e4412580ba81d99d799fc9": {
     "model_module": "@jupyter-widgets/base",
     "model_module_version": "1.2.0",
     "model_name": "LayoutModel",
     "state": {
      "_model_module": "@jupyter-widgets/base",
      "_model_module_version": "1.2.0",
      "_model_name": "LayoutModel",
      "_view_count": null,
      "_view_module": "@jupyter-widgets/base",
      "_view_module_version": "1.2.0",
      "_view_name": "LayoutView",
      "align_content": null,
      "align_items": null,
      "align_self": null,
      "border": null,
      "bottom": null,
      "display": null,
      "flex": null,
      "flex_flow": null,
      "grid_area": null,
      "grid_auto_columns": null,
      "grid_auto_flow": null,
      "grid_auto_rows": null,
      "grid_column": null,
      "grid_gap": null,
      "grid_row": null,
      "grid_template_areas": null,
      "grid_template_columns": null,
      "grid_template_rows": null,
      "height": null,
      "justify_content": null,
      "justify_items": null,
      "left": null,
      "margin": null,
      "max_height": null,
      "max_width": null,
      "min_height": null,
      "min_width": null,
      "object_fit": null,
      "object_position": null,
      "order": null,
      "overflow": null,
      "overflow_x": null,
      "overflow_y": null,
      "padding": null,
      "right": null,
      "top": null,
      "visibility": null,
      "width": null
     }
    },
    "37832e3e6a06403c9b1014cf71ab714f": {
     "model_module": "@jupyter-widgets/controls",
     "model_module_version": "1.5.0",
     "model_name": "FloatProgressModel",
     "state": {
      "_dom_classes": [],
      "_model_module": "@jupyter-widgets/controls",
      "_model_module_version": "1.5.0",
      "_model_name": "FloatProgressModel",
      "_view_count": null,
      "_view_module": "@jupyter-widgets/controls",
      "_view_module_version": "1.5.0",
      "_view_name": "ProgressView",
      "bar_style": "success",
      "description": "",
      "description_tooltip": null,
      "layout": "IPY_MODEL_f13266d041e845a48447b444000147c6",
      "max": 60000,
      "min": 0,
      "orientation": "horizontal",
      "style": "IPY_MODEL_d978b9b6c3354aae99c1b263856f858c",
      "value": 60000
     }
    },
    "4dd0c0051b51431ab6e8a419fbc3ed8b": {
     "model_module": "@jupyter-widgets/controls",
     "model_module_version": "1.5.0",
     "model_name": "HTMLModel",
     "state": {
      "_dom_classes": [],
      "_model_module": "@jupyter-widgets/controls",
      "_model_module_version": "1.5.0",
      "_model_name": "HTMLModel",
      "_view_count": null,
      "_view_module": "@jupyter-widgets/controls",
      "_view_module_version": "1.5.0",
      "_view_name": "HTMLView",
      "description": "",
      "description_tooltip": null,
      "layout": "IPY_MODEL_5e610c4b455a47dcb6d5280b2d6669e3",
      "placeholder": "​",
      "style": "IPY_MODEL_001c787b503046d3aa12d0078a0f7db8",
      "value": "100%"
     }
    },
    "4e97bedd7fe242caa36959a4beb9c71d": {
     "model_module": "@jupyter-widgets/controls",
     "model_module_version": "1.5.0",
     "model_name": "HBoxModel",
     "state": {
      "_dom_classes": [],
      "_model_module": "@jupyter-widgets/controls",
      "_model_module_version": "1.5.0",
      "_model_name": "HBoxModel",
      "_view_count": null,
      "_view_module": "@jupyter-widgets/controls",
      "_view_module_version": "1.5.0",
      "_view_name": "HBoxView",
      "box_style": "",
      "children": [
       "IPY_MODEL_4dd0c0051b51431ab6e8a419fbc3ed8b",
       "IPY_MODEL_37832e3e6a06403c9b1014cf71ab714f",
       "IPY_MODEL_af51a925e4414d5fa9d49ee752b45c05"
      ],
      "layout": "IPY_MODEL_f27e67b6bedc4628ac93e28b3ad15adf"
     }
    },
    "5e610c4b455a47dcb6d5280b2d6669e3": {
     "model_module": "@jupyter-widgets/base",
     "model_module_version": "1.2.0",
     "model_name": "LayoutModel",
     "state": {
      "_model_module": "@jupyter-widgets/base",
      "_model_module_version": "1.2.0",
      "_model_name": "LayoutModel",
      "_view_count": null,
      "_view_module": "@jupyter-widgets/base",
      "_view_module_version": "1.2.0",
      "_view_name": "LayoutView",
      "align_content": null,
      "align_items": null,
      "align_self": null,
      "border": null,
      "bottom": null,
      "display": null,
      "flex": null,
      "flex_flow": null,
      "grid_area": null,
      "grid_auto_columns": null,
      "grid_auto_flow": null,
      "grid_auto_rows": null,
      "grid_column": null,
      "grid_gap": null,
      "grid_row": null,
      "grid_template_areas": null,
      "grid_template_columns": null,
      "grid_template_rows": null,
      "height": null,
      "justify_content": null,
      "justify_items": null,
      "left": null,
      "margin": null,
      "max_height": null,
      "max_width": null,
      "min_height": null,
      "min_width": null,
      "object_fit": null,
      "object_position": null,
      "order": null,
      "overflow": null,
      "overflow_x": null,
      "overflow_y": null,
      "padding": null,
      "right": null,
      "top": null,
      "visibility": null,
      "width": null
     }
    },
    "5fd6f49e759b4dc2b10031a35c015a13": {
     "model_module": "@jupyter-widgets/controls",
     "model_module_version": "1.5.0",
     "model_name": "DescriptionStyleModel",
     "state": {
      "_model_module": "@jupyter-widgets/controls",
      "_model_module_version": "1.5.0",
      "_model_name": "DescriptionStyleModel",
      "_view_count": null,
      "_view_module": "@jupyter-widgets/base",
      "_view_module_version": "1.2.0",
      "_view_name": "StyleView",
      "description_width": ""
     }
    },
    "af51a925e4414d5fa9d49ee752b45c05": {
     "model_module": "@jupyter-widgets/controls",
     "model_module_version": "1.5.0",
     "model_name": "HTMLModel",
     "state": {
      "_dom_classes": [],
      "_model_module": "@jupyter-widgets/controls",
      "_model_module_version": "1.5.0",
      "_model_name": "HTMLModel",
      "_view_count": null,
      "_view_module": "@jupyter-widgets/controls",
      "_view_module_version": "1.5.0",
      "_view_name": "HTMLView",
      "description": "",
      "description_tooltip": null,
      "layout": "IPY_MODEL_1484089e24e4412580ba81d99d799fc9",
      "placeholder": "​",
      "style": "IPY_MODEL_5fd6f49e759b4dc2b10031a35c015a13",
      "value": " 60000/60000 [00:02&lt;00:00, 22252.87it/s]"
     }
    },
    "d978b9b6c3354aae99c1b263856f858c": {
     "model_module": "@jupyter-widgets/controls",
     "model_module_version": "1.5.0",
     "model_name": "ProgressStyleModel",
     "state": {
      "_model_module": "@jupyter-widgets/controls",
      "_model_module_version": "1.5.0",
      "_model_name": "ProgressStyleModel",
      "_view_count": null,
      "_view_module": "@jupyter-widgets/base",
      "_view_module_version": "1.2.0",
      "_view_name": "StyleView",
      "bar_color": null,
      "description_width": ""
     }
    },
    "f13266d041e845a48447b444000147c6": {
     "model_module": "@jupyter-widgets/base",
     "model_module_version": "1.2.0",
     "model_name": "LayoutModel",
     "state": {
      "_model_module": "@jupyter-widgets/base",
      "_model_module_version": "1.2.0",
      "_model_name": "LayoutModel",
      "_view_count": null,
      "_view_module": "@jupyter-widgets/base",
      "_view_module_version": "1.2.0",
      "_view_name": "LayoutView",
      "align_content": null,
      "align_items": null,
      "align_self": null,
      "border": null,
      "bottom": null,
      "display": null,
      "flex": null,
      "flex_flow": null,
      "grid_area": null,
      "grid_auto_columns": null,
      "grid_auto_flow": null,
      "grid_auto_rows": null,
      "grid_column": null,
      "grid_gap": null,
      "grid_row": null,
      "grid_template_areas": null,
      "grid_template_columns": null,
      "grid_template_rows": null,
      "height": null,
      "justify_content": null,
      "justify_items": null,
      "left": null,
      "margin": null,
      "max_height": null,
      "max_width": null,
      "min_height": null,
      "min_width": null,
      "object_fit": null,
      "object_position": null,
      "order": null,
      "overflow": null,
      "overflow_x": null,
      "overflow_y": null,
      "padding": null,
      "right": null,
      "top": null,
      "visibility": null,
      "width": null
     }
    },
    "f27e67b6bedc4628ac93e28b3ad15adf": {
     "model_module": "@jupyter-widgets/base",
     "model_module_version": "1.2.0",
     "model_name": "LayoutModel",
     "state": {
      "_model_module": "@jupyter-widgets/base",
      "_model_module_version": "1.2.0",
      "_model_name": "LayoutModel",
      "_view_count": null,
      "_view_module": "@jupyter-widgets/base",
      "_view_module_version": "1.2.0",
      "_view_name": "LayoutView",
      "align_content": null,
      "align_items": null,
      "align_self": null,
      "border": null,
      "bottom": null,
      "display": null,
      "flex": null,
      "flex_flow": null,
      "grid_area": null,
      "grid_auto_columns": null,
      "grid_auto_flow": null,
      "grid_auto_rows": null,
      "grid_column": null,
      "grid_gap": null,
      "grid_row": null,
      "grid_template_areas": null,
      "grid_template_columns": null,
      "grid_template_rows": null,
      "height": null,
      "justify_content": null,
      "justify_items": null,
      "left": null,
      "margin": null,
      "max_height": null,
      "max_width": null,
      "min_height": null,
      "min_width": null,
      "object_fit": null,
      "object_position": null,
      "order": null,
      "overflow": null,
      "overflow_x": null,
      "overflow_y": null,
      "padding": null,
      "right": null,
      "top": null,
      "visibility": null,
      "width": null
     }
    }
   }
  }
 },
 "nbformat": 4,
 "nbformat_minor": 4
}
