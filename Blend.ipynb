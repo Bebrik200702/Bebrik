{
 "cells": [
  {
   "cell_type": "markdown",
   "metadata": {},
   "source": [
    "## Финальный блендинг самых лучших решений\n",
    "##### В данной тетрадке представлено финальное ансамблирование наших самых лучших решений. Получить итоговые предсказания можно запустив код, при этом файлы с папки ./preds.\n",
    "##### В ансамбле представлены данные модели:"
   ]
  },
  {
   "cell_type": "markdown",
   "metadata": {},
   "source": [
    "### [Convnext](convnext_b_w_320.ipynb)\n",
    "ViT архитектуры сталкиваются с проблемами при таких задачах, как детекция или сигментация. Была выдвинута гипотеза, что наша задача тоже не подходит под архитекутру ViT. Но оказалось, что задача одинаково хорошо решается, как с помощью Vit моделей, так и с помощью CNN моделей. Эта модель показала один из наилучших результатов, поэтому мы решили взять ее в блендинг\n",
    "\n",
    "### [EfficientFormer](efficient_former_l7.ipynb)\n",
    "ViT имеет более долгое время тренировки и инференса, а также большее количество параметров, чем CNN. EfficientFormer - сеть на основе ViT с меньшим количеством параметров. Эта модель очень хорошо себя показала из-за того, что мало переобучалась. Также подбор гиперпараметров для этой нейросети производился с помощью [optune](train_efficientformer_l7.ipynb)\n",
    "\n",
    "### [EVA02](eva02_b16_train.ipynb)\n",
    "EVA02-B-16 - новая модель, основанная на идее ViT. Ее особенность в том, что она была предобучена с помощью метода [MIM](https://arxiv.org/abs/2210.10615). Также вместе типичных ViT блоков она использует Transform Vision Block, похожую архитектуру используют многие ведущие LLM.\n",
    "\n",
    "### [FastViT](fastvit.ipynb)\n",
    "FastViT - новая модель от Apple, которая была разработана для поиска оптимального отношения между точностью и временем работы. Для этого был разработан блок RepMixer. Модель показала очень хороший результат при своей небольшой скорости инференса(около 1 минуты)\n",
    "\n",
    "### [MetaCLIP](MetaCLIP.ipynb)\n",
    "MetaCLIP - модель, подход обучения которой очень похож на CLIP, но во время предобучения использует еще и метаданные."
   ]
  },
  {
   "cell_type": "code",
   "execution_count": 1,
   "metadata": {
    "tags": []
   },
   "outputs": [],
   "source": [
    "import pandas as pd\n",
    "import numpy as np"
   ]
  },
  {
   "cell_type": "code",
   "execution_count": 2,
   "metadata": {
    "id": "nJn1yXkg-ZO8",
    "tags": []
   },
   "outputs": [],
   "source": [
    "score_1 = pd.read_csv('preds/fastvit.csv').SCORE\n",
    "score_2 = pd.read_csv('preds/meta_clip.csv').SCORE\n",
    "score_3 = pd.read_csv('preds/convnext_base_w_320.csv').SCORE\n",
    "score_4 = pd.read_csv('preds/eva02_b_16.csv').SCORE\n",
    "score_5 = pd.read_csv('preds/efficient_former_l7.csv').SCORE"
   ]
  },
  {
   "cell_type": "code",
   "execution_count": 3,
   "metadata": {
    "id": "7kdoBDmr-6LT",
    "tags": []
   },
   "outputs": [],
   "source": [
    "w1 = 0.3115113079547882\n",
    "w2 = 0.281867116689682\n",
    "w3 = 0.12665106356143951\n",
    "w4 = 0.10900957137346268\n",
    "w5 = 0.17096103727817535"
   ]
  },
  {
   "cell_type": "code",
   "execution_count": 4,
   "metadata": {
    "id": "JTAZes2U-y3o",
    "tags": []
   },
   "outputs": [],
   "source": [
    "blend_score = score_1 * w1 + score_2 * w2 + score_3 * w3 + score_4 * w4 + score_5 * w5"
   ]
  },
  {
   "cell_type": "code",
   "execution_count": 5,
   "metadata": {
    "colab": {
     "base_uri": "https://localhost:8080/",
     "height": 424
    },
    "id": "2d3J6iAS_Ofi",
    "outputId": "232d03a6-4850-4ac4-87ff-cb9bb7732df3",
    "tags": []
   },
   "outputs": [
    {
     "data": {
      "text/html": [
       "<div>\n",
       "<style scoped>\n",
       "    .dataframe tbody tr th:only-of-type {\n",
       "        vertical-align: middle;\n",
       "    }\n",
       "\n",
       "    .dataframe tbody tr th {\n",
       "        vertical-align: top;\n",
       "    }\n",
       "\n",
       "    .dataframe thead th {\n",
       "        text-align: right;\n",
       "    }\n",
       "</style>\n",
       "<table border=\"1\" class=\"dataframe\">\n",
       "  <thead>\n",
       "    <tr style=\"text-align: right;\">\n",
       "      <th></th>\n",
       "      <th>IMAGE</th>\n",
       "      <th>SCORE</th>\n",
       "    </tr>\n",
       "  </thead>\n",
       "  <tbody>\n",
       "    <tr>\n",
       "      <th>0</th>\n",
       "      <td>86cc6e863c9b6bb2a0e0db114c9775aa.jpg</td>\n",
       "      <td>7.652658</td>\n",
       "    </tr>\n",
       "    <tr>\n",
       "      <th>1</th>\n",
       "      <td>da71671681d9cef5b60727801bf95ef8.jpg</td>\n",
       "      <td>5.752296</td>\n",
       "    </tr>\n",
       "    <tr>\n",
       "      <th>2</th>\n",
       "      <td>821a9ff5df6e581c68c0371dc6b1eb90.jpg</td>\n",
       "      <td>7.495950</td>\n",
       "    </tr>\n",
       "    <tr>\n",
       "      <th>3</th>\n",
       "      <td>ed842bb42c39fe257ac459b544bb7ba8.jpg</td>\n",
       "      <td>7.619133</td>\n",
       "    </tr>\n",
       "    <tr>\n",
       "      <th>4</th>\n",
       "      <td>6eed69b8f6d62f28b809d9cbafcaab0b.jpg</td>\n",
       "      <td>5.739550</td>\n",
       "    </tr>\n",
       "    <tr>\n",
       "      <th>...</th>\n",
       "      <td>...</td>\n",
       "      <td>...</td>\n",
       "    </tr>\n",
       "    <tr>\n",
       "      <th>9983</th>\n",
       "      <td>46aa642bbcfdbed5eed380ba10fdbbbc.jpg</td>\n",
       "      <td>4.260119</td>\n",
       "    </tr>\n",
       "    <tr>\n",
       "      <th>9984</th>\n",
       "      <td>dc737dc9a19844943540816e4488b425.jpg</td>\n",
       "      <td>4.412461</td>\n",
       "    </tr>\n",
       "    <tr>\n",
       "      <th>9985</th>\n",
       "      <td>8038a60dac57ba5d445b99978a36a1d5.jpg</td>\n",
       "      <td>5.247055</td>\n",
       "    </tr>\n",
       "    <tr>\n",
       "      <th>9986</th>\n",
       "      <td>5381dd99c37acb63db903eac293fbe4c.jpg</td>\n",
       "      <td>4.219136</td>\n",
       "    </tr>\n",
       "    <tr>\n",
       "      <th>9987</th>\n",
       "      <td>646b27fbd82b0d5a517e4ebb4b514d6f.jpg</td>\n",
       "      <td>4.884885</td>\n",
       "    </tr>\n",
       "  </tbody>\n",
       "</table>\n",
       "<p>9988 rows × 2 columns</p>\n",
       "</div>"
      ],
      "text/plain": [
       "                                     IMAGE     SCORE\n",
       "0     86cc6e863c9b6bb2a0e0db114c9775aa.jpg  7.652658\n",
       "1     da71671681d9cef5b60727801bf95ef8.jpg  5.752296\n",
       "2     821a9ff5df6e581c68c0371dc6b1eb90.jpg  7.495950\n",
       "3     ed842bb42c39fe257ac459b544bb7ba8.jpg  7.619133\n",
       "4     6eed69b8f6d62f28b809d9cbafcaab0b.jpg  5.739550\n",
       "...                                    ...       ...\n",
       "9983  46aa642bbcfdbed5eed380ba10fdbbbc.jpg  4.260119\n",
       "9984  dc737dc9a19844943540816e4488b425.jpg  4.412461\n",
       "9985  8038a60dac57ba5d445b99978a36a1d5.jpg  5.247055\n",
       "9986  5381dd99c37acb63db903eac293fbe4c.jpg  4.219136\n",
       "9987  646b27fbd82b0d5a517e4ebb4b514d6f.jpg  4.884885\n",
       "\n",
       "[9988 rows x 2 columns]"
      ]
     },
     "execution_count": 5,
     "metadata": {},
     "output_type": "execute_result"
    }
   ],
   "source": [
    "submit = pd.read_csv('simple_sub.csv')\n",
    "submit.to_csv('final_ens.csv',index=False)\n",
    "submit"
   ]
  },
  {
   "cell_type": "code",
   "execution_count": null,
   "metadata": {
    "id": "Gz-rX4tX_rhm"
   },
   "outputs": [],
   "source": []
  }
 ],
 "metadata": {
  "colab": {
   "provenance": []
  },
  "kernelspec": {
   "display_name": "Python 3 (ipykernel)",
   "language": "python",
   "name": "python3"
  },
  "language_info": {
   "codemirror_mode": {
    "name": "ipython",
    "version": 3
   },
   "file_extension": ".py",
   "mimetype": "text/x-python",
   "name": "python",
   "nbconvert_exporter": "python",
   "pygments_lexer": "ipython3",
   "version": "3.11.5"
  }
 },
 "nbformat": 4,
 "nbformat_minor": 4
}
