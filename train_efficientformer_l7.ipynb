{
 "cells": [
  {
   "cell_type": "markdown",
   "metadata": {},
   "source": [
    "# Обучении EfficientFormer с подбором гиперпараметров\n",
    "В данной тетрадке расположен код обучения и инференса EfficinetFormer модели. Перед использованием кода нужно удостовериться, что все нужные библиотеки установлены и указан ваш wandb_api_key в СFG.wandb_key. Для инференса рекомендуется использовать модель с наименьшим RMSE.\n",
    "\n",
    "## Optune HyperbandPruner\n",
    "Оптимизация гиперпараметров по принципу решения нестахостической задачи многоруких бандитов\n",
    "## Optune TPESampler\n",
    "Tree-structured Parzen Estimator. Также стоит отметить, что для TPESampler лучший pruner - это Hyperband\n",
    "\n",
    "## Вывод:\n",
    "Связка AdamW и Косинусного шедулера показала себя лучше всего"
   ]
  },
  {
   "cell_type": "code",
   "execution_count": 2,
   "metadata": {
    "execution": {
     "iopub.execute_input": "2023-08-25T08:23:23.954713Z",
     "iopub.status.busy": "2023-08-25T08:23:23.953915Z",
     "iopub.status.idle": "2023-08-25T08:23:47.785858Z",
     "shell.execute_reply": "2023-08-25T08:23:47.785168Z",
     "shell.execute_reply.started": "2023-08-25T08:23:23.954682Z"
    },
    "tags": []
   },
   "outputs": [],
   "source": [
    "from IPython.display import clear_output\n",
    "\n",
    "#!pip install lightning timm opendatasets albumentations catboost gdown open_clip_torch wandb pytorch-optimizer optuna\n",
    "#clear_output()"
   ]
  },
  {
   "cell_type": "code",
   "execution_count": 3,
   "metadata": {
    "execution": {
     "iopub.execute_input": "2023-08-25T14:21:15.972286Z",
     "iopub.status.busy": "2023-08-25T14:21:15.971393Z",
     "iopub.status.idle": "2023-08-25T14:21:15.980516Z",
     "shell.execute_reply": "2023-08-25T14:21:15.979684Z",
     "shell.execute_reply.started": "2023-08-25T14:21:15.972258Z"
    },
    "tags": []
   },
   "outputs": [
    {
     "name": "stderr",
     "output_type": "stream",
     "text": [
      "Global seed set to 56\n"
     ]
    },
    {
     "data": {
      "text/plain": [
       "56"
      ]
     },
     "execution_count": 3,
     "metadata": {},
     "output_type": "execute_result"
    }
   ],
   "source": [
    "import os\n",
    "import pandas as pd\n",
    "import numpy as np\n",
    "from PIL import Image\n",
    "import matplotlib.pyplot as plt\n",
    "import pytorch_lightning as pl\n",
    "from sklearn.model_selection import train_test_split\n",
    "import cv2\n",
    "import torch\n",
    "from optuna.integration import WeightsAndBiasesCallback\n",
    "import torch.nn as nn\n",
    "from torch.utils.data import Dataset, DataLoader\n",
    "from tqdm.auto import tqdm\n",
    "from math import sin,cos,pi,floor\n",
    "import json\n",
    "from torch.optim import AdamW,SGD\n",
    "from pytorch_optimizer import Lion,QHAdam\n",
    "from sklearn.metrics import accuracy_score,f1_score,balanced_accuracy_score\n",
    "from sklearn.metrics import mean_squared_error,r2_score,mean_absolute_error,mean_absolute_percentage_error\n",
    "from torch.optim.lr_scheduler import LambdaLR,ExponentialLR\n",
    "import albumentations as A\n",
    "import open_clip\n",
    "from transformers import get_cosine_schedule_with_warmup\n",
    "from albumentations.pytorch.transforms import ToTensorV2\n",
    "from catboost import CatBoostClassifier,Pool,cv\n",
    "from copy import deepcopy\n",
    "import wandb\n",
    "import optuna\n",
    "import timm\n",
    "pl.seed_everything(56)"
   ]
  },
  {
   "cell_type": "code",
   "execution_count": 5,
   "metadata": {
    "execution": {
     "iopub.execute_input": "2023-08-25T14:21:17.447627Z",
     "iopub.status.busy": "2023-08-25T14:21:17.447022Z",
     "iopub.status.idle": "2023-08-25T14:21:17.451340Z",
     "shell.execute_reply": "2023-08-25T14:21:17.450752Z",
     "shell.execute_reply.started": "2023-08-25T14:21:17.447602Z"
    },
    "tags": []
   },
   "outputs": [],
   "source": [
    "class CFG:\n",
    "    class data:\n",
    "        train_data= './aiijc23-4/train_scores.csv'\n",
    "        test_data = './simple_sub.csv'\n",
    "        train_path='./aiijc23-4/train/train/'\n",
    "        test_path = './aiijc23-4/test/test/'\n",
    "        num_workers = 4\n",
    "        val_split_size = 0.2\n",
    "        batch_size = 32\n",
    "        seed = 56\n",
    "    class model:\n",
    "        model ='efficientformer_l7'\n",
    "        pretrained = True\n",
    "        num_labels = 1\n",
    "        seed=56"
   ]
  },
  {
   "cell_type": "markdown",
   "metadata": {},
   "source": [
    "# Оптимизаторы\n",
    "## SGD\n",
    "Stochastic gradient descent. Несмотря на то, что SGD существует в сообществе машинного обучения уже давно, он часто используется в контексте крупномасштабного обучения. \n",
    "## AdamW\n",
    "Adaptive momentum + weight decay. Один из самых эффективных алгоритмов оптимизации в обучении нейронных сетей. Он сочетает в себе идеи RMSProp и накопление импульса. \n",
    "## Lion\n",
    "EvoLved Sign Momentum. Он более эффективно работает с памятью, так как отслеживает только импульс, обновление которого рассчитывается только с помощью знака\n",
    "## qhAdam\n",
    "Quasi-Hyperbolic Momentum Algorithm. Продвинутая версия Adam'a, в которой оценки импульсы заменены квазигиперболическими членами."
   ]
  },
  {
   "cell_type": "code",
   "execution_count": 6,
   "metadata": {
    "execution": {
     "iopub.execute_input": "2023-08-25T14:21:17.823726Z",
     "iopub.status.busy": "2023-08-25T14:21:17.822786Z",
     "iopub.status.idle": "2023-08-25T14:21:17.829802Z",
     "shell.execute_reply": "2023-08-25T14:21:17.828862Z",
     "shell.execute_reply.started": "2023-08-25T14:21:17.823687Z"
    }
   },
   "outputs": [],
   "source": [
    "def create_optimizer(cfg,parameters):\n",
    "    if cfg['optim'] == 'sgd':\n",
    "        return SGD(parameters,\n",
    "                   lr=cfg['lr'],\n",
    "                   weight_decay=cfg['weights_decay'])\n",
    "    \n",
    "    if cfg['optim'] == 'adamw':\n",
    "        return AdamW(parameters,\n",
    "                   lr=cfg['lr'],\n",
    "                   weight_decay=cfg['weights_decay'])\n",
    "    \n",
    "    if cfg['optim'] == 'lion':\n",
    "        return Lion(parameters,\n",
    "                   lr=cfg['lr'],\n",
    "                   weight_decay=cfg['weights_decay'])\n",
    "    \n",
    "    if cfg['optim'] == 'qhadam':\n",
    "        return QHAdam(parameters,\n",
    "                   lr=cfg['lr'],\n",
    "                   weight_decay=cfg['weights_decay'])"
   ]
  },
  {
   "cell_type": "markdown",
   "metadata": {},
   "source": [
    "# Schedulers\n",
    "## LambdaLR\n",
    "Learning rate - константа\n",
    "## ExponentialLR\n",
    "<div>\n",
    "<img src=\"images/ExponentialLR.png\" width=\"400\"/>\n",
    "</div>\n",
    "\n",
    "## Cosine step\n",
    "<div>\n",
    "<img src=\"images/Warmup Cosine Schedule.png\" width=\"600\"/>\n",
    "</div>"
   ]
  },
  {
   "cell_type": "code",
   "execution_count": 7,
   "metadata": {
    "execution": {
     "iopub.execute_input": "2023-08-25T14:21:19.474081Z",
     "iopub.status.busy": "2023-08-25T14:21:19.473316Z",
     "iopub.status.idle": "2023-08-25T14:21:19.481095Z",
     "shell.execute_reply": "2023-08-25T14:21:19.480223Z",
     "shell.execute_reply.started": "2023-08-25T14:21:19.474040Z"
    }
   },
   "outputs": [],
   "source": [
    "def create_scheduler(cfg,optim):\n",
    "    \n",
    "    if cfg['scheduler'] == 'constant':\n",
    "        f = lambda x:x\n",
    "        sheduler =  LambdaLR(optim,lr_lambda=f)\n",
    "    \n",
    "    if cfg['scheduler'] == 'exp':\n",
    "        sheduler = ExponentialLR(optim,\n",
    "                             gamma=cfg['gamma'])\n",
    "    \n",
    "    if cfg['scheduler'] == 'cosine_step':\n",
    "        sheduler =  get_cosine_schedule_with_warmup(optim,\n",
    "                             num_training_steps=cfg['train_steps'],\n",
    "                             num_warmup_steps=cfg['num_warmup_steps'],\n",
    "                             num_cycles = cfg['num_cycles'],\n",
    "                             )\n",
    "        \n",
    "    if cfg['scheduler'] == 'constant' or cfg['scheduler'] == 'exp':\n",
    "        return {'scheduler':sheduler,\n",
    "                'interval':'epoch',\n",
    "                'frequency':1}\n",
    "    \n",
    "    if cfg['scheduler'] == 'cosine_step':\n",
    "        return {'scheduler':sheduler,\n",
    "                'interval':'step',\n",
    "                'frequency':1}\n",
    "        "
   ]
  },
  {
   "cell_type": "markdown",
   "metadata": {},
   "source": [
    "# Предобработка датасета"
   ]
  },
  {
   "cell_type": "code",
   "execution_count": null,
   "metadata": {
    "execution": {
     "iopub.execute_input": "2023-08-25T14:21:19.814441Z",
     "iopub.status.busy": "2023-08-25T14:21:19.813614Z",
     "iopub.status.idle": "2023-08-25T14:21:19.818522Z",
     "shell.execute_reply": "2023-08-25T14:21:19.817731Z",
     "shell.execute_reply.started": "2023-08-25T14:21:19.814416Z"
    }
   },
   "outputs": [],
   "source": [
    "class Processor():\n",
    "    def __init__(self):\n",
    "        self.transforms = A.Compose([\n",
    "                                     A.Resize(224,224),\n",
    "                                     A.Normalize(),\n",
    "                                     ToTensorV2()\n",
    "                                    ])\n",
    "    def __call__(self,img):\n",
    "        return self.transforms(image=img)['image']"
   ]
  },
  {
   "cell_type": "code",
   "execution_count": 9,
   "metadata": {
    "execution": {
     "iopub.execute_input": "2023-08-25T14:21:20.325441Z",
     "iopub.status.busy": "2023-08-25T14:21:20.324816Z",
     "iopub.status.idle": "2023-08-25T14:21:20.329836Z",
     "shell.execute_reply": "2023-08-25T14:21:20.329125Z",
     "shell.execute_reply.started": "2023-08-25T14:21:20.325410Z"
    },
    "tags": []
   },
   "outputs": [],
   "source": [
    "def make_df(path,root_path=CFG.data.train_path):\n",
    "    data = pd.read_csv(path)\n",
    "    df = pd.DataFrame()\n",
    "    df['image'] = data['IMAGE'].apply(lambda x:root_path + x)\n",
    "    df['label'] = data['SCORE']\n",
    "    return df"
   ]
  },
  {
   "cell_type": "code",
   "execution_count": 10,
   "metadata": {
    "execution": {
     "iopub.execute_input": "2023-08-25T14:21:20.741331Z",
     "iopub.status.busy": "2023-08-25T14:21:20.741030Z",
     "iopub.status.idle": "2023-08-25T14:21:20.746338Z",
     "shell.execute_reply": "2023-08-25T14:21:20.745571Z",
     "shell.execute_reply.started": "2023-08-25T14:21:20.741308Z"
    },
    "tags": []
   },
   "outputs": [],
   "source": [
    "class PLDataset(Dataset):\n",
    "    def __init__(self, df,preprocess):\n",
    "        super().__init__()\n",
    "        self.cfg = CFG.data\n",
    "        self.data = df[['image','label']].values\n",
    "        self.preprocess = preprocess\n",
    "    def __getitem__(self, index):\n",
    "        #image = Image.open(self.data[index][0]).convert('RGB')\n",
    "        image = cv2.imread(self.data[index][0])\n",
    "        image = self.preprocess(image)\n",
    "        label = self.data[index][1]\n",
    "        return image,label\n",
    "    def __len__(self):\n",
    "        return len(self.data)"
   ]
  },
  {
   "cell_type": "code",
   "execution_count": 11,
   "metadata": {
    "execution": {
     "iopub.execute_input": "2023-08-25T14:21:21.467978Z",
     "iopub.status.busy": "2023-08-25T14:21:21.467414Z",
     "iopub.status.idle": "2023-08-25T14:21:21.477526Z",
     "shell.execute_reply": "2023-08-25T14:21:21.476720Z",
     "shell.execute_reply.started": "2023-08-25T14:21:21.467940Z"
    },
    "tags": []
   },
   "outputs": [],
   "source": [
    "class PLDataModule(pl.LightningDataModule):\n",
    "    def __init__(self,preprocess):\n",
    "        super().__init__()\n",
    "        self.cfg = CFG.data\n",
    "        self.train_dataset_path = self.cfg.train_data\n",
    "        self.test_dataset_path = self.cfg.test_path\n",
    "        self.val_split_size = self.cfg.val_split_size\n",
    "        self.batch_size = self.cfg.batch_size\n",
    "        self.num_workers = self.cfg.num_workers\n",
    "        self.is_setup = False\n",
    "        self.preprocess = preprocess\n",
    "    def prepare_data(self):\n",
    "        self.train_df = make_df(self.train_dataset_path)\n",
    "        self.test_df = make_df(CFG.data.test_data,\n",
    "                               root_path=CFG.data.test_path)\n",
    "        \n",
    "    def setup(self, stage: str):\n",
    "        if self.is_setup:\n",
    "            return None\n",
    "        self.train_df, self.val_df = train_test_split(self.train_df, test_size=self.val_split_size,random_state=self.cfg.seed)\n",
    "        self.train_dataset = PLDataset(self.train_df,self.preprocess)\n",
    "        self.val_dataset = PLDataset(self.val_df,self.preprocess)\n",
    "        self.test_dataset = PLDataset(self.test_df,self.preprocess)\n",
    "        self.is_setup = True\n",
    "    \n",
    "    def train_dataloader(self):\n",
    "        return DataLoader(self.train_dataset,\n",
    "                         batch_size=self.batch_size,\n",
    "                         num_workers=self.num_workers,\n",
    "                         shuffle=True)\n",
    "    \n",
    "    def val_dataloader(self):\n",
    "        return DataLoader(self.val_dataset,\n",
    "                          batch_size=self.batch_size,\n",
    "                          num_workers=self.num_workers)\n",
    "    \n",
    "    def predict_dataloader(self):\n",
    "        return DataLoader(self.test_dataset,\n",
    "                          batch_size=self.batch_size,\n",
    "                          num_workers=self.num_workers)"
   ]
  },
  {
   "cell_type": "markdown",
   "metadata": {
    "tags": []
   },
   "source": [
    "## Метрики и лосс\n",
    "- были использованы различные лосс функции для создания новых гипотез\n",
    "- была выбрана лосс функция RMSE, потому что она показывала себя лучше всего на регрессионных метриках\n",
    "$$\\sqrt{\\frac{\\sum_{i=1}^N(pred_i-act_i)^2}{N}}$$"
   ]
  },
  {
   "cell_type": "code",
   "execution_count": 13,
   "metadata": {
    "execution": {
     "iopub.execute_input": "2023-08-25T14:21:22.374554Z",
     "iopub.status.busy": "2023-08-25T14:21:22.373929Z",
     "iopub.status.idle": "2023-08-25T14:21:22.380322Z",
     "shell.execute_reply": "2023-08-25T14:21:22.379617Z",
     "shell.execute_reply.started": "2023-08-25T14:21:22.374520Z"
    }
   },
   "outputs": [],
   "source": [
    "class AverageMeter():\n",
    "    \n",
    "    def __init__(self):\n",
    "        self.labels = []\n",
    "        self.preds = []\n",
    "        \n",
    "    def reset(self):\n",
    "        self.labels = []\n",
    "        self.preds = []\n",
    "        \n",
    "    def update(self,labels,preds):\n",
    "        self.labels += labels\n",
    "        self.preds += preds\n",
    "    \n",
    "    def calc_metrics(self):\n",
    "        labels = pd.Series(self.labels)\n",
    "        preds = pd.Series(self.preds)\n",
    "        preds_bin = preds.map(round)\n",
    "        metrics = dict()\n",
    "        \n",
    "        metrics['val_rmse'] = (mean_squared_error(labels,preds)) ** 0.5\n",
    "        metrics['val_mae'] = mean_absolute_error(labels,preds)\n",
    "        metrics['mape']= mean_absolute_percentage_error(labels,preds)\n",
    "        metrics['val_r2'] = r2_score(labels,preds)\n",
    "        \n",
    "        metrics['val_f1'] = f1_score(labels,preds_bin,average='macro')\n",
    "        metrics['val_acc'] = accuracy_score(labels,preds_bin)\n",
    "        metrics['val_w_acc'] = balanced_accuracy_score(labels,preds_bin)\n",
    "        return metrics"
   ]
  },
  {
   "cell_type": "code",
   "execution_count": 1,
   "metadata": {
    "tags": []
   },
   "outputs": [
    {
     "ename": "NameError",
     "evalue": "name 'nn' is not defined",
     "output_type": "error",
     "traceback": [
      "\u001b[0;31m---------------------------------------------------------------------------\u001b[0m",
      "\u001b[0;31mNameError\u001b[0m                                 Traceback (most recent call last)",
      "Cell \u001b[0;32mIn[1], line 1\u001b[0m\n\u001b[0;32m----> 1\u001b[0m \u001b[38;5;28;01mclass\u001b[39;00m \u001b[38;5;21;01mRMSELoss\u001b[39;00m(nn\u001b[38;5;241m.\u001b[39mModule):\n\u001b[1;32m      2\u001b[0m     \u001b[38;5;28;01mdef\u001b[39;00m \u001b[38;5;21m__init__\u001b[39m(\u001b[38;5;28mself\u001b[39m, eps\u001b[38;5;241m=\u001b[39m\u001b[38;5;241m1e-6\u001b[39m):\n\u001b[1;32m      3\u001b[0m         \u001b[38;5;28msuper\u001b[39m()\u001b[38;5;241m.\u001b[39m\u001b[38;5;21m__init__\u001b[39m()\n",
      "\u001b[0;31mNameError\u001b[0m: name 'nn' is not defined"
     ]
    }
   ],
   "source": [
    "class RMSELoss(nn.Module):\n",
    "    def __init__(self, eps=1e-6):\n",
    "        super().__init__()\n",
    "        self.mse = nn.MSELoss()\n",
    "        self.eps = eps\n",
    "        \n",
    "    def forward(self,yhat,y):\n",
    "        loss = torch.sqrt(self.mse(yhat,y) + self.eps)\n",
    "        return loss"
   ]
  },
  {
   "cell_type": "markdown",
   "metadata": {},
   "source": [
    "# Инициализация модели и алгоритм обучения"
   ]
  },
  {
   "cell_type": "code",
   "execution_count": 14,
   "metadata": {
    "execution": {
     "iopub.execute_input": "2023-08-25T14:21:22.816780Z",
     "iopub.status.busy": "2023-08-25T14:21:22.816205Z",
     "iopub.status.idle": "2023-08-25T14:21:22.826337Z",
     "shell.execute_reply": "2023-08-25T14:21:22.825546Z",
     "shell.execute_reply.started": "2023-08-25T14:21:22.816753Z"
    },
    "tags": []
   },
   "outputs": [],
   "source": [
    "class PLModule(pl.LightningModule):\n",
    "    def __init__(self,model,train_cfg,optim_cfg,schedul_cfg):\n",
    "        super().__init__()\n",
    "        self.optim_cfg = optim_cfg\n",
    "        self.schedule_cfg = schedul_cfg\n",
    "        self.train_cfg = train_cfg\n",
    "        self.model = model\n",
    "        self.criterion = RMSELoss()\n",
    "        self.last_loss = 0\n",
    "        self.history = []\n",
    "        self.avg_meter = AverageMeter()\n",
    "        \n",
    "    def forward(self,x):\n",
    "        features = self.model(x)\n",
    "        return torch.squeeze(features)\n",
    "\n",
    "    def training_step(self, batch, i):\n",
    "        x,targets = batch\n",
    "        x,targets = x.float(),targets.float()\n",
    "        logits = self(x)\n",
    "        loss = self.criterion(logits, targets)\n",
    "        self.log_dict({'train_loss':loss.item()})\n",
    "        self.last_loss = loss.item()\n",
    "        return loss\n",
    "    \n",
    "    def predict_step(self, batch, i):\n",
    "        x,targets = batch\n",
    "        x,targets = x.float(),targets.float()\n",
    "        logits = self(x)\n",
    "        return logits\n",
    "        \n",
    "    def validation_step(self, batch, _):\n",
    "        x,targets = batch\n",
    "        x,targets = x.float(),targets.float()\n",
    "        logits = self(x)\n",
    "        loss = self.criterion(logits,targets)\n",
    "        self.log_dict({'val_loss':loss.item()})\n",
    "        self.avg_meter.update(targets.cpu().detach().tolist(),\n",
    "                              logits.cpu().detach().tolist())\n",
    "        self.last_loss = loss.item()\n",
    "    \n",
    "                \n",
    "    def on_validation_epoch_end(self):\n",
    "        metrics = self.avg_meter.calc_metrics()\n",
    "        self.history += [metrics['val_rmse']]\n",
    "        self.avg_meter.reset()\n",
    "            \n",
    "    def configure_optimizers(self):\n",
    "        optim = create_optimizer(self.optim_cfg,self.parameters())\n",
    "        \n",
    "        if self.schedule_cfg['scheduler'] == 'cosine_step':\n",
    "            self.schedule_cfg['train_steps'] = TRAIN_STEPS * self.train_cfg['max_epochs']\n",
    "            self.schedule_cfg['num_warmup_steps'] = floor(self.schedule_cfg['train_steps'] * self.schedule_cfg['warmup_ratio'])\n",
    "            \n",
    "        scheduler = create_scheduler(self.schedule_cfg,optim)\n",
    "        return [optim], [scheduler]"
   ]
  },
  {
   "cell_type": "code",
   "execution_count": 15,
   "metadata": {
    "execution": {
     "iopub.execute_input": "2023-08-25T14:21:23.296502Z",
     "iopub.status.busy": "2023-08-25T14:21:23.295585Z",
     "iopub.status.idle": "2023-08-25T14:21:23.300278Z",
     "shell.execute_reply": "2023-08-25T14:21:23.299437Z",
     "shell.execute_reply.started": "2023-08-25T14:21:23.296499Z"
    }
   },
   "outputs": [],
   "source": [
    "def get_trainer(max_epoches):\n",
    "    return pl.Trainer(\n",
    "                accelerator=\"gpu\",\n",
    "                precision=32,\n",
    "                min_epochs=1,\n",
    "                devices=[0],\n",
    "                check_val_every_n_epoch=1,\n",
    "                max_epochs=max_epoches)"
   ]
  },
  {
   "cell_type": "code",
   "execution_count": 16,
   "metadata": {
    "execution": {
     "iopub.execute_input": "2023-08-25T14:21:23.942571Z",
     "iopub.status.busy": "2023-08-25T14:21:23.941849Z",
     "iopub.status.idle": "2023-08-25T14:21:23.946989Z",
     "shell.execute_reply": "2023-08-25T14:21:23.946316Z",
     "shell.execute_reply.started": "2023-08-25T14:21:23.942541Z"
    }
   },
   "outputs": [],
   "source": [
    "def train_model(train_cfg,optim_cfg,schedul_cfg):\n",
    "    trainer = get_trainer(train_cfg['max_epochs'])\n",
    "    model = timm.create_model(CFG.model.model,\n",
    "                              pretrained=CFG.model.pretrained,\n",
    "                              num_classes=1)\n",
    "    pl_model = PLModule(model,train_cfg,optim_cfg,schedul_cfg)\n",
    "    trainer.fit(pl_model,datamodule=dm)\n",
    "    return pl_model"
   ]
  },
  {
   "cell_type": "markdown",
   "metadata": {},
   "source": [
    "## Перебор других гиперпараметров\n",
    "- количество эпох: от 1 до 6\n",
    "- learning rate: от 1e-5 до 1e-3\n",
    "- регуляризация: от 0 до 1e-2\n",
    "- количество периодов шедулера: от 0.2 до 0.8\n",
    "- период warmup фазы: от 0.01 до 0.1"
   ]
  },
  {
   "cell_type": "code",
   "execution_count": 17,
   "metadata": {
    "execution": {
     "iopub.execute_input": "2023-08-25T14:21:27.111196Z",
     "iopub.status.busy": "2023-08-25T14:21:27.110632Z",
     "iopub.status.idle": "2023-08-25T14:21:27.116611Z",
     "shell.execute_reply": "2023-08-25T14:21:27.116037Z",
     "shell.execute_reply.started": "2023-08-25T14:21:27.111171Z"
    }
   },
   "outputs": [],
   "source": [
    "def objective(trial):\n",
    "    train_cfg = {'max_epochs':trial.suggest_int('max_epochs',1,6)}\n",
    "    optim_cfg = {'optim':trial.suggest_categorical('optim',['sgd','adamw','lion','qhadam']),\n",
    "                 'lr':trial.suggest_float('lr',1e-5,1e-3),\n",
    "                 'weights_decay':trial.suggest_float('weights_decay',0.,1e-2)}\n",
    "    \n",
    "    scheduler_type = trial.suggest_categorical('scheduler',['constant','exp','cosine_step'])\n",
    "    if scheduler_type == 'exp':\n",
    "        scheduler_cfg = {'scheduler':scheduler_type,\n",
    "                         'gamma':trial.suggest_float('gamma',0.1,0.9)}\n",
    "        \n",
    "    elif scheduler_type == 'constant':\n",
    "        scheduler_cfg = {'scheduler':scheduler_type}\n",
    "        \n",
    "    elif scheduler_type == 'cosine_step':\n",
    "        scheduler_cfg = {'scheduler':scheduler_type,\n",
    "                         'warmup_ratio':trial.suggest_float('warmup_ratio',0.01,0.1),\n",
    "                         'num_cycles':trial.suggest_float('num_cycles',0.2,0.8)}\n",
    "    \n",
    "    all_config = train_cfg | optim_cfg |scheduler_cfg\n",
    "    \n",
    "    model = train_model(train_cfg,optim_cfg,scheduler_cfg)\n",
    "    rmse = model.history[-1]\n",
    "    all_config['rmse'] = rmse\n",
    "    print(all_config)\n",
    "    with open('chekpoint.json','w') as f :\n",
    "        json.dump(all_config,f)\n",
    "    return rmse"
   ]
  },
  {
   "cell_type": "code",
   "execution_count": 18,
   "metadata": {
    "execution": {
     "iopub.execute_input": "2023-08-25T14:21:27.879480Z",
     "iopub.status.busy": "2023-08-25T14:21:27.878819Z",
     "iopub.status.idle": "2023-08-25T14:21:28.018302Z",
     "shell.execute_reply": "2023-08-25T14:21:28.017551Z",
     "shell.execute_reply.started": "2023-08-25T14:21:27.879431Z"
    }
   },
   "outputs": [],
   "source": [
    "processor = Processor()\n",
    "dm = PLDataModule(processor)\n",
    "dm.prepare_data()\n",
    "dm.setup(0)\n",
    "TRAIN_STEPS = len(dm.train_dataloader())"
   ]
  },
  {
   "cell_type": "code",
   "execution_count": 19,
   "metadata": {
    "execution": {
     "iopub.execute_input": "2023-08-25T14:21:48.133749Z",
     "iopub.status.busy": "2023-08-25T14:21:48.133162Z",
     "iopub.status.idle": "2023-08-25T14:22:21.405197Z",
     "shell.execute_reply": "2023-08-25T14:22:21.404387Z",
     "shell.execute_reply.started": "2023-08-25T14:21:48.133720Z"
    }
   },
   "outputs": [
    {
     "name": "stderr",
     "output_type": "stream",
     "text": [
      "/tmp/ipykernel_6086/3733086878.py:2: ExperimentalWarning: WeightsAndBiasesCallback is experimental (supported from v2.9.0). The interface can change in the future.\n",
      "  wandbc = WeightsAndBiasesCallback(wandb_kwargs=wandb_kwargs)\n",
      "\u001b[34m\u001b[1mwandb\u001b[0m: Logging into wandb.ai. (Learn how to deploy a W&B server locally: https://wandb.me/wandb-server)\n",
      "\u001b[34m\u001b[1mwandb\u001b[0m: You can find your API key in your browser here: https://wandb.ai/authorize\n",
      "\u001b[34m\u001b[1mwandb\u001b[0m: Paste an API key from your profile and hit enter, or press ctrl+c to quit:"
     ]
    },
    {
     "name": "stdout",
     "output_type": "stream",
     "text": [
      "  ········································\n"
     ]
    },
    {
     "name": "stderr",
     "output_type": "stream",
     "text": [
      "\u001b[34m\u001b[1mwandb\u001b[0m: Appending key for api.wandb.ai to your netrc file: /root/.netrc\n"
     ]
    },
    {
     "data": {
      "text/html": [
       "wandb version 0.15.8 is available!  To upgrade, please run:\n",
       " $ pip install wandb --upgrade"
      ],
      "text/plain": [
       "<IPython.core.display.HTML object>"
      ]
     },
     "metadata": {},
     "output_type": "display_data"
    },
    {
     "data": {
      "text/html": [
       "Tracking run with wandb version 0.13.4"
      ],
      "text/plain": [
       "<IPython.core.display.HTML object>"
      ]
     },
     "metadata": {},
     "output_type": "display_data"
    },
    {
     "data": {
      "text/html": [
       "Run data is saved locally in <code>/notebooks/wandb/run-20230825_142220-1jsp6mzm</code>"
      ],
      "text/plain": [
       "<IPython.core.display.HTML object>"
      ]
     },
     "metadata": {},
     "output_type": "display_data"
    },
    {
     "data": {
      "text/html": [
       "Syncing run <strong><a href=\"https://wandb.ai/andrey2007/aiijc_optuna/runs/1jsp6mzm\" target=\"_blank\">sparkling-oath-1</a></strong> to <a href=\"https://wandb.ai/andrey2007/aiijc_optuna\" target=\"_blank\">Weights & Biases</a> (<a href=\"https://wandb.me/run\" target=\"_blank\">docs</a>)<br/>"
      ],
      "text/plain": [
       "<IPython.core.display.HTML object>"
      ]
     },
     "metadata": {},
     "output_type": "display_data"
    }
   ],
   "source": [
    "wandb_kwargs = {\"project\": \"aiijc_optuna\"}\n",
    "wandbc = WeightsAndBiasesCallback(wandb_kwargs=wandb_kwargs)"
   ]
  },
  {
   "cell_type": "code",
   "execution_count": 21,
   "metadata": {
    "execution": {
     "iopub.execute_input": "2023-08-25T14:22:42.588197Z",
     "iopub.status.busy": "2023-08-25T14:22:42.587470Z",
     "iopub.status.idle": "2023-08-25T14:22:42.593890Z",
     "shell.execute_reply": "2023-08-25T14:22:42.593004Z",
     "shell.execute_reply.started": "2023-08-25T14:22:42.588168Z"
    }
   },
   "outputs": [
    {
     "name": "stderr",
     "output_type": "stream",
     "text": [
      "[I 2023-08-25 14:22:42,590] A new study created in memory with name: expirement\n"
     ]
    }
   ],
   "source": [
    "study = optuna.create_study(\n",
    "        direction=\"minimize\",\n",
    "        study_name='expirement',\n",
    "        load_if_exists=True,\n",
    "        pruner=optuna.pruners.HyperbandPruner(),\n",
    "        sampler=optuna.samplers.TPESampler()\n",
    "    )"
   ]
  },
  {
   "cell_type": "code",
   "execution_count": null,
   "metadata": {
    "execution": {
     "iopub.execute_input": "2023-08-25T14:22:47.613520Z",
     "iopub.status.busy": "2023-08-25T14:22:47.612949Z"
    }
   },
   "outputs": [
    {
     "name": "stderr",
     "output_type": "stream",
     "text": [
      "GPU available: True (cuda), used: True\n",
      "TPU available: False, using: 0 TPU cores\n",
      "IPU available: False, using: 0 IPUs\n",
      "HPU available: False, using: 0 HPUs\n",
      "You are using a CUDA device ('NVIDIA A100 80GB PCIe') that has Tensor Cores. To properly utilize them, you should set `torch.set_float32_matmul_precision('medium' | 'high')` which will trade-off precision for performance. For more details, read https://pytorch.org/docs/stable/generated/torch.set_float32_matmul_precision.html#torch.set_float32_matmul_precision\n",
      "LOCAL_RANK: 0 - CUDA_VISIBLE_DEVICES: [0]\n",
      "\n",
      "  | Name      | Type     | Params\n",
      "---------------------------------------\n",
      "0 | model     | ResNet   | 21.3 M\n",
      "1 | criterion | RMSELoss | 0     \n",
      "---------------------------------------\n",
      "21.3 M    Trainable params\n",
      "0         Non-trainable params\n",
      "21.3 M    Total params\n",
      "85.141    Total estimated model params size (MB)\n"
     ]
    },
    {
     "data": {
      "application/vnd.jupyter.widget-view+json": {
       "model_id": "893ef06d962144128dad7b72c527458c",
       "version_major": 2,
       "version_minor": 0
      },
      "text/plain": [
       "Sanity Checking: 0it [00:00, ?it/s]"
      ]
     },
     "metadata": {},
     "output_type": "display_data"
    },
    {
     "name": "stderr",
     "output_type": "stream",
     "text": [
      "/usr/local/lib/python3.9/dist-packages/sklearn/metrics/_classification.py:2006: UserWarning: y_pred contains classes not in y_true\n",
      "  warnings.warn(\"y_pred contains classes not in y_true\")\n"
     ]
    },
    {
     "data": {
      "application/vnd.jupyter.widget-view+json": {
       "model_id": "80e71ccc1ff94f50974ccf114ecd47f4",
       "version_major": 2,
       "version_minor": 0
      },
      "text/plain": [
       "Training: 0it [00:00, ?it/s]"
      ]
     },
     "metadata": {},
     "output_type": "display_data"
    },
    {
     "data": {
      "application/vnd.jupyter.widget-view+json": {
       "model_id": "7e1aff0143de48e798a72cdc9e983b78",
       "version_major": 2,
       "version_minor": 0
      },
      "text/plain": [
       "Validation: 0it [00:00, ?it/s]"
      ]
     },
     "metadata": {},
     "output_type": "display_data"
    },
    {
     "name": "stderr",
     "output_type": "stream",
     "text": [
      "IOPub message rate exceeded.\n",
      "The Jupyter server will temporarily stop sending output\n",
      "to the client in order to avoid crashing it.\n",
      "To change this limit, set the config variable\n",
      "`--ServerApp.iopub_msg_rate_limit`.\n",
      "\n",
      "Current values:\n",
      "ServerApp.iopub_msg_rate_limit=1000.0 (msgs/sec)\n",
      "ServerApp.rate_limit_window=3.0 (secs)\n",
      "\n"
     ]
    },
    {
     "data": {
      "application/vnd.jupyter.widget-view+json": {
       "model_id": "dd58ab6163594eed9f948dbaef90f994",
       "version_major": 2,
       "version_minor": 0
      },
      "text/plain": [
       "Validation: 0it [00:00, ?it/s]"
      ]
     },
     "metadata": {},
     "output_type": "display_data"
    },
    {
     "name": "stderr",
     "output_type": "stream",
     "text": [
      "IOPub message rate exceeded.\n",
      "The Jupyter server will temporarily stop sending output\n",
      "to the client in order to avoid crashing it.\n",
      "To change this limit, set the config variable\n",
      "`--ServerApp.iopub_msg_rate_limit`.\n",
      "\n",
      "Current values:\n",
      "ServerApp.iopub_msg_rate_limit=1000.0 (msgs/sec)\n",
      "ServerApp.rate_limit_window=3.0 (secs)\n",
      "\n"
     ]
    },
    {
     "data": {
      "application/vnd.jupyter.widget-view+json": {
       "model_id": "4be056b320d940a9aad5f0d06a710704",
       "version_major": 2,
       "version_minor": 0
      },
      "text/plain": [
       "Validation: 0it [00:00, ?it/s]"
      ]
     },
     "metadata": {},
     "output_type": "display_data"
    },
    {
     "name": "stderr",
     "output_type": "stream",
     "text": [
      "`Trainer.fit` stopped: `max_epochs=3` reached.\n",
      "[I 2023-08-25 15:04:36,595] Trial 2 finished with value: 0.5918921158199643 and parameters: {'max_epochs': 3, 'optim': 'adamw', 'lr': 0.0008295702298376161, 'weights_decay': 0.0005741908144913799, 'scheduler': 'exp', 'gamma': 0.8708595106724532}. Best is trial 1 with value: 0.577831168811426.\n",
      "GPU available: True (cuda), used: True\n",
      "TPU available: False, using: 0 TPU cores\n",
      "IPU available: False, using: 0 IPUs\n",
      "HPU available: False, using: 0 HPUs\n"
     ]
    },
    {
     "name": "stdout",
     "output_type": "stream",
     "text": [
      "{'max_epochs': 3, 'optim': 'adamw', 'lr': 0.0008295702298376161, 'weights_decay': 0.0005741908144913799, 'scheduler': 'exp', 'gamma': 0.8708595106724532, 'rmse': 0.5918921158199643}\n"
     ]
    },
    {
     "name": "stderr",
     "output_type": "stream",
     "text": [
      "LOCAL_RANK: 0 - CUDA_VISIBLE_DEVICES: [0]\n",
      "\n",
      "  | Name      | Type     | Params\n",
      "---------------------------------------\n",
      "0 | model     | ResNet   | 21.3 M\n",
      "1 | criterion | RMSELoss | 0     \n",
      "---------------------------------------\n",
      "21.3 M    Trainable params\n",
      "0         Non-trainable params\n",
      "21.3 M    Total params\n",
      "85.141    Total estimated model params size (MB)\n"
     ]
    },
    {
     "data": {
      "application/vnd.jupyter.widget-view+json": {
       "model_id": "f438acc817494803b1db8db4ac7cb703",
       "version_major": 2,
       "version_minor": 0
      },
      "text/plain": [
       "Sanity Checking: 0it [00:00, ?it/s]"
      ]
     },
     "metadata": {},
     "output_type": "display_data"
    },
    {
     "name": "stderr",
     "output_type": "stream",
     "text": [
      "/usr/local/lib/python3.9/dist-packages/sklearn/metrics/_classification.py:2006: UserWarning: y_pred contains classes not in y_true\n",
      "  warnings.warn(\"y_pred contains classes not in y_true\")\n"
     ]
    },
    {
     "data": {
      "application/vnd.jupyter.widget-view+json": {
       "model_id": "5268cdf802a748e397af13ba3c5c95bc",
       "version_major": 2,
       "version_minor": 0
      },
      "text/plain": [
       "Training: 0it [00:00, ?it/s]"
      ]
     },
     "metadata": {},
     "output_type": "display_data"
    },
    {
     "name": "stderr",
     "output_type": "stream",
     "text": [
      "IOPub message rate exceeded.\n",
      "The Jupyter server will temporarily stop sending output\n",
      "to the client in order to avoid crashing it.\n",
      "To change this limit, set the config variable\n",
      "`--ServerApp.iopub_msg_rate_limit`.\n",
      "\n",
      "Current values:\n",
      "ServerApp.iopub_msg_rate_limit=1000.0 (msgs/sec)\n",
      "ServerApp.rate_limit_window=3.0 (secs)\n",
      "\n"
     ]
    },
    {
     "data": {
      "application/vnd.jupyter.widget-view+json": {
       "model_id": "443b9b6869804483be45bfa0647d540e",
       "version_major": 2,
       "version_minor": 0
      },
      "text/plain": [
       "Validation: 0it [00:00, ?it/s]"
      ]
     },
     "metadata": {},
     "output_type": "display_data"
    },
    {
     "data": {
      "application/vnd.jupyter.widget-view+json": {
       "model_id": "62153d4e4e564e2ca5ac3d270c278c6d",
       "version_major": 2,
       "version_minor": 0
      },
      "text/plain": [
       "Validation: 0it [00:00, ?it/s]"
      ]
     },
     "metadata": {},
     "output_type": "display_data"
    },
    {
     "name": "stderr",
     "output_type": "stream",
     "text": [
      "`Trainer.fit` stopped: `max_epochs=5` reached.\n",
      "[I 2023-08-25 15:25:34,309] Trial 3 finished with value: 0.7083189116388795 and parameters: {'max_epochs': 5, 'optim': 'lion', 'lr': 0.0004706826396598755, 'weights_decay': 0.0071893048394932185, 'scheduler': 'constant'}. Best is trial 1 with value: 0.577831168811426.\n",
      "GPU available: True (cuda), used: True\n",
      "TPU available: False, using: 0 TPU cores\n",
      "IPU available: False, using: 0 IPUs\n",
      "HPU available: False, using: 0 HPUs\n"
     ]
    },
    {
     "name": "stdout",
     "output_type": "stream",
     "text": [
      "{'max_epochs': 5, 'optim': 'lion', 'lr': 0.0004706826396598755, 'weights_decay': 0.0071893048394932185, 'scheduler': 'constant', 'rmse': 0.7083189116388795}\n"
     ]
    },
    {
     "name": "stderr",
     "output_type": "stream",
     "text": [
      "LOCAL_RANK: 0 - CUDA_VISIBLE_DEVICES: [0]\n",
      "\n",
      "  | Name      | Type     | Params\n",
      "---------------------------------------\n",
      "0 | model     | ResNet   | 21.3 M\n",
      "1 | criterion | RMSELoss | 0     \n",
      "---------------------------------------\n",
      "21.3 M    Trainable params\n",
      "0         Non-trainable params\n",
      "21.3 M    Total params\n",
      "85.141    Total estimated model params size (MB)\n"
     ]
    },
    {
     "data": {
      "application/vnd.jupyter.widget-view+json": {
       "model_id": "03d6918997044089b6de20eb68eafe82",
       "version_major": 2,
       "version_minor": 0
      },
      "text/plain": [
       "Sanity Checking: 0it [00:00, ?it/s]"
      ]
     },
     "metadata": {},
     "output_type": "display_data"
    },
    {
     "name": "stderr",
     "output_type": "stream",
     "text": [
      "/usr/local/lib/python3.9/dist-packages/sklearn/metrics/_classification.py:2006: UserWarning: y_pred contains classes not in y_true\n",
      "  warnings.warn(\"y_pred contains classes not in y_true\")\n"
     ]
    },
    {
     "data": {
      "application/vnd.jupyter.widget-view+json": {
       "model_id": "218414c13504482cb9e4234468b3a073",
       "version_major": 2,
       "version_minor": 0
      },
      "text/plain": [
       "Training: 0it [00:00, ?it/s]"
      ]
     },
     "metadata": {},
     "output_type": "display_data"
    },
    {
     "data": {
      "application/vnd.jupyter.widget-view+json": {
       "model_id": "c93413c5331f44dd89a9f82c684147f6",
       "version_major": 2,
       "version_minor": 0
      },
      "text/plain": [
       "Validation: 0it [00:00, ?it/s]"
      ]
     },
     "metadata": {},
     "output_type": "display_data"
    },
    {
     "name": "stderr",
     "output_type": "stream",
     "text": [
      "/usr/local/lib/python3.9/dist-packages/sklearn/metrics/_classification.py:2006: UserWarning: y_pred contains classes not in y_true\n",
      "  warnings.warn(\"y_pred contains classes not in y_true\")\n"
     ]
    },
    {
     "data": {
      "application/vnd.jupyter.widget-view+json": {
       "model_id": "2c57ddf442ec440cbbad9e9112be10ab",
       "version_major": 2,
       "version_minor": 0
      },
      "text/plain": [
       "Validation: 0it [00:00, ?it/s]"
      ]
     },
     "metadata": {},
     "output_type": "display_data"
    },
    {
     "name": "stderr",
     "output_type": "stream",
     "text": [
      "/usr/local/lib/python3.9/dist-packages/sklearn/metrics/_classification.py:2006: UserWarning: y_pred contains classes not in y_true\n",
      "  warnings.warn(\"y_pred contains classes not in y_true\")\n"
     ]
    }
   ],
   "source": [
    "study.optimize(objective,\n",
    "               n_trials=50,\n",
    "               callbacks=[wandbc])"
   ]
  }
 ],
 "metadata": {
  "kernelspec": {
   "display_name": "Python 3 (ipykernel)",
   "language": "python",
   "name": "python3"
  },
  "language_info": {
   "codemirror_mode": {
    "name": "ipython",
    "version": 3
   },
   "file_extension": ".py",
   "mimetype": "text/x-python",
   "name": "python",
   "nbconvert_exporter": "python",
   "pygments_lexer": "ipython3",
   "version": "3.11.5"
  }
 },
 "nbformat": 4,
 "nbformat_minor": 4
}
