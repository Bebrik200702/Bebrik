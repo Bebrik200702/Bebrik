{
 "cells": [
  {
   "cell_type": "markdown",
   "metadata": {},
   "source": [
    "## Обучение Convnext_base_w_320\n",
    "В данной тетрадке расположен код обучения и инференса Convnext модели. Перед использованием кода нужно удостовериться, что все нужные библиотеки установлены и указан ваш wandb_api_key в СFG.wandb_key. Для инференса рекомендуется использовать модель с наименьшим RMSE.\n",
    "\n",
    "Вывод: Данный эксперимент, показывает нам, что CNN модели с CLIP предобучением могут показывать SOTA результаты."
   ]
  },
  {
   "cell_type": "code",
   "execution_count": 1,
   "metadata": {
    "execution": {
     "iopub.execute_input": "2023-10-17T19:25:28.915808Z",
     "iopub.status.busy": "2023-10-17T19:25:28.915596Z",
     "iopub.status.idle": "2023-10-17T19:25:48.293589Z",
     "shell.execute_reply": "2023-10-17T19:25:48.292982Z",
     "shell.execute_reply.started": "2023-10-17T19:25:28.915789Z"
    },
    "tags": []
   },
   "outputs": [],
   "source": [
    "from IPython.display import clear_output\n",
    "\n",
    "#!pip install lightning timm opendatasets albumentations catboost gdown open_clip_torch wandb\n",
    "#clear_output()"
   ]
  },
  {
   "cell_type": "markdown",
   "metadata": {},
   "source": [
    "## Импорты"
   ]
  },
  {
   "cell_type": "code",
   "execution_count": 11,
   "metadata": {
    "execution": {
     "iopub.execute_input": "2023-10-17T19:26:28.237187Z",
     "iopub.status.busy": "2023-10-17T19:26:28.236926Z",
     "iopub.status.idle": "2023-10-17T19:26:28.244472Z",
     "shell.execute_reply": "2023-10-17T19:26:28.243930Z",
     "shell.execute_reply.started": "2023-10-17T19:26:28.237166Z"
    },
    "tags": []
   },
   "outputs": [
    {
     "name": "stderr",
     "output_type": "stream",
     "text": [
      "Seed set to 56\n"
     ]
    },
    {
     "data": {
      "text/plain": [
       "56"
      ]
     },
     "execution_count": 11,
     "metadata": {},
     "output_type": "execute_result"
    }
   ],
   "source": [
    "import os\n",
    "import pandas as pd\n",
    "import numpy as np\n",
    "from PIL import Image\n",
    "import matplotlib.pyplot as plt\n",
    "import pytorch_lightning as pl\n",
    "from sklearn.model_selection import train_test_split\n",
    "import torch\n",
    "import torch.nn as nn\n",
    "from torch.utils.data import Dataset, DataLoader\n",
    "from tqdm.auto import tqdm\n",
    "from sklearn.metrics import accuracy_score,f1_score,balanced_accuracy_score\n",
    "from sklearn.metrics import mean_squared_error, mean_absolute_error, mean_absolute_percentage_error, r2_score\n",
    "import albumentations as A\n",
    "import open_clip\n",
    "from albumentations.pytorch.transforms import ToTensorV2\n",
    "from catboost import CatBoostClassifier,CatBoostRegressor,Pool,cv\n",
    "from copy import deepcopy\n",
    "from transformers import get_cosine_schedule_with_warmup\n",
    "import wandb\n",
    "import timm\n",
    "pl.seed_everything(56)"
   ]
  },
  {
   "cell_type": "markdown",
   "metadata": {
    "tags": []
   },
   "source": [
    "## Конфиги:\n",
    "- использована модель `convnext_base_w_320` с весами `laion_aesthetic_s13b_b82k_augreg`\n",
    "- модель была предобучена на датасете [LAION-400M](https://arxiv.org/abs/2111.02114)\n",
    "- разный learning rate для MLP и embedding extractor'а\n",
    "- функция активации [PReLU в MLP](../experiments/CLIP_train/experiments.ipynb)\n",
    "- [Cosine Scheduler with warmup](../experiments/CLIP_train/experiments.ipynb)\n",
    "- было выбрано оптимальное разделение на обучающую и валидационную выборку: 20%\n",
    "\n",
    "<div>\n",
    "<img src=\"images/ConvNeXt.ppm\" width=\"500\"/>\n",
    "</div>"
   ]
  },
  {
   "cell_type": "code",
   "execution_count": 13,
   "metadata": {
    "execution": {
     "iopub.execute_input": "2023-10-17T19:26:36.853468Z",
     "iopub.status.busy": "2023-10-17T19:26:36.853174Z",
     "iopub.status.idle": "2023-10-17T19:26:36.857762Z",
     "shell.execute_reply": "2023-10-17T19:26:36.857281Z",
     "shell.execute_reply.started": "2023-10-17T19:26:36.853447Z"
    },
    "tags": []
   },
   "outputs": [],
   "source": [
    "class CFG:\n",
    "    class data:\n",
    "        train_data= './aiijc23-4/train_scores.csv'\n",
    "        test_data = './simple_sub.csv'\n",
    "        train_path='./aiijc23-4/train/train/'\n",
    "        test_path = './aiijc23-4/test/test/'\n",
    "        num_workers = 4\n",
    "        val_split_size = 0.2\n",
    "        batch_size = 16\n",
    "        seed = 56\n",
    "    class model:\n",
    "        model ='convnext_base_w_320'\n",
    "        pretrained = 'laion_aesthetic_s13b_b82k_augreg'\n",
    "        num_labels = 1\n",
    "        scheduler= True\n",
    "        max_epoches= 4\n",
    "        mlp_lr = 2e-4\n",
    "        encoder_lr = 5e-6\n",
    "        mlp_weights_decay = 0.02\n",
    "        encoder_weights_decay = 0.02\n",
    "        eps=1e-6\n",
    "        betas=(0.9, 0.999)\n",
    "    wandb_key=\"your_key\"\n",
    "    seed=56"
   ]
  },
  {
   "cell_type": "markdown",
   "metadata": {},
   "source": [
    "# Предобработка датасета"
   ]
  },
  {
   "cell_type": "code",
   "execution_count": 15,
   "metadata": {
    "execution": {
     "iopub.execute_input": "2023-10-17T19:26:37.750994Z",
     "iopub.status.busy": "2023-10-17T19:26:37.750682Z",
     "iopub.status.idle": "2023-10-17T19:26:37.755552Z",
     "shell.execute_reply": "2023-10-17T19:26:37.754760Z",
     "shell.execute_reply.started": "2023-10-17T19:26:37.750973Z"
    },
    "tags": []
   },
   "outputs": [],
   "source": [
    "def make_df(path,root_path=CFG.data.train_path):\n",
    "    data = pd.read_csv(path)\n",
    "    df = pd.DataFrame()\n",
    "    df['image'] = data['IMAGE'].apply(lambda x:root_path + x)\n",
    "    df['label'] = data['SCORE']\n",
    "    return df"
   ]
  },
  {
   "cell_type": "code",
   "execution_count": 16,
   "metadata": {
    "execution": {
     "iopub.execute_input": "2023-10-17T19:26:38.494674Z",
     "iopub.status.busy": "2023-10-17T19:26:38.494413Z",
     "iopub.status.idle": "2023-10-17T19:26:38.499140Z",
     "shell.execute_reply": "2023-10-17T19:26:38.498614Z",
     "shell.execute_reply.started": "2023-10-17T19:26:38.494649Z"
    },
    "tags": []
   },
   "outputs": [],
   "source": [
    "class PLDataset(Dataset):\n",
    "    def __init__(self, df,preprocess):\n",
    "        super().__init__()\n",
    "        self.cfg = CFG.data\n",
    "        self.data = df[['image','label']].values\n",
    "        self.preprocess = preprocess\n",
    "    def __getitem__(self, index):\n",
    "        image = Image.open(self.data[index][0])\n",
    "        image = self.preprocess(image)\n",
    "        label = self.data[index][1]\n",
    "        return image,label\n",
    "    def __len__(self):\n",
    "        return len(self.data)"
   ]
  },
  {
   "cell_type": "code",
   "execution_count": 17,
   "metadata": {
    "execution": {
     "iopub.execute_input": "2023-10-17T19:26:39.375866Z",
     "iopub.status.busy": "2023-10-17T19:26:39.375609Z",
     "iopub.status.idle": "2023-10-17T19:26:39.382538Z",
     "shell.execute_reply": "2023-10-17T19:26:39.381952Z",
     "shell.execute_reply.started": "2023-10-17T19:26:39.375847Z"
    },
    "tags": []
   },
   "outputs": [],
   "source": [
    "class PLDataModule(pl.LightningDataModule):\n",
    "    def __init__(self,preprocess):\n",
    "        super().__init__()\n",
    "        self.cfg = CFG.data\n",
    "        self.train_dataset_path = self.cfg.train_data\n",
    "        self.test_dataset_path = self.cfg.test_path\n",
    "        self.val_split_size = self.cfg.val_split_size\n",
    "        self.batch_size = self.cfg.batch_size\n",
    "        self.num_workers = self.cfg.num_workers\n",
    "        self.is_setup = False\n",
    "        self.preprocess = preprocess\n",
    "    def prepare_data(self):\n",
    "        self.train_df = make_df(self.train_dataset_path)\n",
    "        self.test_df = make_df(CFG.data.test_data,\n",
    "                               root_path=CFG.data.test_path)\n",
    "        \n",
    "    def setup(self, stage: str):\n",
    "        if self.is_setup:\n",
    "            return None\n",
    "        self.train_df, self.val_df = train_test_split(self.train_df, test_size=self.val_split_size,random_state=self.cfg.seed)\n",
    "        self.train_dataset = PLDataset(self.train_df,self.preprocess)\n",
    "        self.val_dataset = PLDataset(self.val_df,self.preprocess)\n",
    "        self.test_dataset = PLDataset(self.test_df,self.preprocess)\n",
    "        self.is_setup = True\n",
    "    \n",
    "    def train_dataloader(self):\n",
    "        return DataLoader(self.train_dataset,\n",
    "                         batch_size=self.batch_size,\n",
    "                         num_workers=self.num_workers,\n",
    "                         shuffle=True)\n",
    "    \n",
    "    def val_dataloader(self):\n",
    "        return DataLoader(self.val_dataset,\n",
    "                          batch_size=self.batch_size,\n",
    "                          num_workers=self.num_workers)\n",
    "    \n",
    "    def predict_dataloader(self):\n",
    "        return DataLoader(self.test_dataset,\n",
    "                          batch_size=self.batch_size,\n",
    "                          num_workers=self.num_workers)"
   ]
  },
  {
   "cell_type": "markdown",
   "metadata": {},
   "source": [
    "# Метрики и лосс\n",
    "- были использованы различные метрики для создания новых гипотез\n",
    "- была выбрана метрика RMSE, потому что она показывала себя лучше всего на регрессионных метриках\n",
    "\n",
    "$$ RMSE = \\sqrt{\\frac{\\sum_{i=1}^n(pred_i-act_i)^2}{n}} $$"
   ]
  },
  {
   "cell_type": "code",
   "execution_count": 19,
   "metadata": {
    "execution": {
     "iopub.execute_input": "2023-10-17T19:26:41.146201Z",
     "iopub.status.busy": "2023-10-17T19:26:41.145452Z",
     "iopub.status.idle": "2023-10-17T19:26:41.151467Z",
     "shell.execute_reply": "2023-10-17T19:26:41.150818Z",
     "shell.execute_reply.started": "2023-10-17T19:26:41.146177Z"
    },
    "tags": []
   },
   "outputs": [],
   "source": [
    "class AverageMeter():\n",
    "    \n",
    "    def __init__(self):\n",
    "        self.labels = []\n",
    "        self.preds = []\n",
    "        \n",
    "    def reset(self):\n",
    "        self.labels = []\n",
    "        self.preds = []\n",
    "        \n",
    "    def update(self,labels,preds):\n",
    "        self.labels += labels\n",
    "        self.preds += preds\n",
    "    \n",
    "    def calc_metrics(self):\n",
    "        labels = pd.Series(self.labels)\n",
    "        preds = pd.Series(self.preds)\n",
    "        preds_bin = preds.map(round)\n",
    "        metrics = dict()\n",
    "        \n",
    "        metrics['val_rmse'] = (mean_squared_error(labels,preds)) ** 0.5\n",
    "        metrics['val_mae'] = mean_absolute_error(labels,preds)\n",
    "        metrics['mape']= mean_absolute_percentage_error(labels,preds)\n",
    "        metrics['val_r2'] = r2_score(labels,preds)\n",
    "        \n",
    "        metrics['val_f1'] = f1_score(labels,preds_bin,average='macro')\n",
    "        metrics['val_acc'] = accuracy_score(labels,preds_bin)\n",
    "        metrics['val_w_acc'] = balanced_accuracy_score(labels,preds_bin)\n",
    "        return metrics"
   ]
  },
  {
   "cell_type": "code",
   "execution_count": null,
   "metadata": {},
   "outputs": [],
   "source": [
    "class RMSELoss(nn.Module):\n",
    "    def __init__(self, eps=1e-6):\n",
    "        super().__init__()\n",
    "        self.mse = nn.MSELoss()\n",
    "        self.eps = eps\n",
    "        \n",
    "    def forward(self,yhat,y):\n",
    "        loss = torch.sqrt(self.mse(yhat,y) + self.eps)\n",
    "        return loss"
   ]
  },
  {
   "cell_type": "markdown",
   "metadata": {},
   "source": [
    "# Инициализация модели и алгоритм обучения"
   ]
  },
  {
   "cell_type": "code",
   "execution_count": 20,
   "metadata": {
    "execution": {
     "iopub.execute_input": "2023-10-17T19:26:47.332594Z",
     "iopub.status.busy": "2023-10-17T19:26:47.331739Z",
     "iopub.status.idle": "2023-10-17T19:26:47.342434Z",
     "shell.execute_reply": "2023-10-17T19:26:47.341823Z",
     "shell.execute_reply.started": "2023-10-17T19:26:47.332569Z"
    },
    "tags": []
   },
   "outputs": [],
   "source": [
    "class PLModule(pl.LightningModule):\n",
    "    def __init__(self,clip):\n",
    "        super().__init__()\n",
    "        self.cfg = CFG.model\n",
    "        self.clip = clip\n",
    "        self.mlp = nn.Sequential(nn.Linear(640,640 * 2),\n",
    "                                 nn.PReLU(),\n",
    "                                 nn.LayerNorm(640 * 2),\n",
    "                                 nn.Linear(640 * 2,1),\n",
    "                                )\n",
    "        self.criterion = RMSELoss()\n",
    "        self.avg_meter = AverageMeter()\n",
    "        self.last_loss = 0\n",
    "        self.losses = []\n",
    "        \n",
    "    def forward(self,x):\n",
    "        features = self.clip.encode_image(x)\n",
    "        features = self.mlp(features)\n",
    "        return torch.squeeze(features)\n",
    "\n",
    "    def training_step(self, batch, i):\n",
    "        x,targets = batch\n",
    "        x,targets = x.float(),targets.float()\n",
    "        logits = self(x)\n",
    "        loss = self.criterion(targets, logits)\n",
    "        self.log_dict({'train_loss':loss.item()})\n",
    "        self.last_loss = loss.item()\n",
    "        return loss\n",
    "    \n",
    "    def predict_step(self, batch, i):\n",
    "        x,targets = batch\n",
    "        x,targets = x.float(),targets.float()\n",
    "        logits = self(x)\n",
    "        return logits.tolist()\n",
    "        \n",
    "    def validation_step(self, batch, _):\n",
    "        x,targets = batch\n",
    "        x,targets = x.float(),targets.float()\n",
    "        logits = self(x)\n",
    "        loss = self.criterion(targets,logits)\n",
    "        self.log_dict({'val_loss':loss.item()})\n",
    "        self.avg_meter.update(targets.cpu().detach().tolist(),\n",
    "                              logits.cpu().detach().tolist())\n",
    "    \n",
    "                \n",
    "    def on_validation_epoch_end(self):\n",
    "        self.log_dict(self.avg_meter.calc_metrics())\n",
    "        self.avg_meter.reset()\n",
    "            \n",
    "    def configure_optimizers(self):\n",
    "        grouped_parameters = [\n",
    "                            {'params':self.clip.parameters(),\n",
    "                               'lr':self.cfg.encoder_lr,\n",
    "                               'weight_decay':self.cfg.encoder_weights_decay},\n",
    "                             {'params':self.mlp.parameters(),\n",
    "                               'lr':self.cfg.mlp_lr,\n",
    "                               'weight_decay':self.cfg.mlp_weights_decay},\n",
    "                             ]\n",
    "        optim = torch.optim.AdamW(grouped_parameters,\n",
    "                                  betas=self.cfg.betas,\n",
    "                                  eps=self.cfg.eps)\n",
    "        \n",
    "        scheduler = get_cosine_schedule_with_warmup(optim,\n",
    "                                                    num_warmup_steps = TRAIN_STEPS * 4 * 0.1,\n",
    "                                                    num_training_steps = TRAIN_STEPS * 4,\n",
    "                                                    num_cycles = 0.55)\n",
    "        scheduler = {'scheduler':scheduler,\n",
    "                     'interval':'step',\n",
    "                     'frequency':1}\n",
    "        \n",
    "        return [optim],[scheduler]"
   ]
  },
  {
   "cell_type": "code",
   "execution_count": 21,
   "metadata": {
    "execution": {
     "iopub.execute_input": "2023-10-17T19:26:48.734811Z",
     "iopub.status.busy": "2023-10-17T19:26:48.734519Z",
     "iopub.status.idle": "2023-10-17T19:27:13.993502Z",
     "shell.execute_reply": "2023-10-17T19:27:13.992866Z",
     "shell.execute_reply.started": "2023-10-17T19:26:48.734791Z"
    },
    "tags": []
   },
   "outputs": [
    {
     "data": {
      "application/vnd.jupyter.widget-view+json": {
       "model_id": "49a305c1265c42838cb38c879af33b93",
       "version_major": 2,
       "version_minor": 0
      },
      "text/plain": [
       "Downloading (…)_pytorch_model.bin\";:   0%|          | 0.00/1.01G [00:00<?, ?B/s]"
      ]
     },
     "metadata": {},
     "output_type": "display_data"
    }
   ],
   "source": [
    "model, _, preprocess = open_clip.create_model_and_transforms(CFG.model.model,\n",
    "                                                             pretrained=CFG.model.pretrained)"
   ]
  },
  {
   "cell_type": "code",
   "execution_count": 22,
   "metadata": {
    "execution": {
     "iopub.execute_input": "2023-10-17T19:30:38.245324Z",
     "iopub.status.busy": "2023-10-17T19:30:38.244709Z",
     "iopub.status.idle": "2023-10-17T19:30:38.602295Z",
     "shell.execute_reply": "2023-10-17T19:30:38.601481Z",
     "shell.execute_reply.started": "2023-10-17T19:30:38.245300Z"
    },
    "tags": []
   },
   "outputs": [],
   "source": [
    "dm = PLDataModule(preprocess)\n",
    "dm.prepare_data()\n",
    "dm.setup(0)\n",
    "TRAIN_STEPS = len(dm.train_dataloader())"
   ]
  },
  {
   "cell_type": "code",
   "execution_count": 24,
   "metadata": {
    "execution": {
     "iopub.execute_input": "2023-10-17T19:30:40.787598Z",
     "iopub.status.busy": "2023-10-17T19:30:40.786644Z",
     "iopub.status.idle": "2023-10-17T19:30:40.808355Z",
     "shell.execute_reply": "2023-10-17T19:30:40.807718Z",
     "shell.execute_reply.started": "2023-10-17T19:30:40.787569Z"
    },
    "tags": []
   },
   "outputs": [],
   "source": [
    "pl_model = PLModule(model)"
   ]
  },
  {
   "cell_type": "code",
   "execution_count": 25,
   "metadata": {
    "execution": {
     "iopub.execute_input": "2023-10-17T19:31:05.512972Z",
     "iopub.status.busy": "2023-10-17T19:31:05.512421Z",
     "iopub.status.idle": "2023-10-17T19:31:12.936581Z",
     "shell.execute_reply": "2023-10-17T19:31:12.935878Z",
     "shell.execute_reply.started": "2023-10-17T19:31:05.512949Z"
    },
    "tags": []
   },
   "outputs": [
    {
     "name": "stderr",
     "output_type": "stream",
     "text": [
      "\u001b[34m\u001b[1mwandb\u001b[0m: W&B API key is configured. Use \u001b[1m`wandb login --relogin`\u001b[0m to force relogin\n",
      "\u001b[34m\u001b[1mwandb\u001b[0m: \u001b[33mWARNING\u001b[0m If you're specifying your api key in code, ensure this code is not shared publicly.\n",
      "\u001b[34m\u001b[1mwandb\u001b[0m: \u001b[33mWARNING\u001b[0m Consider setting the WANDB_API_KEY environment variable, or running `wandb login` from the command line.\n",
      "\u001b[34m\u001b[1mwandb\u001b[0m: Appending key for api.wandb.ai to your netrc file: /root/.netrc\n"
     ]
    },
    {
     "data": {
      "text/html": [
       "Changes to your `wandb` environment variables will be ignored because your `wandb` session has already started. For more information on how to modify your settings with `wandb.init()` arguments, please refer to <a href=\"https://wandb.me/wandb-init\" target=\"_blank\">the W&B docs</a>."
      ],
      "text/plain": [
       "<IPython.core.display.HTML object>"
      ]
     },
     "metadata": {},
     "output_type": "display_data"
    },
    {
     "name": "stderr",
     "output_type": "stream",
     "text": [
      "\u001b[34m\u001b[1mwandb\u001b[0m: Currently logged in as: \u001b[33mandrey20007\u001b[0m (\u001b[33mandrey2007\u001b[0m). Use \u001b[1m`wandb login --relogin`\u001b[0m to force relogin\n"
     ]
    },
    {
     "data": {
      "text/html": [
       "wandb version 0.15.12 is available!  To upgrade, please run:\n",
       " $ pip install wandb --upgrade"
      ],
      "text/plain": [
       "<IPython.core.display.HTML object>"
      ]
     },
     "metadata": {},
     "output_type": "display_data"
    },
    {
     "data": {
      "text/html": [
       "Tracking run with wandb version 0.13.4"
      ],
      "text/plain": [
       "<IPython.core.display.HTML object>"
      ]
     },
     "metadata": {},
     "output_type": "display_data"
    },
    {
     "data": {
      "text/html": [
       "Run data is saved locally in <code>/notebooks/wandb/run-20231017_193112-307g24hd</code>"
      ],
      "text/plain": [
       "<IPython.core.display.HTML object>"
      ]
     },
     "metadata": {},
     "output_type": "display_data"
    },
    {
     "data": {
      "text/html": [
       "Syncing run <strong><a href=\"https://wandb.ai/andrey2007/AIIJC/runs/307g24hd\" target=\"_blank\">cocab32-enc_lr=5e-5</a></strong> to <a href=\"https://wandb.ai/andrey2007/AIIJC\" target=\"_blank\">Weights & Biases</a> (<a href=\"https://wandb.me/run\" target=\"_blank\">docs</a>)<br/>"
      ],
      "text/plain": [
       "<IPython.core.display.HTML object>"
      ]
     },
     "metadata": {},
     "output_type": "display_data"
    },
    {
     "data": {
      "text/html": [
       "<button onClick=\"this.nextSibling.style.display='block';this.style.display='none';\">Display W&B run</button><iframe src=\"https://wandb.ai/andrey2007/AIIJC/runs/307g24hd?jupyter=true\" style=\"border:none;width:100%;height:420px;display:none;\"></iframe>"
      ],
      "text/plain": [
       "<wandb.sdk.wandb_run.Run at 0x7f021c0dd580>"
      ]
     },
     "execution_count": 25,
     "metadata": {},
     "output_type": "execute_result"
    }
   ],
   "source": [
    "wandb.login(key=CFG.wandb_key)\n",
    "os.environ['WANDB_API_KEY'] = CFG.wandb_key\n",
    "wandb.init(project='AIIJC',name='convnext_b_w_320')"
   ]
  },
  {
   "cell_type": "code",
   "execution_count": 27,
   "metadata": {
    "execution": {
     "iopub.execute_input": "2023-10-17T19:33:32.349750Z",
     "iopub.status.busy": "2023-10-17T19:33:32.348945Z",
     "iopub.status.idle": "2023-10-17T19:33:32.368195Z",
     "shell.execute_reply": "2023-10-17T19:33:32.367628Z",
     "shell.execute_reply.started": "2023-10-17T19:33:32.349729Z"
    },
    "tags": []
   },
   "outputs": [
    {
     "name": "stderr",
     "output_type": "stream",
     "text": [
      "GPU available: True (cuda), used: True\n",
      "TPU available: False, using: 0 TPU cores\n",
      "IPU available: False, using: 0 IPUs\n",
      "HPU available: False, using: 0 HPUs\n"
     ]
    }
   ],
   "source": [
    "lr_monitor = pl.callbacks.LearningRateMonitor(logging_interval='epoch')\n",
    "checkpoint_cb = pl.callbacks.ModelCheckpoint(\n",
    "    dirpath='./outputs_convnext/',\n",
    "    filename='model_{epoch:02d}-{val_loss:.4f}',\n",
    "    monitor='val_loss',\n",
    "    mode='min',\n",
    "    save_last=True\n",
    ")\n",
    "\n",
    "trainer = pl.Trainer(\n",
    "    accelerator=\"gpu\",\n",
    "    precision=32,\n",
    "    callbacks = [lr_monitor,checkpoint_cb],\n",
    "    logger = pl.loggers.WandbLogger(),\n",
    "    min_epochs=1,\n",
    "    devices=[0],\n",
    "    check_val_every_n_epoch=1,\n",
    "    max_epochs=CFG.model.max_epoches\n",
    ")"
   ]
  },
  {
   "cell_type": "code",
   "execution_count": 28,
   "metadata": {
    "execution": {
     "iopub.execute_input": "2023-10-17T19:33:33.336628Z",
     "iopub.status.busy": "2023-10-17T19:33:33.336386Z",
     "iopub.status.idle": "2023-10-17T20:48:33.685251Z",
     "shell.execute_reply": "2023-10-17T20:48:33.684696Z",
     "shell.execute_reply.started": "2023-10-17T19:33:33.336610Z"
    },
    "tags": []
   },
   "outputs": [
    {
     "name": "stderr",
     "output_type": "stream",
     "text": [
      "You are using a CUDA device ('NVIDIA A100-SXM4-80GB') that has Tensor Cores. To properly utilize them, you should set `torch.set_float32_matmul_precision('medium' | 'high')` which will trade-off precision for performance. For more details, read https://pytorch.org/docs/stable/generated/torch.set_float32_matmul_precision.html#torch.set_float32_matmul_precision\n",
      "/usr/local/lib/python3.9/dist-packages/pytorch_lightning/loggers/wandb.py:389: There is a wandb run already in progress and newly created instances of `WandbLogger` will reuse this run. If this is not desired, call `wandb.finish()` before instantiating `WandbLogger`.\n",
      "/usr/local/lib/python3.9/dist-packages/pytorch_lightning/callbacks/model_checkpoint.py:630: Checkpoint directory /notebooks/outputs_convnext_real exists and is not empty.\n",
      "LOCAL_RANK: 0 - CUDA_VISIBLE_DEVICES: [0]\n",
      "\n",
      "  | Name      | Type       | Params\n",
      "-----------------------------------------\n",
      "0 | clip      | CoCa       | 253 M \n",
      "1 | mlp       | Sequential | 528 K \n",
      "2 | criterion | RMSELoss   | 0     \n",
      "-----------------------------------------\n",
      "254 M     Trainable params\n",
      "0         Non-trainable params\n",
      "254 M     Total params\n",
      "1,016.354 Total estimated model params size (MB)\n"
     ]
    },
    {
     "data": {
      "application/vnd.jupyter.widget-view+json": {
       "model_id": "5a2dca8b1dc7447492749ca98dfece85",
       "version_major": 2,
       "version_minor": 0
      },
      "text/plain": [
       "Sanity Checking: |          | 0/? [00:00<?, ?it/s]"
      ]
     },
     "metadata": {},
     "output_type": "display_data"
    },
    {
     "name": "stderr",
     "output_type": "stream",
     "text": [
      "/usr/local/lib/python3.9/dist-packages/sklearn/metrics/_classification.py:2006: UserWarning: y_pred contains classes not in y_true\n",
      "  warnings.warn(\"y_pred contains classes not in y_true\")\n"
     ]
    },
    {
     "data": {
      "application/vnd.jupyter.widget-view+json": {
       "model_id": "00988dea005b4f71b9361a9b1b8c8f6a",
       "version_major": 2,
       "version_minor": 0
      },
      "text/plain": [
       "Training: |          | 0/? [00:00<?, ?it/s]"
      ]
     },
     "metadata": {},
     "output_type": "display_data"
    },
    {
     "data": {
      "application/vnd.jupyter.widget-view+json": {
       "model_id": "50df1a36273745bc8b4d743d75fbb723",
       "version_major": 2,
       "version_minor": 0
      },
      "text/plain": [
       "Validation: |          | 0/? [00:00<?, ?it/s]"
      ]
     },
     "metadata": {},
     "output_type": "display_data"
    },
    {
     "data": {
      "application/vnd.jupyter.widget-view+json": {
       "model_id": "2f2deb3046a24fe2ab1dbca52f70d5f4",
       "version_major": 2,
       "version_minor": 0
      },
      "text/plain": [
       "Validation: |          | 0/? [00:00<?, ?it/s]"
      ]
     },
     "metadata": {},
     "output_type": "display_data"
    },
    {
     "data": {
      "application/vnd.jupyter.widget-view+json": {
       "model_id": "015642522055494c87213d1f84754fe0",
       "version_major": 2,
       "version_minor": 0
      },
      "text/plain": [
       "Validation: |          | 0/? [00:00<?, ?it/s]"
      ]
     },
     "metadata": {},
     "output_type": "display_data"
    },
    {
     "data": {
      "application/vnd.jupyter.widget-view+json": {
       "model_id": "468ee031d1844a52933fc28fc214b34f",
       "version_major": 2,
       "version_minor": 0
      },
      "text/plain": [
       "Validation: |          | 0/? [00:00<?, ?it/s]"
      ]
     },
     "metadata": {},
     "output_type": "display_data"
    },
    {
     "data": {
      "application/vnd.jupyter.widget-view+json": {
       "model_id": "a77498b085c24ab99fa0abfa820a520e",
       "version_major": 2,
       "version_minor": 0
      },
      "text/plain": [
       "Validation: |          | 0/? [00:00<?, ?it/s]"
      ]
     },
     "metadata": {},
     "output_type": "display_data"
    },
    {
     "data": {
      "application/vnd.jupyter.widget-view+json": {
       "model_id": "bd68ce6f320b44899a7767ae87ad6527",
       "version_major": 2,
       "version_minor": 0
      },
      "text/plain": [
       "Validation: |          | 0/? [00:00<?, ?it/s]"
      ]
     },
     "metadata": {},
     "output_type": "display_data"
    },
    {
     "data": {
      "application/vnd.jupyter.widget-view+json": {
       "model_id": "7dad2172f3914949a1dfeced39627de8",
       "version_major": 2,
       "version_minor": 0
      },
      "text/plain": [
       "Validation: |          | 0/? [00:00<?, ?it/s]"
      ]
     },
     "metadata": {},
     "output_type": "display_data"
    },
    {
     "data": {
      "application/vnd.jupyter.widget-view+json": {
       "model_id": "c813da201a42465dbfd5436e88144311",
       "version_major": 2,
       "version_minor": 0
      },
      "text/plain": [
       "Validation: |          | 0/? [00:00<?, ?it/s]"
      ]
     },
     "metadata": {},
     "output_type": "display_data"
    },
    {
     "data": {
      "application/vnd.jupyter.widget-view+json": {
       "model_id": "0bfe75e98b3a4c0cb90d9fadf1a8ac78",
       "version_major": 2,
       "version_minor": 0
      },
      "text/plain": [
       "Validation: |          | 0/? [00:00<?, ?it/s]"
      ]
     },
     "metadata": {},
     "output_type": "display_data"
    },
    {
     "data": {
      "application/vnd.jupyter.widget-view+json": {
       "model_id": "9d137a244a3c4837ac3b727202690088",
       "version_major": 2,
       "version_minor": 0
      },
      "text/plain": [
       "Validation: |          | 0/? [00:00<?, ?it/s]"
      ]
     },
     "metadata": {},
     "output_type": "display_data"
    },
    {
     "data": {
      "application/vnd.jupyter.widget-view+json": {
       "model_id": "b6ed71dd5f7b474d8248e20e6835ed26",
       "version_major": 2,
       "version_minor": 0
      },
      "text/plain": [
       "Validation: |          | 0/? [00:00<?, ?it/s]"
      ]
     },
     "metadata": {},
     "output_type": "display_data"
    },
    {
     "data": {
      "application/vnd.jupyter.widget-view+json": {
       "model_id": "ce09f16fd0cc4730923f286509ad8d71",
       "version_major": 2,
       "version_minor": 0
      },
      "text/plain": [
       "Validation: |          | 0/? [00:00<?, ?it/s]"
      ]
     },
     "metadata": {},
     "output_type": "display_data"
    },
    {
     "data": {
      "application/vnd.jupyter.widget-view+json": {
       "model_id": "cbbdd8d2002343cbb21737dd67a28f26",
       "version_major": 2,
       "version_minor": 0
      },
      "text/plain": [
       "Validation: |          | 0/? [00:00<?, ?it/s]"
      ]
     },
     "metadata": {},
     "output_type": "display_data"
    },
    {
     "data": {
      "application/vnd.jupyter.widget-view+json": {
       "model_id": "6c4570d2d801437cb78a09209e004d46",
       "version_major": 2,
       "version_minor": 0
      },
      "text/plain": [
       "Validation: |          | 0/? [00:00<?, ?it/s]"
      ]
     },
     "metadata": {},
     "output_type": "display_data"
    },
    {
     "data": {
      "application/vnd.jupyter.widget-view+json": {
       "model_id": "69203ce8399642feb920a319c0910788",
       "version_major": 2,
       "version_minor": 0
      },
      "text/plain": [
       "Validation: |          | 0/? [00:00<?, ?it/s]"
      ]
     },
     "metadata": {},
     "output_type": "display_data"
    },
    {
     "data": {
      "application/vnd.jupyter.widget-view+json": {
       "model_id": "5a2b463f73254b299ee18de94f353caf",
       "version_major": 2,
       "version_minor": 0
      },
      "text/plain": [
       "Validation: |          | 0/? [00:00<?, ?it/s]"
      ]
     },
     "metadata": {},
     "output_type": "display_data"
    },
    {
     "name": "stderr",
     "output_type": "stream",
     "text": [
      "`Trainer.fit` stopped: `max_epochs=16` reached.\n"
     ]
    }
   ],
   "source": [
    "trainer.fit(pl_model,datamodule=dm)"
   ]
  },
  {
   "cell_type": "markdown",
   "metadata": {
    "tags": []
   },
   "source": [
    "# Предсказывание"
   ]
  },
  {
   "cell_type": "code",
   "execution_count": null,
   "metadata": {},
   "outputs": [],
   "source": [
    "preds = trainer.predict(pl_model,datamodule=dm)"
   ]
  },
  {
   "cell_type": "code",
   "execution_count": 25,
   "metadata": {
    "tags": []
   },
   "outputs": [],
   "source": [
    "test_df = pd.read_csv('simple_sub.csv')"
   ]
  },
  {
   "cell_type": "code",
   "execution_count": 26,
   "metadata": {
    "tags": []
   },
   "outputs": [],
   "source": [
    "test_df['SCORE'] = np.concatenate(preds)"
   ]
  },
  {
   "cell_type": "code",
   "execution_count": 27,
   "metadata": {
    "tags": []
   },
   "outputs": [],
   "source": [
    "test_df.to_csv('convnext_base_w_320_aeatetik_augreg.csv',index=False)"
   ]
  },
  {
   "cell_type": "code",
   "execution_count": 38,
   "metadata": {
    "tags": []
   },
   "outputs": [],
   "source": [
    "test_df['SCORE'] = test_df['SCORE'].map(round)"
   ]
  },
  {
   "cell_type": "code",
   "execution_count": 32,
   "metadata": {
    "tags": []
   },
   "outputs": [
    {
     "data": {
      "text/html": [
       "<div>\n",
       "<style scoped>\n",
       "    .dataframe tbody tr th:only-of-type {\n",
       "        vertical-align: middle;\n",
       "    }\n",
       "\n",
       "    .dataframe tbody tr th {\n",
       "        vertical-align: top;\n",
       "    }\n",
       "\n",
       "    .dataframe thead th {\n",
       "        text-align: right;\n",
       "    }\n",
       "</style>\n",
       "<table border=\"1\" class=\"dataframe\">\n",
       "  <thead>\n",
       "    <tr style=\"text-align: right;\">\n",
       "      <th></th>\n",
       "      <th>IMAGE</th>\n",
       "      <th>SCORE</th>\n",
       "    </tr>\n",
       "  </thead>\n",
       "  <tbody>\n",
       "    <tr>\n",
       "      <th>0</th>\n",
       "      <td>86cc6e863c9b6bb2a0e0db114c9775aa.jpg</td>\n",
       "      <td>8.014049</td>\n",
       "    </tr>\n",
       "    <tr>\n",
       "      <th>1</th>\n",
       "      <td>da71671681d9cef5b60727801bf95ef8.jpg</td>\n",
       "      <td>6.286994</td>\n",
       "    </tr>\n",
       "    <tr>\n",
       "      <th>2</th>\n",
       "      <td>821a9ff5df6e581c68c0371dc6b1eb90.jpg</td>\n",
       "      <td>8.063538</td>\n",
       "    </tr>\n",
       "    <tr>\n",
       "      <th>3</th>\n",
       "      <td>ed842bb42c39fe257ac459b544bb7ba8.jpg</td>\n",
       "      <td>7.993760</td>\n",
       "    </tr>\n",
       "    <tr>\n",
       "      <th>4</th>\n",
       "      <td>6eed69b8f6d62f28b809d9cbafcaab0b.jpg</td>\n",
       "      <td>5.735930</td>\n",
       "    </tr>\n",
       "    <tr>\n",
       "      <th>...</th>\n",
       "      <td>...</td>\n",
       "      <td>...</td>\n",
       "    </tr>\n",
       "    <tr>\n",
       "      <th>9983</th>\n",
       "      <td>46aa642bbcfdbed5eed380ba10fdbbbc.jpg</td>\n",
       "      <td>4.947825</td>\n",
       "    </tr>\n",
       "    <tr>\n",
       "      <th>9984</th>\n",
       "      <td>dc737dc9a19844943540816e4488b425.jpg</td>\n",
       "      <td>4.211675</td>\n",
       "    </tr>\n",
       "    <tr>\n",
       "      <th>9985</th>\n",
       "      <td>8038a60dac57ba5d445b99978a36a1d5.jpg</td>\n",
       "      <td>5.673991</td>\n",
       "    </tr>\n",
       "    <tr>\n",
       "      <th>9986</th>\n",
       "      <td>5381dd99c37acb63db903eac293fbe4c.jpg</td>\n",
       "      <td>4.330017</td>\n",
       "    </tr>\n",
       "    <tr>\n",
       "      <th>9987</th>\n",
       "      <td>646b27fbd82b0d5a517e4ebb4b514d6f.jpg</td>\n",
       "      <td>5.228519</td>\n",
       "    </tr>\n",
       "  </tbody>\n",
       "</table>\n",
       "<p>9988 rows × 2 columns</p>\n",
       "</div>"
      ],
      "text/plain": [
       "                                     IMAGE     SCORE\n",
       "0     86cc6e863c9b6bb2a0e0db114c9775aa.jpg  8.014049\n",
       "1     da71671681d9cef5b60727801bf95ef8.jpg  6.286994\n",
       "2     821a9ff5df6e581c68c0371dc6b1eb90.jpg  8.063538\n",
       "3     ed842bb42c39fe257ac459b544bb7ba8.jpg  7.993760\n",
       "4     6eed69b8f6d62f28b809d9cbafcaab0b.jpg  5.735930\n",
       "...                                    ...       ...\n",
       "9983  46aa642bbcfdbed5eed380ba10fdbbbc.jpg  4.947825\n",
       "9984  dc737dc9a19844943540816e4488b425.jpg  4.211675\n",
       "9985  8038a60dac57ba5d445b99978a36a1d5.jpg  5.673991\n",
       "9986  5381dd99c37acb63db903eac293fbe4c.jpg  4.330017\n",
       "9987  646b27fbd82b0d5a517e4ebb4b514d6f.jpg  5.228519\n",
       "\n",
       "[9988 rows x 2 columns]"
      ]
     },
     "execution_count": 32,
     "metadata": {},
     "output_type": "execute_result"
    }
   ],
   "source": [
    "test_df"
   ]
  },
  {
   "cell_type": "code",
   "execution_count": null,
   "metadata": {},
   "outputs": [],
   "source": []
  }
 ],
 "metadata": {
  "kernelspec": {
   "display_name": "Python 3 (ipykernel)",
   "language": "python",
   "name": "python3"
  },
  "language_info": {
   "codemirror_mode": {
    "name": "ipython",
    "version": 3
   },
   "file_extension": ".py",
   "mimetype": "text/x-python",
   "name": "python",
   "nbconvert_exporter": "python",
   "pygments_lexer": "ipython3",
   "version": "3.11.5"
  }
 },
 "nbformat": 4,
 "nbformat_minor": 4
}
