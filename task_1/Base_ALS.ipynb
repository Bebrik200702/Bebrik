{
 "cells": [
  {
   "cell_type": "code",
   "execution_count": 52,
   "metadata": {
    "execution": {
     "iopub.execute_input": "2023-11-07T18:52:54.001493Z",
     "iopub.status.busy": "2023-11-07T18:52:54.000851Z",
     "iopub.status.idle": "2023-11-07T18:52:59.643151Z",
     "shell.execute_reply": "2023-11-07T18:52:59.642072Z",
     "shell.execute_reply.started": "2023-11-07T18:52:54.001464Z"
    },
    "tags": []
   },
   "outputs": [
    {
     "name": "stdout",
     "output_type": "stream",
     "text": [
      "Requirement already satisfied: implicit in /usr/local/lib/python3.9/dist-packages (0.7.2)\n",
      "Collecting faiss-gpu\n",
      "  Downloading faiss_gpu-1.7.2-cp39-cp39-manylinux_2_17_x86_64.manylinux2014_x86_64.whl (85.5 MB)\n",
      "\u001b[2K     \u001b[90m━━━━━━━━━━━━━━━━━━━━━━━━━━━━━━━━━━━━━━━━\u001b[0m \u001b[32m85.5/85.5 MB\u001b[0m \u001b[31m21.5 MB/s\u001b[0m eta \u001b[36m0:00:00\u001b[0m00:01\u001b[0m00:01\u001b[0m\n",
      "\u001b[?25hRequirement already satisfied: threadpoolctl in /usr/local/lib/python3.9/dist-packages (from implicit) (3.1.0)\n",
      "Requirement already satisfied: numpy>=1.17.0 in /usr/local/lib/python3.9/dist-packages (from implicit) (1.26.1)\n",
      "Requirement already satisfied: scipy>=0.16 in /usr/local/lib/python3.9/dist-packages (from implicit) (1.11.3)\n",
      "Requirement already satisfied: tqdm>=4.27 in /usr/local/lib/python3.9/dist-packages (from implicit) (4.64.1)\n",
      "Installing collected packages: faiss-gpu\n",
      "Successfully installed faiss-gpu-1.7.2\n",
      "\u001b[33mWARNING: Running pip as the 'root' user can result in broken permissions and conflicting behaviour with the system package manager. It is recommended to use a virtual environment instead: https://pip.pypa.io/warnings/venv\u001b[0m\u001b[33m\n",
      "\u001b[0m"
     ]
    }
   ],
   "source": [
    "!pip install implicit faiss-gpu"
   ]
  },
  {
   "cell_type": "code",
   "execution_count": 3,
   "metadata": {
    "execution": {
     "iopub.execute_input": "2023-11-07T19:28:40.103549Z",
     "iopub.status.busy": "2023-11-07T19:28:40.103001Z",
     "iopub.status.idle": "2023-11-07T19:28:40.107139Z",
     "shell.execute_reply": "2023-11-07T19:28:40.106505Z",
     "shell.execute_reply.started": "2023-11-07T19:28:40.103524Z"
    }
   },
   "outputs": [],
   "source": [
    "import numpy as np\n",
    "import pandas as pd\n",
    "from tqdm.auto import tqdm\n",
    "from sklearn.model_selection import train_test_split\n",
    "from implicit.gpu.als import AlternatingLeastSquares\n",
    "from implicit.approximate_als import FaissAlternatingLeastSquares\n",
    "import scipy.sparse as sp"
   ]
  },
  {
   "cell_type": "code",
   "execution_count": 4,
   "metadata": {
    "execution": {
     "iopub.execute_input": "2023-11-07T19:28:40.695750Z",
     "iopub.status.busy": "2023-11-07T19:28:40.695214Z",
     "iopub.status.idle": "2023-11-07T19:30:07.010119Z",
     "shell.execute_reply": "2023-11-07T19:30:07.009463Z",
     "shell.execute_reply.started": "2023-11-07T19:28:40.695726Z"
    }
   },
   "outputs": [],
   "source": [
    "df = pd.read_csv(\"train.gz\")"
   ]
  },
  {
   "cell_type": "code",
   "execution_count": 5,
   "metadata": {
    "execution": {
     "iopub.execute_input": "2023-11-07T19:30:11.971953Z",
     "iopub.status.busy": "2023-11-07T19:30:11.971387Z",
     "iopub.status.idle": "2023-11-07T19:30:12.454051Z",
     "shell.execute_reply": "2023-11-07T19:30:12.453274Z",
     "shell.execute_reply.started": "2023-11-07T19:30:11.971928Z"
    }
   },
   "outputs": [],
   "source": [
    "df_rec = df[['device_ip','site_id']]"
   ]
  },
  {
   "cell_type": "code",
   "execution_count": 6,
   "metadata": {
    "execution": {
     "iopub.execute_input": "2023-11-07T19:30:12.945045Z",
     "iopub.status.busy": "2023-11-07T19:30:12.944464Z",
     "iopub.status.idle": "2023-11-07T19:30:54.536031Z",
     "shell.execute_reply": "2023-11-07T19:30:54.535507Z",
     "shell.execute_reply.started": "2023-11-07T19:30:12.945021Z"
    }
   },
   "outputs": [
    {
     "name": "stderr",
     "output_type": "stream",
     "text": [
      "/tmp/ipykernel_4992/2104922408.py:1: SettingWithCopyWarning: \n",
      "A value is trying to be set on a copy of a slice from a DataFrame.\n",
      "Try using .loc[row_indexer,col_indexer] = value instead\n",
      "\n",
      "See the caveats in the documentation: https://pandas.pydata.org/pandas-docs/stable/user_guide/indexing.html#returning-a-view-versus-a-copy\n",
      "  df_rec['weight'] = df_rec.groupby('device_ip').transform('count')\n",
      "/tmp/ipykernel_4992/2104922408.py:2: SettingWithCopyWarning: \n",
      "A value is trying to be set on a copy of a slice from a DataFrame.\n",
      "Try using .loc[row_indexer,col_indexer] = value instead\n",
      "\n",
      "See the caveats in the documentation: https://pandas.pydata.org/pandas-docs/stable/user_guide/indexing.html#returning-a-view-versus-a-copy\n",
      "  df_rec['weight'] = df_rec['weight'].map(lambda x:x**0.5)\n"
     ]
    }
   ],
   "source": [
    "df_rec['weight'] = df_rec.groupby('device_ip').transform('count')\n",
    "df_rec['weight'] = df_rec['weight'].map(lambda x:x**0.5)"
   ]
  },
  {
   "cell_type": "code",
   "execution_count": 7,
   "metadata": {
    "execution": {
     "iopub.execute_input": "2023-11-07T19:30:54.537709Z",
     "iopub.status.busy": "2023-11-07T19:30:54.536959Z",
     "iopub.status.idle": "2023-11-07T19:31:12.001944Z",
     "shell.execute_reply": "2023-11-07T19:31:12.001159Z",
     "shell.execute_reply.started": "2023-11-07T19:30:54.537685Z"
    }
   },
   "outputs": [],
   "source": [
    "df_rec = df_rec.drop_duplicates()"
   ]
  },
  {
   "cell_type": "code",
   "execution_count": 8,
   "metadata": {
    "execution": {
     "iopub.execute_input": "2023-11-07T19:31:19.644022Z",
     "iopub.status.busy": "2023-11-07T19:31:19.643427Z",
     "iopub.status.idle": "2023-11-07T19:31:19.646894Z",
     "shell.execute_reply": "2023-11-07T19:31:19.646285Z",
     "shell.execute_reply.started": "2023-11-07T19:31:19.643996Z"
    }
   },
   "outputs": [],
   "source": [
    "del df\n",
    "df = df_rec"
   ]
  },
  {
   "cell_type": "code",
   "execution_count": 9,
   "metadata": {
    "execution": {
     "iopub.execute_input": "2023-11-07T19:31:20.186542Z",
     "iopub.status.busy": "2023-11-07T19:31:20.185691Z",
     "iopub.status.idle": "2023-11-07T19:31:28.331810Z",
     "shell.execute_reply": "2023-11-07T19:31:28.331137Z",
     "shell.execute_reply.started": "2023-11-07T19:31:20.186513Z"
    }
   },
   "outputs": [
    {
     "data": {
      "text/plain": [
       "(6729486, 4737)"
      ]
     },
     "execution_count": 9,
     "metadata": {},
     "output_type": "execute_result"
    }
   ],
   "source": [
    "users_inv_mapping = dict(enumerate(df['device_ip'].unique()))\n",
    "users_mapping = {v: k for k, v in users_inv_mapping.items()}\n",
    "\n",
    "items_inv_mapping = dict(enumerate(df['site_id'].unique()))\n",
    "items_mapping = {v: k for k, v in items_inv_mapping.items()}\n",
    "len(users_mapping),len(items_mapping)"
   ]
  },
  {
   "cell_type": "code",
   "execution_count": 10,
   "metadata": {
    "execution": {
     "iopub.execute_input": "2023-11-07T19:31:31.436203Z",
     "iopub.status.busy": "2023-11-07T19:31:31.435711Z",
     "iopub.status.idle": "2023-11-07T19:31:31.440556Z",
     "shell.execute_reply": "2023-11-07T19:31:31.440024Z",
     "shell.execute_reply.started": "2023-11-07T19:31:31.436131Z"
    }
   },
   "outputs": [],
   "source": [
    "def get_coo_matrix(df,\n",
    "                   user_col='user_id',\n",
    "                   item_col='item_id',\n",
    "                   weight_col=None,\n",
    "                   users_mapping=None,\n",
    "                   items_mapping=None):\n",
    "    if weight_col is None:\n",
    "        weights = np.ones(len(df), dtype=np.float32)\n",
    "    else:\n",
    "        weights = df[weight_col].astype(np.float32)\n",
    "\n",
    "    interaction_matrix = sp.coo_matrix((\n",
    "        weights,\n",
    "        (\n",
    "            df[user_col].map(users_mapping.get),\n",
    "            df[item_col].map(items_mapping.get)\n",
    "        )),\n",
    "    )\n",
    "    return interaction_matrix"
   ]
  },
  {
   "cell_type": "code",
   "execution_count": 12,
   "metadata": {
    "execution": {
     "iopub.execute_input": "2023-11-07T19:31:52.587200Z",
     "iopub.status.busy": "2023-11-07T19:31:52.586509Z",
     "iopub.status.idle": "2023-11-07T19:31:58.715040Z",
     "shell.execute_reply": "2023-11-07T19:31:58.714389Z",
     "shell.execute_reply.started": "2023-11-07T19:31:52.587172Z"
    }
   },
   "outputs": [],
   "source": [
    "train_mat = get_coo_matrix(df=df,\n",
    "                           user_col='device_ip',\n",
    "                           item_col='site_id',\n",
    "                           weight_col='weight',\n",
    "                           users_mapping=users_mapping,\n",
    "                           items_mapping=items_mapping).tocsr()"
   ]
  },
  {
   "cell_type": "code",
   "execution_count": 13,
   "metadata": {
    "execution": {
     "iopub.execute_input": "2023-11-07T19:32:02.682781Z",
     "iopub.status.busy": "2023-11-07T19:32:02.682079Z",
     "iopub.status.idle": "2023-11-07T19:37:10.927498Z",
     "shell.execute_reply": "2023-11-07T19:37:10.926865Z",
     "shell.execute_reply.started": "2023-11-07T19:32:02.682756Z"
    }
   },
   "outputs": [
    {
     "data": {
      "application/vnd.jupyter.widget-view+json": {
       "model_id": "73cc90a182c440149a97422140e46708",
       "version_major": 2,
       "version_minor": 0
      },
      "text/plain": [
       "  0%|          | 0/32 [00:00<?, ?it/s]"
      ]
     },
     "metadata": {},
     "output_type": "display_data"
    }
   ],
   "source": [
    "model = AlternatingLeastSquares(factors = 128,\n",
    "                                iterations = 32,\n",
    "                                #use_gpu = True ,\n",
    "                                calculate_training_loss = False,\n",
    "                                regularization = 0.1)\n",
    "model.fit(train_mat)"
   ]
  },
  {
   "cell_type": "code",
   "execution_count": 14,
   "metadata": {
    "execution": {
     "iopub.execute_input": "2023-11-07T19:37:31.310657Z",
     "iopub.status.busy": "2023-11-07T19:37:31.310009Z",
     "iopub.status.idle": "2023-11-07T19:37:33.872243Z",
     "shell.execute_reply": "2023-11-07T19:37:33.871564Z",
     "shell.execute_reply.started": "2023-11-07T19:37:31.310632Z"
    }
   },
   "outputs": [],
   "source": [
    "factors = model.user_factors.to_numpy()"
   ]
  },
  {
   "cell_type": "code",
   "execution_count": 15,
   "metadata": {
    "execution": {
     "iopub.execute_input": "2023-11-07T19:37:34.719824Z",
     "iopub.status.busy": "2023-11-07T19:37:34.719340Z",
     "iopub.status.idle": "2023-11-07T19:37:34.727259Z",
     "shell.execute_reply": "2023-11-07T19:37:34.726568Z",
     "shell.execute_reply.started": "2023-11-07T19:37:34.719796Z"
    }
   },
   "outputs": [],
   "source": [
    "factors_df = pd.DataFrame(factors,columns=[f'factor_{i}' for i in range(128)])"
   ]
  },
  {
   "cell_type": "code",
   "execution_count": 16,
   "metadata": {
    "execution": {
     "iopub.execute_input": "2023-11-07T19:37:36.057598Z",
     "iopub.status.busy": "2023-11-07T19:37:36.057061Z",
     "iopub.status.idle": "2023-11-07T19:37:36.637516Z",
     "shell.execute_reply": "2023-11-07T19:37:36.636871Z",
     "shell.execute_reply.started": "2023-11-07T19:37:36.057572Z"
    }
   },
   "outputs": [],
   "source": [
    "factors_df['user_id'] = users_mapping.keys()"
   ]
  },
  {
   "cell_type": "code",
   "execution_count": 17,
   "metadata": {
    "execution": {
     "iopub.execute_input": "2023-11-07T19:37:44.239868Z",
     "iopub.status.busy": "2023-11-07T19:37:44.239299Z",
     "iopub.status.idle": "2023-11-07T19:38:06.388142Z",
     "shell.execute_reply": "2023-11-07T19:38:06.387288Z",
     "shell.execute_reply.started": "2023-11-07T19:37:44.239839Z"
    }
   },
   "outputs": [],
   "source": [
    "factors_df.to_parquet('als_features.parquet.gzip')"
   ]
  },
  {
   "cell_type": "code",
   "execution_count": null,
   "metadata": {},
   "outputs": [],
   "source": []
  }
 ],
 "metadata": {
  "kernelspec": {
   "display_name": "Python 3 (ipykernel)",
   "language": "python",
   "name": "python3"
  },
  "language_info": {
   "codemirror_mode": {
    "name": "ipython",
    "version": 3
   },
   "file_extension": ".py",
   "mimetype": "text/x-python",
   "name": "python",
   "nbconvert_exporter": "python",
   "pygments_lexer": "ipython3",
   "version": "3.9.16"
  }
 },
 "nbformat": 4,
 "nbformat_minor": 4
}
