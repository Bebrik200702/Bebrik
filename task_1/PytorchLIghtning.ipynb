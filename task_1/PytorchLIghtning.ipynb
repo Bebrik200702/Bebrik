{
 "cells": [
  {
   "cell_type": "code",
   "execution_count": 3,
   "metadata": {
    "execution": {
     "iopub.execute_input": "2023-11-07T16:43:02.828442Z",
     "iopub.status.busy": "2023-11-07T16:43:02.828024Z",
     "iopub.status.idle": "2023-11-07T16:43:03.768051Z",
     "shell.execute_reply": "2023-11-07T16:43:03.767336Z",
     "shell.execute_reply.started": "2023-11-07T16:43:02.828416Z"
    }
   },
   "outputs": [
    {
     "name": "stdout",
     "output_type": "stream",
     "text": [
      "Tue Nov  7 16:43:03 2023       \n",
      "+-----------------------------------------------------------------------------+\n",
      "| NVIDIA-SMI 525.116.04   Driver Version: 525.116.04   CUDA Version: 12.0     |\n",
      "|-------------------------------+----------------------+----------------------+\n",
      "| GPU  Name        Persistence-M| Bus-Id        Disp.A | Volatile Uncorr. ECC |\n",
      "| Fan  Temp  Perf  Pwr:Usage/Cap|         Memory-Usage | GPU-Util  Compute M. |\n",
      "|                               |                      |               MIG M. |\n",
      "|===============================+======================+======================|\n",
      "|   0  NVIDIA A100 80G...  Off  | 00000000:00:05.0 Off |                    0 |\n",
      "| N/A   53C    P0    51W / 300W |      0MiB / 81920MiB |      0%      Default |\n",
      "|                               |                      |             Disabled |\n",
      "+-------------------------------+----------------------+----------------------+\n",
      "                                                                               \n",
      "+-----------------------------------------------------------------------------+\n",
      "| Processes:                                                                  |\n",
      "|  GPU   GI   CI        PID   Type   Process name                  GPU Memory |\n",
      "|        ID   ID                                                   Usage      |\n",
      "|=============================================================================|\n",
      "|  No running processes found                                                 |\n",
      "+-----------------------------------------------------------------------------+\n"
     ]
    }
   ],
   "source": [
    "!nvidia-smi\n",
    "\n",
    "import os\n",
    "import warnings\n",
    "from IPython.display import clear_output\n",
    "\n",
    "os.environ['CUDA_LAUNCH_BLOCKING'] = \"1\"\n",
    "warnings.filterwarnings('ignore')"
   ]
  },
  {
   "cell_type": "code",
   "execution_count": 4,
   "metadata": {
    "execution": {
     "iopub.execute_input": "2023-11-07T16:43:03.770170Z",
     "iopub.status.busy": "2023-11-07T16:43:03.769380Z",
     "iopub.status.idle": "2023-11-07T16:43:07.827281Z",
     "shell.execute_reply": "2023-11-07T16:43:07.826317Z",
     "shell.execute_reply.started": "2023-11-07T16:43:03.770141Z"
    },
    "tags": []
   },
   "outputs": [],
   "source": [
    "!pip install pytorch_lightning\n",
    "clear_output()"
   ]
  },
  {
   "cell_type": "code",
   "execution_count": 5,
   "metadata": {
    "execution": {
     "iopub.execute_input": "2023-11-07T16:43:07.829712Z",
     "iopub.status.busy": "2023-11-07T16:43:07.828555Z",
     "iopub.status.idle": "2023-11-07T16:43:10.053103Z",
     "shell.execute_reply": "2023-11-07T16:43:10.052404Z",
     "shell.execute_reply.started": "2023-11-07T16:43:07.829684Z"
    }
   },
   "outputs": [
    {
     "name": "stderr",
     "output_type": "stream",
     "text": [
      "Seed set to 56\n"
     ]
    },
    {
     "data": {
      "text/plain": [
       "56"
      ]
     },
     "execution_count": 5,
     "metadata": {},
     "output_type": "execute_result"
    }
   ],
   "source": [
    "import pandas as pd\n",
    "import numpy as np\n",
    "import pytorch_lightning as pl\n",
    "from sklearn.model_selection import train_test_split\n",
    "import torch\n",
    "import torch.nn as nn\n",
    "from torch.nn.utils.rnn import pad_sequence\n",
    "from torch.utils.data import Dataset, DataLoader\n",
    "from sklearn.preprocessing import LabelEncoder, MinMaxScaler\n",
    "from transformers import AutoTokenizer\n",
    "from tqdm.auto import tqdm\n",
    "from sklearn.metrics import roc_auc_score\n",
    "pl.seed_everything(56)"
   ]
  },
  {
   "cell_type": "code",
   "execution_count": 2,
   "metadata": {
    "execution": {
     "iopub.execute_input": "2023-11-07T16:43:01.018944Z",
     "iopub.status.busy": "2023-11-07T16:43:01.018662Z",
     "iopub.status.idle": "2023-11-07T16:43:01.023043Z",
     "shell.execute_reply": "2023-11-07T16:43:01.022343Z",
     "shell.execute_reply.started": "2023-11-07T16:43:01.018923Z"
    }
   },
   "outputs": [],
   "source": [
    "class CFG:\n",
    "    wandb=False\n",
    "    num_workers=12\n",
    "    train_path='/notebooks/train.gz'\n",
    "    hidden_size = 512\n",
    "    val_split_size = 0.2\n",
    "    num_labels = 2\n",
    "    scheduler='cosine'\n",
    "    max_epoches=15\n",
    "    lr=1e-3\n",
    "    min_lr=5e-6\n",
    "    eps=1e-6\n",
    "    betas=(0.9, 0.999)\n",
    "    batch_size=2048\n",
    "    weight_decay=0.01\n",
    "    gradient_accumulation_steps=1\n",
    "    seed=56"
   ]
  },
  {
   "cell_type": "code",
   "execution_count": 4,
   "metadata": {
    "execution": {
     "iopub.execute_input": "2023-11-04T01:21:55.828200Z",
     "iopub.status.busy": "2023-11-04T01:21:55.827773Z",
     "iopub.status.idle": "2023-11-04T01:21:55.832068Z",
     "shell.execute_reply": "2023-11-04T01:21:55.831550Z",
     "shell.execute_reply.started": "2023-11-04T01:21:55.828185Z"
    }
   },
   "outputs": [],
   "source": [
    "class PLDataset(torch.utils.data.Dataset):\n",
    "    def __init__(self, df,features,label):\n",
    "        super().__init__()\n",
    "        self.cfg = CFG()\n",
    "        self.data = df\n",
    "        self.features_col = features\n",
    "        self.label_col = label\n",
    "    def __getitem__(self, index):\n",
    "        features = self.data.iloc[index][self.features_col].values.astype(np.int32)\n",
    "        label = self.data.iloc[index][self.label_col]\n",
    "        return features,label\n",
    "    def __len__(self):\n",
    "        return len(self.data)"
   ]
  },
  {
   "cell_type": "code",
   "execution_count": 5,
   "metadata": {
    "execution": {
     "iopub.execute_input": "2023-11-04T01:21:55.832965Z",
     "iopub.status.busy": "2023-11-04T01:21:55.832800Z",
     "iopub.status.idle": "2023-11-04T01:21:55.838536Z",
     "shell.execute_reply": "2023-11-04T01:21:55.838007Z",
     "shell.execute_reply.started": "2023-11-04T01:21:55.832952Z"
    }
   },
   "outputs": [],
   "source": [
    "class PLDataModule(pl.LightningDataModule):\n",
    "    def __init__(self,df,features,label):\n",
    "        super().__init__()\n",
    "        self.cfg = CFG()\n",
    "        self.df = df\n",
    "        self.features = features\n",
    "        self.label = label\n",
    "        self.train_dataset_path = self.cfg.train_path\n",
    "        self.val_split_size = self.cfg.val_split_size\n",
    "        self.batch_size = self.cfg.batch_size\n",
    "        self.num_workers = self.cfg.num_workers\n",
    "        self.is_setup = False\n",
    "    def prepare_data(self):\n",
    "        pass\n",
    "    \n",
    "    def setup(self, stage: str):\n",
    "        if self.is_setup:\n",
    "            return None\n",
    "        self.train_df, self.val_df = train_test_split(self.df, test_size=self.val_split_size,random_state=self.cfg.seed)\n",
    "        self.train_dataset = PLDataset(self.train_df,self.features,self.label)\n",
    "        self.val_dataset = PLDataset(self.val_df,self.features,self.label)\n",
    "       # self.predict_dataset = PLDataset(self.test_df,self.features,self.label)\n",
    "        self.is_setup = True\n",
    "    \n",
    "    def train_dataloader(self):\n",
    "        return DataLoader(self.train_dataset,\n",
    "                          batch_size=self.batch_size,\n",
    "                          num_workers=self.num_workers,\n",
    "                          shuffle=True)\n",
    "    \n",
    "    def val_dataloader(self):\n",
    "        return DataLoader(self.val_dataset,\n",
    "                          batch_size=self.batch_size,\n",
    "                          num_workers=self.num_workers)\n",
    "\n",
    "    def predict_dataloader(self):\n",
    "        return DataLoader(self.predict_dataset,\n",
    "                          batch_size=self.batch_size,\n",
    "                          num_workers=self.num_workers,\n",
    "                          shuffle = False)"
   ]
  },
  {
   "cell_type": "code",
   "execution_count": 28,
   "metadata": {
    "execution": {
     "iopub.execute_input": "2023-11-04T01:30:00.239019Z",
     "iopub.status.busy": "2023-11-04T01:30:00.238460Z",
     "iopub.status.idle": "2023-11-04T01:30:00.243068Z",
     "shell.execute_reply": "2023-11-04T01:30:00.242583Z",
     "shell.execute_reply.started": "2023-11-04T01:30:00.238992Z"
    }
   },
   "outputs": [],
   "source": [
    "class FactorizationMachine(torch.nn.Module):\n",
    "\n",
    "    def __init__(self, reduce_sum=False):\n",
    "        super().__init__()\n",
    "        self.reduce_sum = reduce_sum\n",
    "\n",
    "    def forward(self, x):\n",
    "        square_of_sum = torch.sum(x, dim=1) ** 2\n",
    "        sum_of_square = torch.sum(x ** 2, dim=1)\n",
    "        ix = square_of_sum - sum_of_square\n",
    "        if self.reduce_sum:\n",
    "            ix = torch.sum(ix, dim=1, keepdim=True)\n",
    "        return 0.5 * ix"
   ]
  },
  {
   "cell_type": "code",
   "execution_count": 79,
   "metadata": {
    "execution": {
     "iopub.execute_input": "2023-11-04T01:43:13.685335Z",
     "iopub.status.busy": "2023-11-04T01:43:13.684637Z",
     "iopub.status.idle": "2023-11-04T01:43:13.695175Z",
     "shell.execute_reply": "2023-11-04T01:43:13.694668Z",
     "shell.execute_reply.started": "2023-11-04T01:43:13.685299Z"
    }
   },
   "outputs": [],
   "source": [
    "class PLModule(pl.LightningModule):\n",
    "    def __init__(self,):\n",
    "        super().__init__()\n",
    "        self.cfg = CFG()\n",
    "        self.embedings = nn.ModuleList([nn.Embedding(num_emb,emb_dim)\n",
    "                                       for num_emb,emb_dim in zip(self.cfg.embed_num,self.cfg.embed_dim)])\n",
    "        self.mlp = nn.Sequential(nn.Linear(self.cfg.embed_size,self.cfg.hidden_size),\n",
    "                                 nn.GELU(),\n",
    "                                 nn.LayerNorm(self.cfg.hidden_size),\n",
    "                                 nn.Linear(self.cfg.hidden_size,1))\n",
    "        self.fm = FactorizationMachine()\n",
    "        self.criterion = nn.BCELoss()\n",
    "        self.val_targets = []\n",
    "        self.val_preds = []\n",
    "\n",
    "    def forward(self, x):\n",
    "        features = torch.cat([emb(x_i.int()) for emb,x_i in zip(self.embedings,x.T)],dim=-1)\n",
    "        return torch.sigmoid(self.mlp(features).squeeze() + self.fm(features))\n",
    "    \n",
    "    def training_step(self, batch, _):\n",
    "        x, targets = batch\n",
    "        logits = self(x).to(torch.double)\n",
    "        loss = self.criterion(logits, targets.to(torch.double))\n",
    "        return loss\n",
    "        \n",
    "    def validation_step(self, batch, _):\n",
    "        x, targets = batch\n",
    "        logits = self(x).cpu().detach().tolist()\n",
    "        self.val_targets += targets.tolist()\n",
    "        self.val_preds += logits\n",
    "        \n",
    "    def predict_step(self, batch, _):\n",
    "        x, targets = batch\n",
    "        logits = self(x).cpu().detach().tolist()\n",
    "        return logits\n",
    "        \n",
    "    def calc_metric(self):\n",
    "        return roc_auc_score(self.val_targets,self.val_preds)\n",
    "        \n",
    "    def on_validation_epoch_end(self):\n",
    "        print(self.calc_metric())\n",
    "        self.val_targets, self.val_preds = [],[]\n",
    "            \n",
    "    def configure_optimizers(self):\n",
    "        return torch.optim.AdamW(self.parameters(),\n",
    "                                 self.cfg.lr,\n",
    "                                 weight_decay=self.cfg.weight_decay,\n",
    "                                 betas = self.cfg.betas\n",
    "                                )"
   ]
  },
  {
   "cell_type": "code",
   "execution_count": 8,
   "metadata": {
    "execution": {
     "iopub.execute_input": "2023-11-04T01:21:55.851837Z",
     "iopub.status.busy": "2023-11-04T01:21:55.851684Z",
     "iopub.status.idle": "2023-11-04T01:23:22.839552Z",
     "shell.execute_reply": "2023-11-04T01:23:22.838874Z",
     "shell.execute_reply.started": "2023-11-04T01:21:55.851824Z"
    }
   },
   "outputs": [],
   "source": [
    "df = pd.read_csv(\"train.gz\")"
   ]
  },
  {
   "cell_type": "code",
   "execution_count": 9,
   "metadata": {
    "execution": {
     "iopub.execute_input": "2023-11-04T01:23:22.840859Z",
     "iopub.status.busy": "2023-11-04T01:23:22.840686Z",
     "iopub.status.idle": "2023-11-04T01:23:22.844196Z",
     "shell.execute_reply": "2023-11-04T01:23:22.843568Z",
     "shell.execute_reply.started": "2023-11-04T01:23:22.840844Z"
    }
   },
   "outputs": [],
   "source": [
    "cat_features = ['hour', 'C1', 'banner_pos', 'site_id', 'site_domain',\n",
    "       'site_category', 'app_id', 'app_domain', 'app_category', 'device_id',\n",
    "       'device_ip', 'device_model', 'device_type', 'device_conn_type', 'C14',\n",
    "       'C15', 'C16', 'C17', 'C18', 'C19', 'C20', 'C21']\n",
    "features = cat_features\n",
    "label_col = 'click'"
   ]
  },
  {
   "cell_type": "code",
   "execution_count": 62,
   "metadata": {
    "execution": {
     "iopub.execute_input": "2023-11-04T01:37:09.262876Z",
     "iopub.status.busy": "2023-11-04T01:37:09.262192Z",
     "iopub.status.idle": "2023-11-04T01:37:09.267309Z",
     "shell.execute_reply": "2023-11-04T01:37:09.266703Z",
     "shell.execute_reply.started": "2023-11-04T01:37:09.262854Z"
    }
   },
   "outputs": [],
   "source": [
    "class MultyLabelEncoder():\n",
    "    def __init__(self,cat_cols):\n",
    "        self.cat_cols = cat_cols\n",
    "    \n",
    "    def fit_transform(self,df):\n",
    "        self.encoders = []\n",
    "        for col in tqdm(self.cat_cols):\n",
    "            le = LabelEncoder()\n",
    "            df[col] = le.fit_transform(df[col])\n",
    "            self.encoders += [le]\n",
    "        return df\n",
    "    \n",
    "    def transform(self,df):\n",
    "        for col,le in tqdm(zip(self.cat_cols,self.encoders),total=len(self.cat_cols)):\n",
    "            df[col] = le.transform(df[col])\n",
    "        return df"
   ]
  },
  {
   "cell_type": "code",
   "execution_count": 11,
   "metadata": {
    "execution": {
     "iopub.execute_input": "2023-11-04T01:23:22.850477Z",
     "iopub.status.busy": "2023-11-04T01:23:22.850327Z",
     "iopub.status.idle": "2023-11-04T01:26:02.127655Z",
     "shell.execute_reply": "2023-11-04T01:26:02.127149Z",
     "shell.execute_reply.started": "2023-11-04T01:23:22.850464Z"
    }
   },
   "outputs": [
    {
     "data": {
      "application/vnd.jupyter.widget-view+json": {
       "model_id": "128bfc75475949ad80adae4501d13bdb",
       "version_major": 2,
       "version_minor": 0
      },
      "text/plain": [
       "  0%|          | 0/22 [00:00<?, ?it/s]"
      ]
     },
     "metadata": {},
     "output_type": "display_data"
    }
   ],
   "source": [
    "le = MultyLabelEncoder(cat_features)\n",
    "df = le.fit_transform(df)"
   ]
  },
  {
   "cell_type": "code",
   "execution_count": 12,
   "metadata": {
    "execution": {
     "iopub.execute_input": "2023-11-04T01:26:02.128769Z",
     "iopub.status.busy": "2023-11-04T01:26:02.128602Z",
     "iopub.status.idle": "2023-11-04T01:26:06.917677Z",
     "shell.execute_reply": "2023-11-04T01:26:06.917084Z",
     "shell.execute_reply.started": "2023-11-04T01:26:02.128755Z"
    }
   },
   "outputs": [
    {
     "data": {
      "application/vnd.jupyter.widget-view+json": {
       "model_id": "19c601afae1b435eb6392d05ccf125c1",
       "version_major": 2,
       "version_minor": 0
      },
      "text/plain": [
       "  0%|          | 0/22 [00:00<?, ?it/s]"
      ]
     },
     "metadata": {},
     "output_type": "display_data"
    }
   ],
   "source": [
    "CFG.embed_num = [df[col].nunique() for col in tqdm(cat_features)]"
   ]
  },
  {
   "cell_type": "code",
   "execution_count": 13,
   "metadata": {
    "execution": {
     "iopub.execute_input": "2023-11-04T01:26:06.920720Z",
     "iopub.status.busy": "2023-11-04T01:26:06.920334Z",
     "iopub.status.idle": "2023-11-04T01:26:06.923671Z",
     "shell.execute_reply": "2023-11-04T01:26:06.923203Z",
     "shell.execute_reply.started": "2023-11-04T01:26:06.920703Z"
    }
   },
   "outputs": [],
   "source": [
    "CFG.embed_dim = [64] * len(CFG.embed_num)\n",
    "CFG.embed_size = sum(CFG.embed_dim)\n",
    "CFG.hidden_size = CFG.embed_size * 2"
   ]
  },
  {
   "cell_type": "code",
   "execution_count": 14,
   "metadata": {
    "execution": {
     "iopub.execute_input": "2023-11-04T01:26:06.925893Z",
     "iopub.status.busy": "2023-11-04T01:26:06.925746Z",
     "iopub.status.idle": "2023-11-04T01:26:06.928631Z",
     "shell.execute_reply": "2023-11-04T01:26:06.928114Z",
     "shell.execute_reply.started": "2023-11-04T01:26:06.925880Z"
    }
   },
   "outputs": [],
   "source": [
    "dm = PLDataModule(df,features,label_col)"
   ]
  },
  {
   "cell_type": "code",
   "execution_count": 80,
   "metadata": {
    "execution": {
     "iopub.execute_input": "2023-11-04T01:43:19.859596Z",
     "iopub.status.busy": "2023-11-04T01:43:19.858970Z",
     "iopub.status.idle": "2023-11-04T01:43:23.674760Z",
     "shell.execute_reply": "2023-11-04T01:43:23.674101Z",
     "shell.execute_reply.started": "2023-11-04T01:43:19.859572Z"
    }
   },
   "outputs": [],
   "source": [
    "pl_model = PLModule()"
   ]
  },
  {
   "cell_type": "code",
   "execution_count": 81,
   "metadata": {
    "execution": {
     "iopub.execute_input": "2023-11-04T01:43:24.330511Z",
     "iopub.status.busy": "2023-11-04T01:43:24.329893Z",
     "iopub.status.idle": "2023-11-04T01:43:24.404217Z",
     "shell.execute_reply": "2023-11-04T01:43:24.403712Z",
     "shell.execute_reply.started": "2023-11-04T01:43:24.330486Z"
    }
   },
   "outputs": [
    {
     "name": "stderr",
     "output_type": "stream",
     "text": [
      "GPU available: True (cuda), used: True\n",
      "TPU available: False, using: 0 TPU cores\n",
      "IPU available: False, using: 0 IPUs\n",
      "HPU available: False, using: 0 HPUs\n"
     ]
    }
   ],
   "source": [
    "logger = pl.loggers.TensorBoardLogger(\"tb_logs\", name=\"text_cls\")\n",
    "trainer = pl.Trainer(\n",
    "    accelerator=\"gpu\",\n",
    "    logger=logger,\n",
    "    max_epochs=15,\n",
    "    log_every_n_steps=1,\n",
    "    val_check_interval=0.25\n",
    ")"
   ]
  },
  {
   "cell_type": "code",
   "execution_count": null,
   "metadata": {
    "execution": {
     "iopub.execute_input": "2023-11-04T01:43:24.894441Z",
     "iopub.status.busy": "2023-11-04T01:43:24.893784Z"
    }
   },
   "outputs": [
    {
     "name": "stderr",
     "output_type": "stream",
     "text": [
      "LOCAL_RANK: 0 - CUDA_VISIBLE_DEVICES: [0]\n",
      "\n",
      "  | Name      | Type                 | Params\n",
      "---------------------------------------------------\n",
      "0 | embedings | ModuleList           | 604 M \n",
      "1 | mlp       | Sequential           | 4.0 M \n",
      "2 | fm        | FactorizationMachine | 0     \n",
      "3 | criterion | BCELoss              | 0     \n",
      "---------------------------------------------------\n",
      "608 M     Trainable params\n",
      "0         Non-trainable params\n",
      "608 M     Total params\n",
      "2,434.963 Total estimated model params size (MB)\n"
     ]
    },
    {
     "data": {
      "application/vnd.jupyter.widget-view+json": {
       "model_id": "b68e776e19f54c2f8106d245dfdc4450",
       "version_major": 2,
       "version_minor": 0
      },
      "text/plain": [
       "Sanity Checking: |          | 0/? [00:00<?, ?it/s]"
      ]
     },
     "metadata": {},
     "output_type": "display_data"
    },
    {
     "name": "stdout",
     "output_type": "stream",
     "text": [
      "0.4852904453543909\n"
     ]
    },
    {
     "data": {
      "application/vnd.jupyter.widget-view+json": {
       "model_id": "9a30440820934c5582a7d5f164240ac9",
       "version_major": 2,
       "version_minor": 0
      },
      "text/plain": [
       "Training: |          | 0/? [00:00<?, ?it/s]"
      ]
     },
     "metadata": {},
     "output_type": "display_data"
    },
    {
     "data": {
      "application/vnd.jupyter.widget-view+json": {
       "model_id": "58afe1a488434fe2aa7a20240edc4086",
       "version_major": 2,
       "version_minor": 0
      },
      "text/plain": [
       "Validation: |          | 0/? [00:00<?, ?it/s]"
      ]
     },
     "metadata": {},
     "output_type": "display_data"
    }
   ],
   "source": [
    "trainer.fit(pl_model, datamodule=dm)"
   ]
  },
  {
   "cell_type": "code",
   "execution_count": null,
   "metadata": {
    "execution": {
     "iopub.status.busy": "2023-11-04T01:41:32.468998Z",
     "iopub.status.idle": "2023-11-04T01:41:32.469925Z",
     "shell.execute_reply": "2023-11-04T01:41:32.469788Z",
     "shell.execute_reply.started": "2023-11-04T01:41:32.469772Z"
    }
   },
   "outputs": [],
   "source": [
    "np.stack(pl_model.val_preds).shape"
   ]
  },
  {
   "cell_type": "code",
   "execution_count": 59,
   "metadata": {
    "execution": {
     "iopub.execute_input": "2023-11-04T01:35:53.946660Z",
     "iopub.status.busy": "2023-11-04T01:35:53.945929Z",
     "iopub.status.idle": "2023-11-04T01:35:53.954055Z",
     "shell.execute_reply": "2023-11-04T01:35:53.953448Z",
     "shell.execute_reply.started": "2023-11-04T01:35:53.946637Z"
    }
   },
   "outputs": [
    {
     "data": {
      "text/plain": [
       "(4096,)"
      ]
     },
     "execution_count": 59,
     "metadata": {},
     "output_type": "execute_result"
    }
   ],
   "source": [
    "np.stack(pl_model.val_targets).shape"
   ]
  },
  {
   "cell_type": "code",
   "execution_count": null,
   "metadata": {},
   "outputs": [],
   "source": []
  }
 ],
 "metadata": {
  "kernelspec": {
   "display_name": "Python 3 (ipykernel)",
   "language": "python",
   "name": "python3"
  },
  "language_info": {
   "codemirror_mode": {
    "name": "ipython",
    "version": 3
   },
   "file_extension": ".py",
   "mimetype": "text/x-python",
   "name": "python",
   "nbconvert_exporter": "python",
   "pygments_lexer": "ipython3",
   "version": "3.9.16"
  }
 },
 "nbformat": 4,
 "nbformat_minor": 4
}
